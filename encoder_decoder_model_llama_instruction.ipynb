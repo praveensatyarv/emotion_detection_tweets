{
 "cells": [
  {
   "cell_type": "markdown",
   "metadata": {
    "id": "udbBJad6kugP"
   },
   "source": [
    "# <Font color = 'indianred'>**1. Set Environment**"
   ]
  },
  {
   "cell_type": "code",
   "execution_count": 2,
   "metadata": {
    "colab": {
     "base_uri": "https://localhost:8080/"
    },
    "executionInfo": {
     "elapsed": 21468,
     "status": "ok",
     "timestamp": 1733803117886,
     "user": {
      "displayName": "Praveen Satya R V",
      "userId": "07360123993237987960"
     },
     "user_tz": 360
    },
    "id": "8BMs0XC5kW-e",
    "outputId": "20a758c2-18ec-4541-adbc-bc26c174c587"
   },
   "outputs": [
    {
     "name": "stdout",
     "output_type": "stream",
     "text": [
      "Drive already mounted at /content/drive; to attempt to forcibly remount, call drive.mount(\"/content/drive\", force_remount=True).\n"
     ]
    }
   ],
   "source": [
    "# If in Colab, then import the drive module from google.colab\n",
    "if 'google.colab' in str(get_ipython()):\n",
    "  from google.colab import drive\n",
    "  # Mount the Google Drive to access files stored there\n",
    "  drive.mount('/content/drive')\n",
    "\n",
    "  # Install the latest version of torchtext library quietly without showing output\n",
    "  # !pip install torchtext -qq\n",
    "  !pip install transformers evaluate wandb datasets accelerate peft bitsandbytes trl fsspec -U  -qq ## NEW LINES ##\n",
    "  basepath = '/content/drive/MyDrive/data/'\n",
    "else:\n",
    "  import os\n",
    "  os.environ[\"CUDA_VISIBLE_DEVICES\"] = \"0\"\n"
   ]
  },
  {
   "cell_type": "code",
   "execution_count": 3,
   "metadata": {
    "executionInfo": {
     "elapsed": 25202,
     "status": "ok",
     "timestamp": 1733803147963,
     "user": {
      "displayName": "Praveen Satya R V",
      "userId": "07360123993237987960"
     },
     "user_tz": 360
    },
    "id": "VXNvQfkFlTCN"
   },
   "outputs": [],
   "source": [
    "# standard pythgion libraries\n",
    "from pathlib import Path\n",
    "import re\n",
    "import gc\n",
    "import time\n",
    "from typing import Dict, List, Union, Optional, Tuple\n",
    "from tqdm import tqdm\n",
    "import itertools\n",
    "import json\n",
    "import joblib\n",
    "import ast\n",
    "from datetime import datetime\n",
    "from difflib import get_close_matches\n",
    "import os\n",
    "import sys\n",
    "\n",
    "# Data Science librraies\n",
    "import numpy as np\n",
    "import pandas as pd\n",
    "import matplotlib.pyplot as plt\n",
    "import seaborn as sns\n",
    "from sklearn.metrics import confusion_matrix\n",
    "from sklearn.preprocessing import MultiLabelBinarizer\n",
    "from sklearn.model_selection import train_test_split\n",
    "from sklearn.metrics import multilabel_confusion_matrix, precision_score, recall_score, f1_score\n",
    "\n",
    "# Pytorch\n",
    "import torch\n",
    "import torch.nn as nn\n",
    "\n",
    "# Huggingface Librraies\n",
    "import evaluate\n",
    "from datasets import load_dataset, DatasetDict, Dataset, ClassLabel\n",
    "from trl import SFTConfig, SFTTrainer, DataCollatorForCompletionOnlyLM\n",
    "from transformers import (\n",
    "    TrainingArguments,\n",
    "    Trainer,\n",
    "    set_seed,\n",
    "    AutoTokenizer,\n",
    "    AutoModelForCausalLM,\n",
    "    DataCollatorForLanguageModeling,\n",
    "    AutoConfig,\n",
    "    pipeline,\n",
    "    BitsAndBytesConfig,\n",
    ")\n",
    "from peft import (\n",
    "    TaskType,\n",
    "    LoraConfig,\n",
    "    prepare_model_for_kbit_training,\n",
    "    get_peft_model,\n",
    "    AutoPeftModelForCausalLM,\n",
    "    PeftConfig\n",
    ")\n",
    "\n",
    "\n",
    "\n",
    "from huggingface_hub import login\n",
    "\n",
    "# Logging and secrets\n",
    "import wandb\n"
   ]
  },
  {
   "cell_type": "code",
   "execution_count": 4,
   "metadata": {
    "executionInfo": {
     "elapsed": 49,
     "status": "ok",
     "timestamp": 1733803147966,
     "user": {
      "displayName": "Praveen Satya R V",
      "userId": "07360123993237987960"
     },
     "user_tz": 360
    },
    "id": "7RNLhJIOHUpQ"
   },
   "outputs": [],
   "source": [
    "set_seed(42)"
   ]
  },
  {
   "cell_type": "code",
   "execution_count": 95,
   "metadata": {
    "colab": {
     "base_uri": "https://localhost:8080/"
    },
    "executionInfo": {
     "elapsed": 1845,
     "status": "ok",
     "timestamp": 1733808189100,
     "user": {
      "displayName": "Praveen Satya R V",
      "userId": "07360123993237987960"
     },
     "user_tz": 360
    },
    "id": "IlaVI41KNXwM",
    "outputId": "4466f9b3-08cf-4485-d2c6-5cf7688625fe"
   },
   "outputs": [
    {
     "name": "stderr",
     "output_type": "stream",
     "text": [
      "\u001b[34m\u001b[1mwandb\u001b[0m: \u001b[33mWARNING\u001b[0m Calling wandb.login() after wandb.init() has no effect.\n"
     ]
    },
    {
     "name": "stdout",
     "output_type": "stream",
     "text": [
      "Using Google Colab environment\n",
      "✓ Successfully logged in to Hugging Face!\n",
      "✓ Successfully logged in to WANDB!\n"
     ]
    }
   ],
   "source": [
    "def is_colab() -> bool:\n",
    "    \"\"\"Check if the current environment is Google Colab.\"\"\"\n",
    "    return 'google.colab' in sys.modules\n",
    "\n",
    "def get_env_file_path() -> str:\n",
    "    \"\"\"\n",
    "    Get the path to your .env file\n",
    "    Modify this function to point to your .env file location\n",
    "    \"\"\"\n",
    "\n",
    "    env_path = str(base_folder / '.env')\n",
    "\n",
    "    return env_path\n",
    "\n",
    "def get_credentials() -> Tuple[Optional[str], Optional[str]]:\n",
    "    \"\"\"Get credentials from either Colab or local environment.\"\"\"\n",
    "    wandb_api_key = None\n",
    "    hf_token = None\n",
    "\n",
    "    if is_colab():\n",
    "        try:\n",
    "            from google.colab import userdata\n",
    "            wandb_api_key = userdata.get('wandb_key')\n",
    "            hf_token = userdata.get('HF_TOKEN')\n",
    "            print(\"Using Google Colab environment\")\n",
    "        except Exception as e:\n",
    "            print(f\"Error accessing Colab userdata: {e}\")\n",
    "    else:\n",
    "        # Try to load from .env file in specified location\n",
    "        try:\n",
    "            from dotenv import load_dotenv\n",
    "            env_path = get_env_file_path()\n",
    "            if os.path.exists(env_path):\n",
    "                load_dotenv(env_path)\n",
    "                print(f\"Loaded .env file from: {env_path}\")\n",
    "            else:\n",
    "                print(f\"Warning: .env file not found at {env_path}\")\n",
    "        except ImportError:\n",
    "            print(\"python-dotenv not installed. Using environment variables directly.\")\n",
    "        except Exception as e:\n",
    "            print(f\"Error loading .env file: {e}\")\n",
    "\n",
    "        wandb_api_key = os.getenv('wandb_key')\n",
    "        hf_token = os.getenv('HF_TOKEN')\n",
    "\n",
    "    return wandb_api_key, hf_token\n",
    "\n",
    "def setup_auth():\n",
    "    \"\"\"Setup authentication for both environments.\"\"\"\n",
    "    wandb_api_key, hf_token = get_credentials()\n",
    "\n",
    "    # Hugging Face authentication\n",
    "    if hf_token:\n",
    "        try:\n",
    "            from huggingface_hub import login\n",
    "            login(token=hf_token)\n",
    "            print(\"✓ Successfully logged in to Hugging Face!\")\n",
    "        except Exception as e:\n",
    "            print(f\"✗ Error logging in to Hugging Face: {e}\")\n",
    "    else:\n",
    "        print(\"✗ Hugging Face token not found.\")\n",
    "        if is_colab():\n",
    "            print(\"  Add HF_TOKEN to your Colab secrets\")\n",
    "        else:\n",
    "            print(f\"  Add HF_TOKEN to your .env file at {get_env_file_path()}\")\n",
    "\n",
    "    # Weights & Biases authentication\n",
    "    if wandb_api_key:\n",
    "        try:\n",
    "            import wandb\n",
    "            wandb.login(key=wandb_api_key)\n",
    "            print(\"✓ Successfully logged in to WANDB!\")\n",
    "        except Exception as e:\n",
    "            print(f\"✗ Error logging in to WANDB: {e}\")\n",
    "    else:\n",
    "        print(\"✗ WANDB API key not found.\")\n",
    "        if is_colab():\n",
    "            print(\"  Add WANDB_API_KEY to your Colab secrets\")\n",
    "        else:\n",
    "            print(f\"  Add WANDB_API_KEY to your .env file at {get_env_file_path()}\")\n",
    "\n",
    "setup_auth()\n"
   ]
  },
  {
   "cell_type": "markdown",
   "metadata": {
    "id": "uZ3WPaezlbnm"
   },
   "source": [
    "## <Font color = 'indianred'>**2. Load Data** </font>"
   ]
  },
  {
   "cell_type": "code",
   "execution_count": 96,
   "metadata": {
    "executionInfo": {
     "elapsed": 161,
     "status": "ok",
     "timestamp": 1733808194377,
     "user": {
      "displayName": "Praveen Satya R V",
      "userId": "07360123993237987960"
     },
     "user_tz": 360
    },
    "id": "6oED2NF9lWp6"
   },
   "outputs": [],
   "source": [
    "# Set the base folder path using the Path class for better path handling\n",
    "base_folder = Path(basepath)\n",
    "\n",
    "# Define the data folder path by appending the relative path to the base folder\n",
    "# This is where the data files will be stored\n",
    "data_folder = base_folder / 'dataset/hw8'\n",
    "\n",
    "# Define the model folder path for saving trained models\n",
    "# This path points to a specific folder designated for NLP models related to the IMDb dataset\n",
    "model_folder = base_folder / 'models/hw8'"
   ]
  },
  {
   "cell_type": "code",
   "execution_count": 97,
   "metadata": {
    "executionInfo": {
     "elapsed": 181,
     "status": "ok",
     "timestamp": 1733808197390,
     "user": {
      "displayName": "Praveen Satya R V",
      "userId": "07360123993237987960"
     },
     "user_tz": 360
    },
    "id": "F4muRhBjlp1r"
   },
   "outputs": [],
   "source": [
    "# Create the model folder directory. If it already exists, do nothing.\n",
    "# The 'parents=True' argument ensures that all parent directories are created if they don't exist.\n",
    "model_folder.mkdir(exist_ok=True, parents=True)\n",
    "\n",
    "# Create the data folder directory in a similar manner.\n",
    "data_folder.mkdir(exist_ok=True, parents=True)"
   ]
  },
  {
   "cell_type": "code",
   "execution_count": 160,
   "metadata": {
    "executionInfo": {
     "elapsed": 3621,
     "status": "ok",
     "timestamp": 1733809296707,
     "user": {
      "displayName": "Praveen Satya R V",
      "userId": "07360123993237987960"
     },
     "user_tz": 360
    },
    "id": "fKnVPwewBYzJ"
   },
   "outputs": [],
   "source": [
    "def add_label_as_string_and_remove_emotion_columns(df):\n",
    "    \"\"\"\n",
    "    Adds a 'label' column to the DataFrame as a string that looks like a Python list\n",
    "    and removes the emotion columns.\n",
    "\n",
    "    Parameters:\n",
    "    df (pd.DataFrame): The input DataFrame\n",
    "\n",
    "    Returns:\n",
    "    pd.DataFrame: The modified DataFrame with the 'label' column added and emotion columns removed.\n",
    "    \"\"\"\n",
    "    # Get the list of emotion columns (all columns except 'ID' and 'Tweet')\n",
    "    emotion_columns = df.columns[2:]\n",
    "\n",
    "    # Create the 'label' column as a string representing a Python list\n",
    "    df['label'] = df[emotion_columns].apply(\n",
    "        lambda row: str([col for col in row.index[row == 1]]),\n",
    "        axis=1\n",
    "    )\n",
    "\n",
    "    # Drop the emotion columns\n",
    "    df = df.drop(columns=emotion_columns)\n",
    "    df = df.drop(columns='ID')\n",
    "    df.rename(columns={'Tweet': 'text'}, inplace=True)\n",
    "\n",
    "\n",
    "    return df"
   ]
  },
  {
   "cell_type": "code",
   "execution_count": 161,
   "metadata": {
    "executionInfo": {
     "elapsed": 7,
     "status": "ok",
     "timestamp": 1733809297220,
     "user": {
      "displayName": "Praveen Satya R V",
      "userId": "07360123993237987960"
     },
     "user_tz": 360
    },
    "id": "hwWoS6lOlutc"
   },
   "outputs": [],
   "source": [
    "# Load the dataset\n",
    "train_file_path = X_train_cleaned_file = data_folder / 'train.csv'\n",
    "test_file_path = X_test_cleaned_file = data_folder / 'test.csv'"
   ]
  },
  {
   "cell_type": "code",
   "execution_count": 162,
   "metadata": {
    "executionInfo": {
     "elapsed": 258,
     "status": "ok",
     "timestamp": 1733809297740,
     "user": {
      "displayName": "Praveen Satya R V",
      "userId": "07360123993237987960"
     },
     "user_tz": 360
    },
    "id": "a-1B9lsTnGxg"
   },
   "outputs": [],
   "source": [
    "train_df = pd.read_csv(train_file_path)\n",
    "test_df = pd.read_csv(test_file_path)"
   ]
  },
  {
   "cell_type": "code",
   "execution_count": 163,
   "metadata": {
    "executionInfo": {
     "elapsed": 2348,
     "status": "ok",
     "timestamp": 1733809300915,
     "user": {
      "displayName": "Praveen Satya R V",
      "userId": "07360123993237987960"
     },
     "user_tz": 360
    },
    "id": "w5Kl-ujeBeoH"
   },
   "outputs": [],
   "source": [
    "train_df = add_label_as_string_and_remove_emotion_columns(train_df)\n",
    "test_df = add_label_as_string_and_remove_emotion_columns(test_df)"
   ]
  },
  {
   "cell_type": "code",
   "execution_count": 164,
   "metadata": {
    "colab": {
     "base_uri": "https://localhost:8080/",
     "height": 424
    },
    "executionInfo": {
     "elapsed": 278,
     "status": "ok",
     "timestamp": 1733809302541,
     "user": {
      "displayName": "Praveen Satya R V",
      "userId": "07360123993237987960"
     },
     "user_tz": 360
    },
    "id": "DvVxKyfunTVf",
    "outputId": "7dc39173-e780-4009-d82e-31cffcf6c1c7"
   },
   "outputs": [
    {
     "data": {
      "application/vnd.google.colaboratory.intrinsic+json": {
       "summary": "{\n  \"name\": \"train_df\",\n  \"rows\": 7724,\n  \"fields\": [\n    {\n      \"column\": \"text\",\n      \"properties\": {\n        \"dtype\": \"string\",\n        \"num_unique_values\": 7724,\n        \"samples\": [\n          \"I'm due for a big change! I've prayed on it, I think I deserve it #positivity \",\n          \"incetown, age 23, joyful, elevated in hope with the\",\n          \"Never heard of #CaraCaraOranges until today. Very #tasty! I highly recommend them! #delicious #GoodForYou #fruits  #oranges\"\n        ],\n        \"semantic_type\": \"\",\n        \"description\": \"\"\n      }\n    },\n    {\n      \"column\": \"label\",\n      \"properties\": {\n        \"dtype\": \"category\",\n        \"num_unique_values\": 341,\n        \"samples\": [\n          \"['anticipation', 'love', 'optimism']\",\n          \"['anticipation', 'disgust', 'optimism']\",\n          \"['joy', 'surprise', 'trust']\"\n        ],\n        \"semantic_type\": \"\",\n        \"description\": \"\"\n      }\n    }\n  ]\n}",
       "type": "dataframe",
       "variable_name": "train_df"
      },
      "text/html": [
       "\n",
       "  <div id=\"df-ed077927-a102-41ec-9d4b-8aed7a7fbb91\" class=\"colab-df-container\">\n",
       "    <div>\n",
       "<style scoped>\n",
       "    .dataframe tbody tr th:only-of-type {\n",
       "        vertical-align: middle;\n",
       "    }\n",
       "\n",
       "    .dataframe tbody tr th {\n",
       "        vertical-align: top;\n",
       "    }\n",
       "\n",
       "    .dataframe thead th {\n",
       "        text-align: right;\n",
       "    }\n",
       "</style>\n",
       "<table border=\"1\" class=\"dataframe\">\n",
       "  <thead>\n",
       "    <tr style=\"text-align: right;\">\n",
       "      <th></th>\n",
       "      <th>text</th>\n",
       "      <th>label</th>\n",
       "    </tr>\n",
       "  </thead>\n",
       "  <tbody>\n",
       "    <tr>\n",
       "      <th>0</th>\n",
       "      <td>“Worry is a down payment on a problem you may ...</td>\n",
       "      <td>['anticipation', 'optimism', 'trust']</td>\n",
       "    </tr>\n",
       "    <tr>\n",
       "      <th>1</th>\n",
       "      <td>Whatever you decide to do make sure it makes y...</td>\n",
       "      <td>['joy', 'love', 'optimism']</td>\n",
       "    </tr>\n",
       "    <tr>\n",
       "      <th>2</th>\n",
       "      <td>@Max_Kellerman  it also helps that the majorit...</td>\n",
       "      <td>['anger', 'disgust', 'joy', 'optimism']</td>\n",
       "    </tr>\n",
       "    <tr>\n",
       "      <th>3</th>\n",
       "      <td>Accept the challenges so that you can literall...</td>\n",
       "      <td>['joy', 'optimism']</td>\n",
       "    </tr>\n",
       "    <tr>\n",
       "      <th>4</th>\n",
       "      <td>My roommate: it's okay that we can't spell bec...</td>\n",
       "      <td>['anger', 'disgust']</td>\n",
       "    </tr>\n",
       "    <tr>\n",
       "      <th>...</th>\n",
       "      <td>...</td>\n",
       "      <td>...</td>\n",
       "    </tr>\n",
       "    <tr>\n",
       "      <th>7719</th>\n",
       "      <td>@BadHombreNPS @SecretaryPerry If this didn't m...</td>\n",
       "      <td>['anger', 'disgust']</td>\n",
       "    </tr>\n",
       "    <tr>\n",
       "      <th>7720</th>\n",
       "      <td>Excited to watch #stateoforigin tonight! Come ...</td>\n",
       "      <td>['joy', 'optimism']</td>\n",
       "    </tr>\n",
       "    <tr>\n",
       "      <th>7721</th>\n",
       "      <td>Blah blah blah Kyrie, IT, etc. @CJC9BOSS leavi...</td>\n",
       "      <td>['anger', 'disgust', 'sadness']</td>\n",
       "    </tr>\n",
       "    <tr>\n",
       "      <th>7722</th>\n",
       "      <td>#ThingsIveLearned The wise #shepherd never tru...</td>\n",
       "      <td>[]</td>\n",
       "    </tr>\n",
       "    <tr>\n",
       "      <th>7723</th>\n",
       "      <td>I am really flattered and happy to hear those ...</td>\n",
       "      <td>['joy', 'optimism']</td>\n",
       "    </tr>\n",
       "  </tbody>\n",
       "</table>\n",
       "<p>7724 rows × 2 columns</p>\n",
       "</div>\n",
       "    <div class=\"colab-df-buttons\">\n",
       "\n",
       "  <div class=\"colab-df-container\">\n",
       "    <button class=\"colab-df-convert\" onclick=\"convertToInteractive('df-ed077927-a102-41ec-9d4b-8aed7a7fbb91')\"\n",
       "            title=\"Convert this dataframe to an interactive table.\"\n",
       "            style=\"display:none;\">\n",
       "\n",
       "  <svg xmlns=\"http://www.w3.org/2000/svg\" height=\"24px\" viewBox=\"0 -960 960 960\">\n",
       "    <path d=\"M120-120v-720h720v720H120Zm60-500h600v-160H180v160Zm220 220h160v-160H400v160Zm0 220h160v-160H400v160ZM180-400h160v-160H180v160Zm440 0h160v-160H620v160ZM180-180h160v-160H180v160Zm440 0h160v-160H620v160Z\"/>\n",
       "  </svg>\n",
       "    </button>\n",
       "\n",
       "  <style>\n",
       "    .colab-df-container {\n",
       "      display:flex;\n",
       "      gap: 12px;\n",
       "    }\n",
       "\n",
       "    .colab-df-convert {\n",
       "      background-color: #E8F0FE;\n",
       "      border: none;\n",
       "      border-radius: 50%;\n",
       "      cursor: pointer;\n",
       "      display: none;\n",
       "      fill: #1967D2;\n",
       "      height: 32px;\n",
       "      padding: 0 0 0 0;\n",
       "      width: 32px;\n",
       "    }\n",
       "\n",
       "    .colab-df-convert:hover {\n",
       "      background-color: #E2EBFA;\n",
       "      box-shadow: 0px 1px 2px rgba(60, 64, 67, 0.3), 0px 1px 3px 1px rgba(60, 64, 67, 0.15);\n",
       "      fill: #174EA6;\n",
       "    }\n",
       "\n",
       "    .colab-df-buttons div {\n",
       "      margin-bottom: 4px;\n",
       "    }\n",
       "\n",
       "    [theme=dark] .colab-df-convert {\n",
       "      background-color: #3B4455;\n",
       "      fill: #D2E3FC;\n",
       "    }\n",
       "\n",
       "    [theme=dark] .colab-df-convert:hover {\n",
       "      background-color: #434B5C;\n",
       "      box-shadow: 0px 1px 3px 1px rgba(0, 0, 0, 0.15);\n",
       "      filter: drop-shadow(0px 1px 2px rgba(0, 0, 0, 0.3));\n",
       "      fill: #FFFFFF;\n",
       "    }\n",
       "  </style>\n",
       "\n",
       "    <script>\n",
       "      const buttonEl =\n",
       "        document.querySelector('#df-ed077927-a102-41ec-9d4b-8aed7a7fbb91 button.colab-df-convert');\n",
       "      buttonEl.style.display =\n",
       "        google.colab.kernel.accessAllowed ? 'block' : 'none';\n",
       "\n",
       "      async function convertToInteractive(key) {\n",
       "        const element = document.querySelector('#df-ed077927-a102-41ec-9d4b-8aed7a7fbb91');\n",
       "        const dataTable =\n",
       "          await google.colab.kernel.invokeFunction('convertToInteractive',\n",
       "                                                    [key], {});\n",
       "        if (!dataTable) return;\n",
       "\n",
       "        const docLinkHtml = 'Like what you see? Visit the ' +\n",
       "          '<a target=\"_blank\" href=https://colab.research.google.com/notebooks/data_table.ipynb>data table notebook</a>'\n",
       "          + ' to learn more about interactive tables.';\n",
       "        element.innerHTML = '';\n",
       "        dataTable['output_type'] = 'display_data';\n",
       "        await google.colab.output.renderOutput(dataTable, element);\n",
       "        const docLink = document.createElement('div');\n",
       "        docLink.innerHTML = docLinkHtml;\n",
       "        element.appendChild(docLink);\n",
       "      }\n",
       "    </script>\n",
       "  </div>\n",
       "\n",
       "\n",
       "<div id=\"df-ef579d49-eee9-44b6-98c0-95e6526559d9\">\n",
       "  <button class=\"colab-df-quickchart\" onclick=\"quickchart('df-ef579d49-eee9-44b6-98c0-95e6526559d9')\"\n",
       "            title=\"Suggest charts\"\n",
       "            style=\"display:none;\">\n",
       "\n",
       "<svg xmlns=\"http://www.w3.org/2000/svg\" height=\"24px\"viewBox=\"0 0 24 24\"\n",
       "     width=\"24px\">\n",
       "    <g>\n",
       "        <path d=\"M19 3H5c-1.1 0-2 .9-2 2v14c0 1.1.9 2 2 2h14c1.1 0 2-.9 2-2V5c0-1.1-.9-2-2-2zM9 17H7v-7h2v7zm4 0h-2V7h2v10zm4 0h-2v-4h2v4z\"/>\n",
       "    </g>\n",
       "</svg>\n",
       "  </button>\n",
       "\n",
       "<style>\n",
       "  .colab-df-quickchart {\n",
       "      --bg-color: #E8F0FE;\n",
       "      --fill-color: #1967D2;\n",
       "      --hover-bg-color: #E2EBFA;\n",
       "      --hover-fill-color: #174EA6;\n",
       "      --disabled-fill-color: #AAA;\n",
       "      --disabled-bg-color: #DDD;\n",
       "  }\n",
       "\n",
       "  [theme=dark] .colab-df-quickchart {\n",
       "      --bg-color: #3B4455;\n",
       "      --fill-color: #D2E3FC;\n",
       "      --hover-bg-color: #434B5C;\n",
       "      --hover-fill-color: #FFFFFF;\n",
       "      --disabled-bg-color: #3B4455;\n",
       "      --disabled-fill-color: #666;\n",
       "  }\n",
       "\n",
       "  .colab-df-quickchart {\n",
       "    background-color: var(--bg-color);\n",
       "    border: none;\n",
       "    border-radius: 50%;\n",
       "    cursor: pointer;\n",
       "    display: none;\n",
       "    fill: var(--fill-color);\n",
       "    height: 32px;\n",
       "    padding: 0;\n",
       "    width: 32px;\n",
       "  }\n",
       "\n",
       "  .colab-df-quickchart:hover {\n",
       "    background-color: var(--hover-bg-color);\n",
       "    box-shadow: 0 1px 2px rgba(60, 64, 67, 0.3), 0 1px 3px 1px rgba(60, 64, 67, 0.15);\n",
       "    fill: var(--button-hover-fill-color);\n",
       "  }\n",
       "\n",
       "  .colab-df-quickchart-complete:disabled,\n",
       "  .colab-df-quickchart-complete:disabled:hover {\n",
       "    background-color: var(--disabled-bg-color);\n",
       "    fill: var(--disabled-fill-color);\n",
       "    box-shadow: none;\n",
       "  }\n",
       "\n",
       "  .colab-df-spinner {\n",
       "    border: 2px solid var(--fill-color);\n",
       "    border-color: transparent;\n",
       "    border-bottom-color: var(--fill-color);\n",
       "    animation:\n",
       "      spin 1s steps(1) infinite;\n",
       "  }\n",
       "\n",
       "  @keyframes spin {\n",
       "    0% {\n",
       "      border-color: transparent;\n",
       "      border-bottom-color: var(--fill-color);\n",
       "      border-left-color: var(--fill-color);\n",
       "    }\n",
       "    20% {\n",
       "      border-color: transparent;\n",
       "      border-left-color: var(--fill-color);\n",
       "      border-top-color: var(--fill-color);\n",
       "    }\n",
       "    30% {\n",
       "      border-color: transparent;\n",
       "      border-left-color: var(--fill-color);\n",
       "      border-top-color: var(--fill-color);\n",
       "      border-right-color: var(--fill-color);\n",
       "    }\n",
       "    40% {\n",
       "      border-color: transparent;\n",
       "      border-right-color: var(--fill-color);\n",
       "      border-top-color: var(--fill-color);\n",
       "    }\n",
       "    60% {\n",
       "      border-color: transparent;\n",
       "      border-right-color: var(--fill-color);\n",
       "    }\n",
       "    80% {\n",
       "      border-color: transparent;\n",
       "      border-right-color: var(--fill-color);\n",
       "      border-bottom-color: var(--fill-color);\n",
       "    }\n",
       "    90% {\n",
       "      border-color: transparent;\n",
       "      border-bottom-color: var(--fill-color);\n",
       "    }\n",
       "  }\n",
       "</style>\n",
       "\n",
       "  <script>\n",
       "    async function quickchart(key) {\n",
       "      const quickchartButtonEl =\n",
       "        document.querySelector('#' + key + ' button');\n",
       "      quickchartButtonEl.disabled = true;  // To prevent multiple clicks.\n",
       "      quickchartButtonEl.classList.add('colab-df-spinner');\n",
       "      try {\n",
       "        const charts = await google.colab.kernel.invokeFunction(\n",
       "            'suggestCharts', [key], {});\n",
       "      } catch (error) {\n",
       "        console.error('Error during call to suggestCharts:', error);\n",
       "      }\n",
       "      quickchartButtonEl.classList.remove('colab-df-spinner');\n",
       "      quickchartButtonEl.classList.add('colab-df-quickchart-complete');\n",
       "    }\n",
       "    (() => {\n",
       "      let quickchartButtonEl =\n",
       "        document.querySelector('#df-ef579d49-eee9-44b6-98c0-95e6526559d9 button');\n",
       "      quickchartButtonEl.style.display =\n",
       "        google.colab.kernel.accessAllowed ? 'block' : 'none';\n",
       "    })();\n",
       "  </script>\n",
       "</div>\n",
       "\n",
       "  <div id=\"id_bc577604-e711-402e-9cdf-cb6a1d478ed4\">\n",
       "    <style>\n",
       "      .colab-df-generate {\n",
       "        background-color: #E8F0FE;\n",
       "        border: none;\n",
       "        border-radius: 50%;\n",
       "        cursor: pointer;\n",
       "        display: none;\n",
       "        fill: #1967D2;\n",
       "        height: 32px;\n",
       "        padding: 0 0 0 0;\n",
       "        width: 32px;\n",
       "      }\n",
       "\n",
       "      .colab-df-generate:hover {\n",
       "        background-color: #E2EBFA;\n",
       "        box-shadow: 0px 1px 2px rgba(60, 64, 67, 0.3), 0px 1px 3px 1px rgba(60, 64, 67, 0.15);\n",
       "        fill: #174EA6;\n",
       "      }\n",
       "\n",
       "      [theme=dark] .colab-df-generate {\n",
       "        background-color: #3B4455;\n",
       "        fill: #D2E3FC;\n",
       "      }\n",
       "\n",
       "      [theme=dark] .colab-df-generate:hover {\n",
       "        background-color: #434B5C;\n",
       "        box-shadow: 0px 1px 3px 1px rgba(0, 0, 0, 0.15);\n",
       "        filter: drop-shadow(0px 1px 2px rgba(0, 0, 0, 0.3));\n",
       "        fill: #FFFFFF;\n",
       "      }\n",
       "    </style>\n",
       "    <button class=\"colab-df-generate\" onclick=\"generateWithVariable('train_df')\"\n",
       "            title=\"Generate code using this dataframe.\"\n",
       "            style=\"display:none;\">\n",
       "\n",
       "  <svg xmlns=\"http://www.w3.org/2000/svg\" height=\"24px\"viewBox=\"0 0 24 24\"\n",
       "       width=\"24px\">\n",
       "    <path d=\"M7,19H8.4L18.45,9,17,7.55,7,17.6ZM5,21V16.75L18.45,3.32a2,2,0,0,1,2.83,0l1.4,1.43a1.91,1.91,0,0,1,.58,1.4,1.91,1.91,0,0,1-.58,1.4L9.25,21ZM18.45,9,17,7.55Zm-12,3A5.31,5.31,0,0,0,4.9,8.1,5.31,5.31,0,0,0,1,6.5,5.31,5.31,0,0,0,4.9,4.9,5.31,5.31,0,0,0,6.5,1,5.31,5.31,0,0,0,8.1,4.9,5.31,5.31,0,0,0,12,6.5,5.46,5.46,0,0,0,6.5,12Z\"/>\n",
       "  </svg>\n",
       "    </button>\n",
       "    <script>\n",
       "      (() => {\n",
       "      const buttonEl =\n",
       "        document.querySelector('#id_bc577604-e711-402e-9cdf-cb6a1d478ed4 button.colab-df-generate');\n",
       "      buttonEl.style.display =\n",
       "        google.colab.kernel.accessAllowed ? 'block' : 'none';\n",
       "\n",
       "      buttonEl.onclick = () => {\n",
       "        google.colab.notebook.generateWithVariable('train_df');\n",
       "      }\n",
       "      })();\n",
       "    </script>\n",
       "  </div>\n",
       "\n",
       "    </div>\n",
       "  </div>\n"
      ],
      "text/plain": [
       "                                                   text  \\\n",
       "0     “Worry is a down payment on a problem you may ...   \n",
       "1     Whatever you decide to do make sure it makes y...   \n",
       "2     @Max_Kellerman  it also helps that the majorit...   \n",
       "3     Accept the challenges so that you can literall...   \n",
       "4     My roommate: it's okay that we can't spell bec...   \n",
       "...                                                 ...   \n",
       "7719  @BadHombreNPS @SecretaryPerry If this didn't m...   \n",
       "7720  Excited to watch #stateoforigin tonight! Come ...   \n",
       "7721  Blah blah blah Kyrie, IT, etc. @CJC9BOSS leavi...   \n",
       "7722  #ThingsIveLearned The wise #shepherd never tru...   \n",
       "7723  I am really flattered and happy to hear those ...   \n",
       "\n",
       "                                        label  \n",
       "0       ['anticipation', 'optimism', 'trust']  \n",
       "1                 ['joy', 'love', 'optimism']  \n",
       "2     ['anger', 'disgust', 'joy', 'optimism']  \n",
       "3                         ['joy', 'optimism']  \n",
       "4                        ['anger', 'disgust']  \n",
       "...                                       ...  \n",
       "7719                     ['anger', 'disgust']  \n",
       "7720                      ['joy', 'optimism']  \n",
       "7721          ['anger', 'disgust', 'sadness']  \n",
       "7722                                       []  \n",
       "7723                      ['joy', 'optimism']  \n",
       "\n",
       "[7724 rows x 2 columns]"
      ]
     },
     "execution_count": 164,
     "metadata": {},
     "output_type": "execute_result"
    }
   ],
   "source": [
    "train_df"
   ]
  },
  {
   "cell_type": "code",
   "execution_count": 165,
   "metadata": {
    "colab": {
     "base_uri": "https://localhost:8080/"
    },
    "executionInfo": {
     "elapsed": 226,
     "status": "ok",
     "timestamp": 1733809305851,
     "user": {
      "displayName": "Praveen Satya R V",
      "userId": "07360123993237987960"
     },
     "user_tz": 360
    },
    "id": "ml5urw6ODXOF",
    "outputId": "cb4159dd-a63b-4801-9edd-d87679ef6879"
   },
   "outputs": [
    {
     "data": {
      "text/plain": [
       "['anger',\n",
       " 'anticipation',\n",
       " 'disgust',\n",
       " 'fear',\n",
       " 'joy',\n",
       " 'love',\n",
       " 'optimism',\n",
       " 'pessimism',\n",
       " 'sadness',\n",
       " 'surprise',\n",
       " 'trust']"
      ]
     },
     "execution_count": 165,
     "metadata": {},
     "output_type": "execute_result"
    }
   ],
   "source": [
    "class_names = [\"anger\",\"anticipation\",\"disgust\",\"fear\",\"joy\",\"love\",\"optimism\",\"pessimism\",\"sadness\",\"surprise\",\"trust\"]\n",
    "class_names"
   ]
  },
  {
   "cell_type": "markdown",
   "metadata": {},
   "source": [
    "## <Font color = 'indianred'>**3. Training/Validation Split**"
   ]
  },
  {
   "cell_type": "code",
   "execution_count": 166,
   "metadata": {
    "executionInfo": {
     "elapsed": 244,
     "status": "ok",
     "timestamp": 1733809307458,
     "user": {
      "displayName": "Praveen Satya R V",
      "userId": "07360123993237987960"
     },
     "user_tz": 360
    },
    "id": "dZp6ofR8DlXR"
   },
   "outputs": [],
   "source": [
    "emo_selected_columns_final = Dataset.from_pandas(train_df)"
   ]
  },
  {
   "cell_type": "code",
   "execution_count": 167,
   "metadata": {
    "colab": {
     "base_uri": "https://localhost:8080/",
     "height": 36
    },
    "executionInfo": {
     "elapsed": 12,
     "status": "ok",
     "timestamp": 1733809308483,
     "user": {
      "displayName": "Praveen Satya R V",
      "userId": "07360123993237987960"
     },
     "user_tz": 360
    },
    "id": "DyO2nEWiDqks",
    "outputId": "3bc2f3e9-4647-4fb5-f484-87f5d796c5c4"
   },
   "outputs": [
    {
     "data": {
      "application/vnd.google.colaboratory.intrinsic+json": {
       "type": "string"
      },
      "text/plain": [
       "\"['anticipation', 'optimism', 'trust']\""
      ]
     },
     "execution_count": 167,
     "metadata": {},
     "output_type": "execute_result"
    }
   ],
   "source": [
    "emo_selected_columns_final[0]['label']"
   ]
  },
  {
   "cell_type": "code",
   "execution_count": 168,
   "metadata": {
    "executionInfo": {
     "elapsed": 6,
     "status": "ok",
     "timestamp": 1733809309474,
     "user": {
      "displayName": "Praveen Satya R V",
      "userId": "07360123993237987960"
     },
     "user_tz": 360
    },
    "id": "00SxQYwEnrNn"
   },
   "outputs": [],
   "source": [
    "# Split the test set into test and validation sets\n",
    "test_val_splits = emo_selected_columns_final.train_test_split(test_size=0.4, seed=42)\n",
    "train_split= test_val_splits['train']\n",
    "val_split = test_val_splits['test']"
   ]
  },
  {
   "cell_type": "code",
   "execution_count": 169,
   "metadata": {
    "executionInfo": {
     "elapsed": 1011,
     "status": "ok",
     "timestamp": 1733809311424,
     "user": {
      "displayName": "Praveen Satya R V",
      "userId": "07360123993237987960"
     },
     "user_tz": 360
    },
    "id": "WJLVdwHln_Gw"
   },
   "outputs": [],
   "source": [
    "# small subset for initial experimentation\n",
    "train_split = train_split.shuffle(seed = 42).select(range(1500))\n",
    "val_split = val_split.shuffle(seed = 42).select(range(1500))\n",
    "# testset = testset.shuffle(seed = 42).select(range(1500))"
   ]
  },
  {
   "cell_type": "code",
   "execution_count": 170,
   "metadata": {
    "executionInfo": {
     "elapsed": 5,
     "status": "ok",
     "timestamp": 1733809311958,
     "user": {
      "displayName": "Praveen Satya R V",
      "userId": "07360123993237987960"
     },
     "user_tz": 360
    },
    "id": "2KsSx0BFoCKE"
   },
   "outputs": [],
   "source": [
    "train_val_subset= DatasetDict(\n",
    "    {\"train\": train_split, \"valid\": val_split})"
   ]
  },
  {
   "cell_type": "code",
   "execution_count": 171,
   "metadata": {
    "colab": {
     "base_uri": "https://localhost:8080/"
    },
    "executionInfo": {
     "elapsed": 23,
     "status": "ok",
     "timestamp": 1733809312190,
     "user": {
      "displayName": "Praveen Satya R V",
      "userId": "07360123993237987960"
     },
     "user_tz": 360
    },
    "id": "OkrX5_exoEwG",
    "outputId": "e0337b6a-ae8b-4b52-87ab-438328a691f7"
   },
   "outputs": [
    {
     "data": {
      "text/plain": [
       "DatasetDict({\n",
       "    train: Dataset({\n",
       "        features: ['text', 'label'],\n",
       "        num_rows: 1500\n",
       "    })\n",
       "    valid: Dataset({\n",
       "        features: ['text', 'label'],\n",
       "        num_rows: 1500\n",
       "    })\n",
       "})"
      ]
     },
     "execution_count": 171,
     "metadata": {},
     "output_type": "execute_result"
    }
   ],
   "source": [
    "train_val_subset"
   ]
  },
  {
   "cell_type": "code",
   "execution_count": 172,
   "metadata": {
    "colab": {
     "base_uri": "https://localhost:8080/"
    },
    "executionInfo": {
     "elapsed": 299,
     "status": "ok",
     "timestamp": 1733809314526,
     "user": {
      "displayName": "Praveen Satya R V",
      "userId": "07360123993237987960"
     },
     "user_tz": 360
    },
    "id": "B-XeXIkuAKF-",
    "outputId": "60df1ee2-dcc5-445f-c0c3-9c02d74c1288"
   },
   "outputs": [
    {
     "data": {
      "text/plain": [
       "{'text': 'Dear future big brother players, just chase dick all season and you too can win 500,00 dollars and an Sti #bb18 ',\n",
       " 'label': \"['anger', 'joy', 'optimism']\"}"
      ]
     },
     "execution_count": 172,
     "metadata": {},
     "output_type": "execute_result"
    }
   ],
   "source": [
    "train_val_subset['train'][0]"
   ]
  },
  {
   "cell_type": "markdown",
   "metadata": {
    "id": "XvUAvp6GodgP"
   },
   "source": [
    "## <Font color = 'indianred'>**4. Model - Llama Instruction** </font>"
   ]
  },
  {
   "cell_type": "code",
   "execution_count": 173,
   "metadata": {
    "executionInfo": {
     "elapsed": 277,
     "status": "ok",
     "timestamp": 1733809340402,
     "user": {
      "displayName": "Praveen Satya R V",
      "userId": "07360123993237987960"
     },
     "user_tz": 360
    },
    "id": "Q-kN7fWFOhLA"
   },
   "outputs": [],
   "source": [
    "def free_gpu_memory():\n",
    "    \"\"\"\n",
    "    Frees up GPU memory after CUDA out-of-memory error in Colab.\n",
    "\n",
    "    This function performs the following steps:\n",
    "    1. Deletes all PyTorch objects to clear references.\n",
    "    2. Calls garbage collection to remove unreferenced objects from memory.\n",
    "    3. Uses torch.cuda.empty_cache() to release cached GPU memory.\n",
    "    4. Waits for a moment to ensure memory is fully released.\n",
    "    \"\"\"\n",
    "    try:\n",
    "        # Delete all torch tensors to free up memory\n",
    "        for obj in list(locals().values()):\n",
    "            if torch.is_tensor(obj):\n",
    "                del obj\n",
    "\n",
    "        # Collect garbage to release any remaining unused memory\n",
    "        gc.collect()\n",
    "\n",
    "        # Empty the CUDA cache to release GPU memory\n",
    "        torch.cuda.empty_cache()\n",
    "\n",
    "        # Adding a small delay to allow memory to be fully released\n",
    "        time.sleep(2)\n",
    "\n",
    "        print(\"GPU memory has been freed.\")\n",
    "    except Exception as e:\n",
    "        print(f\"Error while freeing GPU memory: {e}\")\n"
   ]
  },
  {
   "cell_type": "code",
   "execution_count": 174,
   "metadata": {
    "colab": {
     "base_uri": "https://localhost:8080/"
    },
    "executionInfo": {
     "elapsed": 2471,
     "status": "ok",
     "timestamp": 1733809344903,
     "user": {
      "displayName": "Praveen Satya R V",
      "userId": "07360123993237987960"
     },
     "user_tz": 360
    },
    "id": "nn-BwCwgOi4C",
    "outputId": "4ae7ba57-1cd9-4b74-ab34-64c7e9c85929"
   },
   "outputs": [
    {
     "name": "stdout",
     "output_type": "stream",
     "text": [
      "GPU memory has been freed.\n"
     ]
    }
   ],
   "source": [
    "free_gpu_memory()"
   ]
  },
  {
   "cell_type": "code",
   "execution_count": 175,
   "metadata": {
    "executionInfo": {
     "elapsed": 2504,
     "status": "ok",
     "timestamp": 1733809349812,
     "user": {
      "displayName": "Praveen Satya R V",
      "userId": "07360123993237987960"
     },
     "user_tz": 360
    },
    "id": "kVTuVto8oYMe"
   },
   "outputs": [],
   "source": [
    "checkpoint = \"meta-llama/Llama-3.2-1B-Instruct\"\n",
    "tokenizer = AutoTokenizer.from_pretrained(checkpoint)"
   ]
  },
  {
   "cell_type": "code",
   "execution_count": 176,
   "metadata": {
    "colab": {
     "base_uri": "https://localhost:8080/",
     "height": 36
    },
    "executionInfo": {
     "elapsed": 233,
     "status": "ok",
     "timestamp": 1733809374403,
     "user": {
      "displayName": "Praveen Satya R V",
      "userId": "07360123993237987960"
     },
     "user_tz": 360
    },
    "id": "1ZoINiTkwu3r",
    "outputId": "3b991c79-8c4d-4a1b-8e8c-7b1433c5830b"
   },
   "outputs": [
    {
     "data": {
      "application/vnd.google.colaboratory.intrinsic+json": {
       "type": "string"
      },
      "text/plain": [
       "'<|eot_id|>'"
      ]
     },
     "execution_count": 176,
     "metadata": {},
     "output_type": "execute_result"
    }
   ],
   "source": [
    "tokenizer.eos_token"
   ]
  },
  {
   "cell_type": "code",
   "execution_count": 177,
   "metadata": {
    "executionInfo": {
     "elapsed": 241,
     "status": "ok",
     "timestamp": 1733809376788,
     "user": {
      "displayName": "Praveen Satya R V",
      "userId": "07360123993237987960"
     },
     "user_tz": 360
    },
    "id": "De4aIHSlwyyv"
   },
   "outputs": [],
   "source": [
    "tokenizer.pad_token"
   ]
  },
  {
   "cell_type": "code",
   "execution_count": 178,
   "metadata": {
    "executionInfo": {
     "elapsed": 384,
     "status": "ok",
     "timestamp": 1733809380788,
     "user": {
      "displayName": "Praveen Satya R V",
      "userId": "07360123993237987960"
     },
     "user_tz": 360
    },
    "id": "J0izVCI_w0Z4"
   },
   "outputs": [],
   "source": [
    "tokenizer.pad_token = '<|finetune_right_pad_id|>'"
   ]
  },
  {
   "cell_type": "code",
   "execution_count": 179,
   "metadata": {
    "colab": {
     "base_uri": "https://localhost:8080/",
     "height": 36
    },
    "executionInfo": {
     "elapsed": 229,
     "status": "ok",
     "timestamp": 1733809382579,
     "user": {
      "displayName": "Praveen Satya R V",
      "userId": "07360123993237987960"
     },
     "user_tz": 360
    },
    "id": "ONIcb6mHw2bd",
    "outputId": "fc5a7b04-b02e-49ed-d023-047251861b87"
   },
   "outputs": [
    {
     "data": {
      "application/vnd.google.colaboratory.intrinsic+json": {
       "type": "string"
      },
      "text/plain": [
       "'right'"
      ]
     },
     "execution_count": 179,
     "metadata": {},
     "output_type": "execute_result"
    }
   ],
   "source": [
    "tokenizer.padding_side"
   ]
  },
  {
   "cell_type": "code",
   "execution_count": 180,
   "metadata": {
    "colab": {
     "base_uri": "https://localhost:8080/",
     "height": 123
    },
    "executionInfo": {
     "elapsed": 221,
     "status": "ok",
     "timestamp": 1733809384653,
     "user": {
      "displayName": "Praveen Satya R V",
      "userId": "07360123993237987960"
     },
     "user_tz": 360
    },
    "id": "_8w6ZGn_w4-l",
    "outputId": "ce75ef0f-43ca-4f79-c28c-06eec70b76ce"
   },
   "outputs": [
    {
     "data": {
      "application/vnd.google.colaboratory.intrinsic+json": {
       "type": "string"
      },
      "text/plain": [
       "'{{- bos_token }}\\n{%- if custom_tools is defined %}\\n    {%- set tools = custom_tools %}\\n{%- endif %}\\n{%- if not tools_in_user_message is defined %}\\n    {%- set tools_in_user_message = true %}\\n{%- endif %}\\n{%- if not date_string is defined %}\\n    {%- if strftime_now is defined %}\\n        {%- set date_string = strftime_now(\"%d %b %Y\") %}\\n    {%- else %}\\n        {%- set date_string = \"26 Jul 2024\" %}\\n    {%- endif %}\\n{%- endif %}\\n{%- if not tools is defined %}\\n    {%- set tools = none %}\\n{%- endif %}\\n\\n{#- This block extracts the system message, so we can slot it into the right place. #}\\n{%- if messages[0][\\'role\\'] == \\'system\\' %}\\n    {%- set system_message = messages[0][\\'content\\']|trim %}\\n    {%- set messages = messages[1:] %}\\n{%- else %}\\n    {%- set system_message = \"\" %}\\n{%- endif %}\\n\\n{#- System message #}\\n{{- \"<|start_header_id|>system<|end_header_id|>\\\\n\\\\n\" }}\\n{%- if tools is not none %}\\n    {{- \"Environment: ipython\\\\n\" }}\\n{%- endif %}\\n{{- \"Cutting Knowledge Date: December 2023\\\\n\" }}\\n{{- \"Today Date: \" + date_string + \"\\\\n\\\\n\" }}\\n{%- if tools is not none and not tools_in_user_message %}\\n    {{- \"You have access to the following functions. To call a function, please respond with JSON for a function call.\" }}\\n    {{- \\'Respond in the format {\"name\": function name, \"parameters\": dictionary of argument name and its value}.\\' }}\\n    {{- \"Do not use variables.\\\\n\\\\n\" }}\\n    {%- for t in tools %}\\n        {{- t | tojson(indent=4) }}\\n        {{- \"\\\\n\\\\n\" }}\\n    {%- endfor %}\\n{%- endif %}\\n{{- system_message }}\\n{{- \"<|eot_id|>\" }}\\n\\n{#- Custom tools are passed in a user message with some extra guidance #}\\n{%- if tools_in_user_message and not tools is none %}\\n    {#- Extract the first user message so we can plug it in here #}\\n    {%- if messages | length != 0 %}\\n        {%- set first_user_message = messages[0][\\'content\\']|trim %}\\n        {%- set messages = messages[1:] %}\\n    {%- else %}\\n        {{- raise_exception(\"Cannot put tools in the first user message when there\\'s no first user message!\") }}\\n{%- endif %}\\n    {{- \\'<|start_header_id|>user<|end_header_id|>\\\\n\\\\n\\' -}}\\n    {{- \"Given the following functions, please respond with a JSON for a function call \" }}\\n    {{- \"with its proper arguments that best answers the given prompt.\\\\n\\\\n\" }}\\n    {{- \\'Respond in the format {\"name\": function name, \"parameters\": dictionary of argument name and its value}.\\' }}\\n    {{- \"Do not use variables.\\\\n\\\\n\" }}\\n    {%- for t in tools %}\\n        {{- t | tojson(indent=4) }}\\n        {{- \"\\\\n\\\\n\" }}\\n    {%- endfor %}\\n    {{- first_user_message + \"<|eot_id|>\"}}\\n{%- endif %}\\n\\n{%- for message in messages %}\\n    {%- if not (message.role == \\'ipython\\' or message.role == \\'tool\\' or \\'tool_calls\\' in message) %}\\n        {{- \\'<|start_header_id|>\\' + message[\\'role\\'] + \\'<|end_header_id|>\\\\n\\\\n\\'+ message[\\'content\\'] | trim + \\'<|eot_id|>\\' }}\\n    {%- elif \\'tool_calls\\' in message %}\\n        {%- if not message.tool_calls|length == 1 %}\\n            {{- raise_exception(\"This model only supports single tool-calls at once!\") }}\\n        {%- endif %}\\n        {%- set tool_call = message.tool_calls[0].function %}\\n        {{- \\'<|start_header_id|>assistant<|end_header_id|>\\\\n\\\\n\\' -}}\\n        {{- \\'{\"name\": \"\\' + tool_call.name + \\'\", \\' }}\\n        {{- \\'\"parameters\": \\' }}\\n        {{- tool_call.arguments | tojson }}\\n        {{- \"}\" }}\\n        {{- \"<|eot_id|>\" }}\\n    {%- elif message.role == \"tool\" or message.role == \"ipython\" %}\\n        {{- \"<|start_header_id|>ipython<|end_header_id|>\\\\n\\\\n\" }}\\n        {%- if message.content is mapping or message.content is iterable %}\\n            {{- message.content | tojson }}\\n        {%- else %}\\n            {{- message.content }}\\n        {%- endif %}\\n        {{- \"<|eot_id|>\" }}\\n    {%- endif %}\\n{%- endfor %}\\n{%- if add_generation_prompt %}\\n    {{- \\'<|start_header_id|>assistant<|end_header_id|>\\\\n\\\\n\\' }}\\n{%- endif %}\\n'"
      ]
     },
     "execution_count": 180,
     "metadata": {},
     "output_type": "execute_result"
    }
   ],
   "source": [
    "tokenizer.chat_template"
   ]
  },
  {
   "cell_type": "markdown",
   "metadata": {
    "id": "tujIPCLnxT0k"
   },
   "source": [
    "<font color = 'indianred'> **4. Create Prompts** </font>"
   ]
  },
  {
   "cell_type": "code",
   "execution_count": 181,
   "metadata": {
    "executionInfo": {
     "elapsed": 174,
     "status": "ok",
     "timestamp": 1733809396740,
     "user": {
      "displayName": "Praveen Satya R V",
      "userId": "07360123993237987960"
     },
     "user_tz": 360
    },
    "id": "ygJ-SZ24xv19"
   },
   "outputs": [],
   "source": [
    "def format_chat(example):\n",
    "    instruction = f\"Classify the TEXT by selecting all applicable labels from the following list: {class_names}.\\n\\nTEXT: {example['text']}\"\n",
    "    messages = [\n",
    "        {\"role\": \"user\", \"content\": instruction},\n",
    "        {\"role\": \"assistant\", \"content\": f\"{example['label']}\"}\n",
    "    ]\n",
    "    return {\"text\": tokenizer.apply_chat_template(messages, tokenize=False)}\n"
   ]
  },
  {
   "cell_type": "code",
   "execution_count": 182,
   "metadata": {
    "colab": {
     "base_uri": "https://localhost:8080/",
     "height": 81,
     "referenced_widgets": [
      "f1b7a4400ede42d58dfaff6ab53eb41a",
      "ab1026ca58e74ddf903018848153b0b8",
      "6a3155069d1a4d569860fa766eb7465f",
      "00115fd8f6b34be79e17a2b66413f3b4",
      "9ae5212bac514e45960fddbf304b8c64",
      "371a023f92d4461f8a63b7fbf8c4f3e9",
      "10e0243cdf2e40c78996dcf71d0d3455",
      "fe41b0e085da42228519a00b576715f7",
      "50ba4780e9d342658612001f548cba78",
      "69072b63ae1946aaa7d8dca1c5a6d14a",
      "de2254c253694fab9fcd9bb455b36087",
      "ea299870c3204fa581a4d78f2d52e3ec",
      "f58b68c70026441aaeb497bd98a8c7e5",
      "87d455a988964c4682b44ac2ad44b8d0",
      "6938401b927243a6bae4cf561d299d28",
      "b8f2adbec559457ea04bb22f533b08f7",
      "c1eb7a536e0a44fc88dc7139130eaf58",
      "970f405db7e44e769277f0b002e4bb40",
      "43a5deba70c54a7482ca4353a9eb5450",
      "ecfe9d4969554ab8b7bd1505b7bd37ab",
      "463e2a818203467e8096c043b9b0a776",
      "e38d052e7eac49dc9ef3170a7ac43f1d"
     ]
    },
    "executionInfo": {
     "elapsed": 3633,
     "status": "ok",
     "timestamp": 1733809403057,
     "user": {
      "displayName": "Praveen Satya R V",
      "userId": "07360123993237987960"
     },
     "user_tz": 360
    },
    "id": "Kwn2wwLExwno",
    "outputId": "8b62478c-a32f-4cf5-a1bf-ea8985883c20"
   },
   "outputs": [
    {
     "data": {
      "application/vnd.jupyter.widget-view+json": {
       "model_id": "f1b7a4400ede42d58dfaff6ab53eb41a",
       "version_major": 2,
       "version_minor": 0
      },
      "text/plain": [
       "Map:   0%|          | 0/1500 [00:00<?, ? examples/s]"
      ]
     },
     "metadata": {},
     "output_type": "display_data"
    },
    {
     "data": {
      "application/vnd.jupyter.widget-view+json": {
       "model_id": "ea299870c3204fa581a4d78f2d52e3ec",
       "version_major": 2,
       "version_minor": 0
      },
      "text/plain": [
       "Map:   0%|          | 0/1500 [00:00<?, ? examples/s]"
      ]
     },
     "metadata": {},
     "output_type": "display_data"
    }
   ],
   "source": [
    "train_val_subset_chat = train_val_subset.map(format_chat)"
   ]
  },
  {
   "cell_type": "code",
   "execution_count": 183,
   "metadata": {
    "colab": {
     "base_uri": "https://localhost:8080/"
    },
    "executionInfo": {
     "elapsed": 16,
     "status": "ok",
     "timestamp": 1733809403058,
     "user": {
      "displayName": "Praveen Satya R V",
      "userId": "07360123993237987960"
     },
     "user_tz": 360
    },
    "id": "tQdUR47BxzS7",
    "outputId": "9a526cae-e4e3-466b-c3a7-e38c27ba1126"
   },
   "outputs": [
    {
     "data": {
      "text/plain": [
       "DatasetDict({\n",
       "    train: Dataset({\n",
       "        features: ['text', 'label'],\n",
       "        num_rows: 1500\n",
       "    })\n",
       "    valid: Dataset({\n",
       "        features: ['text', 'label'],\n",
       "        num_rows: 1500\n",
       "    })\n",
       "})"
      ]
     },
     "execution_count": 183,
     "metadata": {},
     "output_type": "execute_result"
    }
   ],
   "source": [
    "train_val_subset_chat"
   ]
  },
  {
   "cell_type": "code",
   "execution_count": 184,
   "metadata": {
    "colab": {
     "base_uri": "https://localhost:8080/"
    },
    "executionInfo": {
     "elapsed": 228,
     "status": "ok",
     "timestamp": 1733809406585,
     "user": {
      "displayName": "Praveen Satya R V",
      "userId": "07360123993237987960"
     },
     "user_tz": 360
    },
    "id": "ARJK5cvvx2JN",
    "outputId": "be00121f-c875-42c7-9fb9-a2f018968723"
   },
   "outputs": [
    {
     "data": {
      "text/plain": [
       "{'text': \"<|begin_of_text|><|start_header_id|>system<|end_header_id|>\\n\\nCutting Knowledge Date: December 2023\\nToday Date: 10 Dec 2024\\n\\n<|eot_id|><|start_header_id|>user<|end_header_id|>\\n\\nClassify the TEXT by selecting all applicable labels from the following list: ['anger', 'anticipation', 'disgust', 'fear', 'joy', 'love', 'optimism', 'pessimism', 'sadness', 'surprise', 'trust'].\\n\\nTEXT: Dear future big brother players, just chase dick all season and you too can win 500,00 dollars and an Sti #bb18<|eot_id|><|start_header_id|>assistant<|end_header_id|>\\n\\n['anger', 'joy', 'optimism']<|eot_id|>\",\n",
       " 'label': \"['anger', 'joy', 'optimism']\"}"
      ]
     },
     "execution_count": 184,
     "metadata": {},
     "output_type": "execute_result"
    }
   ],
   "source": [
    "train_val_subset_chat['train'][0]"
   ]
  },
  {
   "cell_type": "markdown",
   "metadata": {
    "id": "mh-qsOkDyBRs"
   },
   "source": [
    "<font color = 'indianred'> **5. Filter Longer Sequences** </font>"
   ]
  },
  {
   "cell_type": "code",
   "execution_count": 185,
   "metadata": {
    "colab": {
     "base_uri": "https://localhost:8080/",
     "height": 116,
     "referenced_widgets": [
      "fd317bd33a85490f88daf776bbd8c4aa",
      "6a55e4f4f4d3455c82db9f9241b14359",
      "44847d6cb73e4b2d97a3bd02ed4f24ca",
      "7dcc0a92e75c49a38d899cda29058c4d",
      "bf50d2889cec4ba38e57df4a37d55071",
      "fe478884973042cb886ef5c508eacab9",
      "cb55859c2702485b9d426c5a0f566242",
      "246d925767ce4809b6ea9c2d384726fb",
      "a2d89b70143a4309ae9803d8c91361b7",
      "46bbf3097b0b4937968b3e9f9f0da38b",
      "3b2796c3f7f64708a6a804f3c4ad96b8",
      "9e10fcb877b34daa8252d45ec04427ef",
      "e9b6f931f7214390a1a7bddd5fc553c4",
      "789c6f2206ba41fdbb7f2af612a32e71",
      "362661d6a943421892d57a94769f982d",
      "cefa709eb004426781580f157568a3ed",
      "62c6d51a123747858745dd6f32e6b14c",
      "e6575d0704614593b8ca5d23edc3340c",
      "2de4f47874a24e18a312e80600b7205a",
      "bc2c575f5cd243a88b910ec3dfd91301",
      "d6fd9655417246438c25e7ccb013e0c6",
      "286018ff98e54d2da38cef5f9a930107"
     ]
    },
    "executionInfo": {
     "elapsed": 1817,
     "status": "ok",
     "timestamp": 1733809434284,
     "user": {
      "displayName": "Praveen Satya R V",
      "userId": "07360123993237987960"
     },
     "user_tz": 360
    },
    "id": "3Q_pSFdLx-Se",
    "outputId": "8b11664a-33ec-41de-c28f-f44d7ba53169"
   },
   "outputs": [
    {
     "data": {
      "application/vnd.jupyter.widget-view+json": {
       "model_id": "fd317bd33a85490f88daf776bbd8c4aa",
       "version_major": 2,
       "version_minor": 0
      },
      "text/plain": [
       "Filter:   0%|          | 0/1500 [00:00<?, ? examples/s]"
      ]
     },
     "metadata": {},
     "output_type": "display_data"
    },
    {
     "data": {
      "application/vnd.jupyter.widget-view+json": {
       "model_id": "9e10fcb877b34daa8252d45ec04427ef",
       "version_major": 2,
       "version_minor": 0
      },
      "text/plain": [
       "Filter:   0%|          | 0/1500 [00:00<?, ? examples/s]"
      ]
     },
     "metadata": {},
     "output_type": "display_data"
    },
    {
     "name": "stdout",
     "output_type": "stream",
     "text": [
      "Train: 1500 -> 1500\n",
      "Valid: 1500 -> 1500\n"
     ]
    }
   ],
   "source": [
    "def check_length(example):\n",
    "   encoding = tokenizer.encode(example['text'])\n",
    "   return len(encoding) <= 1000\n",
    "\n",
    "train_filtered = train_val_subset_chat['train'].filter(check_length)\n",
    "valid_filtered = train_val_subset_chat['valid'].filter(check_length)\n",
    "\n",
    "print(f\"Train: {len(train_val_subset_chat['train'])} -> {len(train_filtered)}\")\n",
    "print(f\"Valid: {len(train_val_subset_chat['valid'])} -> {len(valid_filtered)}\")"
   ]
  },
  {
   "cell_type": "markdown",
   "metadata": {
    "id": "l_bZfN24yQ-p"
   },
   "source": [
    "<font color = 'indianred'> **6. Model Training** </font>"
   ]
  },
  {
   "cell_type": "code",
   "execution_count": 186,
   "metadata": {
    "executionInfo": {
     "elapsed": 207,
     "status": "ok",
     "timestamp": 1733809441899,
     "user": {
      "displayName": "Praveen Satya R V",
      "userId": "07360123993237987960"
     },
     "user_tz": 360
    },
    "id": "dH7SmBsjyP7_"
   },
   "outputs": [],
   "source": [
    "def get_appropriate_dtype():\n",
    "    if torch.cuda.is_available() and torch.cuda.get_device_capability(0) >= (8, 0):\n",
    "        return torch.bfloat16\n",
    "    return torch.float16"
   ]
  },
  {
   "cell_type": "code",
   "execution_count": 187,
   "metadata": {
    "colab": {
     "base_uri": "https://localhost:8080/"
    },
    "executionInfo": {
     "elapsed": 237,
     "status": "ok",
     "timestamp": 1733809442856,
     "user": {
      "displayName": "Praveen Satya R V",
      "userId": "07360123993237987960"
     },
     "user_tz": 360
    },
    "id": "cQXkuaF3ydWp",
    "outputId": "f666e2d9-e4f5-4209-b50e-245a23a7da10"
   },
   "outputs": [
    {
     "data": {
      "text/plain": [
       "torch.float16"
      ]
     },
     "execution_count": 187,
     "metadata": {},
     "output_type": "execute_result"
    }
   ],
   "source": [
    "torch_data_type = get_appropriate_dtype()\n",
    "torch_data_type"
   ]
  },
  {
   "cell_type": "code",
   "execution_count": 188,
   "metadata": {
    "executionInfo": {
     "elapsed": 209,
     "status": "ok",
     "timestamp": 1733809445418,
     "user": {
      "displayName": "Praveen Satya R V",
      "userId": "07360123993237987960"
     },
     "user_tz": 360
    },
    "id": "bubbUDzyyeDJ"
   },
   "outputs": [],
   "source": [
    "bnb_config = BitsAndBytesConfig(\n",
    "  load_in_4bit=True,\n",
    "  bnb_4bit_quant_type=\"nf4\",\n",
    "  bnb_4bit_use_double_quant=True,\n",
    "  bnb_4bit_compute_dtype=torch_data_type,\n",
    "  bnb_4bit_quant_storage=torch_data_type,\n",
    ")"
   ]
  },
  {
   "cell_type": "code",
   "execution_count": 189,
   "metadata": {
    "colab": {
     "base_uri": "https://localhost:8080/"
    },
    "executionInfo": {
     "elapsed": 5952,
     "status": "ok",
     "timestamp": 1733809457561,
     "user": {
      "displayName": "Praveen Satya R V",
      "userId": "07360123993237987960"
     },
     "user_tz": 360
    },
    "id": "UbT6jofRyi6o",
    "outputId": "04983c67-f9aa-42ab-8fe8-7b4fb0c9fc9c"
   },
   "outputs": [
    {
     "name": "stderr",
     "output_type": "stream",
     "text": [
      "`low_cpu_mem_usage` was None, now default to True since model is quantized.\n"
     ]
    }
   ],
   "source": [
    "model = AutoModelForCausalLM.from_pretrained(checkpoint,\n",
    "                                             quantization_config=bnb_config,\n",
    "                                             torch_dtype=torch_data_type,\n",
    "                                             trust_remote_code=True,)\n"
   ]
  },
  {
   "cell_type": "markdown",
   "metadata": {
    "id": "KELE-gr_yozK"
   },
   "source": [
    "<font color = 'indianred'> **6.1 PEFT Setup** </font>"
   ]
  },
  {
   "cell_type": "code",
   "execution_count": 190,
   "metadata": {
    "colab": {
     "base_uri": "https://localhost:8080/"
    },
    "executionInfo": {
     "elapsed": 179,
     "status": "ok",
     "timestamp": 1733809460078,
     "user": {
      "displayName": "Praveen Satya R V",
      "userId": "07360123993237987960"
     },
     "user_tz": 360
    },
    "id": "fjLr-zSKyl6w",
    "outputId": "f5db5f8f-4167-4e49-e668-ffacc56a0d2f"
   },
   "outputs": [
    {
     "data": {
      "text/plain": [
       "LlamaForCausalLM(\n",
       "  (model): LlamaModel(\n",
       "    (embed_tokens): Embedding(128256, 2048)\n",
       "    (layers): ModuleList(\n",
       "      (0-15): 16 x LlamaDecoderLayer(\n",
       "        (self_attn): LlamaSdpaAttention(\n",
       "          (q_proj): Linear4bit(in_features=2048, out_features=2048, bias=False)\n",
       "          (k_proj): Linear4bit(in_features=2048, out_features=512, bias=False)\n",
       "          (v_proj): Linear4bit(in_features=2048, out_features=512, bias=False)\n",
       "          (o_proj): Linear4bit(in_features=2048, out_features=2048, bias=False)\n",
       "          (rotary_emb): LlamaRotaryEmbedding()\n",
       "        )\n",
       "        (mlp): LlamaMLP(\n",
       "          (gate_proj): Linear4bit(in_features=2048, out_features=8192, bias=False)\n",
       "          (up_proj): Linear4bit(in_features=2048, out_features=8192, bias=False)\n",
       "          (down_proj): Linear4bit(in_features=8192, out_features=2048, bias=False)\n",
       "          (act_fn): SiLU()\n",
       "        )\n",
       "        (input_layernorm): LlamaRMSNorm((2048,), eps=1e-05)\n",
       "        (post_attention_layernorm): LlamaRMSNorm((2048,), eps=1e-05)\n",
       "      )\n",
       "    )\n",
       "    (norm): LlamaRMSNorm((2048,), eps=1e-05)\n",
       "    (rotary_emb): LlamaRotaryEmbedding()\n",
       "  )\n",
       "  (lm_head): Linear(in_features=2048, out_features=128256, bias=False)\n",
       ")"
      ]
     },
     "execution_count": 190,
     "metadata": {},
     "output_type": "execute_result"
    }
   ],
   "source": [
    "model"
   ]
  },
  {
   "cell_type": "code",
   "execution_count": 191,
   "metadata": {
    "executionInfo": {
     "elapsed": 144,
     "status": "ok",
     "timestamp": 1733809472377,
     "user": {
      "displayName": "Praveen Satya R V",
      "userId": "07360123993237987960"
     },
     "user_tz": 360
    },
    "id": "Wcujbe7py5SM"
   },
   "outputs": [],
   "source": [
    "def find_linear_layers(model):\n",
    "    \"\"\"\n",
    "    Extracts the unique names of Linear layers from a model.\n",
    "\n",
    "    Args:\n",
    "    model (nn.Module): The model from which to extract Linear layer names.\n",
    "\n",
    "    Returns:\n",
    "    list: A list of unique names of Linear layers.\n",
    "    \"\"\"\n",
    "    # Convert the model's modules to string\n",
    "    model_modules = str(model.modules)\n",
    "    # Pattern to extract names of Linear layers\n",
    "    pattern = r'\\((\\w+)\\): Linear'\n",
    "    # Find all occurrences of the pattern\n",
    "    linear_layer_names = re.findall(pattern, model_modules)\n",
    "    print(linear_layer_names)\n",
    "    # Get unique names using a set, then convert back to list\n",
    "    target_modules = list(set(linear_layer_names))\n",
    "    return target_modules"
   ]
  },
  {
   "cell_type": "code",
   "execution_count": 192,
   "metadata": {
    "colab": {
     "base_uri": "https://localhost:8080/"
    },
    "executionInfo": {
     "elapsed": 286,
     "status": "ok",
     "timestamp": 1733809474298,
     "user": {
      "displayName": "Praveen Satya R V",
      "userId": "07360123993237987960"
     },
     "user_tz": 360
    },
    "id": "EKL7G8gcy8_u",
    "outputId": "b3e84efe-6120-4d79-ca8d-a0e147dc2340"
   },
   "outputs": [
    {
     "name": "stdout",
     "output_type": "stream",
     "text": [
      "['q_proj', 'k_proj', 'v_proj', 'o_proj', 'gate_proj', 'up_proj', 'down_proj', 'lm_head']\n"
     ]
    },
    {
     "data": {
      "text/plain": [
       "['lm_head',\n",
       " 'k_proj',\n",
       " 'up_proj',\n",
       " 'q_proj',\n",
       " 'gate_proj',\n",
       " 'o_proj',\n",
       " 'down_proj',\n",
       " 'v_proj']"
      ]
     },
     "execution_count": 192,
     "metadata": {},
     "output_type": "execute_result"
    }
   ],
   "source": [
    "find_linear_layers(model)"
   ]
  },
  {
   "cell_type": "code",
   "execution_count": 193,
   "metadata": {
    "colab": {
     "base_uri": "https://localhost:8080/",
     "height": 34
    },
    "executionInfo": {
     "elapsed": 39,
     "status": "ok",
     "timestamp": 1733809475189,
     "user": {
      "displayName": "Praveen Satya R V",
      "userId": "07360123993237987960"
     },
     "user_tz": 360
    },
    "id": "EAfHPY9_y_HA",
    "outputId": "3896dc05-6c93-4e45-b2bb-75e993c7007c"
   },
   "outputs": [
    {
     "data": {
      "application/vnd.google.colaboratory.intrinsic+json": {
       "type": "string"
      },
      "text/plain": [
       "<TaskType.CAUSAL_LM: 'CAUSAL_LM'>"
      ]
     },
     "execution_count": 193,
     "metadata": {},
     "output_type": "execute_result"
    }
   ],
   "source": [
    "TaskType.CAUSAL_LM"
   ]
  },
  {
   "cell_type": "code",
   "execution_count": 194,
   "metadata": {
    "colab": {
     "base_uri": "https://localhost:8080/"
    },
    "executionInfo": {
     "elapsed": 876,
     "status": "ok",
     "timestamp": 1733809476604,
     "user": {
      "displayName": "Praveen Satya R V",
      "userId": "07360123993237987960"
     },
     "user_tz": 360
    },
    "id": "9hx5sIW0zCs9",
    "outputId": "14b3b1d2-7185-4bce-9b6d-496de3afb090"
   },
   "outputs": [
    {
     "name": "stdout",
     "output_type": "stream",
     "text": [
      "trainable params: 90,177,536 || all params: 1,325,991,936 || trainable%: 6.8008\n"
     ]
    }
   ],
   "source": [
    "peft_config = LoraConfig(\n",
    "    task_type=TaskType.CAUSAL_LM,\n",
    "    r=128,\n",
    "    lora_alpha=256,\n",
    "    lora_dropout=0.01,\n",
    "    target_modules = ['v_proj',  'q_proj',  'up_proj', 'o_proj', 'down_proj', 'gate_proj','k_proj'])\n",
    "\n",
    "lora_model = get_peft_model(model, peft_config )\n",
    "lora_model.print_trainable_parameters()"
   ]
  },
  {
   "cell_type": "markdown",
   "metadata": {
    "id": "48nMeYWTzIk8"
   },
   "source": [
    "<font color = 'indianred'> **6.2 Training Arguments** </font>"
   ]
  },
  {
   "cell_type": "code",
   "execution_count": 195,
   "metadata": {
    "executionInfo": {
     "elapsed": 209,
     "status": "ok",
     "timestamp": 1733809479062,
     "user": {
      "displayName": "Praveen Satya R V",
      "userId": "07360123993237987960"
     },
     "user_tz": 360
    },
    "id": "npTZ8RaIzEvj"
   },
   "outputs": [],
   "source": [
    "# Define the directory where model checkpoints will be saved\n",
    "model_folder = base_folder/'models/llama_qlora_lmh_inst'\n",
    "# model_folder = Path('/content/results')\n",
    "\n",
    "# Create the directory if it doesn't exist\n",
    "model_folder.mkdir(exist_ok=True, parents=True)\n",
    "run_name= 'emo_lmh_gemma_inst'\n",
    "\n",
    "use_fp16 = torch_data_type == torch.float16\n",
    "use_bf16 = torch_data_type == torch.bfloat16\n",
    "\n",
    "# Configure training parameters\n",
    "training_args = SFTConfig(\n",
    "    max_seq_length= 1024,\n",
    "    seed = 42,\n",
    "    dataset_text_field=\"text\",\n",
    "\n",
    "    # Training-specific configurations\n",
    "    num_train_epochs=2,  # Total number of training epochs\n",
    "    # Number of samples per training batch for each device\n",
    "    per_device_train_batch_size=4,\n",
    "    # Number of samples per evaluation batch for each device\n",
    "    per_device_eval_batch_size=4,\n",
    "    gradient_accumulation_steps=8,\n",
    "    gradient_checkpointing=True,\n",
    "    gradient_checkpointing_kwargs={\"use_reentrant\":False},\n",
    "    # torch_empty_cache_steps=5,\n",
    "    weight_decay=0.0,  # Apply L2 regularization to prevent overfitting\n",
    "    learning_rate=1e-5,  # Step size for the optimizer during training\n",
    "    optim='adamw_torch',  # Optimizer,\n",
    "\n",
    "    # Checkpoint saving and model evaluation settings\n",
    "    output_dir=str(model_folder),  # Directory to save model checkpoints\n",
    "    eval_strategy='steps',  # Evaluate model at specified step intervals\n",
    "    eval_steps=20,  # Perform evaluation every 10 training steps\n",
    "    save_strategy=\"steps\",  # Save model checkpoint at specified step intervals\n",
    "    save_steps=20,  # Save a model checkpoint every 10 training steps\n",
    "    load_best_model_at_end=True,  # Reload the best model at the end of training\n",
    "    save_total_limit=2,  # Retain only the best and the most recent model checkpoints\n",
    "    # Use 'accuracy' as the metric to determine the best model\n",
    "    metric_for_best_model=\"eval_loss\",\n",
    "    greater_is_better=False,  # A model is 'better' if its accuracy is higher\n",
    "\n",
    "\n",
    "    # Experiment logging configurations (commented out in this example)\n",
    "    logging_strategy='steps',\n",
    "    logging_steps=20,\n",
    "    report_to='wandb',  # Log metrics and results to Weights & Biases platform\n",
    "    run_name= run_name,  # Experiment name for Weights & Biases\n",
    "\n",
    "    # Precision settings determined based on GPU capability\n",
    "    fp16=use_fp16 ,  # Set True if torch_data_type is torch.float16\n",
    "    bf16=use_bf16,  # Set True if torch_data_type is torch.bfloat16\n",
    "    tf32=False,  # Disable tf32 unless you want to use Ampere specific optimization\n",
    ")\n"
   ]
  },
  {
   "cell_type": "code",
   "execution_count": 196,
   "metadata": {
    "colab": {
     "base_uri": "https://localhost:8080/"
    },
    "executionInfo": {
     "elapsed": 190,
     "status": "ok",
     "timestamp": 1733809493204,
     "user": {
      "displayName": "Praveen Satya R V",
      "userId": "07360123993237987960"
     },
     "user_tz": 360
    },
    "id": "UzuR8taIzc6m",
    "outputId": "e5002cc5-7570-4af2-bf5d-8c4afdf531fd"
   },
   "outputs": [
    {
     "data": {
      "text/plain": [
       "LlamaConfig {\n",
       "  \"_attn_implementation_autoset\": true,\n",
       "  \"_name_or_path\": \"meta-llama/Llama-3.2-1B-Instruct\",\n",
       "  \"architectures\": [\n",
       "    \"LlamaForCausalLM\"\n",
       "  ],\n",
       "  \"attention_bias\": false,\n",
       "  \"attention_dropout\": 0.0,\n",
       "  \"bos_token_id\": 128000,\n",
       "  \"eos_token_id\": [\n",
       "    128001,\n",
       "    128008,\n",
       "    128009\n",
       "  ],\n",
       "  \"head_dim\": 64,\n",
       "  \"hidden_act\": \"silu\",\n",
       "  \"hidden_size\": 2048,\n",
       "  \"initializer_range\": 0.02,\n",
       "  \"intermediate_size\": 8192,\n",
       "  \"max_position_embeddings\": 131072,\n",
       "  \"mlp_bias\": false,\n",
       "  \"model_type\": \"llama\",\n",
       "  \"num_attention_heads\": 32,\n",
       "  \"num_hidden_layers\": 16,\n",
       "  \"num_key_value_heads\": 8,\n",
       "  \"pretraining_tp\": 1,\n",
       "  \"quantization_config\": {\n",
       "    \"_load_in_4bit\": true,\n",
       "    \"_load_in_8bit\": false,\n",
       "    \"bnb_4bit_compute_dtype\": \"float16\",\n",
       "    \"bnb_4bit_quant_storage\": \"float16\",\n",
       "    \"bnb_4bit_quant_type\": \"nf4\",\n",
       "    \"bnb_4bit_use_double_quant\": true,\n",
       "    \"llm_int8_enable_fp32_cpu_offload\": false,\n",
       "    \"llm_int8_has_fp16_weight\": false,\n",
       "    \"llm_int8_skip_modules\": null,\n",
       "    \"llm_int8_threshold\": 6.0,\n",
       "    \"load_in_4bit\": true,\n",
       "    \"load_in_8bit\": false,\n",
       "    \"quant_method\": \"bitsandbytes\"\n",
       "  },\n",
       "  \"rms_norm_eps\": 1e-05,\n",
       "  \"rope_scaling\": {\n",
       "    \"factor\": 32.0,\n",
       "    \"high_freq_factor\": 4.0,\n",
       "    \"low_freq_factor\": 1.0,\n",
       "    \"original_max_position_embeddings\": 8192,\n",
       "    \"rope_type\": \"llama3\"\n",
       "  },\n",
       "  \"rope_theta\": 500000.0,\n",
       "  \"tie_word_embeddings\": true,\n",
       "  \"torch_dtype\": \"float16\",\n",
       "  \"transformers_version\": \"4.46.3\",\n",
       "  \"use_cache\": false,\n",
       "  \"vocab_size\": 128256\n",
       "}"
      ]
     },
     "execution_count": 196,
     "metadata": {},
     "output_type": "execute_result"
    }
   ],
   "source": [
    "# If gradient checkpointing is enabled, configure relevant settings\n",
    "if training_args.gradient_checkpointing:\n",
    "    model.config.use_cache = False  # Disable caching for compatibility\n",
    "\n",
    "model.config"
   ]
  },
  {
   "cell_type": "markdown",
   "metadata": {
    "id": "Sl_dM9cPzpJK"
   },
   "source": [
    "<font color = 'indianred'> **6.3 Initialize Trainer** </font>"
   ]
  },
  {
   "cell_type": "code",
   "execution_count": 197,
   "metadata": {
    "colab": {
     "base_uri": "https://localhost:8080/",
     "height": 81,
     "referenced_widgets": [
      "5e04f43930d34a3799605d47660c73fe",
      "525e3c8e8fe044cea0f6977b0094e0d8",
      "06316d15d5f1488f8c192d76cfbbfca2",
      "ea4dc1e085914ae5a5c3128e12d0c1d3",
      "4dee641771bb4df9b842cc98b4fe363e",
      "170e540d2daa403fb9995b6bc1771fc9",
      "575ac84764714294902099defe4f9871",
      "de1b442c65a746c1a92f275cd40fc581",
      "a3650493559d49b89f1b6af02ebdd73f",
      "7148d509d9fa4b6cb5855b9ded042db3",
      "2333a3e06b1647acb3e4d0833e4b9454",
      "87bfe030eb0e4a34aa3939ff6ce92d32",
      "2d1b8824270547e6ad50b61c2df4afce",
      "dd4b28aaa60342558b36ea96f504e275",
      "f8ecc58cf281433b82bc73cdd9eeb85b",
      "e7f5e7fae49e488c9f449ea9d0697545",
      "081b51fa0a7148ba803c97445fe2dd31",
      "181576389fb94d9688bac78ab284ec00",
      "90364bf157b840cfbf644d4f5d2aa5bb",
      "1d1a37d471ce42b993774476e7c65514",
      "87f70feea748450ba746033a3a6f1a17",
      "1ceec6dd57df4b46bb57ea7f14ec225e"
     ]
    },
    "executionInfo": {
     "elapsed": 2917,
     "status": "ok",
     "timestamp": 1733809500275,
     "user": {
      "displayName": "Praveen Satya R V",
      "userId": "07360123993237987960"
     },
     "user_tz": 360
    },
    "id": "hzhd4YIWzmRK",
    "outputId": "f188a9c3-820e-47b8-871a-a032aafce9b8"
   },
   "outputs": [
    {
     "data": {
      "application/vnd.jupyter.widget-view+json": {
       "model_id": "5e04f43930d34a3799605d47660c73fe",
       "version_major": 2,
       "version_minor": 0
      },
      "text/plain": [
       "Map:   0%|          | 0/1500 [00:00<?, ? examples/s]"
      ]
     },
     "metadata": {},
     "output_type": "display_data"
    },
    {
     "data": {
      "application/vnd.jupyter.widget-view+json": {
       "model_id": "87bfe030eb0e4a34aa3939ff6ce92d32",
       "version_major": 2,
       "version_minor": 0
      },
      "text/plain": [
       "Map:   0%|          | 0/1500 [00:00<?, ? examples/s]"
      ]
     },
     "metadata": {},
     "output_type": "display_data"
    }
   ],
   "source": [
    "data_collator_comp = DataCollatorForCompletionOnlyLM(tokenizer=tokenizer, mlm=False,\n",
    "                                                      response_template=\"assistant<|end_header_id|>\")\n",
    "trainer = SFTTrainer(\n",
    "    model=model,\n",
    "    args=training_args,\n",
    "    train_dataset=train_filtered,\n",
    "    eval_dataset=valid_filtered,\n",
    "\n",
    "    peft_config=peft_config,\n",
    "    packing=False,\n",
    "    data_collator=data_collator_comp,\n",
    "\n",
    ")"
   ]
  },
  {
   "cell_type": "markdown",
   "metadata": {
    "id": "bt3rHs5b0KcS"
   },
   "source": [
    "<font color = 'indianred'> **6.4 Setup Wandb** </font>"
   ]
  },
  {
   "cell_type": "code",
   "execution_count": 198,
   "metadata": {
    "colab": {
     "base_uri": "https://localhost:8080/"
    },
    "executionInfo": {
     "elapsed": 240,
     "status": "ok",
     "timestamp": 1733809504189,
     "user": {
      "displayName": "Praveen Satya R V",
      "userId": "07360123993237987960"
     },
     "user_tz": 360
    },
    "id": "IX83P15N0G-U",
    "outputId": "b8635d82-f9c2-4f5a-e79e-d715f92e6e63"
   },
   "outputs": [
    {
     "name": "stdout",
     "output_type": "stream",
     "text": [
      "env: WANDB_PROJECT=emotion_llama_inst\n"
     ]
    }
   ],
   "source": [
    "%env WANDB_PROJECT = emotion_llama_inst"
   ]
  },
  {
   "cell_type": "markdown",
   "metadata": {
    "id": "q2Hktxpb0-mm"
   },
   "source": [
    "<font color = 'indianred'> **6.5 Training** </font>"
   ]
  },
  {
   "cell_type": "code",
   "execution_count": 199,
   "metadata": {
    "colab": {
     "base_uri": "https://localhost:8080/",
     "height": 201
    },
    "executionInfo": {
     "elapsed": 831111,
     "status": "ok",
     "timestamp": 1733810341148,
     "user": {
      "displayName": "Praveen Satya R V",
      "userId": "07360123993237987960"
     },
     "user_tz": 360
    },
    "id": "WqMIvD8Z0zwH",
    "outputId": "967ce967-ffe7-4aa4-94d9-b3013a969806"
   },
   "outputs": [
    {
     "data": {
      "text/html": [
       "\n",
       "    <div>\n",
       "      \n",
       "      <progress value='92' max='92' style='width:300px; height:20px; vertical-align: middle;'></progress>\n",
       "      [92/92 13:45, Epoch 1/2]\n",
       "    </div>\n",
       "    <table border=\"1\" class=\"dataframe\">\n",
       "  <thead>\n",
       " <tr style=\"text-align: left;\">\n",
       "      <th>Step</th>\n",
       "      <th>Training Loss</th>\n",
       "      <th>Validation Loss</th>\n",
       "    </tr>\n",
       "  </thead>\n",
       "  <tbody>\n",
       "    <tr>\n",
       "      <td>20</td>\n",
       "      <td>0.485300</td>\n",
       "      <td>0.354163</td>\n",
       "    </tr>\n",
       "    <tr>\n",
       "      <td>40</td>\n",
       "      <td>0.333400</td>\n",
       "      <td>0.336243</td>\n",
       "    </tr>\n",
       "    <tr>\n",
       "      <td>60</td>\n",
       "      <td>0.316800</td>\n",
       "      <td>0.327738</td>\n",
       "    </tr>\n",
       "    <tr>\n",
       "      <td>80</td>\n",
       "      <td>0.304200</td>\n",
       "      <td>0.320920</td>\n",
       "    </tr>\n",
       "  </tbody>\n",
       "</table><p>"
      ],
      "text/plain": [
       "<IPython.core.display.HTML object>"
      ]
     },
     "metadata": {},
     "output_type": "display_data"
    }
   ],
   "source": [
    "try:\n",
    "    # Your code that may cause a CUDA out-of-memory error\n",
    "    # Example: trainer.train() or other GPU intensive operations\n",
    "    # lora_model.config.use_cache = False\n",
    "    trainer.train()\n",
    "except RuntimeError as e:\n",
    "    if 'CUDA out of memory' in str(e):\n",
    "        print(\"CUDA out of memory error detected. Freeing GPU memory.\")\n",
    "        free_gpu_memory()\n",
    "        # Optionally, you can retry the operation here after freeing up memory\n",
    "        # Example retry:\n",
    "        # trainer.train()\n",
    "    else:\n",
    "        raise e\n"
   ]
  },
  {
   "cell_type": "code",
   "execution_count": 200,
   "metadata": {
    "executionInfo": {
     "elapsed": 154,
     "status": "ok",
     "timestamp": 1733810514271,
     "user": {
      "displayName": "Praveen Satya R V",
      "userId": "07360123993237987960"
     },
     "user_tz": 360
    },
    "id": "e0LBJSt74BKv"
   },
   "outputs": [],
   "source": [
    "best_model_checkpoint_step = trainer.state.best_model_checkpoint.split('-')[-1]"
   ]
  },
  {
   "cell_type": "code",
   "execution_count": 201,
   "metadata": {
    "colab": {
     "base_uri": "https://localhost:8080/",
     "height": 36
    },
    "executionInfo": {
     "elapsed": 35,
     "status": "ok",
     "timestamp": 1733810514855,
     "user": {
      "displayName": "Praveen Satya R V",
      "userId": "07360123993237987960"
     },
     "user_tz": 360
    },
    "id": "nkJqO_ID4E6t",
    "outputId": "b296b904-9556-4f6e-dd8f-ec79fcb56d39"
   },
   "outputs": [
    {
     "data": {
      "application/vnd.google.colaboratory.intrinsic+json": {
       "type": "string"
      },
      "text/plain": [
       "'80'"
      ]
     },
     "execution_count": 201,
     "metadata": {},
     "output_type": "execute_result"
    }
   ],
   "source": [
    "best_model_checkpoint_step"
   ]
  },
  {
   "cell_type": "markdown",
   "metadata": {
    "id": "5LuNgxD_4f5P"
   },
   "source": [
    "<font color = 'indianred'> **6.6 Validation** </font>"
   ]
  },
  {
   "cell_type": "code",
   "execution_count": 202,
   "metadata": {
    "colab": {
     "base_uri": "https://localhost:8080/",
     "height": 36
    },
    "executionInfo": {
     "elapsed": 288,
     "status": "ok",
     "timestamp": 1733810521279,
     "user": {
      "displayName": "Praveen Satya R V",
      "userId": "07360123993237987960"
     },
     "user_tz": 360
    },
    "id": "dJ3MniKI4fBS",
    "outputId": "e6d23f66-489b-4ba2-bde4-661dc81d6b4b"
   },
   "outputs": [
    {
     "data": {
      "application/vnd.google.colaboratory.intrinsic+json": {
       "type": "string"
      },
      "text/plain": [
       "'/content/drive/MyDrive/data/models/llama_qlora_lmh_inst/checkpoint-80'"
      ]
     },
     "execution_count": 202,
     "metadata": {},
     "output_type": "execute_result"
    }
   ],
   "source": [
    "# model_folder = base_folder/'models/llama_qlora_lmh_inst'\n",
    "best_model_checkpoint_step =80\n",
    "checkpoint = str(model_folder/f'checkpoint-{best_model_checkpoint_step}')\n",
    "checkpoint\n"
   ]
  },
  {
   "cell_type": "code",
   "execution_count": 203,
   "metadata": {
    "colab": {
     "base_uri": "https://localhost:8080/"
    },
    "executionInfo": {
     "elapsed": 12358,
     "status": "ok",
     "timestamp": 1733810535634,
     "user": {
      "displayName": "Praveen Satya R V",
      "userId": "07360123993237987960"
     },
     "user_tz": 360
    },
    "id": "NB5iVKJc46qd",
    "outputId": "bf4c4d77-98e3-4361-cf73-0cca9f39d994"
   },
   "outputs": [
    {
     "name": "stdout",
     "output_type": "stream",
     "text": [
      "GPU memory has been freed.\n"
     ]
    }
   ],
   "source": [
    "free_gpu_memory()\n",
    "model = AutoPeftModelForCausalLM.from_pretrained(checkpoint,\n",
    "                                             quantization_config=bnb_config,\n",
    "                                             torch_dtype=torch_data_type,\n",
    "                                             trust_remote_code=True,\n",
    "                                             device_map='auto')\n",
    "model.device\n",
    "peft_config = PeftConfig.from_pretrained(checkpoint)\n",
    "base_model_name = peft_config.base_model_name_or_path\n",
    "tokenizer = AutoTokenizer.from_pretrained(base_model_name)\n",
    "tokenizer.pad_token = '<|finetune_right_pad_id|>'\n",
    "tokenizer.padding_side = 'left'"
   ]
  },
  {
   "cell_type": "code",
   "execution_count": 204,
   "metadata": {
    "executionInfo": {
     "elapsed": 56,
     "status": "ok",
     "timestamp": 1733810535637,
     "user": {
      "displayName": "Praveen Satya R V",
      "userId": "07360123993237987960"
     },
     "user_tz": 360
    },
    "id": "4nDI7fAQ480O"
   },
   "outputs": [],
   "source": [
    "def format_chat_inference(example):\n",
    "    instruction = f\"Classify the TEXT by selecting all applicable labels from the following list: {class_names}.\\n\\nTEXT: {example['text']}\"\n",
    "    messages = [\n",
    "        {\"role\": \"user\", \"content\": instruction},\n",
    "    ]\n",
    "    text = tokenizer.apply_chat_template(messages, tokenize=False, add_generation_prompt=True)\n",
    "    return {\"text\": text}"
   ]
  },
  {
   "cell_type": "code",
   "execution_count": 205,
   "metadata": {
    "colab": {
     "base_uri": "https://localhost:8080/",
     "height": 49,
     "referenced_widgets": [
      "bbbaebb750bd45b98a017f8fe50962c9",
      "786dc610247b468cbd4ea26c49f78cb2",
      "6cd95b7d33ff403081c9dc7cbf119869",
      "deca9eddfc7e437a9b43f3ee1125a12a",
      "020067a2581143178d003408dc406db4",
      "76e402e36bab4e3093c116c7efeca0e7",
      "3d0995cfe28d477fa50ef92c62dfdf2e",
      "bec6d36fb3e0467ba7a9da4105d61dc8",
      "1c0d7825401e4e1e9c76a620cb9f5bdc",
      "3302578aec7a481fb0419842264a9166",
      "7505c44df3ed4ed28cef0054d2ea7f2d"
     ]
    },
    "executionInfo": {
     "elapsed": 278,
     "status": "ok",
     "timestamp": 1733810535867,
     "user": {
      "displayName": "Praveen Satya R V",
      "userId": "07360123993237987960"
     },
     "user_tz": 360
    },
    "id": "GG2SROfO4_So",
    "outputId": "b396fcc7-0f92-49eb-f02d-ecff5051eab9"
   },
   "outputs": [
    {
     "data": {
      "application/vnd.jupyter.widget-view+json": {
       "model_id": "bbbaebb750bd45b98a017f8fe50962c9",
       "version_major": 2,
       "version_minor": 0
      },
      "text/plain": [
       "Map:   0%|          | 0/1500 [00:00<?, ? examples/s]"
      ]
     },
     "metadata": {},
     "output_type": "display_data"
    }
   ],
   "source": [
    "valid_subset= train_val_subset['valid'].map(format_chat_inference)"
   ]
  },
  {
   "cell_type": "code",
   "execution_count": 206,
   "metadata": {
    "colab": {
     "base_uri": "https://localhost:8080/",
     "height": 49,
     "referenced_widgets": [
      "3caa1119533649d783d1e8d64284de7d",
      "9363db920d6944b5a897535feb15b65f",
      "41fa30884a154896a1613927c1827355",
      "7f48abaec8fa4365be63395f4deffaa8",
      "970d266f56144f9e816d630038017703",
      "4cc889fd55a14049a7200ba6487862cf",
      "8c99cb3eafc24ff5b9e5443999e7a76b",
      "caa5e4c003234ec98d2fadf5109cb514",
      "a7a45f448e38479497b6266e4dac9cd5",
      "46083e12d8444d3ca16eb7d78eae5739",
      "954ae3c777a946c2b618875fa6edf2a3"
     ]
    },
    "executionInfo": {
     "elapsed": 623,
     "status": "ok",
     "timestamp": 1733810536474,
     "user": {
      "displayName": "Praveen Satya R V",
      "userId": "07360123993237987960"
     },
     "user_tz": 360
    },
    "id": "ven7SVgk5AuV",
    "outputId": "95c57e52-1b3e-4aee-b367-eae6fd8c27e2"
   },
   "outputs": [
    {
     "data": {
      "application/vnd.jupyter.widget-view+json": {
       "model_id": "3caa1119533649d783d1e8d64284de7d",
       "version_major": 2,
       "version_minor": 0
      },
      "text/plain": [
       "Filter:   0%|          | 0/1500 [00:00<?, ? examples/s]"
      ]
     },
     "metadata": {},
     "output_type": "display_data"
    }
   ],
   "source": [
    "valid_filtered = valid_subset.filter(check_length)"
   ]
  },
  {
   "cell_type": "code",
   "execution_count": 207,
   "metadata": {
    "colab": {
     "base_uri": "https://localhost:8080/",
     "height": 71
    },
    "executionInfo": {
     "elapsed": 25,
     "status": "ok",
     "timestamp": 1733810536474,
     "user": {
      "displayName": "Praveen Satya R V",
      "userId": "07360123993237987960"
     },
     "user_tz": 360
    },
    "id": "fo07cH5c5Chz",
    "outputId": "0746102c-0c6c-47c7-f1f9-d53231e6611a"
   },
   "outputs": [
    {
     "data": {
      "application/vnd.google.colaboratory.intrinsic+json": {
       "type": "string"
      },
      "text/plain": [
       "\"<|begin_of_text|><|start_header_id|>system<|end_header_id|>\\n\\nCutting Knowledge Date: December 2023\\nToday Date: 10 Dec 2024\\n\\n<|eot_id|><|start_header_id|>user<|end_header_id|>\\n\\nClassify the TEXT by selecting all applicable labels from the following list: ['anger', 'anticipation', 'disgust', 'fear', 'joy', 'love', 'optimism', 'pessimism', 'sadness', 'surprise', 'trust'].\\n\\nTEXT: @annalisewrobel_ awe thank you so much love 💕<|eot_id|><|start_header_id|>assistant<|end_header_id|>\\n\\n\""
      ]
     },
     "execution_count": 207,
     "metadata": {},
     "output_type": "execute_result"
    }
   ],
   "source": [
    "valid_filtered['text'][0]"
   ]
  },
  {
   "cell_type": "code",
   "execution_count": 208,
   "metadata": {
    "colab": {
     "base_uri": "https://localhost:8080/",
     "height": 36
    },
    "executionInfo": {
     "elapsed": 158,
     "status": "ok",
     "timestamp": 1733810548141,
     "user": {
      "displayName": "Praveen Satya R V",
      "userId": "07360123993237987960"
     },
     "user_tz": 360
    },
    "id": "A5u0Gd9A5EFY",
    "outputId": "dfb2c037-88f8-4e69-e1b6-f613ed939c08"
   },
   "outputs": [
    {
     "data": {
      "application/vnd.google.colaboratory.intrinsic+json": {
       "type": "string"
      },
      "text/plain": [
       "\"['joy', 'love', 'optimism']\""
      ]
     },
     "execution_count": 208,
     "metadata": {},
     "output_type": "execute_result"
    }
   ],
   "source": [
    "valid_filtered[0]['label']"
   ]
  },
  {
   "cell_type": "code",
   "execution_count": 209,
   "metadata": {
    "executionInfo": {
     "elapsed": 253,
     "status": "ok",
     "timestamp": 1733810552934,
     "user": {
      "displayName": "Praveen Satya R V",
      "userId": "07360123993237987960"
     },
     "user_tz": 360
    },
    "id": "C5KjFReO5Fyi"
   },
   "outputs": [],
   "source": [
    "def run_inference_instruction(\n",
    "    seed: int,\n",
    "    dataset: Union[Dict, List],\n",
    "    model,\n",
    "    tokenizer,\n",
    "    per_device_batch_size: int,\n",
    "    input_field: str,\n",
    "    output_field: str,\n",
    "    save_dir: Optional[Path] = None,\n",
    "    save_file_name: Optional[str] = None,\n",
    "    max_new_tokens: int = 20,\n",
    "    num_beams: int = 1,\n",
    "    do_sample: bool = False,\n",
    "    top_k: int = 50,\n",
    "    top_p: float = 1.0,\n",
    "    temperature: float = 1.0,\n",
    "    no_repeat_ngram_size: int = 2,\n",
    "    num_return_sequences: int = 1\n",
    ") -> List[Dict]:\n",
    "\n",
    "    \"\"\"\n",
    "    Run inference on a dataset and return complete generations.\n",
    "\n",
    "    Args:\n",
    "        seed: Random seed for reproducibility\n",
    "        dataset: Input dataset (dict or list)\n",
    "        model: The model to use for inference\n",
    "        tokenizer: The tokenizer to use\n",
    "        per_device_batch_size: Batch size for inference\n",
    "        prompt_template: Template for formatting prompts\n",
    "        input_field: Field name for input text in dataset\n",
    "        output_delimiter: Delimiter used in prompt template\n",
    "        save_path: Optional path to save generations\n",
    "        ... (generation parameters)\n",
    "\n",
    "    Returns:\n",
    "        List of dictionaries containing input, complete generation, and labels\n",
    "    \"\"\"\n",
    "\n",
    "    set_seed(seed)\n",
    "    model.eval()\n",
    "    device = model.device\n",
    "    batch_size = per_device_batch_size\n",
    "    inference_results = []\n",
    "\n",
    "\n",
    "    progress_bar = tqdm(range(0, len(dataset), batch_size), desc=\"Generating predictions\")\n",
    "\n",
    "    for i in progress_bar:\n",
    "       batch = dataset[i:i + batch_size]\n",
    "\n",
    "       try:\n",
    "           texts = batch[input_field]\n",
    "           labels = batch[output_field] if output_field in batch else [\"N/A\"] * len(texts)\n",
    "\n",
    "\n",
    "           inputs = tokenizer(texts, return_tensors=\"pt\", padding=True)\n",
    "           inputs = {k: v.to(device) for k, v in inputs.items()}\n",
    "\n",
    "           with torch.no_grad():\n",
    "               outputs = model.generate(\n",
    "                   **inputs,\n",
    "                   max_new_tokens=max_new_tokens,\n",
    "                   num_beams=num_beams,\n",
    "                   do_sample=do_sample,\n",
    "                   top_k=top_k,\n",
    "                   top_p=top_p,\n",
    "                   temperature=temperature,\n",
    "                   pad_token_id=tokenizer.pad_token_id,\n",
    "               )\n",
    "\n",
    "           decoded_outputs = tokenizer.batch_decode(outputs, skip_special_tokens=False)\n",
    "\n",
    "           for text, label, decoded_output in zip(texts, labels, decoded_outputs):\n",
    "                   inference_results.append({\n",
    "                    \"input\": text,\n",
    "                    \"generated_output\": decoded_output,\n",
    "                    \"ground_truth\": label\n",
    "                })\n",
    "\n",
    "\n",
    "       except Exception as e:\n",
    "           print(f\"Error processing batch: {str(e)}\")\n",
    "           continue\n",
    "    # Save generations if path provided\n",
    "    if save_dir:\n",
    "        save_dir = Path(save_dir)\n",
    "        save_dir.mkdir(parents=True, exist_ok=True)\n",
    "\n",
    "        # If no filename provided, create a timestamped one\n",
    "        if save_file_name is None:\n",
    "            from datetime import datetime\n",
    "            timestamp = datetime.now().strftime(\"%Y%m%d_%H%M%S\")\n",
    "            save_name = f\"generations_{timestamp}.json\"\n",
    "        elif not save_file_name.endswith('.json'):\n",
    "            save_name = f\"{save_file_name}.json\"\n",
    "\n",
    "        save_file = save_dir / save_name\n",
    "\n",
    "        with open(save_file, 'w') as f:\n",
    "            json.dump(inference_results, f, indent=2)\n",
    "        print(f\"Saved inference_results to: {save_file}\")\n",
    "\n",
    "    return inference_results"
   ]
  },
  {
   "cell_type": "code",
   "execution_count": 210,
   "metadata": {
    "colab": {
     "base_uri": "https://localhost:8080/"
    },
    "executionInfo": {
     "elapsed": 2589,
     "status": "ok",
     "timestamp": 1733810556941,
     "user": {
      "displayName": "Praveen Satya R V",
      "userId": "07360123993237987960"
     },
     "user_tz": 360
    },
    "id": "JVgjH3DY5LQL",
    "outputId": "ef1e4217-a8ac-45f5-e066-7d21a3ea4ecd"
   },
   "outputs": [
    {
     "name": "stdout",
     "output_type": "stream",
     "text": [
      "GPU memory has been freed.\n"
     ]
    }
   ],
   "source": [
    "free_gpu_memory()\n"
   ]
  },
  {
   "cell_type": "code",
   "execution_count": 211,
   "metadata": {
    "colab": {
     "base_uri": "https://localhost:8080/"
    },
    "executionInfo": {
     "elapsed": 88102,
     "status": "ok",
     "timestamp": 1733810645035,
     "user": {
      "displayName": "Praveen Satya R V",
      "userId": "07360123993237987960"
     },
     "user_tz": 360
    },
    "id": "s8khxqQK5NYR",
    "outputId": "6bf0d9f1-5890-400a-d8be-f906df7d28e9"
   },
   "outputs": [
    {
     "name": "stderr",
     "output_type": "stream",
     "text": [
      "Generating predictions: 100%|██████████| 30/30 [01:28<00:00,  2.94s/it]"
     ]
    },
    {
     "name": "stdout",
     "output_type": "stream",
     "text": [
      "Saved inference_results to: /content/drive/MyDrive/data/models/llama_qlora_lmh_inst/valid_complete_generations.json\n"
     ]
    },
    {
     "name": "stderr",
     "output_type": "stream",
     "text": [
      "\n"
     ]
    }
   ],
   "source": [
    "valid_inference_results = run_inference_instruction(seed = 42,\n",
    "              dataset=valid_filtered,\n",
    "              model=model,\n",
    "              tokenizer=tokenizer,\n",
    "              per_device_batch_size=50,\n",
    "              input_field='text',\n",
    "              output_field='label',\n",
    "              save_dir=model_folder,\n",
    "              save_file_name = 'valid_complete_generations')"
   ]
  },
  {
   "cell_type": "code",
   "execution_count": 212,
   "metadata": {
    "executionInfo": {
     "elapsed": 233,
     "status": "ok",
     "timestamp": 1733810655792,
     "user": {
      "displayName": "Praveen Satya R V",
      "userId": "07360123993237987960"
     },
     "user_tz": 360
    },
    "id": "Ls8d0RdV5SBd"
   },
   "outputs": [],
   "source": [
    "file_name = model_folder/'valid_complete_generations.json'\n",
    "with open(file_name, 'r') as f:\n",
    "    valid_inference_results = json.load(f)"
   ]
  },
  {
   "cell_type": "code",
   "execution_count": 213,
   "metadata": {
    "colab": {
     "base_uri": "https://localhost:8080/",
     "height": 123
    },
    "executionInfo": {
     "elapsed": 208,
     "status": "ok",
     "timestamp": 1733810657335,
     "user": {
      "displayName": "Praveen Satya R V",
      "userId": "07360123993237987960"
     },
     "user_tz": 360
    },
    "id": "0TgygWuB6Fgq",
    "outputId": "e8210c44-3811-40e1-899b-435d6bec0181"
   },
   "outputs": [
    {
     "data": {
      "application/vnd.google.colaboratory.intrinsic+json": {
       "type": "string"
      },
      "text/plain": [
       "\"<|finetune_right_pad_id|><|finetune_right_pad_id|><|finetune_right_pad_id|><|finetune_right_pad_id|><|finetune_right_pad_id|><|finetune_right_pad_id|><|finetune_right_pad_id|><|finetune_right_pad_id|><|finetune_right_pad_id|><|finetune_right_pad_id|><|finetune_right_pad_id|><|finetune_right_pad_id|><|finetune_right_pad_id|><|finetune_right_pad_id|><|finetune_right_pad_id|><|finetune_right_pad_id|><|finetune_right_pad_id|><|finetune_right_pad_id|><|finetune_right_pad_id|><|finetune_right_pad_id|><|finetune_right_pad_id|><|finetune_right_pad_id|><|finetune_right_pad_id|><|finetune_right_pad_id|><|finetune_right_pad_id|><|finetune_right_pad_id|><|finetune_right_pad_id|><|finetune_right_pad_id|><|finetune_right_pad_id|><|finetune_right_pad_id|><|finetune_right_pad_id|><|finetune_right_pad_id|><|finetune_right_pad_id|><|finetune_right_pad_id|><|finetune_right_pad_id|><|begin_of_text|><|begin_of_text|><|start_header_id|>system<|end_header_id|>\\n\\nCutting Knowledge Date: December 2023\\nToday Date: 10 Dec 2024\\n\\n<|eot_id|><|start_header_id|>user<|end_header_id|>\\n\\nClassify the TEXT by selecting all applicable labels from the following list: ['anger', 'anticipation', 'disgust', 'fear', 'joy', 'love', 'optimism', 'pessimism','sadness','surprise', 'trust'].\\n\\nTEXT: @1xfly you sir are hilarious<|eot_id|><|start_header_id|>assistant<|end_header_id|>\\n\\n['joy', 'optimism']<|eot_id|><|finetune_right_pad_id|><|finetune_right_pad_id|><|finetune_right_pad_id|><|finetune_right_pad_id|><|finetune_right_pad_id|><|finetune_right_pad_id|><|finetune_right_pad_id|><|finetune_right_pad_id|><|finetune_right_pad_id|><|finetune_right_pad_id|><|finetune_right_pad_id|><|finetune_right_pad_id|>\""
      ]
     },
     "execution_count": 213,
     "metadata": {},
     "output_type": "execute_result"
    }
   ],
   "source": [
    "valid_inference_results[1]['generated_output']"
   ]
  },
  {
   "cell_type": "code",
   "execution_count": 214,
   "metadata": {
    "executionInfo": {
     "elapsed": 159,
     "status": "ok",
     "timestamp": 1733810669402,
     "user": {
      "displayName": "Praveen Satya R V",
      "userId": "07360123993237987960"
     },
     "user_tz": 360
    },
    "id": "3hNuIqzU6HhM"
   },
   "outputs": [],
   "source": [
    "output_delimiter = \"assistant<|end_header_id|>\"\n",
    "def extract_content(generated_output: str, output_delimiter: str) -> str:\n",
    "    \"\"\"\n",
    "    Extract content after delimiter from a generated output string.\n",
    "\n",
    "    Args:\n",
    "        generated_output: String containing the complete model generation\n",
    "        output_delimiter: Delimiter to extract content after\n",
    "\n",
    "    Returns:\n",
    "        Extracted content as string, or None if delimiter not found\n",
    "    \"\"\"\n",
    "    pattern = f'{re.escape(output_delimiter.strip())}\\\\s*(.*?)(?:<\\\\|eot_id\\\\|>)'\n",
    "    match = re.search(pattern, generated_output, re.DOTALL)\n",
    "    if match:\n",
    "        return match.group(1).strip()\n",
    "    else:\n",
    "        return None\n"
   ]
  },
  {
   "cell_type": "code",
   "execution_count": 215,
   "metadata": {
    "executionInfo": {
     "elapsed": 195,
     "status": "ok",
     "timestamp": 1733810671641,
     "user": {
      "displayName": "Praveen Satya R V",
      "userId": "07360123993237987960"
     },
     "user_tz": 360
    },
    "id": "WaCmptCD6IxF"
   },
   "outputs": [],
   "source": [
    "valid_extracted_outputs = [\n",
    "    extract_content(result['generated_output'], output_delimiter)\n",
    "    for result in valid_inference_results]"
   ]
  },
  {
   "cell_type": "code",
   "execution_count": 216,
   "metadata": {
    "colab": {
     "base_uri": "https://localhost:8080/",
     "height": 36
    },
    "executionInfo": {
     "elapsed": 221,
     "status": "ok",
     "timestamp": 1733810673880,
     "user": {
      "displayName": "Praveen Satya R V",
      "userId": "07360123993237987960"
     },
     "user_tz": 360
    },
    "id": "7rYqe1pt6NCt",
    "outputId": "5212fcad-736c-4ec9-d589-1f1c87fd728b"
   },
   "outputs": [
    {
     "data": {
      "application/vnd.google.colaboratory.intrinsic+json": {
       "type": "string"
      },
      "text/plain": [
       "\"['joy', 'love', 'optimism']\""
      ]
     },
     "execution_count": 216,
     "metadata": {},
     "output_type": "execute_result"
    }
   ],
   "source": [
    "valid_extracted_outputs[0]"
   ]
  },
  {
   "cell_type": "code",
   "execution_count": 217,
   "metadata": {
    "colab": {
     "base_uri": "https://localhost:8080/"
    },
    "executionInfo": {
     "elapsed": 336,
     "status": "ok",
     "timestamp": 1733810676864,
     "user": {
      "displayName": "Praveen Satya R V",
      "userId": "07360123993237987960"
     },
     "user_tz": 360
    },
    "id": "XqttVFKO6PKF",
    "outputId": "6bb5070e-6888-4fd8-a358-62c8a96bb764"
   },
   "outputs": [
    {
     "name": "stdout",
     "output_type": "stream",
     "text": [
      "['joy', 'love', 'optimism']\n",
      "['joy', 'optimism']\n",
      "['anticipation', 'joy', 'optimism']\n",
      "['anticipation', 'joy', 'optimism']\n",
      "['anticipation','sadness']\n",
      "['joy', 'optimism']\n",
      "['anger', 'disgust','sadness']\n",
      "['anger', 'disgust', 'fear','sadness']\n",
      "['pessimism','sadness']\n",
      "['optimism', 'trust']\n",
      "['anger', 'disgust', 'fear']\n",
      "['anger', 'disgust','sadness']\n",
      "['anger', 'disgust', 'fear', 'joy', 'optimism']\n",
      "['anger', 'disgust','sadness']\n",
      "['anger', 'disgust', 'joy']\n",
      "['joy', 'optimism']\n",
      "['anticipation', 'disgust','sadness']\n",
      "['anger', 'disgust','sadness']\n",
      "['anger', 'disgust','sadness']\n",
      "['anger', 'disgust', 'joy', 'optimism']\n"
     ]
    }
   ],
   "source": [
    "for i in range(20):\n",
    "  print(valid_extracted_outputs[i])"
   ]
  },
  {
   "cell_type": "code",
   "execution_count": 218,
   "metadata": {
    "colab": {
     "base_uri": "https://localhost:8080/"
    },
    "executionInfo": {
     "elapsed": 179,
     "status": "ok",
     "timestamp": 1733810682720,
     "user": {
      "displayName": "Praveen Satya R V",
      "userId": "07360123993237987960"
     },
     "user_tz": 360
    },
    "id": "a3FKEZ2i6RC2",
    "outputId": "e4784b41-3d3f-4bf3-e4be-6b91b9c043d9"
   },
   "outputs": [
    {
     "name": "stdout",
     "output_type": "stream",
     "text": [
      "['joy', 'love', 'optimism']\n",
      "['joy']\n",
      "['anticipation', 'joy', 'optimism', 'surprise']\n",
      "['fear', 'joy', 'optimism', 'sadness']\n",
      "['anger', 'disgust', 'pessimism']\n",
      "['anticipation', 'joy', 'optimism']\n",
      "['anger', 'sadness']\n",
      "['anger', 'disgust', 'fear']\n",
      "['pessimism', 'sadness']\n",
      "['fear', 'joy', 'optimism', 'trust']\n",
      "['anticipation']\n",
      "['anger', 'disgust', 'sadness']\n",
      "[]\n",
      "['anger', 'disgust']\n",
      "['anger', 'disgust']\n",
      "['joy', 'optimism', 'surprise']\n",
      "['joy', 'optimism', 'sadness']\n",
      "['anger', 'disgust', 'fear']\n",
      "['anger', 'disgust', 'optimism', 'surprise']\n",
      "['joy']\n"
     ]
    }
   ],
   "source": [
    "for i in range(20):\n",
    "  print(valid_inference_results[i]['ground_truth'])"
   ]
  },
  {
   "cell_type": "code",
   "execution_count": 219,
   "metadata": {
    "executionInfo": {
     "elapsed": 175,
     "status": "ok",
     "timestamp": 1733810688480,
     "user": {
      "displayName": "Praveen Satya R V",
      "userId": "07360123993237987960"
     },
     "user_tz": 360
    },
    "id": "E8vBGTqC6VpZ"
   },
   "outputs": [],
   "source": [
    "def clean_and_split_labels(extracted_output: str, class_names: List[str], cutoff: float = 0.6) -> List[str]:\n",
    "    \"\"\"\n",
    "    Clean and normalize extracted content for multi-label classification.\n",
    "\n",
    "    Args:\n",
    "        extracted_output: String containing extracted labels\n",
    "        class_names: List of valid class names\n",
    "        cutoff: Threshold for fuzzy matching\n",
    "\n",
    "    Returns:\n",
    "        List of cleaned and normalized labels\n",
    "    \"\"\"\n",
    "    from difflib import get_close_matches\n",
    "\n",
    "    # Convert to string if not already\n",
    "    if isinstance(extracted_output, (list, tuple)):\n",
    "        label_set = ' '.join(str(x) for x in extracted_output)\n",
    "    else:\n",
    "        label_set = str(extracted_output)\n",
    "\n",
    "    # Basic cleaning\n",
    "    label_set = label_set.lstrip('=')\n",
    "    # Remove various bracket and quote combinations\n",
    "    label_set = label_set.replace('=[\"', '').replace('[\"', '').replace('\"]', '')\n",
    "    label_set = label_set.replace(\"['\", '').replace(\"']\", '')\n",
    "    label_set = label_set.replace('(\"', '').replace('\")', '')\n",
    "    label_set = label_set.replace('([\"', '').replace('\"])', '')\n",
    "    label_set = label_set.replace('([', '').replace('])', '')\n",
    "    label_set = label_set.replace('[', '').replace(']', '')\n",
    "    label_set = label_set.replace('(', '').replace(')', '')\n",
    "    label_set = label_set.replace('\"', '').replace(\"'\", '')\n",
    "\n",
    "    # Handle multiple types of separators\n",
    "    label_set = ' '.join(label_set.split())  # normalize spaces\n",
    "    raw_labels = label_set.split(',') if ',' in label_set else label_set.split()\n",
    "\n",
    "    # Clean and normalize labels\n",
    "    raw_labels = [label.strip().lower() for label in raw_labels if label.strip()]\n",
    "\n",
    "    # Match to valid classes using fuzzy matching\n",
    "    cleaned_labels = []\n",
    "    for label in raw_labels:\n",
    "        if label in class_names:\n",
    "            cleaned_labels.append(label)\n",
    "        else:\n",
    "            matches = get_close_matches(label, class_names, n=1, cutoff=cutoff)\n",
    "            if matches:\n",
    "                cleaned_labels.append(matches[0])\n",
    "\n",
    "    # Remove duplicates while preserving order\n",
    "    seen = set()\n",
    "    cleaned_labels = [x for x in cleaned_labels if not (x in seen or seen.add(x))]\n",
    "\n",
    "    return cleaned_labels"
   ]
  },
  {
   "cell_type": "code",
   "execution_count": 220,
   "metadata": {
    "colab": {
     "base_uri": "https://localhost:8080/"
    },
    "executionInfo": {
     "elapsed": 195,
     "status": "ok",
     "timestamp": 1733810690389,
     "user": {
      "displayName": "Praveen Satya R V",
      "userId": "07360123993237987960"
     },
     "user_tz": 360
    },
    "id": "8-adeVu96XXb",
    "outputId": "7caf364c-7c4b-48dc-a169-91c86b92de41"
   },
   "outputs": [
    {
     "name": "stdout",
     "output_type": "stream",
     "text": [
      "Sample of true labels: [['joy', 'love', 'optimism'], ['joy'], ['anticipation', 'joy', 'optimism', 'surprise'], ['fear', 'joy', 'optimism', 'sadness'], ['anger', 'disgust', 'pessimism']]\n",
      "Sample of predictions: [['joy', 'love', 'optimism'], ['joy', 'optimism'], ['anticipation', 'joy', 'optimism'], ['anticipation', 'joy', 'optimism'], ['anticipation', 'sadness']]\n",
      "\n",
      "Binary format:\n",
      "Labels shape: (1500, 11)\n",
      "Predictions shape: (1500, 11)\n"
     ]
    }
   ],
   "source": [
    "# Clean and convert predictions and ground truth\n",
    "valid_predictions = [\n",
    "    clean_and_split_labels(extracted_output, class_names)\n",
    "    for extracted_output in valid_extracted_outputs\n",
    "]\n",
    "\n",
    "valid_labels = [\n",
    "    clean_and_split_labels(result['ground_truth'], class_names)\n",
    "    for result in valid_inference_results\n",
    "]\n",
    "\n",
    "# Initialize MultiLabelBinarizer with known classes\n",
    "mlb = MultiLabelBinarizer(classes=class_names)\n",
    "mlb.fit(class_names)  # Fit with all possible classes\n",
    "\n",
    "# Transform the data\n",
    "valid_labels_binary = mlb.transform(valid_labels)\n",
    "valid_predictions_binary = mlb.transform(valid_predictions)\n",
    "\n",
    "# Print samples and shapes\n",
    "print(\"Sample of true labels:\", valid_labels[:5])\n",
    "print(\"Sample of predictions:\", valid_predictions[:5])\n",
    "print(\"\\nBinary format:\")\n",
    "print(\"Labels shape:\", valid_labels_binary.shape)\n",
    "print(\"Predictions shape:\", valid_predictions_binary.shape)"
   ]
  },
  {
   "cell_type": "code",
   "execution_count": 221,
   "metadata": {
    "executionInfo": {
     "elapsed": 1666,
     "status": "ok",
     "timestamp": 1733810696362,
     "user": {
      "displayName": "Praveen Satya R V",
      "userId": "07360123993237987960"
     },
     "user_tz": 360
    },
    "id": "rVQvQcK66aLw"
   },
   "outputs": [],
   "source": [
    "accuracy = evaluate.load('accuracy', 'multilabel')\n",
    "f1 = evaluate.load('f1','multilabel')\n",
    "accuracy_flatten = evaluate.load('accuracy')\n",
    "def compute_metrics( labels, preds):\n",
    "  accuracy_label = accuracy_flatten.compute(predictions=preds.flatten(), references=labels.flatten())\n",
    "  accuracy_all = accuracy.compute(predictions=preds, references=labels)\n",
    "  f1_micro = f1.compute(predictions=preds, references=labels, average='micro')\n",
    "  f1_macro = f1.compute(predictions=preds, references=labels, average='macro')\n",
    "  return {'f1_micro':f1_micro['f1'],\n",
    "          'f1_macro':f1_macro['f1'],\n",
    "          'accuracy_label':accuracy_label['accuracy'],\n",
    "            'accuracy_all':accuracy_all['accuracy']}"
   ]
  },
  {
   "cell_type": "code",
   "execution_count": 222,
   "metadata": {
    "executionInfo": {
     "elapsed": 478,
     "status": "ok",
     "timestamp": 1733810700748,
     "user": {
      "displayName": "Praveen Satya R V",
      "userId": "07360123993237987960"
     },
     "user_tz": 360
    },
    "id": "3qqEnxqg6dE2"
   },
   "outputs": [],
   "source": [
    "valid_metrics = compute_metrics(valid_labels_binary , valid_predictions_binary)"
   ]
  },
  {
   "cell_type": "code",
   "execution_count": 223,
   "metadata": {
    "colab": {
     "base_uri": "https://localhost:8080/"
    },
    "executionInfo": {
     "elapsed": 205,
     "status": "ok",
     "timestamp": 1733810704640,
     "user": {
      "displayName": "Praveen Satya R V",
      "userId": "07360123993237987960"
     },
     "user_tz": 360
    },
    "id": "AAztNpC26j1m",
    "outputId": "5db6fa23-8202-425a-c31c-409a981efe43"
   },
   "outputs": [
    {
     "data": {
      "text/plain": [
       "{'f1_micro': 0.6437869822485207,\n",
       " 'f1_macro': 0.4694097350808674,\n",
       " 'accuracy_label': 0.8358181818181818,\n",
       " 'accuracy_all': 0.18133333333333335}"
      ]
     },
     "execution_count": 223,
     "metadata": {},
     "output_type": "execute_result"
    }
   ],
   "source": [
    "valid_metrics"
   ]
  },
  {
   "cell_type": "code",
   "execution_count": 224,
   "metadata": {
    "executionInfo": {
     "elapsed": 117,
     "status": "ok",
     "timestamp": 1733810714442,
     "user": {
      "displayName": "Praveen Satya R V",
      "userId": "07360123993237987960"
     },
     "user_tz": 360
    },
    "id": "cgTiskP_6lgQ"
   },
   "outputs": [],
   "source": [
    "wandb.log({\"valid_f1_macro\": valid_metrics[\"f1_macro\"]})"
   ]
  },
  {
   "cell_type": "code",
   "execution_count": 225,
   "metadata": {
    "colab": {
     "base_uri": "https://localhost:8080/"
    },
    "executionInfo": {
     "elapsed": 6,
     "status": "ok",
     "timestamp": 1733810716687,
     "user": {
      "displayName": "Praveen Satya R V",
      "userId": "07360123993237987960"
     },
     "user_tz": 360
    },
    "id": "HcSi6mDL6olm",
    "outputId": "f0343cc7-3a1f-4880-827d-e8e8e05caf10"
   },
   "outputs": [
    {
     "name": "stdout",
     "output_type": "stream",
     "text": [
      "[[[ 731  231]\n",
      "  [  55  483]]\n",
      "\n",
      " [[1201   88]\n",
      "  [ 164   47]]\n",
      "\n",
      " [[ 681  260]\n",
      "  [  80  479]]\n",
      "\n",
      " [[1046  194]\n",
      "  [  89  171]]\n",
      "\n",
      " [[ 757  171]\n",
      "  [  98  474]]\n",
      "\n",
      " [[1306   23]\n",
      "  [ 108   63]]\n",
      "\n",
      " [[ 739  288]\n",
      "  [  83  390]]\n",
      "\n",
      " [[1314   20]\n",
      "  [ 148   18]]\n",
      "\n",
      " [[ 773  312]\n",
      "  [  98  317]]\n",
      "\n",
      " [[1404    1]\n",
      "  [  95    0]]\n",
      "\n",
      " [[1391   10]\n",
      "  [  93    6]]]\n"
     ]
    }
   ],
   "source": [
    "mcm = multilabel_confusion_matrix(valid_labels_binary , valid_predictions_binary)\n",
    "print(mcm)"
   ]
  },
  {
   "cell_type": "code",
   "execution_count": 226,
   "metadata": {
    "executionInfo": {
     "elapsed": 155,
     "status": "ok",
     "timestamp": 1733810721189,
     "user": {
      "displayName": "Praveen Satya R V",
      "userId": "07360123993237987960"
     },
     "user_tz": 360
    },
    "id": "QJPDAZss6rj-"
   },
   "outputs": [],
   "source": [
    "def multilabel_evaluation(y_true, y_pred, class_names=None, figsize=(12, 8)):\n",
    "    \"\"\"\n",
    "    Generate comprehensive evaluation visualizations for multilabel classification results.\n",
    "\n",
    "    Parameters:\n",
    "    -----------\n",
    "    y_true : array-like\n",
    "        True labels (n_samples, n_classes)\n",
    "    y_pred : array-like\n",
    "        Predicted labels (n_samples, n_classes)\n",
    "    class_names : list, optional\n",
    "        List of class names for better visualization\n",
    "    figsize : tuple, optional\n",
    "        Base figure size for plots (width, height)\n",
    "\n",
    "    Returns:\n",
    "    --------\n",
    "    dict\n",
    "        Dictionary containing the computed metrics for each class\n",
    "    \"\"\"\n",
    "    # Validate inputs\n",
    "    y_true = np.array(y_true)\n",
    "    y_pred = np.array(y_pred)\n",
    "\n",
    "    if y_true.shape != y_pred.shape:\n",
    "        raise ValueError(\"y_true and y_pred must have the same shape\")\n",
    "\n",
    "    # Generate class names if not provided\n",
    "    if class_names is None:\n",
    "        class_names = [f'Class {i}' for i in range(y_true.shape[1])]\n",
    "\n",
    "    # Calculate confusion matrices\n",
    "    mcm = multilabel_confusion_matrix(y_true, y_pred)\n",
    "\n",
    "    # 1. Individual Confusion Matrix Heatmaps\n",
    "    n_classes = len(class_names)\n",
    "    n_cols = min(3, n_classes)\n",
    "    n_rows = (n_classes + n_cols - 1) // n_cols\n",
    "\n",
    "    plt.figure(figsize=(figsize[0], figsize[1] * n_rows/2))\n",
    "    for idx, matrix in enumerate(mcm):\n",
    "        plt.subplot(n_rows, n_cols, idx + 1)\n",
    "        sns.heatmap(matrix, annot=True, fmt='g', cmap='Blues',\n",
    "                    xticklabels=['Pred Neg', 'Pred Pos'],\n",
    "                    yticklabels=['True Neg', 'True Pos'])\n",
    "        plt.title(f'{class_names[idx]}')\n",
    "    plt.tight_layout()\n",
    "    plt.show()\n",
    "\n",
    "    # 2. Calculate and plot aggregate metrics\n",
    "    metrics = {\n",
    "        'Precision': precision_score(y_true, y_pred, average=None),\n",
    "        'Recall': recall_score(y_true, y_pred, average=None),\n",
    "        'F1-Score': f1_score(y_true, y_pred, average=None)\n",
    "    }\n",
    "\n",
    "    metrics_df = pd.DataFrame(metrics, index=class_names)\n",
    "\n",
    "    # Metrics Heatmap\n",
    "    plt.figure(figsize=(figsize[0]/1.5, figsize[1]/1.5))\n",
    "    sns.heatmap(metrics_df, annot=True, fmt='.3f', cmap='Blues')\n",
    "    plt.title('Performance Metrics by Class')\n",
    "    plt.tight_layout()\n",
    "    plt.show()\n",
    "\n",
    "    # 3. Metrics Histogram\n",
    "    plt.figure(figsize=(figsize[0], figsize[1]/1.5))\n",
    "    metrics_df.plot(kind='bar', width=0.8)\n",
    "    plt.xlabel('Classes')\n",
    "    plt.ylabel('Score')\n",
    "    plt.title('Precision, Recall, and F1-Score by Class')\n",
    "    plt.legend(bbox_to_anchor=(1.05, 1), loc='upper left')\n",
    "    plt.tight_layout()\n",
    "    plt.show()\n",
    "\n",
    "    # 4. Calculate and return summary statistics\n",
    "    summary_stats = {\n",
    "        'macro_avg': {\n",
    "            'precision': np.mean(metrics['Precision']),\n",
    "            'recall': np.mean(metrics['Recall']),\n",
    "            'f1': np.mean(metrics['F1-Score'])\n",
    "        },\n",
    "        'per_class': metrics_df.to_dict()\n",
    "    }\n",
    "\n",
    "    return summary_stats\n"
   ]
  },
  {
   "cell_type": "code",
   "execution_count": 227,
   "metadata": {
    "colab": {
     "base_uri": "https://localhost:8080/",
     "height": 1000
    },
    "executionInfo": {
     "elapsed": 5158,
     "status": "ok",
     "timestamp": 1733810752117,
     "user": {
      "displayName": "Praveen Satya R V",
      "userId": "07360123993237987960"
     },
     "user_tz": 360
    },
    "id": "NoZhegaw6tcr",
    "outputId": "6ed77d36-3c88-4b3f-c6df-e80f39ce795d"
   },
   "outputs": [
    {
     "data": {
      "image/png": "[encoded data removed]",
      "text/plain": [
       "<Figure size 1200x1600 with 22 Axes>"
      ]
     },
     "metadata": {},
     "output_type": "display_data"
    },
    {
     "data": {
      "image/png": "[encoded data removed]",
      "text/plain": [
       "<Figure size 800x533.333 with 2 Axes>"
      ]
     },
     "metadata": {},
     "output_type": "display_data"
    },
    {
     "data": {
      "text/plain": [
       "<Figure size 1200x533.333 with 0 Axes>"
      ]
     },
     "metadata": {},
     "output_type": "display_data"
    },
    {
     "data": {
      "image/png": "[encoded data removed]",
      "text/plain": [
       "<Figure size 640x480 with 1 Axes>"
      ]
     },
     "metadata": {},
     "output_type": "display_data"
    },
    {
     "data": {
      "text/plain": [
       "{'macro_avg': {'precision': 0.5033279060756807,\n",
       "  'recall': 0.5081463499787685,\n",
       "  'f1': 0.4694097350808674},\n",
       " 'per_class': {'Precision': {'anger': 0.6764705882352942,\n",
       "   'anticipation': 0.34814814814814815,\n",
       "   'disgust': 0.6481732070365359,\n",
       "   'fear': 0.4684931506849315,\n",
       "   'joy': 0.7348837209302326,\n",
       "   'love': 0.7325581395348837,\n",
       "   'optimism': 0.5752212389380531,\n",
       "   'pessimism': 0.47368421052631576,\n",
       "   'sadness': 0.5039745627980922,\n",
       "   'surprise': 0.0,\n",
       "   'trust': 0.375},\n",
       "  'Recall': {'anger': 0.8977695167286245,\n",
       "   'anticipation': 0.22274881516587677,\n",
       "   'disgust': 0.8568872987477638,\n",
       "   'fear': 0.6576923076923077,\n",
       "   'joy': 0.8286713286713286,\n",
       "   'love': 0.3684210526315789,\n",
       "   'optimism': 0.8245243128964059,\n",
       "   'pessimism': 0.10843373493975904,\n",
       "   'sadness': 0.763855421686747,\n",
       "   'surprise': 0.0,\n",
       "   'trust': 0.06060606060606061},\n",
       "  'F1-Score': {'anger': 0.7715654952076677,\n",
       "   'anticipation': 0.27167630057803466,\n",
       "   'disgust': 0.7380585516178737,\n",
       "   'fear': 0.5472,\n",
       "   'joy': 0.7789646672144618,\n",
       "   'love': 0.490272373540856,\n",
       "   'optimism': 0.6776715899218071,\n",
       "   'pessimism': 0.17647058823529413,\n",
       "   'sadness': 0.60727969348659,\n",
       "   'surprise': 0.0,\n",
       "   'trust': 0.10434782608695652}}}"
      ]
     },
     "execution_count": 227,
     "metadata": {},
     "output_type": "execute_result"
    }
   ],
   "source": [
    "multilabel_evaluation(y_true=valid_labels_binary, y_pred=valid_predictions_binary, class_names=class_names, figsize=(12, 8))"
   ]
  },
  {
   "cell_type": "code",
   "execution_count": 228,
   "metadata": {
    "colab": {
     "base_uri": "https://localhost:8080/",
     "height": 492
    },
    "executionInfo": {
     "elapsed": 1881,
     "status": "ok",
     "timestamp": 1733810837132,
     "user": {
      "displayName": "Praveen Satya R V",
      "userId": "07360123993237987960"
     },
     "user_tz": 360
    },
    "id": "cdTjyLXj6wO2",
    "outputId": "92db340f-7b84-4a37-ae8a-705cc3533cd2"
   },
   "outputs": [
    {
     "data": {
      "text/html": [
       "\n",
       "    <style>\n",
       "        .wandb-row {\n",
       "            display: flex;\n",
       "            flex-direction: row;\n",
       "            flex-wrap: wrap;\n",
       "            justify-content: flex-start;\n",
       "            width: 100%;\n",
       "        }\n",
       "        .wandb-col {\n",
       "            display: flex;\n",
       "            flex-direction: column;\n",
       "            flex-basis: 100%;\n",
       "            flex: 1;\n",
       "            padding: 10px;\n",
       "        }\n",
       "    </style>\n",
       "<div class=\"wandb-row\"><div class=\"wandb-col\"><h3>Run history:</h3><br/><table class=\"wandb\"><tr><td>eval/loss</td><td>▂▂▁▁▁▁▁▁██▇▇</td></tr><tr><td>eval/runtime</td><td>▆▆▆██▆▆▆▁▁▁▁</td></tr><tr><td>eval/samples_per_second</td><td>▃▃▃▁▁▃▃▃████</td></tr><tr><td>eval/steps_per_second</td><td>▃▃▃▁▁▃▃▃████</td></tr><tr><td>train/epoch</td><td>▁▁▃▃▅▅▇▇█▁▁▁▃▃▅▅▇▇█▁▁▃▃▅▅▇▇█</td></tr><tr><td>train/global_step</td><td>▁▁▃▃▅▅▇▇█▁▁▁▃▃▅▅▇▇██▁▁▃▃▅▅▇▇██</td></tr><tr><td>train/grad_norm</td><td>▂▁▂▁▃▂▂▁▂██▅█</td></tr><tr><td>train/learning_rate</td><td>█▆▃▁██▆▃▁█▆▃▁</td></tr><tr><td>train/loss</td><td>▄▂▁▁▁▁▁▁▁█▅▅▅</td></tr><tr><td>valid_f1_macro</td><td>▁█</td></tr></table><br/></div><div class=\"wandb-col\"><h3>Run summary:</h3><br/><table class=\"wandb\"><tr><td>eval/loss</td><td>0.32092</td></tr><tr><td>eval/runtime</td><td>80.5347</td></tr><tr><td>eval/samples_per_second</td><td>18.626</td></tr><tr><td>eval/steps_per_second</td><td>4.656</td></tr><tr><td>total_flos</td><td>2666764669648896.0</td></tr><tr><td>train/epoch</td><td>1.97067</td></tr><tr><td>train/global_step</td><td>92</td></tr><tr><td>train/grad_norm</td><td>3.54757</td></tr><tr><td>train/learning_rate</td><td>0.0</td></tr><tr><td>train/loss</td><td>0.3042</td></tr><tr><td>train_loss</td><td>0.35256</td></tr><tr><td>train_runtime</td><td>830.6095</td></tr><tr><td>train_samples_per_second</td><td>3.612</td></tr><tr><td>train_steps_per_second</td><td>0.111</td></tr><tr><td>valid_f1_macro</td><td>0.46941</td></tr></table><br/></div></div>"
      ],
      "text/plain": [
       "<IPython.core.display.HTML object>"
      ]
     },
     "metadata": {},
     "output_type": "display_data"
    },
    {
     "data": {
      "text/html": [
       " View run <strong style=\"color:#cdcd00\">emo_lmh_gemma_inst</strong> at: <a href='https://wandb.ai/psatyarv-the-university-of-texas-at-dallas/emotion_llama_inst/runs/2fwc72gq' target=\"_blank\">https://wandb.ai/psatyarv-the-university-of-texas-at-dallas/emotion_llama_inst/runs/2fwc72gq</a><br/> View project at: <a href='https://wandb.ai/psatyarv-the-university-of-texas-at-dallas/emotion_llama_inst' target=\"_blank\">https://wandb.ai/psatyarv-the-university-of-texas-at-dallas/emotion_llama_inst</a><br/>Synced 5 W&B file(s), 0 media file(s), 0 artifact file(s) and 0 other file(s)"
      ],
      "text/plain": [
       "<IPython.core.display.HTML object>"
      ]
     },
     "metadata": {},
     "output_type": "display_data"
    },
    {
     "data": {
      "text/html": [
       "Find logs at: <code>./wandb/run-20241210_043047-2fwc72gq/logs</code>"
      ],
      "text/plain": [
       "<IPython.core.display.HTML object>"
      ]
     },
     "metadata": {},
     "output_type": "display_data"
    }
   ],
   "source": [
    "wandb.finish()"
   ]
  }
 ],
 "metadata": {
  "accelerator": "GPU",
  "colab": {
   "authorship_tag": "ABX9TyMHPtE9zSAx/xJEeMYdZV7j",
   "gpuType": "T4",
   "provenance": []
  },
  "kernelspec": {
   "display_name": "Python 3",
   "name": "python3"
  },
  "language_info": {
   "name": "python"
  },
  "widgets": {
   "application/vnd.jupyter.widget-state+json": {
    "00115fd8f6b34be79e17a2b66413f3b4": {
     "model_module": "@jupyter-widgets/controls",
     "model_module_version": "1.5.0",
     "model_name": "HTMLModel",
     "state": {
      "_dom_classes": [],
      "_model_module": "@jupyter-widgets/controls",
      "_model_module_version": "1.5.0",
      "_model_name": "HTMLModel",
      "_view_count": null,
      "_view_module": "@jupyter-widgets/controls",
      "_view_module_version": "1.5.0",
      "_view_name": "HTMLView",
      "description": "",
      "description_tooltip": null,
      "layout": "IPY_MODEL_69072b63ae1946aaa7d8dca1c5a6d14a",
      "placeholder": "​",
      "style": "IPY_MODEL_de2254c253694fab9fcd9bb455b36087",
      "value": " 1500/1500 [00:00&lt;00:00, 4046.27 examples/s]"
     }
    },
    "020067a2581143178d003408dc406db4": {
     "model_module": "@jupyter-widgets/base",
     "model_module_version": "1.2.0",
     "model_name": "LayoutModel",
     "state": {
      "_model_module": "@jupyter-widgets/base",
      "_model_module_version": "1.2.0",
      "_model_name": "LayoutModel",
      "_view_count": null,
      "_view_module": "@jupyter-widgets/base",
      "_view_module_version": "1.2.0",
      "_view_name": "LayoutView",
      "align_content": null,
      "align_items": null,
      "align_self": null,
      "border": null,
      "bottom": null,
      "display": null,
      "flex": null,
      "flex_flow": null,
      "grid_area": null,
      "grid_auto_columns": null,
      "grid_auto_flow": null,
      "grid_auto_rows": null,
      "grid_column": null,
      "grid_gap": null,
      "grid_row": null,
      "grid_template_areas": null,
      "grid_template_columns": null,
      "grid_template_rows": null,
      "height": null,
      "justify_content": null,
      "justify_items": null,
      "left": null,
      "margin": null,
      "max_height": null,
      "max_width": null,
      "min_height": null,
      "min_width": null,
      "object_fit": null,
      "object_position": null,
      "order": null,
      "overflow": null,
      "overflow_x": null,
      "overflow_y": null,
      "padding": null,
      "right": null,
      "top": null,
      "visibility": null,
      "width": null
     }
    },
    "06316d15d5f1488f8c192d76cfbbfca2": {
     "model_module": "@jupyter-widgets/controls",
     "model_module_version": "1.5.0",
     "model_name": "FloatProgressModel",
     "state": {
      "_dom_classes": [],
      "_model_module": "@jupyter-widgets/controls",
      "_model_module_version": "1.5.0",
      "_model_name": "FloatProgressModel",
      "_view_count": null,
      "_view_module": "@jupyter-widgets/controls",
      "_view_module_version": "1.5.0",
      "_view_name": "ProgressView",
      "bar_style": "success",
      "description": "",
      "description_tooltip": null,
      "layout": "IPY_MODEL_de1b442c65a746c1a92f275cd40fc581",
      "max": 1500,
      "min": 0,
      "orientation": "horizontal",
      "style": "IPY_MODEL_a3650493559d49b89f1b6af02ebdd73f",
      "value": 1500
     }
    },
    "081b51fa0a7148ba803c97445fe2dd31": {
     "model_module": "@jupyter-widgets/base",
     "model_module_version": "1.2.0",
     "model_name": "LayoutModel",
     "state": {
      "_model_module": "@jupyter-widgets/base",
      "_model_module_version": "1.2.0",
      "_model_name": "LayoutModel",
      "_view_count": null,
      "_view_module": "@jupyter-widgets/base",
      "_view_module_version": "1.2.0",
      "_view_name": "LayoutView",
      "align_content": null,
      "align_items": null,
      "align_self": null,
      "border": null,
      "bottom": null,
      "display": null,
      "flex": null,
      "flex_flow": null,
      "grid_area": null,
      "grid_auto_columns": null,
      "grid_auto_flow": null,
      "grid_auto_rows": null,
      "grid_column": null,
      "grid_gap": null,
      "grid_row": null,
      "grid_template_areas": null,
      "grid_template_columns": null,
      "grid_template_rows": null,
      "height": null,
      "justify_content": null,
      "justify_items": null,
      "left": null,
      "margin": null,
      "max_height": null,
      "max_width": null,
      "min_height": null,
      "min_width": null,
      "object_fit": null,
      "object_position": null,
      "order": null,
      "overflow": null,
      "overflow_x": null,
      "overflow_y": null,
      "padding": null,
      "right": null,
      "top": null,
      "visibility": null,
      "width": null
     }
    },
    "10e0243cdf2e40c78996dcf71d0d3455": {
     "model_module": "@jupyter-widgets/controls",
     "model_module_version": "1.5.0",
     "model_name": "DescriptionStyleModel",
     "state": {
      "_model_module": "@jupyter-widgets/controls",
      "_model_module_version": "1.5.0",
      "_model_name": "DescriptionStyleModel",
      "_view_count": null,
      "_view_module": "@jupyter-widgets/base",
      "_view_module_version": "1.2.0",
      "_view_name": "StyleView",
      "description_width": ""
     }
    },
    "170e540d2daa403fb9995b6bc1771fc9": {
     "model_module": "@jupyter-widgets/base",
     "model_module_version": "1.2.0",
     "model_name": "LayoutModel",
     "state": {
      "_model_module": "@jupyter-widgets/base",
      "_model_module_version": "1.2.0",
      "_model_name": "LayoutModel",
      "_view_count": null,
      "_view_module": "@jupyter-widgets/base",
      "_view_module_version": "1.2.0",
      "_view_name": "LayoutView",
      "align_content": null,
      "align_items": null,
      "align_self": null,
      "border": null,
      "bottom": null,
      "display": null,
      "flex": null,
      "flex_flow": null,
      "grid_area": null,
      "grid_auto_columns": null,
      "grid_auto_flow": null,
      "grid_auto_rows": null,
      "grid_column": null,
      "grid_gap": null,
      "grid_row": null,
      "grid_template_areas": null,
      "grid_template_columns": null,
      "grid_template_rows": null,
      "height": null,
      "justify_content": null,
      "justify_items": null,
      "left": null,
      "margin": null,
      "max_height": null,
      "max_width": null,
      "min_height": null,
      "min_width": null,
      "object_fit": null,
      "object_position": null,
      "order": null,
      "overflow": null,
      "overflow_x": null,
      "overflow_y": null,
      "padding": null,
      "right": null,
      "top": null,
      "visibility": null,
      "width": null
     }
    },
    "181576389fb94d9688bac78ab284ec00": {
     "model_module": "@jupyter-widgets/controls",
     "model_module_version": "1.5.0",
     "model_name": "DescriptionStyleModel",
     "state": {
      "_model_module": "@jupyter-widgets/controls",
      "_model_module_version": "1.5.0",
      "_model_name": "DescriptionStyleModel",
      "_view_count": null,
      "_view_module": "@jupyter-widgets/base",
      "_view_module_version": "1.2.0",
      "_view_name": "StyleView",
      "description_width": ""
     }
    },
    "1c0d7825401e4e1e9c76a620cb9f5bdc": {
     "model_module": "@jupyter-widgets/controls",
     "model_module_version": "1.5.0",
     "model_name": "ProgressStyleModel",
     "state": {
      "_model_module": "@jupyter-widgets/controls",
      "_model_module_version": "1.5.0",
      "_model_name": "ProgressStyleModel",
      "_view_count": null,
      "_view_module": "@jupyter-widgets/base",
      "_view_module_version": "1.2.0",
      "_view_name": "StyleView",
      "bar_color": null,
      "description_width": ""
     }
    },
    "1ceec6dd57df4b46bb57ea7f14ec225e": {
     "model_module": "@jupyter-widgets/controls",
     "model_module_version": "1.5.0",
     "model_name": "DescriptionStyleModel",
     "state": {
      "_model_module": "@jupyter-widgets/controls",
      "_model_module_version": "1.5.0",
      "_model_name": "DescriptionStyleModel",
      "_view_count": null,
      "_view_module": "@jupyter-widgets/base",
      "_view_module_version": "1.2.0",
      "_view_name": "StyleView",
      "description_width": ""
     }
    },
    "1d1a37d471ce42b993774476e7c65514": {
     "model_module": "@jupyter-widgets/controls",
     "model_module_version": "1.5.0",
     "model_name": "ProgressStyleModel",
     "state": {
      "_model_module": "@jupyter-widgets/controls",
      "_model_module_version": "1.5.0",
      "_model_name": "ProgressStyleModel",
      "_view_count": null,
      "_view_module": "@jupyter-widgets/base",
      "_view_module_version": "1.2.0",
      "_view_name": "StyleView",
      "bar_color": null,
      "description_width": ""
     }
    },
    "2333a3e06b1647acb3e4d0833e4b9454": {
     "model_module": "@jupyter-widgets/controls",
     "model_module_version": "1.5.0",
     "model_name": "DescriptionStyleModel",
     "state": {
      "_model_module": "@jupyter-widgets/controls",
      "_model_module_version": "1.5.0",
      "_model_name": "DescriptionStyleModel",
      "_view_count": null,
      "_view_module": "@jupyter-widgets/base",
      "_view_module_version": "1.2.0",
      "_view_name": "StyleView",
      "description_width": ""
     }
    },
    "246d925767ce4809b6ea9c2d384726fb": {
     "model_module": "@jupyter-widgets/base",
     "model_module_version": "1.2.0",
     "model_name": "LayoutModel",
     "state": {
      "_model_module": "@jupyter-widgets/base",
      "_model_module_version": "1.2.0",
      "_model_name": "LayoutModel",
      "_view_count": null,
      "_view_module": "@jupyter-widgets/base",
      "_view_module_version": "1.2.0",
      "_view_name": "LayoutView",
      "align_content": null,
      "align_items": null,
      "align_self": null,
      "border": null,
      "bottom": null,
      "display": null,
      "flex": null,
      "flex_flow": null,
      "grid_area": null,
      "grid_auto_columns": null,
      "grid_auto_flow": null,
      "grid_auto_rows": null,
      "grid_column": null,
      "grid_gap": null,
      "grid_row": null,
      "grid_template_areas": null,
      "grid_template_columns": null,
      "grid_template_rows": null,
      "height": null,
      "justify_content": null,
      "justify_items": null,
      "left": null,
      "margin": null,
      "max_height": null,
      "max_width": null,
      "min_height": null,
      "min_width": null,
      "object_fit": null,
      "object_position": null,
      "order": null,
      "overflow": null,
      "overflow_x": null,
      "overflow_y": null,
      "padding": null,
      "right": null,
      "top": null,
      "visibility": null,
      "width": null
     }
    },
    "286018ff98e54d2da38cef5f9a930107": {
     "model_module": "@jupyter-widgets/controls",
     "model_module_version": "1.5.0",
     "model_name": "DescriptionStyleModel",
     "state": {
      "_model_module": "@jupyter-widgets/controls",
      "_model_module_version": "1.5.0",
      "_model_name": "DescriptionStyleModel",
      "_view_count": null,
      "_view_module": "@jupyter-widgets/base",
      "_view_module_version": "1.2.0",
      "_view_name": "StyleView",
      "description_width": ""
     }
    },
    "2d1b8824270547e6ad50b61c2df4afce": {
     "model_module": "@jupyter-widgets/controls",
     "model_module_version": "1.5.0",
     "model_name": "HTMLModel",
     "state": {
      "_dom_classes": [],
      "_model_module": "@jupyter-widgets/controls",
      "_model_module_version": "1.5.0",
      "_model_name": "HTMLModel",
      "_view_count": null,
      "_view_module": "@jupyter-widgets/controls",
      "_view_module_version": "1.5.0",
      "_view_name": "HTMLView",
      "description": "",
      "description_tooltip": null,
      "layout": "IPY_MODEL_081b51fa0a7148ba803c97445fe2dd31",
      "placeholder": "​",
      "style": "IPY_MODEL_181576389fb94d9688bac78ab284ec00",
      "value": "Map: 100%"
     }
    },
    "2de4f47874a24e18a312e80600b7205a": {
     "model_module": "@jupyter-widgets/base",
     "model_module_version": "1.2.0",
     "model_name": "LayoutModel",
     "state": {
      "_model_module": "@jupyter-widgets/base",
      "_model_module_version": "1.2.0",
      "_model_name": "LayoutModel",
      "_view_count": null,
      "_view_module": "@jupyter-widgets/base",
      "_view_module_version": "1.2.0",
      "_view_name": "LayoutView",
      "align_content": null,
      "align_items": null,
      "align_self": null,
      "border": null,
      "bottom": null,
      "display": null,
      "flex": null,
      "flex_flow": null,
      "grid_area": null,
      "grid_auto_columns": null,
      "grid_auto_flow": null,
      "grid_auto_rows": null,
      "grid_column": null,
      "grid_gap": null,
      "grid_row": null,
      "grid_template_areas": null,
      "grid_template_columns": null,
      "grid_template_rows": null,
      "height": null,
      "justify_content": null,
      "justify_items": null,
      "left": null,
      "margin": null,
      "max_height": null,
      "max_width": null,
      "min_height": null,
      "min_width": null,
      "object_fit": null,
      "object_position": null,
      "order": null,
      "overflow": null,
      "overflow_x": null,
      "overflow_y": null,
      "padding": null,
      "right": null,
      "top": null,
      "visibility": null,
      "width": null
     }
    },
    "3302578aec7a481fb0419842264a9166": {
     "model_module": "@jupyter-widgets/base",
     "model_module_version": "1.2.0",
     "model_name": "LayoutModel",
     "state": {
      "_model_module": "@jupyter-widgets/base",
      "_model_module_version": "1.2.0",
      "_model_name": "LayoutModel",
      "_view_count": null,
      "_view_module": "@jupyter-widgets/base",
      "_view_module_version": "1.2.0",
      "_view_name": "LayoutView",
      "align_content": null,
      "align_items": null,
      "align_self": null,
      "border": null,
      "bottom": null,
      "display": null,
      "flex": null,
      "flex_flow": null,
      "grid_area": null,
      "grid_auto_columns": null,
      "grid_auto_flow": null,
      "grid_auto_rows": null,
      "grid_column": null,
      "grid_gap": null,
      "grid_row": null,
      "grid_template_areas": null,
      "grid_template_columns": null,
      "grid_template_rows": null,
      "height": null,
      "justify_content": null,
      "justify_items": null,
      "left": null,
      "margin": null,
      "max_height": null,
      "max_width": null,
      "min_height": null,
      "min_width": null,
      "object_fit": null,
      "object_position": null,
      "order": null,
      "overflow": null,
      "overflow_x": null,
      "overflow_y": null,
      "padding": null,
      "right": null,
      "top": null,
      "visibility": null,
      "width": null
     }
    },
    "362661d6a943421892d57a94769f982d": {
     "model_module": "@jupyter-widgets/controls",
     "model_module_version": "1.5.0",
     "model_name": "HTMLModel",
     "state": {
      "_dom_classes": [],
      "_model_module": "@jupyter-widgets/controls",
      "_model_module_version": "1.5.0",
      "_model_name": "HTMLModel",
      "_view_count": null,
      "_view_module": "@jupyter-widgets/controls",
      "_view_module_version": "1.5.0",
      "_view_name": "HTMLView",
      "description": "",
      "description_tooltip": null,
      "layout": "IPY_MODEL_d6fd9655417246438c25e7ccb013e0c6",
      "placeholder": "​",
      "style": "IPY_MODEL_286018ff98e54d2da38cef5f9a930107",
      "value": " 1500/1500 [00:00&lt;00:00, 2362.94 examples/s]"
     }
    },
    "371a023f92d4461f8a63b7fbf8c4f3e9": {
     "model_module": "@jupyter-widgets/base",
     "model_module_version": "1.2.0",
     "model_name": "LayoutModel",
     "state": {
      "_model_module": "@jupyter-widgets/base",
      "_model_module_version": "1.2.0",
      "_model_name": "LayoutModel",
      "_view_count": null,
      "_view_module": "@jupyter-widgets/base",
      "_view_module_version": "1.2.0",
      "_view_name": "LayoutView",
      "align_content": null,
      "align_items": null,
      "align_self": null,
      "border": null,
      "bottom": null,
      "display": null,
      "flex": null,
      "flex_flow": null,
      "grid_area": null,
      "grid_auto_columns": null,
      "grid_auto_flow": null,
      "grid_auto_rows": null,
      "grid_column": null,
      "grid_gap": null,
      "grid_row": null,
      "grid_template_areas": null,
      "grid_template_columns": null,
      "grid_template_rows": null,
      "height": null,
      "justify_content": null,
      "justify_items": null,
      "left": null,
      "margin": null,
      "max_height": null,
      "max_width": null,
      "min_height": null,
      "min_width": null,
      "object_fit": null,
      "object_position": null,
      "order": null,
      "overflow": null,
      "overflow_x": null,
      "overflow_y": null,
      "padding": null,
      "right": null,
      "top": null,
      "visibility": null,
      "width": null
     }
    },
    "3b2796c3f7f64708a6a804f3c4ad96b8": {
     "model_module": "@jupyter-widgets/controls",
     "model_module_version": "1.5.0",
     "model_name": "DescriptionStyleModel",
     "state": {
      "_model_module": "@jupyter-widgets/controls",
      "_model_module_version": "1.5.0",
      "_model_name": "DescriptionStyleModel",
      "_view_count": null,
      "_view_module": "@jupyter-widgets/base",
      "_view_module_version": "1.2.0",
      "_view_name": "StyleView",
      "description_width": ""
     }
    },
    "3caa1119533649d783d1e8d64284de7d": {
     "model_module": "@jupyter-widgets/controls",
     "model_module_version": "1.5.0",
     "model_name": "HBoxModel",
     "state": {
      "_dom_classes": [],
      "_model_module": "@jupyter-widgets/controls",
      "_model_module_version": "1.5.0",
      "_model_name": "HBoxModel",
      "_view_count": null,
      "_view_module": "@jupyter-widgets/controls",
      "_view_module_version": "1.5.0",
      "_view_name": "HBoxView",
      "box_style": "",
      "children": [
       "IPY_MODEL_9363db920d6944b5a897535feb15b65f",
       "IPY_MODEL_41fa30884a154896a1613927c1827355",
       "IPY_MODEL_7f48abaec8fa4365be63395f4deffaa8"
      ],
      "layout": "IPY_MODEL_970d266f56144f9e816d630038017703"
     }
    },
    "3d0995cfe28d477fa50ef92c62dfdf2e": {
     "model_module": "@jupyter-widgets/controls",
     "model_module_version": "1.5.0",
     "model_name": "DescriptionStyleModel",
     "state": {
      "_model_module": "@jupyter-widgets/controls",
      "_model_module_version": "1.5.0",
      "_model_name": "DescriptionStyleModel",
      "_view_count": null,
      "_view_module": "@jupyter-widgets/base",
      "_view_module_version": "1.2.0",
      "_view_name": "StyleView",
      "description_width": ""
     }
    },
    "41fa30884a154896a1613927c1827355": {
     "model_module": "@jupyter-widgets/controls",
     "model_module_version": "1.5.0",
     "model_name": "FloatProgressModel",
     "state": {
      "_dom_classes": [],
      "_model_module": "@jupyter-widgets/controls",
      "_model_module_version": "1.5.0",
      "_model_name": "FloatProgressModel",
      "_view_count": null,
      "_view_module": "@jupyter-widgets/controls",
      "_view_module_version": "1.5.0",
      "_view_name": "ProgressView",
      "bar_style": "success",
      "description": "",
      "description_tooltip": null,
      "layout": "IPY_MODEL_caa5e4c003234ec98d2fadf5109cb514",
      "max": 1500,
      "min": 0,
      "orientation": "horizontal",
      "style": "IPY_MODEL_a7a45f448e38479497b6266e4dac9cd5",
      "value": 1500
     }
    },
    "43a5deba70c54a7482ca4353a9eb5450": {
     "model_module": "@jupyter-widgets/base",
     "model_module_version": "1.2.0",
     "model_name": "LayoutModel",
     "state": {
      "_model_module": "@jupyter-widgets/base",
      "_model_module_version": "1.2.0",
      "_model_name": "LayoutModel",
      "_view_count": null,
      "_view_module": "@jupyter-widgets/base",
      "_view_module_version": "1.2.0",
      "_view_name": "LayoutView",
      "align_content": null,
      "align_items": null,
      "align_self": null,
      "border": null,
      "bottom": null,
      "display": null,
      "flex": null,
      "flex_flow": null,
      "grid_area": null,
      "grid_auto_columns": null,
      "grid_auto_flow": null,
      "grid_auto_rows": null,
      "grid_column": null,
      "grid_gap": null,
      "grid_row": null,
      "grid_template_areas": null,
      "grid_template_columns": null,
      "grid_template_rows": null,
      "height": null,
      "justify_content": null,
      "justify_items": null,
      "left": null,
      "margin": null,
      "max_height": null,
      "max_width": null,
      "min_height": null,
      "min_width": null,
      "object_fit": null,
      "object_position": null,
      "order": null,
      "overflow": null,
      "overflow_x": null,
      "overflow_y": null,
      "padding": null,
      "right": null,
      "top": null,
      "visibility": null,
      "width": null
     }
    },
    "44847d6cb73e4b2d97a3bd02ed4f24ca": {
     "model_module": "@jupyter-widgets/controls",
     "model_module_version": "1.5.0",
     "model_name": "FloatProgressModel",
     "state": {
      "_dom_classes": [],
      "_model_module": "@jupyter-widgets/controls",
      "_model_module_version": "1.5.0",
      "_model_name": "FloatProgressModel",
      "_view_count": null,
      "_view_module": "@jupyter-widgets/controls",
      "_view_module_version": "1.5.0",
      "_view_name": "ProgressView",
      "bar_style": "success",
      "description": "",
      "description_tooltip": null,
      "layout": "IPY_MODEL_246d925767ce4809b6ea9c2d384726fb",
      "max": 1500,
      "min": 0,
      "orientation": "horizontal",
      "style": "IPY_MODEL_a2d89b70143a4309ae9803d8c91361b7",
      "value": 1500
     }
    },
    "46083e12d8444d3ca16eb7d78eae5739": {
     "model_module": "@jupyter-widgets/base",
     "model_module_version": "1.2.0",
     "model_name": "LayoutModel",
     "state": {
      "_model_module": "@jupyter-widgets/base",
      "_model_module_version": "1.2.0",
      "_model_name": "LayoutModel",
      "_view_count": null,
      "_view_module": "@jupyter-widgets/base",
      "_view_module_version": "1.2.0",
      "_view_name": "LayoutView",
      "align_content": null,
      "align_items": null,
      "align_self": null,
      "border": null,
      "bottom": null,
      "display": null,
      "flex": null,
      "flex_flow": null,
      "grid_area": null,
      "grid_auto_columns": null,
      "grid_auto_flow": null,
      "grid_auto_rows": null,
      "grid_column": null,
      "grid_gap": null,
      "grid_row": null,
      "grid_template_areas": null,
      "grid_template_columns": null,
      "grid_template_rows": null,
      "height": null,
      "justify_content": null,
      "justify_items": null,
      "left": null,
      "margin": null,
      "max_height": null,
      "max_width": null,
      "min_height": null,
      "min_width": null,
      "object_fit": null,
      "object_position": null,
      "order": null,
      "overflow": null,
      "overflow_x": null,
      "overflow_y": null,
      "padding": null,
      "right": null,
      "top": null,
      "visibility": null,
      "width": null
     }
    },
    "463e2a818203467e8096c043b9b0a776": {
     "model_module": "@jupyter-widgets/base",
     "model_module_version": "1.2.0",
     "model_name": "LayoutModel",
     "state": {
      "_model_module": "@jupyter-widgets/base",
      "_model_module_version": "1.2.0",
      "_model_name": "LayoutModel",
      "_view_count": null,
      "_view_module": "@jupyter-widgets/base",
      "_view_module_version": "1.2.0",
      "_view_name": "LayoutView",
      "align_content": null,
      "align_items": null,
      "align_self": null,
      "border": null,
      "bottom": null,
      "display": null,
      "flex": null,
      "flex_flow": null,
      "grid_area": null,
      "grid_auto_columns": null,
      "grid_auto_flow": null,
      "grid_auto_rows": null,
      "grid_column": null,
      "grid_gap": null,
      "grid_row": null,
      "grid_template_areas": null,
      "grid_template_columns": null,
      "grid_template_rows": null,
      "height": null,
      "justify_content": null,
      "justify_items": null,
      "left": null,
      "margin": null,
      "max_height": null,
      "max_width": null,
      "min_height": null,
      "min_width": null,
      "object_fit": null,
      "object_position": null,
      "order": null,
      "overflow": null,
      "overflow_x": null,
      "overflow_y": null,
      "padding": null,
      "right": null,
      "top": null,
      "visibility": null,
      "width": null
     }
    },
    "46bbf3097b0b4937968b3e9f9f0da38b": {
     "model_module": "@jupyter-widgets/base",
     "model_module_version": "1.2.0",
     "model_name": "LayoutModel",
     "state": {
      "_model_module": "@jupyter-widgets/base",
      "_model_module_version": "1.2.0",
      "_model_name": "LayoutModel",
      "_view_count": null,
      "_view_module": "@jupyter-widgets/base",
      "_view_module_version": "1.2.0",
      "_view_name": "LayoutView",
      "align_content": null,
      "align_items": null,
      "align_self": null,
      "border": null,
      "bottom": null,
      "display": null,
      "flex": null,
      "flex_flow": null,
      "grid_area": null,
      "grid_auto_columns": null,
      "grid_auto_flow": null,
      "grid_auto_rows": null,
      "grid_column": null,
      "grid_gap": null,
      "grid_row": null,
      "grid_template_areas": null,
      "grid_template_columns": null,
      "grid_template_rows": null,
      "height": null,
      "justify_content": null,
      "justify_items": null,
      "left": null,
      "margin": null,
      "max_height": null,
      "max_width": null,
      "min_height": null,
      "min_width": null,
      "object_fit": null,
      "object_position": null,
      "order": null,
      "overflow": null,
      "overflow_x": null,
      "overflow_y": null,
      "padding": null,
      "right": null,
      "top": null,
      "visibility": null,
      "width": null
     }
    },
    "4cc889fd55a14049a7200ba6487862cf": {
     "model_module": "@jupyter-widgets/base",
     "model_module_version": "1.2.0",
     "model_name": "LayoutModel",
     "state": {
      "_model_module": "@jupyter-widgets/base",
      "_model_module_version": "1.2.0",
      "_model_name": "LayoutModel",
      "_view_count": null,
      "_view_module": "@jupyter-widgets/base",
      "_view_module_version": "1.2.0",
      "_view_name": "LayoutView",
      "align_content": null,
      "align_items": null,
      "align_self": null,
      "border": null,
      "bottom": null,
      "display": null,
      "flex": null,
      "flex_flow": null,
      "grid_area": null,
      "grid_auto_columns": null,
      "grid_auto_flow": null,
      "grid_auto_rows": null,
      "grid_column": null,
      "grid_gap": null,
      "grid_row": null,
      "grid_template_areas": null,
      "grid_template_columns": null,
      "grid_template_rows": null,
      "height": null,
      "justify_content": null,
      "justify_items": null,
      "left": null,
      "margin": null,
      "max_height": null,
      "max_width": null,
      "min_height": null,
      "min_width": null,
      "object_fit": null,
      "object_position": null,
      "order": null,
      "overflow": null,
      "overflow_x": null,
      "overflow_y": null,
      "padding": null,
      "right": null,
      "top": null,
      "visibility": null,
      "width": null
     }
    },
    "4dee641771bb4df9b842cc98b4fe363e": {
     "model_module": "@jupyter-widgets/base",
     "model_module_version": "1.2.0",
     "model_name": "LayoutModel",
     "state": {
      "_model_module": "@jupyter-widgets/base",
      "_model_module_version": "1.2.0",
      "_model_name": "LayoutModel",
      "_view_count": null,
      "_view_module": "@jupyter-widgets/base",
      "_view_module_version": "1.2.0",
      "_view_name": "LayoutView",
      "align_content": null,
      "align_items": null,
      "align_self": null,
      "border": null,
      "bottom": null,
      "display": null,
      "flex": null,
      "flex_flow": null,
      "grid_area": null,
      "grid_auto_columns": null,
      "grid_auto_flow": null,
      "grid_auto_rows": null,
      "grid_column": null,
      "grid_gap": null,
      "grid_row": null,
      "grid_template_areas": null,
      "grid_template_columns": null,
      "grid_template_rows": null,
      "height": null,
      "justify_content": null,
      "justify_items": null,
      "left": null,
      "margin": null,
      "max_height": null,
      "max_width": null,
      "min_height": null,
      "min_width": null,
      "object_fit": null,
      "object_position": null,
      "order": null,
      "overflow": null,
      "overflow_x": null,
      "overflow_y": null,
      "padding": null,
      "right": null,
      "top": null,
      "visibility": null,
      "width": null
     }
    },
    "50ba4780e9d342658612001f548cba78": {
     "model_module": "@jupyter-widgets/controls",
     "model_module_version": "1.5.0",
     "model_name": "ProgressStyleModel",
     "state": {
      "_model_module": "@jupyter-widgets/controls",
      "_model_module_version": "1.5.0",
      "_model_name": "ProgressStyleModel",
      "_view_count": null,
      "_view_module": "@jupyter-widgets/base",
      "_view_module_version": "1.2.0",
      "_view_name": "StyleView",
      "bar_color": null,
      "description_width": ""
     }
    },
    "525e3c8e8fe044cea0f6977b0094e0d8": {
     "model_module": "@jupyter-widgets/controls",
     "model_module_version": "1.5.0",
     "model_name": "HTMLModel",
     "state": {
      "_dom_classes": [],
      "_model_module": "@jupyter-widgets/controls",
      "_model_module_version": "1.5.0",
      "_model_name": "HTMLModel",
      "_view_count": null,
      "_view_module": "@jupyter-widgets/controls",
      "_view_module_version": "1.5.0",
      "_view_name": "HTMLView",
      "description": "",
      "description_tooltip": null,
      "layout": "IPY_MODEL_170e540d2daa403fb9995b6bc1771fc9",
      "placeholder": "​",
      "style": "IPY_MODEL_575ac84764714294902099defe4f9871",
      "value": "Map: 100%"
     }
    },
    "575ac84764714294902099defe4f9871": {
     "model_module": "@jupyter-widgets/controls",
     "model_module_version": "1.5.0",
     "model_name": "DescriptionStyleModel",
     "state": {
      "_model_module": "@jupyter-widgets/controls",
      "_model_module_version": "1.5.0",
      "_model_name": "DescriptionStyleModel",
      "_view_count": null,
      "_view_module": "@jupyter-widgets/base",
      "_view_module_version": "1.2.0",
      "_view_name": "StyleView",
      "description_width": ""
     }
    },
    "5e04f43930d34a3799605d47660c73fe": {
     "model_module": "@jupyter-widgets/controls",
     "model_module_version": "1.5.0",
     "model_name": "HBoxModel",
     "state": {
      "_dom_classes": [],
      "_model_module": "@jupyter-widgets/controls",
      "_model_module_version": "1.5.0",
      "_model_name": "HBoxModel",
      "_view_count": null,
      "_view_module": "@jupyter-widgets/controls",
      "_view_module_version": "1.5.0",
      "_view_name": "HBoxView",
      "box_style": "",
      "children": [
       "IPY_MODEL_525e3c8e8fe044cea0f6977b0094e0d8",
       "IPY_MODEL_06316d15d5f1488f8c192d76cfbbfca2",
       "IPY_MODEL_ea4dc1e085914ae5a5c3128e12d0c1d3"
      ],
      "layout": "IPY_MODEL_4dee641771bb4df9b842cc98b4fe363e"
     }
    },
    "62c6d51a123747858745dd6f32e6b14c": {
     "model_module": "@jupyter-widgets/base",
     "model_module_version": "1.2.0",
     "model_name": "LayoutModel",
     "state": {
      "_model_module": "@jupyter-widgets/base",
      "_model_module_version": "1.2.0",
      "_model_name": "LayoutModel",
      "_view_count": null,
      "_view_module": "@jupyter-widgets/base",
      "_view_module_version": "1.2.0",
      "_view_name": "LayoutView",
      "align_content": null,
      "align_items": null,
      "align_self": null,
      "border": null,
      "bottom": null,
      "display": null,
      "flex": null,
      "flex_flow": null,
      "grid_area": null,
      "grid_auto_columns": null,
      "grid_auto_flow": null,
      "grid_auto_rows": null,
      "grid_column": null,
      "grid_gap": null,
      "grid_row": null,
      "grid_template_areas": null,
      "grid_template_columns": null,
      "grid_template_rows": null,
      "height": null,
      "justify_content": null,
      "justify_items": null,
      "left": null,
      "margin": null,
      "max_height": null,
      "max_width": null,
      "min_height": null,
      "min_width": null,
      "object_fit": null,
      "object_position": null,
      "order": null,
      "overflow": null,
      "overflow_x": null,
      "overflow_y": null,
      "padding": null,
      "right": null,
      "top": null,
      "visibility": null,
      "width": null
     }
    },
    "69072b63ae1946aaa7d8dca1c5a6d14a": {
     "model_module": "@jupyter-widgets/base",
     "model_module_version": "1.2.0",
     "model_name": "LayoutModel",
     "state": {
      "_model_module": "@jupyter-widgets/base",
      "_model_module_version": "1.2.0",
      "_model_name": "LayoutModel",
      "_view_count": null,
      "_view_module": "@jupyter-widgets/base",
      "_view_module_version": "1.2.0",
      "_view_name": "LayoutView",
      "align_content": null,
      "align_items": null,
      "align_self": null,
      "border": null,
      "bottom": null,
      "display": null,
      "flex": null,
      "flex_flow": null,
      "grid_area": null,
      "grid_auto_columns": null,
      "grid_auto_flow": null,
      "grid_auto_rows": null,
      "grid_column": null,
      "grid_gap": null,
      "grid_row": null,
      "grid_template_areas": null,
      "grid_template_columns": null,
      "grid_template_rows": null,
      "height": null,
      "justify_content": null,
      "justify_items": null,
      "left": null,
      "margin": null,
      "max_height": null,
      "max_width": null,
      "min_height": null,
      "min_width": null,
      "object_fit": null,
      "object_position": null,
      "order": null,
      "overflow": null,
      "overflow_x": null,
      "overflow_y": null,
      "padding": null,
      "right": null,
      "top": null,
      "visibility": null,
      "width": null
     }
    },
    "6938401b927243a6bae4cf561d299d28": {
     "model_module": "@jupyter-widgets/controls",
     "model_module_version": "1.5.0",
     "model_name": "HTMLModel",
     "state": {
      "_dom_classes": [],
      "_model_module": "@jupyter-widgets/controls",
      "_model_module_version": "1.5.0",
      "_model_name": "HTMLModel",
      "_view_count": null,
      "_view_module": "@jupyter-widgets/controls",
      "_view_module_version": "1.5.0",
      "_view_name": "HTMLView",
      "description": "",
      "description_tooltip": null,
      "layout": "IPY_MODEL_463e2a818203467e8096c043b9b0a776",
      "placeholder": "​",
      "style": "IPY_MODEL_e38d052e7eac49dc9ef3170a7ac43f1d",
      "value": " 1500/1500 [00:00&lt;00:00, 3753.70 examples/s]"
     }
    },
    "6a3155069d1a4d569860fa766eb7465f": {
     "model_module": "@jupyter-widgets/controls",
     "model_module_version": "1.5.0",
     "model_name": "FloatProgressModel",
     "state": {
      "_dom_classes": [],
      "_model_module": "@jupyter-widgets/controls",
      "_model_module_version": "1.5.0",
      "_model_name": "FloatProgressModel",
      "_view_count": null,
      "_view_module": "@jupyter-widgets/controls",
      "_view_module_version": "1.5.0",
      "_view_name": "ProgressView",
      "bar_style": "success",
      "description": "",
      "description_tooltip": null,
      "layout": "IPY_MODEL_fe41b0e085da42228519a00b576715f7",
      "max": 1500,
      "min": 0,
      "orientation": "horizontal",
      "style": "IPY_MODEL_50ba4780e9d342658612001f548cba78",
      "value": 1500
     }
    },
    "6a55e4f4f4d3455c82db9f9241b14359": {
     "model_module": "@jupyter-widgets/controls",
     "model_module_version": "1.5.0",
     "model_name": "HTMLModel",
     "state": {
      "_dom_classes": [],
      "_model_module": "@jupyter-widgets/controls",
      "_model_module_version": "1.5.0",
      "_model_name": "HTMLModel",
      "_view_count": null,
      "_view_module": "@jupyter-widgets/controls",
      "_view_module_version": "1.5.0",
      "_view_name": "HTMLView",
      "description": "",
      "description_tooltip": null,
      "layout": "IPY_MODEL_fe478884973042cb886ef5c508eacab9",
      "placeholder": "​",
      "style": "IPY_MODEL_cb55859c2702485b9d426c5a0f566242",
      "value": "Filter: 100%"
     }
    },
    "6cd95b7d33ff403081c9dc7cbf119869": {
     "model_module": "@jupyter-widgets/controls",
     "model_module_version": "1.5.0",
     "model_name": "FloatProgressModel",
     "state": {
      "_dom_classes": [],
      "_model_module": "@jupyter-widgets/controls",
      "_model_module_version": "1.5.0",
      "_model_name": "FloatProgressModel",
      "_view_count": null,
      "_view_module": "@jupyter-widgets/controls",
      "_view_module_version": "1.5.0",
      "_view_name": "ProgressView",
      "bar_style": "success",
      "description": "",
      "description_tooltip": null,
      "layout": "IPY_MODEL_bec6d36fb3e0467ba7a9da4105d61dc8",
      "max": 1500,
      "min": 0,
      "orientation": "horizontal",
      "style": "IPY_MODEL_1c0d7825401e4e1e9c76a620cb9f5bdc",
      "value": 1500
     }
    },
    "7148d509d9fa4b6cb5855b9ded042db3": {
     "model_module": "@jupyter-widgets/base",
     "model_module_version": "1.2.0",
     "model_name": "LayoutModel",
     "state": {
      "_model_module": "@jupyter-widgets/base",
      "_model_module_version": "1.2.0",
      "_model_name": "LayoutModel",
      "_view_count": null,
      "_view_module": "@jupyter-widgets/base",
      "_view_module_version": "1.2.0",
      "_view_name": "LayoutView",
      "align_content": null,
      "align_items": null,
      "align_self": null,
      "border": null,
      "bottom": null,
      "display": null,
      "flex": null,
      "flex_flow": null,
      "grid_area": null,
      "grid_auto_columns": null,
      "grid_auto_flow": null,
      "grid_auto_rows": null,
      "grid_column": null,
      "grid_gap": null,
      "grid_row": null,
      "grid_template_areas": null,
      "grid_template_columns": null,
      "grid_template_rows": null,
      "height": null,
      "justify_content": null,
      "justify_items": null,
      "left": null,
      "margin": null,
      "max_height": null,
      "max_width": null,
      "min_height": null,
      "min_width": null,
      "object_fit": null,
      "object_position": null,
      "order": null,
      "overflow": null,
      "overflow_x": null,
      "overflow_y": null,
      "padding": null,
      "right": null,
      "top": null,
      "visibility": null,
      "width": null
     }
    },
    "7505c44df3ed4ed28cef0054d2ea7f2d": {
     "model_module": "@jupyter-widgets/controls",
     "model_module_version": "1.5.0",
     "model_name": "DescriptionStyleModel",
     "state": {
      "_model_module": "@jupyter-widgets/controls",
      "_model_module_version": "1.5.0",
      "_model_name": "DescriptionStyleModel",
      "_view_count": null,
      "_view_module": "@jupyter-widgets/base",
      "_view_module_version": "1.2.0",
      "_view_name": "StyleView",
      "description_width": ""
     }
    },
    "76e402e36bab4e3093c116c7efeca0e7": {
     "model_module": "@jupyter-widgets/base",
     "model_module_version": "1.2.0",
     "model_name": "LayoutModel",
     "state": {
      "_model_module": "@jupyter-widgets/base",
      "_model_module_version": "1.2.0",
      "_model_name": "LayoutModel",
      "_view_count": null,
      "_view_module": "@jupyter-widgets/base",
      "_view_module_version": "1.2.0",
      "_view_name": "LayoutView",
      "align_content": null,
      "align_items": null,
      "align_self": null,
      "border": null,
      "bottom": null,
      "display": null,
      "flex": null,
      "flex_flow": null,
      "grid_area": null,
      "grid_auto_columns": null,
      "grid_auto_flow": null,
      "grid_auto_rows": null,
      "grid_column": null,
      "grid_gap": null,
      "grid_row": null,
      "grid_template_areas": null,
      "grid_template_columns": null,
      "grid_template_rows": null,
      "height": null,
      "justify_content": null,
      "justify_items": null,
      "left": null,
      "margin": null,
      "max_height": null,
      "max_width": null,
      "min_height": null,
      "min_width": null,
      "object_fit": null,
      "object_position": null,
      "order": null,
      "overflow": null,
      "overflow_x": null,
      "overflow_y": null,
      "padding": null,
      "right": null,
      "top": null,
      "visibility": null,
      "width": null
     }
    },
    "786dc610247b468cbd4ea26c49f78cb2": {
     "model_module": "@jupyter-widgets/controls",
     "model_module_version": "1.5.0",
     "model_name": "HTMLModel",
     "state": {
      "_dom_classes": [],
      "_model_module": "@jupyter-widgets/controls",
      "_model_module_version": "1.5.0",
      "_model_name": "HTMLModel",
      "_view_count": null,
      "_view_module": "@jupyter-widgets/controls",
      "_view_module_version": "1.5.0",
      "_view_name": "HTMLView",
      "description": "",
      "description_tooltip": null,
      "layout": "IPY_MODEL_76e402e36bab4e3093c116c7efeca0e7",
      "placeholder": "​",
      "style": "IPY_MODEL_3d0995cfe28d477fa50ef92c62dfdf2e",
      "value": "Map: 100%"
     }
    },
    "789c6f2206ba41fdbb7f2af612a32e71": {
     "model_module": "@jupyter-widgets/controls",
     "model_module_version": "1.5.0",
     "model_name": "FloatProgressModel",
     "state": {
      "_dom_classes": [],
      "_model_module": "@jupyter-widgets/controls",
      "_model_module_version": "1.5.0",
      "_model_name": "FloatProgressModel",
      "_view_count": null,
      "_view_module": "@jupyter-widgets/controls",
      "_view_module_version": "1.5.0",
      "_view_name": "ProgressView",
      "bar_style": "success",
      "description": "",
      "description_tooltip": null,
      "layout": "IPY_MODEL_2de4f47874a24e18a312e80600b7205a",
      "max": 1500,
      "min": 0,
      "orientation": "horizontal",
      "style": "IPY_MODEL_bc2c575f5cd243a88b910ec3dfd91301",
      "value": 1500
     }
    },
    "7dcc0a92e75c49a38d899cda29058c4d": {
     "model_module": "@jupyter-widgets/controls",
     "model_module_version": "1.5.0",
     "model_name": "HTMLModel",
     "state": {
      "_dom_classes": [],
      "_model_module": "@jupyter-widgets/controls",
      "_model_module_version": "1.5.0",
      "_model_name": "HTMLModel",
      "_view_count": null,
      "_view_module": "@jupyter-widgets/controls",
      "_view_module_version": "1.5.0",
      "_view_name": "HTMLView",
      "description": "",
      "description_tooltip": null,
      "layout": "IPY_MODEL_46bbf3097b0b4937968b3e9f9f0da38b",
      "placeholder": "​",
      "style": "IPY_MODEL_3b2796c3f7f64708a6a804f3c4ad96b8",
      "value": " 1500/1500 [00:00&lt;00:00, 2402.72 examples/s]"
     }
    },
    "7f48abaec8fa4365be63395f4deffaa8": {
     "model_module": "@jupyter-widgets/controls",
     "model_module_version": "1.5.0",
     "model_name": "HTMLModel",
     "state": {
      "_dom_classes": [],
      "_model_module": "@jupyter-widgets/controls",
      "_model_module_version": "1.5.0",
      "_model_name": "HTMLModel",
      "_view_count": null,
      "_view_module": "@jupyter-widgets/controls",
      "_view_module_version": "1.5.0",
      "_view_name": "HTMLView",
      "description": "",
      "description_tooltip": null,
      "layout": "IPY_MODEL_46083e12d8444d3ca16eb7d78eae5739",
      "placeholder": "​",
      "style": "IPY_MODEL_954ae3c777a946c2b618875fa6edf2a3",
      "value": " 1500/1500 [00:00&lt;00:00, 2270.63 examples/s]"
     }
    },
    "87bfe030eb0e4a34aa3939ff6ce92d32": {
     "model_module": "@jupyter-widgets/controls",
     "model_module_version": "1.5.0",
     "model_name": "HBoxModel",
     "state": {
      "_dom_classes": [],
      "_model_module": "@jupyter-widgets/controls",
      "_model_module_version": "1.5.0",
      "_model_name": "HBoxModel",
      "_view_count": null,
      "_view_module": "@jupyter-widgets/controls",
      "_view_module_version": "1.5.0",
      "_view_name": "HBoxView",
      "box_style": "",
      "children": [
       "IPY_MODEL_2d1b8824270547e6ad50b61c2df4afce",
       "IPY_MODEL_dd4b28aaa60342558b36ea96f504e275",
       "IPY_MODEL_f8ecc58cf281433b82bc73cdd9eeb85b"
      ],
      "layout": "IPY_MODEL_e7f5e7fae49e488c9f449ea9d0697545"
     }
    },
    "87d455a988964c4682b44ac2ad44b8d0": {
     "model_module": "@jupyter-widgets/controls",
     "model_module_version": "1.5.0",
     "model_name": "FloatProgressModel",
     "state": {
      "_dom_classes": [],
      "_model_module": "@jupyter-widgets/controls",
      "_model_module_version": "1.5.0",
      "_model_name": "FloatProgressModel",
      "_view_count": null,
      "_view_module": "@jupyter-widgets/controls",
      "_view_module_version": "1.5.0",
      "_view_name": "ProgressView",
      "bar_style": "success",
      "description": "",
      "description_tooltip": null,
      "layout": "IPY_MODEL_43a5deba70c54a7482ca4353a9eb5450",
      "max": 1500,
      "min": 0,
      "orientation": "horizontal",
      "style": "IPY_MODEL_ecfe9d4969554ab8b7bd1505b7bd37ab",
      "value": 1500
     }
    },
    "87f70feea748450ba746033a3a6f1a17": {
     "model_module": "@jupyter-widgets/base",
     "model_module_version": "1.2.0",
     "model_name": "LayoutModel",
     "state": {
      "_model_module": "@jupyter-widgets/base",
      "_model_module_version": "1.2.0",
      "_model_name": "LayoutModel",
      "_view_count": null,
      "_view_module": "@jupyter-widgets/base",
      "_view_module_version": "1.2.0",
      "_view_name": "LayoutView",
      "align_content": null,
      "align_items": null,
      "align_self": null,
      "border": null,
      "bottom": null,
      "display": null,
      "flex": null,
      "flex_flow": null,
      "grid_area": null,
      "grid_auto_columns": null,
      "grid_auto_flow": null,
      "grid_auto_rows": null,
      "grid_column": null,
      "grid_gap": null,
      "grid_row": null,
      "grid_template_areas": null,
      "grid_template_columns": null,
      "grid_template_rows": null,
      "height": null,
      "justify_content": null,
      "justify_items": null,
      "left": null,
      "margin": null,
      "max_height": null,
      "max_width": null,
      "min_height": null,
      "min_width": null,
      "object_fit": null,
      "object_position": null,
      "order": null,
      "overflow": null,
      "overflow_x": null,
      "overflow_y": null,
      "padding": null,
      "right": null,
      "top": null,
      "visibility": null,
      "width": null
     }
    },
    "8c99cb3eafc24ff5b9e5443999e7a76b": {
     "model_module": "@jupyter-widgets/controls",
     "model_module_version": "1.5.0",
     "model_name": "DescriptionStyleModel",
     "state": {
      "_model_module": "@jupyter-widgets/controls",
      "_model_module_version": "1.5.0",
      "_model_name": "DescriptionStyleModel",
      "_view_count": null,
      "_view_module": "@jupyter-widgets/base",
      "_view_module_version": "1.2.0",
      "_view_name": "StyleView",
      "description_width": ""
     }
    },
    "90364bf157b840cfbf644d4f5d2aa5bb": {
     "model_module": "@jupyter-widgets/base",
     "model_module_version": "1.2.0",
     "model_name": "LayoutModel",
     "state": {
      "_model_module": "@jupyter-widgets/base",
      "_model_module_version": "1.2.0",
      "_model_name": "LayoutModel",
      "_view_count": null,
      "_view_module": "@jupyter-widgets/base",
      "_view_module_version": "1.2.0",
      "_view_name": "LayoutView",
      "align_content": null,
      "align_items": null,
      "align_self": null,
      "border": null,
      "bottom": null,
      "display": null,
      "flex": null,
      "flex_flow": null,
      "grid_area": null,
      "grid_auto_columns": null,
      "grid_auto_flow": null,
      "grid_auto_rows": null,
      "grid_column": null,
      "grid_gap": null,
      "grid_row": null,
      "grid_template_areas": null,
      "grid_template_columns": null,
      "grid_template_rows": null,
      "height": null,
      "justify_content": null,
      "justify_items": null,
      "left": null,
      "margin": null,
      "max_height": null,
      "max_width": null,
      "min_height": null,
      "min_width": null,
      "object_fit": null,
      "object_position": null,
      "order": null,
      "overflow": null,
      "overflow_x": null,
      "overflow_y": null,
      "padding": null,
      "right": null,
      "top": null,
      "visibility": null,
      "width": null
     }
    },
    "9363db920d6944b5a897535feb15b65f": {
     "model_module": "@jupyter-widgets/controls",
     "model_module_version": "1.5.0",
     "model_name": "HTMLModel",
     "state": {
      "_dom_classes": [],
      "_model_module": "@jupyter-widgets/controls",
      "_model_module_version": "1.5.0",
      "_model_name": "HTMLModel",
      "_view_count": null,
      "_view_module": "@jupyter-widgets/controls",
      "_view_module_version": "1.5.0",
      "_view_name": "HTMLView",
      "description": "",
      "description_tooltip": null,
      "layout": "IPY_MODEL_4cc889fd55a14049a7200ba6487862cf",
      "placeholder": "​",
      "style": "IPY_MODEL_8c99cb3eafc24ff5b9e5443999e7a76b",
      "value": "Filter: 100%"
     }
    },
    "954ae3c777a946c2b618875fa6edf2a3": {
     "model_module": "@jupyter-widgets/controls",
     "model_module_version": "1.5.0",
     "model_name": "DescriptionStyleModel",
     "state": {
      "_model_module": "@jupyter-widgets/controls",
      "_model_module_version": "1.5.0",
      "_model_name": "DescriptionStyleModel",
      "_view_count": null,
      "_view_module": "@jupyter-widgets/base",
      "_view_module_version": "1.2.0",
      "_view_name": "StyleView",
      "description_width": ""
     }
    },
    "970d266f56144f9e816d630038017703": {
     "model_module": "@jupyter-widgets/base",
     "model_module_version": "1.2.0",
     "model_name": "LayoutModel",
     "state": {
      "_model_module": "@jupyter-widgets/base",
      "_model_module_version": "1.2.0",
      "_model_name": "LayoutModel",
      "_view_count": null,
      "_view_module": "@jupyter-widgets/base",
      "_view_module_version": "1.2.0",
      "_view_name": "LayoutView",
      "align_content": null,
      "align_items": null,
      "align_self": null,
      "border": null,
      "bottom": null,
      "display": null,
      "flex": null,
      "flex_flow": null,
      "grid_area": null,
      "grid_auto_columns": null,
      "grid_auto_flow": null,
      "grid_auto_rows": null,
      "grid_column": null,
      "grid_gap": null,
      "grid_row": null,
      "grid_template_areas": null,
      "grid_template_columns": null,
      "grid_template_rows": null,
      "height": null,
      "justify_content": null,
      "justify_items": null,
      "left": null,
      "margin": null,
      "max_height": null,
      "max_width": null,
      "min_height": null,
      "min_width": null,
      "object_fit": null,
      "object_position": null,
      "order": null,
      "overflow": null,
      "overflow_x": null,
      "overflow_y": null,
      "padding": null,
      "right": null,
      "top": null,
      "visibility": null,
      "width": null
     }
    },
    "970f405db7e44e769277f0b002e4bb40": {
     "model_module": "@jupyter-widgets/controls",
     "model_module_version": "1.5.0",
     "model_name": "DescriptionStyleModel",
     "state": {
      "_model_module": "@jupyter-widgets/controls",
      "_model_module_version": "1.5.0",
      "_model_name": "DescriptionStyleModel",
      "_view_count": null,
      "_view_module": "@jupyter-widgets/base",
      "_view_module_version": "1.2.0",
      "_view_name": "StyleView",
      "description_width": ""
     }
    },
    "9ae5212bac514e45960fddbf304b8c64": {
     "model_module": "@jupyter-widgets/base",
     "model_module_version": "1.2.0",
     "model_name": "LayoutModel",
     "state": {
      "_model_module": "@jupyter-widgets/base",
      "_model_module_version": "1.2.0",
      "_model_name": "LayoutModel",
      "_view_count": null,
      "_view_module": "@jupyter-widgets/base",
      "_view_module_version": "1.2.0",
      "_view_name": "LayoutView",
      "align_content": null,
      "align_items": null,
      "align_self": null,
      "border": null,
      "bottom": null,
      "display": null,
      "flex": null,
      "flex_flow": null,
      "grid_area": null,
      "grid_auto_columns": null,
      "grid_auto_flow": null,
      "grid_auto_rows": null,
      "grid_column": null,
      "grid_gap": null,
      "grid_row": null,
      "grid_template_areas": null,
      "grid_template_columns": null,
      "grid_template_rows": null,
      "height": null,
      "justify_content": null,
      "justify_items": null,
      "left": null,
      "margin": null,
      "max_height": null,
      "max_width": null,
      "min_height": null,
      "min_width": null,
      "object_fit": null,
      "object_position": null,
      "order": null,
      "overflow": null,
      "overflow_x": null,
      "overflow_y": null,
      "padding": null,
      "right": null,
      "top": null,
      "visibility": null,
      "width": null
     }
    },
    "9e10fcb877b34daa8252d45ec04427ef": {
     "model_module": "@jupyter-widgets/controls",
     "model_module_version": "1.5.0",
     "model_name": "HBoxModel",
     "state": {
      "_dom_classes": [],
      "_model_module": "@jupyter-widgets/controls",
      "_model_module_version": "1.5.0",
      "_model_name": "HBoxModel",
      "_view_count": null,
      "_view_module": "@jupyter-widgets/controls",
      "_view_module_version": "1.5.0",
      "_view_name": "HBoxView",
      "box_style": "",
      "children": [
       "IPY_MODEL_e9b6f931f7214390a1a7bddd5fc553c4",
       "IPY_MODEL_789c6f2206ba41fdbb7f2af612a32e71",
       "IPY_MODEL_362661d6a943421892d57a94769f982d"
      ],
      "layout": "IPY_MODEL_cefa709eb004426781580f157568a3ed"
     }
    },
    "a2d89b70143a4309ae9803d8c91361b7": {
     "model_module": "@jupyter-widgets/controls",
     "model_module_version": "1.5.0",
     "model_name": "ProgressStyleModel",
     "state": {
      "_model_module": "@jupyter-widgets/controls",
      "_model_module_version": "1.5.0",
      "_model_name": "ProgressStyleModel",
      "_view_count": null,
      "_view_module": "@jupyter-widgets/base",
      "_view_module_version": "1.2.0",
      "_view_name": "StyleView",
      "bar_color": null,
      "description_width": ""
     }
    },
    "a3650493559d49b89f1b6af02ebdd73f": {
     "model_module": "@jupyter-widgets/controls",
     "model_module_version": "1.5.0",
     "model_name": "ProgressStyleModel",
     "state": {
      "_model_module": "@jupyter-widgets/controls",
      "_model_module_version": "1.5.0",
      "_model_name": "ProgressStyleModel",
      "_view_count": null,
      "_view_module": "@jupyter-widgets/base",
      "_view_module_version": "1.2.0",
      "_view_name": "StyleView",
      "bar_color": null,
      "description_width": ""
     }
    },
    "a7a45f448e38479497b6266e4dac9cd5": {
     "model_module": "@jupyter-widgets/controls",
     "model_module_version": "1.5.0",
     "model_name": "ProgressStyleModel",
     "state": {
      "_model_module": "@jupyter-widgets/controls",
      "_model_module_version": "1.5.0",
      "_model_name": "ProgressStyleModel",
      "_view_count": null,
      "_view_module": "@jupyter-widgets/base",
      "_view_module_version": "1.2.0",
      "_view_name": "StyleView",
      "bar_color": null,
      "description_width": ""
     }
    },
    "ab1026ca58e74ddf903018848153b0b8": {
     "model_module": "@jupyter-widgets/controls",
     "model_module_version": "1.5.0",
     "model_name": "HTMLModel",
     "state": {
      "_dom_classes": [],
      "_model_module": "@jupyter-widgets/controls",
      "_model_module_version": "1.5.0",
      "_model_name": "HTMLModel",
      "_view_count": null,
      "_view_module": "@jupyter-widgets/controls",
      "_view_module_version": "1.5.0",
      "_view_name": "HTMLView",
      "description": "",
      "description_tooltip": null,
      "layout": "IPY_MODEL_371a023f92d4461f8a63b7fbf8c4f3e9",
      "placeholder": "​",
      "style": "IPY_MODEL_10e0243cdf2e40c78996dcf71d0d3455",
      "value": "Map: 100%"
     }
    },
    "b8f2adbec559457ea04bb22f533b08f7": {
     "model_module": "@jupyter-widgets/base",
     "model_module_version": "1.2.0",
     "model_name": "LayoutModel",
     "state": {
      "_model_module": "@jupyter-widgets/base",
      "_model_module_version": "1.2.0",
      "_model_name": "LayoutModel",
      "_view_count": null,
      "_view_module": "@jupyter-widgets/base",
      "_view_module_version": "1.2.0",
      "_view_name": "LayoutView",
      "align_content": null,
      "align_items": null,
      "align_self": null,
      "border": null,
      "bottom": null,
      "display": null,
      "flex": null,
      "flex_flow": null,
      "grid_area": null,
      "grid_auto_columns": null,
      "grid_auto_flow": null,
      "grid_auto_rows": null,
      "grid_column": null,
      "grid_gap": null,
      "grid_row": null,
      "grid_template_areas": null,
      "grid_template_columns": null,
      "grid_template_rows": null,
      "height": null,
      "justify_content": null,
      "justify_items": null,
      "left": null,
      "margin": null,
      "max_height": null,
      "max_width": null,
      "min_height": null,
      "min_width": null,
      "object_fit": null,
      "object_position": null,
      "order": null,
      "overflow": null,
      "overflow_x": null,
      "overflow_y": null,
      "padding": null,
      "right": null,
      "top": null,
      "visibility": null,
      "width": null
     }
    },
    "bbbaebb750bd45b98a017f8fe50962c9": {
     "model_module": "@jupyter-widgets/controls",
     "model_module_version": "1.5.0",
     "model_name": "HBoxModel",
     "state": {
      "_dom_classes": [],
      "_model_module": "@jupyter-widgets/controls",
      "_model_module_version": "1.5.0",
      "_model_name": "HBoxModel",
      "_view_count": null,
      "_view_module": "@jupyter-widgets/controls",
      "_view_module_version": "1.5.0",
      "_view_name": "HBoxView",
      "box_style": "",
      "children": [
       "IPY_MODEL_786dc610247b468cbd4ea26c49f78cb2",
       "IPY_MODEL_6cd95b7d33ff403081c9dc7cbf119869",
       "IPY_MODEL_deca9eddfc7e437a9b43f3ee1125a12a"
      ],
      "layout": "IPY_MODEL_020067a2581143178d003408dc406db4"
     }
    },
    "bc2c575f5cd243a88b910ec3dfd91301": {
     "model_module": "@jupyter-widgets/controls",
     "model_module_version": "1.5.0",
     "model_name": "ProgressStyleModel",
     "state": {
      "_model_module": "@jupyter-widgets/controls",
      "_model_module_version": "1.5.0",
      "_model_name": "ProgressStyleModel",
      "_view_count": null,
      "_view_module": "@jupyter-widgets/base",
      "_view_module_version": "1.2.0",
      "_view_name": "StyleView",
      "bar_color": null,
      "description_width": ""
     }
    },
    "bec6d36fb3e0467ba7a9da4105d61dc8": {
     "model_module": "@jupyter-widgets/base",
     "model_module_version": "1.2.0",
     "model_name": "LayoutModel",
     "state": {
      "_model_module": "@jupyter-widgets/base",
      "_model_module_version": "1.2.0",
      "_model_name": "LayoutModel",
      "_view_count": null,
      "_view_module": "@jupyter-widgets/base",
      "_view_module_version": "1.2.0",
      "_view_name": "LayoutView",
      "align_content": null,
      "align_items": null,
      "align_self": null,
      "border": null,
      "bottom": null,
      "display": null,
      "flex": null,
      "flex_flow": null,
      "grid_area": null,
      "grid_auto_columns": null,
      "grid_auto_flow": null,
      "grid_auto_rows": null,
      "grid_column": null,
      "grid_gap": null,
      "grid_row": null,
      "grid_template_areas": null,
      "grid_template_columns": null,
      "grid_template_rows": null,
      "height": null,
      "justify_content": null,
      "justify_items": null,
      "left": null,
      "margin": null,
      "max_height": null,
      "max_width": null,
      "min_height": null,
      "min_width": null,
      "object_fit": null,
      "object_position": null,
      "order": null,
      "overflow": null,
      "overflow_x": null,
      "overflow_y": null,
      "padding": null,
      "right": null,
      "top": null,
      "visibility": null,
      "width": null
     }
    },
    "bf50d2889cec4ba38e57df4a37d55071": {
     "model_module": "@jupyter-widgets/base",
     "model_module_version": "1.2.0",
     "model_name": "LayoutModel",
     "state": {
      "_model_module": "@jupyter-widgets/base",
      "_model_module_version": "1.2.0",
      "_model_name": "LayoutModel",
      "_view_count": null,
      "_view_module": "@jupyter-widgets/base",
      "_view_module_version": "1.2.0",
      "_view_name": "LayoutView",
      "align_content": null,
      "align_items": null,
      "align_self": null,
      "border": null,
      "bottom": null,
      "display": null,
      "flex": null,
      "flex_flow": null,
      "grid_area": null,
      "grid_auto_columns": null,
      "grid_auto_flow": null,
      "grid_auto_rows": null,
      "grid_column": null,
      "grid_gap": null,
      "grid_row": null,
      "grid_template_areas": null,
      "grid_template_columns": null,
      "grid_template_rows": null,
      "height": null,
      "justify_content": null,
      "justify_items": null,
      "left": null,
      "margin": null,
      "max_height": null,
      "max_width": null,
      "min_height": null,
      "min_width": null,
      "object_fit": null,
      "object_position": null,
      "order": null,
      "overflow": null,
      "overflow_x": null,
      "overflow_y": null,
      "padding": null,
      "right": null,
      "top": null,
      "visibility": null,
      "width": null
     }
    },
    "c1eb7a536e0a44fc88dc7139130eaf58": {
     "model_module": "@jupyter-widgets/base",
     "model_module_version": "1.2.0",
     "model_name": "LayoutModel",
     "state": {
      "_model_module": "@jupyter-widgets/base",
      "_model_module_version": "1.2.0",
      "_model_name": "LayoutModel",
      "_view_count": null,
      "_view_module": "@jupyter-widgets/base",
      "_view_module_version": "1.2.0",
      "_view_name": "LayoutView",
      "align_content": null,
      "align_items": null,
      "align_self": null,
      "border": null,
      "bottom": null,
      "display": null,
      "flex": null,
      "flex_flow": null,
      "grid_area": null,
      "grid_auto_columns": null,
      "grid_auto_flow": null,
      "grid_auto_rows": null,
      "grid_column": null,
      "grid_gap": null,
      "grid_row": null,
      "grid_template_areas": null,
      "grid_template_columns": null,
      "grid_template_rows": null,
      "height": null,
      "justify_content": null,
      "justify_items": null,
      "left": null,
      "margin": null,
      "max_height": null,
      "max_width": null,
      "min_height": null,
      "min_width": null,
      "object_fit": null,
      "object_position": null,
      "order": null,
      "overflow": null,
      "overflow_x": null,
      "overflow_y": null,
      "padding": null,
      "right": null,
      "top": null,
      "visibility": null,
      "width": null
     }
    },
    "caa5e4c003234ec98d2fadf5109cb514": {
     "model_module": "@jupyter-widgets/base",
     "model_module_version": "1.2.0",
     "model_name": "LayoutModel",
     "state": {
      "_model_module": "@jupyter-widgets/base",
      "_model_module_version": "1.2.0",
      "_model_name": "LayoutModel",
      "_view_count": null,
      "_view_module": "@jupyter-widgets/base",
      "_view_module_version": "1.2.0",
      "_view_name": "LayoutView",
      "align_content": null,
      "align_items": null,
      "align_self": null,
      "border": null,
      "bottom": null,
      "display": null,
      "flex": null,
      "flex_flow": null,
      "grid_area": null,
      "grid_auto_columns": null,
      "grid_auto_flow": null,
      "grid_auto_rows": null,
      "grid_column": null,
      "grid_gap": null,
      "grid_row": null,
      "grid_template_areas": null,
      "grid_template_columns": null,
      "grid_template_rows": null,
      "height": null,
      "justify_content": null,
      "justify_items": null,
      "left": null,
      "margin": null,
      "max_height": null,
      "max_width": null,
      "min_height": null,
      "min_width": null,
      "object_fit": null,
      "object_position": null,
      "order": null,
      "overflow": null,
      "overflow_x": null,
      "overflow_y": null,
      "padding": null,
      "right": null,
      "top": null,
      "visibility": null,
      "width": null
     }
    },
    "cb55859c2702485b9d426c5a0f566242": {
     "model_module": "@jupyter-widgets/controls",
     "model_module_version": "1.5.0",
     "model_name": "DescriptionStyleModel",
     "state": {
      "_model_module": "@jupyter-widgets/controls",
      "_model_module_version": "1.5.0",
      "_model_name": "DescriptionStyleModel",
      "_view_count": null,
      "_view_module": "@jupyter-widgets/base",
      "_view_module_version": "1.2.0",
      "_view_name": "StyleView",
      "description_width": ""
     }
    },
    "cefa709eb004426781580f157568a3ed": {
     "model_module": "@jupyter-widgets/base",
     "model_module_version": "1.2.0",
     "model_name": "LayoutModel",
     "state": {
      "_model_module": "@jupyter-widgets/base",
      "_model_module_version": "1.2.0",
      "_model_name": "LayoutModel",
      "_view_count": null,
      "_view_module": "@jupyter-widgets/base",
      "_view_module_version": "1.2.0",
      "_view_name": "LayoutView",
      "align_content": null,
      "align_items": null,
      "align_self": null,
      "border": null,
      "bottom": null,
      "display": null,
      "flex": null,
      "flex_flow": null,
      "grid_area": null,
      "grid_auto_columns": null,
      "grid_auto_flow": null,
      "grid_auto_rows": null,
      "grid_column": null,
      "grid_gap": null,
      "grid_row": null,
      "grid_template_areas": null,
      "grid_template_columns": null,
      "grid_template_rows": null,
      "height": null,
      "justify_content": null,
      "justify_items": null,
      "left": null,
      "margin": null,
      "max_height": null,
      "max_width": null,
      "min_height": null,
      "min_width": null,
      "object_fit": null,
      "object_position": null,
      "order": null,
      "overflow": null,
      "overflow_x": null,
      "overflow_y": null,
      "padding": null,
      "right": null,
      "top": null,
      "visibility": null,
      "width": null
     }
    },
    "d6fd9655417246438c25e7ccb013e0c6": {
     "model_module": "@jupyter-widgets/base",
     "model_module_version": "1.2.0",
     "model_name": "LayoutModel",
     "state": {
      "_model_module": "@jupyter-widgets/base",
      "_model_module_version": "1.2.0",
      "_model_name": "LayoutModel",
      "_view_count": null,
      "_view_module": "@jupyter-widgets/base",
      "_view_module_version": "1.2.0",
      "_view_name": "LayoutView",
      "align_content": null,
      "align_items": null,
      "align_self": null,
      "border": null,
      "bottom": null,
      "display": null,
      "flex": null,
      "flex_flow": null,
      "grid_area": null,
      "grid_auto_columns": null,
      "grid_auto_flow": null,
      "grid_auto_rows": null,
      "grid_column": null,
      "grid_gap": null,
      "grid_row": null,
      "grid_template_areas": null,
      "grid_template_columns": null,
      "grid_template_rows": null,
      "height": null,
      "justify_content": null,
      "justify_items": null,
      "left": null,
      "margin": null,
      "max_height": null,
      "max_width": null,
      "min_height": null,
      "min_width": null,
      "object_fit": null,
      "object_position": null,
      "order": null,
      "overflow": null,
      "overflow_x": null,
      "overflow_y": null,
      "padding": null,
      "right": null,
      "top": null,
      "visibility": null,
      "width": null
     }
    },
    "dd4b28aaa60342558b36ea96f504e275": {
     "model_module": "@jupyter-widgets/controls",
     "model_module_version": "1.5.0",
     "model_name": "FloatProgressModel",
     "state": {
      "_dom_classes": [],
      "_model_module": "@jupyter-widgets/controls",
      "_model_module_version": "1.5.0",
      "_model_name": "FloatProgressModel",
      "_view_count": null,
      "_view_module": "@jupyter-widgets/controls",
      "_view_module_version": "1.5.0",
      "_view_name": "ProgressView",
      "bar_style": "success",
      "description": "",
      "description_tooltip": null,
      "layout": "IPY_MODEL_90364bf157b840cfbf644d4f5d2aa5bb",
      "max": 1500,
      "min": 0,
      "orientation": "horizontal",
      "style": "IPY_MODEL_1d1a37d471ce42b993774476e7c65514",
      "value": 1500
     }
    },
    "de1b442c65a746c1a92f275cd40fc581": {
     "model_module": "@jupyter-widgets/base",
     "model_module_version": "1.2.0",
     "model_name": "LayoutModel",
     "state": {
      "_model_module": "@jupyter-widgets/base",
      "_model_module_version": "1.2.0",
      "_model_name": "LayoutModel",
      "_view_count": null,
      "_view_module": "@jupyter-widgets/base",
      "_view_module_version": "1.2.0",
      "_view_name": "LayoutView",
      "align_content": null,
      "align_items": null,
      "align_self": null,
      "border": null,
      "bottom": null,
      "display": null,
      "flex": null,
      "flex_flow": null,
      "grid_area": null,
      "grid_auto_columns": null,
      "grid_auto_flow": null,
      "grid_auto_rows": null,
      "grid_column": null,
      "grid_gap": null,
      "grid_row": null,
      "grid_template_areas": null,
      "grid_template_columns": null,
      "grid_template_rows": null,
      "height": null,
      "justify_content": null,
      "justify_items": null,
      "left": null,
      "margin": null,
      "max_height": null,
      "max_width": null,
      "min_height": null,
      "min_width": null,
      "object_fit": null,
      "object_position": null,
      "order": null,
      "overflow": null,
      "overflow_x": null,
      "overflow_y": null,
      "padding": null,
      "right": null,
      "top": null,
      "visibility": null,
      "width": null
     }
    },
    "de2254c253694fab9fcd9bb455b36087": {
     "model_module": "@jupyter-widgets/controls",
     "model_module_version": "1.5.0",
     "model_name": "DescriptionStyleModel",
     "state": {
      "_model_module": "@jupyter-widgets/controls",
      "_model_module_version": "1.5.0",
      "_model_name": "DescriptionStyleModel",
      "_view_count": null,
      "_view_module": "@jupyter-widgets/base",
      "_view_module_version": "1.2.0",
      "_view_name": "StyleView",
      "description_width": ""
     }
    },
    "deca9eddfc7e437a9b43f3ee1125a12a": {
     "model_module": "@jupyter-widgets/controls",
     "model_module_version": "1.5.0",
     "model_name": "HTMLModel",
     "state": {
      "_dom_classes": [],
      "_model_module": "@jupyter-widgets/controls",
      "_model_module_version": "1.5.0",
      "_model_name": "HTMLModel",
      "_view_count": null,
      "_view_module": "@jupyter-widgets/controls",
      "_view_module_version": "1.5.0",
      "_view_name": "HTMLView",
      "description": "",
      "description_tooltip": null,
      "layout": "IPY_MODEL_3302578aec7a481fb0419842264a9166",
      "placeholder": "​",
      "style": "IPY_MODEL_7505c44df3ed4ed28cef0054d2ea7f2d",
      "value": " 1500/1500 [00:00&lt;00:00, 2968.36 examples/s]"
     }
    },
    "e38d052e7eac49dc9ef3170a7ac43f1d": {
     "model_module": "@jupyter-widgets/controls",
     "model_module_version": "1.5.0",
     "model_name": "DescriptionStyleModel",
     "state": {
      "_model_module": "@jupyter-widgets/controls",
      "_model_module_version": "1.5.0",
      "_model_name": "DescriptionStyleModel",
      "_view_count": null,
      "_view_module": "@jupyter-widgets/base",
      "_view_module_version": "1.2.0",
      "_view_name": "StyleView",
      "description_width": ""
     }
    },
    "e6575d0704614593b8ca5d23edc3340c": {
     "model_module": "@jupyter-widgets/controls",
     "model_module_version": "1.5.0",
     "model_name": "DescriptionStyleModel",
     "state": {
      "_model_module": "@jupyter-widgets/controls",
      "_model_module_version": "1.5.0",
      "_model_name": "DescriptionStyleModel",
      "_view_count": null,
      "_view_module": "@jupyter-widgets/base",
      "_view_module_version": "1.2.0",
      "_view_name": "StyleView",
      "description_width": ""
     }
    },
    "e7f5e7fae49e488c9f449ea9d0697545": {
     "model_module": "@jupyter-widgets/base",
     "model_module_version": "1.2.0",
     "model_name": "LayoutModel",
     "state": {
      "_model_module": "@jupyter-widgets/base",
      "_model_module_version": "1.2.0",
      "_model_name": "LayoutModel",
      "_view_count": null,
      "_view_module": "@jupyter-widgets/base",
      "_view_module_version": "1.2.0",
      "_view_name": "LayoutView",
      "align_content": null,
      "align_items": null,
      "align_self": null,
      "border": null,
      "bottom": null,
      "display": null,
      "flex": null,
      "flex_flow": null,
      "grid_area": null,
      "grid_auto_columns": null,
      "grid_auto_flow": null,
      "grid_auto_rows": null,
      "grid_column": null,
      "grid_gap": null,
      "grid_row": null,
      "grid_template_areas": null,
      "grid_template_columns": null,
      "grid_template_rows": null,
      "height": null,
      "justify_content": null,
      "justify_items": null,
      "left": null,
      "margin": null,
      "max_height": null,
      "max_width": null,
      "min_height": null,
      "min_width": null,
      "object_fit": null,
      "object_position": null,
      "order": null,
      "overflow": null,
      "overflow_x": null,
      "overflow_y": null,
      "padding": null,
      "right": null,
      "top": null,
      "visibility": null,
      "width": null
     }
    },
    "e9b6f931f7214390a1a7bddd5fc553c4": {
     "model_module": "@jupyter-widgets/controls",
     "model_module_version": "1.5.0",
     "model_name": "HTMLModel",
     "state": {
      "_dom_classes": [],
      "_model_module": "@jupyter-widgets/controls",
      "_model_module_version": "1.5.0",
      "_model_name": "HTMLModel",
      "_view_count": null,
      "_view_module": "@jupyter-widgets/controls",
      "_view_module_version": "1.5.0",
      "_view_name": "HTMLView",
      "description": "",
      "description_tooltip": null,
      "layout": "IPY_MODEL_62c6d51a123747858745dd6f32e6b14c",
      "placeholder": "​",
      "style": "IPY_MODEL_e6575d0704614593b8ca5d23edc3340c",
      "value": "Filter: 100%"
     }
    },
    "ea299870c3204fa581a4d78f2d52e3ec": {
     "model_module": "@jupyter-widgets/controls",
     "model_module_version": "1.5.0",
     "model_name": "HBoxModel",
     "state": {
      "_dom_classes": [],
      "_model_module": "@jupyter-widgets/controls",
      "_model_module_version": "1.5.0",
      "_model_name": "HBoxModel",
      "_view_count": null,
      "_view_module": "@jupyter-widgets/controls",
      "_view_module_version": "1.5.0",
      "_view_name": "HBoxView",
      "box_style": "",
      "children": [
       "IPY_MODEL_f58b68c70026441aaeb497bd98a8c7e5",
       "IPY_MODEL_87d455a988964c4682b44ac2ad44b8d0",
       "IPY_MODEL_6938401b927243a6bae4cf561d299d28"
      ],
      "layout": "IPY_MODEL_b8f2adbec559457ea04bb22f533b08f7"
     }
    },
    "ea4dc1e085914ae5a5c3128e12d0c1d3": {
     "model_module": "@jupyter-widgets/controls",
     "model_module_version": "1.5.0",
     "model_name": "HTMLModel",
     "state": {
      "_dom_classes": [],
      "_model_module": "@jupyter-widgets/controls",
      "_model_module_version": "1.5.0",
      "_model_name": "HTMLModel",
      "_view_count": null,
      "_view_module": "@jupyter-widgets/controls",
      "_view_module_version": "1.5.0",
      "_view_name": "HTMLView",
      "description": "",
      "description_tooltip": null,
      "layout": "IPY_MODEL_7148d509d9fa4b6cb5855b9ded042db3",
      "placeholder": "​",
      "style": "IPY_MODEL_2333a3e06b1647acb3e4d0833e4b9454",
      "value": " 1500/1500 [00:00&lt;00:00, 3010.46 examples/s]"
     }
    },
    "ecfe9d4969554ab8b7bd1505b7bd37ab": {
     "model_module": "@jupyter-widgets/controls",
     "model_module_version": "1.5.0",
     "model_name": "ProgressStyleModel",
     "state": {
      "_model_module": "@jupyter-widgets/controls",
      "_model_module_version": "1.5.0",
      "_model_name": "ProgressStyleModel",
      "_view_count": null,
      "_view_module": "@jupyter-widgets/base",
      "_view_module_version": "1.2.0",
      "_view_name": "StyleView",
      "bar_color": null,
      "description_width": ""
     }
    },
    "f1b7a4400ede42d58dfaff6ab53eb41a": {
     "model_module": "@jupyter-widgets/controls",
     "model_module_version": "1.5.0",
     "model_name": "HBoxModel",
     "state": {
      "_dom_classes": [],
      "_model_module": "@jupyter-widgets/controls",
      "_model_module_version": "1.5.0",
      "_model_name": "HBoxModel",
      "_view_count": null,
      "_view_module": "@jupyter-widgets/controls",
      "_view_module_version": "1.5.0",
      "_view_name": "HBoxView",
      "box_style": "",
      "children": [
       "IPY_MODEL_ab1026ca58e74ddf903018848153b0b8",
       "IPY_MODEL_6a3155069d1a4d569860fa766eb7465f",
       "IPY_MODEL_00115fd8f6b34be79e17a2b66413f3b4"
      ],
      "layout": "IPY_MODEL_9ae5212bac514e45960fddbf304b8c64"
     }
    },
    "f58b68c70026441aaeb497bd98a8c7e5": {
     "model_module": "@jupyter-widgets/controls",
     "model_module_version": "1.5.0",
     "model_name": "HTMLModel",
     "state": {
      "_dom_classes": [],
      "_model_module": "@jupyter-widgets/controls",
      "_model_module_version": "1.5.0",
      "_model_name": "HTMLModel",
      "_view_count": null,
      "_view_module": "@jupyter-widgets/controls",
      "_view_module_version": "1.5.0",
      "_view_name": "HTMLView",
      "description": "",
      "description_tooltip": null,
      "layout": "IPY_MODEL_c1eb7a536e0a44fc88dc7139130eaf58",
      "placeholder": "​",
      "style": "IPY_MODEL_970f405db7e44e769277f0b002e4bb40",
      "value": "Map: 100%"
     }
    },
    "f8ecc58cf281433b82bc73cdd9eeb85b": {
     "model_module": "@jupyter-widgets/controls",
     "model_module_version": "1.5.0",
     "model_name": "HTMLModel",
     "state": {
      "_dom_classes": [],
      "_model_module": "@jupyter-widgets/controls",
      "_model_module_version": "1.5.0",
      "_model_name": "HTMLModel",
      "_view_count": null,
      "_view_module": "@jupyter-widgets/controls",
      "_view_module_version": "1.5.0",
      "_view_name": "HTMLView",
      "description": "",
      "description_tooltip": null,
      "layout": "IPY_MODEL_87f70feea748450ba746033a3a6f1a17",
      "placeholder": "​",
      "style": "IPY_MODEL_1ceec6dd57df4b46bb57ea7f14ec225e",
      "value": " 1500/1500 [00:00&lt;00:00, 2891.03 examples/s]"
     }
    },
    "fd317bd33a85490f88daf776bbd8c4aa": {
     "model_module": "@jupyter-widgets/controls",
     "model_module_version": "1.5.0",
     "model_name": "HBoxModel",
     "state": {
      "_dom_classes": [],
      "_model_module": "@jupyter-widgets/controls",
      "_model_module_version": "1.5.0",
      "_model_name": "HBoxModel",
      "_view_count": null,
      "_view_module": "@jupyter-widgets/controls",
      "_view_module_version": "1.5.0",
      "_view_name": "HBoxView",
      "box_style": "",
      "children": [
       "IPY_MODEL_6a55e4f4f4d3455c82db9f9241b14359",
       "IPY_MODEL_44847d6cb73e4b2d97a3bd02ed4f24ca",
       "IPY_MODEL_7dcc0a92e75c49a38d899cda29058c4d"
      ],
      "layout": "IPY_MODEL_bf50d2889cec4ba38e57df4a37d55071"
     }
    },
    "fe41b0e085da42228519a00b576715f7": {
     "model_module": "@jupyter-widgets/base",
     "model_module_version": "1.2.0",
     "model_name": "LayoutModel",
     "state": {
      "_model_module": "@jupyter-widgets/base",
      "_model_module_version": "1.2.0",
      "_model_name": "LayoutModel",
      "_view_count": null,
      "_view_module": "@jupyter-widgets/base",
      "_view_module_version": "1.2.0",
      "_view_name": "LayoutView",
      "align_content": null,
      "align_items": null,
      "align_self": null,
      "border": null,
      "bottom": null,
      "display": null,
      "flex": null,
      "flex_flow": null,
      "grid_area": null,
      "grid_auto_columns": null,
      "grid_auto_flow": null,
      "grid_auto_rows": null,
      "grid_column": null,
      "grid_gap": null,
      "grid_row": null,
      "grid_template_areas": null,
      "grid_template_columns": null,
      "grid_template_rows": null,
      "height": null,
      "justify_content": null,
      "justify_items": null,
      "left": null,
      "margin": null,
      "max_height": null,
      "max_width": null,
      "min_height": null,
      "min_width": null,
      "object_fit": null,
      "object_position": null,
      "order": null,
      "overflow": null,
      "overflow_x": null,
      "overflow_y": null,
      "padding": null,
      "right": null,
      "top": null,
      "visibility": null,
      "width": null
     }
    },
    "fe478884973042cb886ef5c508eacab9": {
     "model_module": "@jupyter-widgets/base",
     "model_module_version": "1.2.0",
     "model_name": "LayoutModel",
     "state": {
      "_model_module": "@jupyter-widgets/base",
      "_model_module_version": "1.2.0",
      "_model_name": "LayoutModel",
      "_view_count": null,
      "_view_module": "@jupyter-widgets/base",
      "_view_module_version": "1.2.0",
      "_view_name": "LayoutView",
      "align_content": null,
      "align_items": null,
      "align_self": null,
      "border": null,
      "bottom": null,
      "display": null,
      "flex": null,
      "flex_flow": null,
      "grid_area": null,
      "grid_auto_columns": null,
      "grid_auto_flow": null,
      "grid_auto_rows": null,
      "grid_column": null,
      "grid_gap": null,
      "grid_row": null,
      "grid_template_areas": null,
      "grid_template_columns": null,
      "grid_template_rows": null,
      "height": null,
      "justify_content": null,
      "justify_items": null,
      "left": null,
      "margin": null,
      "max_height": null,
      "max_width": null,
      "min_height": null,
      "min_width": null,
      "object_fit": null,
      "object_position": null,
      "order": null,
      "overflow": null,
      "overflow_x": null,
      "overflow_y": null,
      "padding": null,
      "right": null,
      "top": null,
      "visibility": null,
      "width": null
     }
    }
   }
  }
 },
 "nbformat": 4,
 "nbformat_minor": 0
}
