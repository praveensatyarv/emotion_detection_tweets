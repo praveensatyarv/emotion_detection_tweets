{
 "cells": [
  {
   "cell_type": "markdown",
   "metadata": {
    "id": "udbBJad6kugP"
   },
   "source": [
    "# <Font color = 'indianred'>**1. Set Environment**"
   ]
  },
  {
   "cell_type": "code",
   "execution_count": 1,
   "metadata": {
    "colab": {
     "base_uri": "https://localhost:8080/"
    },
    "executionInfo": {
     "elapsed": 25312,
     "status": "ok",
     "timestamp": 1731869803208,
     "user": {
      "displayName": "Praveen Satya R V",
      "userId": "07360123993237987960"
     },
     "user_tz": 360
    },
    "id": "8BMs0XC5kW-e",
    "outputId": "74024ef1-c9b0-45bd-c47a-a91af0f3c0fe"
   },
   "outputs": [
    {
     "name": "stdout",
     "output_type": "stream",
     "text": [
      "Drive already mounted at /content/drive; to attempt to forcibly remount, call drive.mount(\"/content/drive\", force_remount=True).\n",
      "\u001b[2K   \u001b[90m━━━━━━━━━━━━━━━━━━━━━━━━━━━━━━━━━━━━━━━━\u001b[0m \u001b[32m16.1/16.1 MB\u001b[0m \u001b[31m59.0 MB/s\u001b[0m eta \u001b[36m0:00:00\u001b[0m\n",
      "\u001b[?25h"
     ]
    }
   ],
   "source": [
    "# If in Colab, then import the drive module from google.colab\n",
    "if 'google.colab' in str(get_ipython()):\n",
    "  from google.colab import drive\n",
    "  # Mount the Google Drive to access files stored there\n",
    "  drive.mount('/content/drive')\n",
    "\n",
    "  # Install the latest version of torchtext library quietly without showing output\n",
    "\n",
    "  !pip install transformers evaluate wandb datasets accelerate -U peft bitsandbytes -qq\n",
    "\n",
    "  basepath = '/content/drive/MyDrive/data/'\n"
   ]
  },
  {
   "cell_type": "code",
   "execution_count": 2,
   "metadata": {
    "executionInfo": {
     "elapsed": 6474,
     "status": "ok",
     "timestamp": 1731869816554,
     "user": {
      "displayName": "Praveen Satya R V",
      "userId": "07360123993237987960"
     },
     "user_tz": 360
    },
    "id": "AspAbijIlHES"
   },
   "outputs": [],
   "source": [
    "!pip install evaluate --quiet"
   ]
  },
  {
   "cell_type": "code",
   "execution_count": 3,
   "metadata": {
    "executionInfo": {
     "elapsed": 19260,
     "status": "ok",
     "timestamp": 1731869835809,
     "user": {
      "displayName": "Praveen Satya R V",
      "userId": "07360123993237987960"
     },
     "user_tz": 360
    },
    "id": "VXNvQfkFlTCN"
   },
   "outputs": [],
   "source": [
    "# standard data science librraies for data handling and v isualization\n",
    "import matplotlib.pyplot as plt\n",
    "import numpy as np\n",
    "import pandas as pd\n",
    "from sklearn.metrics import confusion_matrix\n",
    "import matplotlib.pyplot as plt\n",
    "import seaborn as sns\n",
    "from pathlib import Path\n",
    "import re\n",
    "import gc\n",
    "import time\n",
    "\n",
    "from sklearn.preprocessing import MultiLabelBinarizer\n",
    "from sklearn.model_selection import train_test_split\n",
    "from sklearn.metrics import multilabel_confusion_matrix, precision_score, recall_score, f1_score\n",
    "import joblib\n",
    "\n",
    "import torch\n",
    "import torch.nn as nn\n",
    "import ast\n",
    "\n",
    "\n",
    "# New libraries introduced in this notebook\n",
    "import evaluate\n",
    "from datasets import load_dataset, DatasetDict, Dataset, ClassLabel\n",
    "from transformers import (\n",
    "    TrainingArguments,\n",
    "    Trainer,\n",
    "    set_seed,\n",
    "    AutoTokenizer,\n",
    "    AutoModelForSequenceClassification,\n",
    "    AutoConfig,\n",
    "    pipeline,\n",
    "    BitsAndBytesConfig,\n",
    ")\n",
    "from peft import (\n",
    "    TaskType,\n",
    "    LoraConfig,\n",
    "    prepare_model_for_kbit_training,\n",
    "    get_peft_model,\n",
    ")\n",
    "\n",
    "import wandb\n",
    "from google.colab import userdata\n",
    "from huggingface_hub import login"
   ]
  },
  {
   "cell_type": "code",
   "execution_count": 4,
   "metadata": {
    "executionInfo": {
     "elapsed": 11,
     "status": "ok",
     "timestamp": 1731869835809,
     "user": {
      "displayName": "Praveen Satya R V",
      "userId": "07360123993237987960"
     },
     "user_tz": 360
    },
    "id": "7RNLhJIOHUpQ"
   },
   "outputs": [],
   "source": [
    "set_seed(42)"
   ]
  },
  {
   "cell_type": "code",
   "execution_count": 5,
   "metadata": {
    "executionInfo": {
     "elapsed": 1245,
     "status": "ok",
     "timestamp": 1731869837044,
     "user": {
      "displayName": "Praveen Satya R V",
      "userId": "07360123993237987960"
     },
     "user_tz": 360
    },
    "id": "F2YY0A8IHXU2"
   },
   "outputs": [],
   "source": [
    "wandb_api_key = userdata.get(\"wandb_key\")\n",
    "hf_token = userdata.get(\"HF_TOKEN\")"
   ]
  },
  {
   "cell_type": "code",
   "execution_count": 6,
   "metadata": {
    "colab": {
     "base_uri": "https://localhost:8080/"
    },
    "executionInfo": {
     "elapsed": 14,
     "status": "ok",
     "timestamp": 1731869837045,
     "user": {
      "displayName": "Praveen Satya R V",
      "userId": "07360123993237987960"
     },
     "user_tz": 360
    },
    "id": "0Xg2pzuRNUg2",
    "outputId": "1560759a-0e13-45d1-d84b-480830601f58"
   },
   "outputs": [
    {
     "name": "stdout",
     "output_type": "stream",
     "text": [
      "Successfully logged in to Hugging Face!\n"
     ]
    }
   ],
   "source": [
    "if hf_token:\n",
    "    # Log in to Hugging Face\n",
    "    login(token=hf_token)\n",
    "    print(\"Successfully logged in to Hugging Face!\")\n",
    "else:\n",
    "    print(\"Hugging Face token not found in notebook secrets.\")"
   ]
  },
  {
   "cell_type": "code",
   "execution_count": 7,
   "metadata": {
    "colab": {
     "base_uri": "https://localhost:8080/"
    },
    "executionInfo": {
     "elapsed": 2348,
     "status": "ok",
     "timestamp": 1731869839383,
     "user": {
      "displayName": "Praveen Satya R V",
      "userId": "07360123993237987960"
     },
     "user_tz": 360
    },
    "id": "IlaVI41KNXwM",
    "outputId": "5e92698a-5f5d-4ed2-d79c-c1227ac0f966"
   },
   "outputs": [
    {
     "name": "stderr",
     "output_type": "stream",
     "text": [
      "\u001b[34m\u001b[1mwandb\u001b[0m: Using wandb-core as the SDK backend.  Please refer to https://wandb.me/wandb-core for more information.\n",
      "\u001b[34m\u001b[1mwandb\u001b[0m: Currently logged in as: \u001b[33mpsatyarv\u001b[0m (\u001b[33mpsatyarv-the-university-of-texas-at-dallas\u001b[0m). Use \u001b[1m`wandb login --relogin`\u001b[0m to force relogin\n",
      "\u001b[34m\u001b[1mwandb\u001b[0m: \u001b[33mWARNING\u001b[0m If you're specifying your api key in code, ensure this code is not shared publicly.\n",
      "\u001b[34m\u001b[1mwandb\u001b[0m: \u001b[33mWARNING\u001b[0m Consider setting the WANDB_API_KEY environment variable, or running `wandb login` from the command line.\n",
      "\u001b[34m\u001b[1mwandb\u001b[0m: Appending key for api.wandb.ai to your netrc file: /root/.netrc\n"
     ]
    },
    {
     "name": "stdout",
     "output_type": "stream",
     "text": [
      "Successfully logged in to WANDB!\n"
     ]
    }
   ],
   "source": [
    "if wandb_api_key:\n",
    "  wandb.login(key=wandb_api_key)\n",
    "  print(\"Successfully logged in to WANDB!\")\n",
    "else:\n",
    "    print(\"WANDB key not found in notebook secrets.\")\n"
   ]
  },
  {
   "cell_type": "markdown",
   "metadata": {
    "id": "uZ3WPaezlbnm"
   },
   "source": [
    "## <Font color = 'indianred'>**2. Load Data** </font>"
   ]
  },
  {
   "cell_type": "code",
   "execution_count": 8,
   "metadata": {
    "executionInfo": {
     "elapsed": 6,
     "status": "ok",
     "timestamp": 1731869839384,
     "user": {
      "displayName": "Praveen Satya R V",
      "userId": "07360123993237987960"
     },
     "user_tz": 360
    },
    "id": "6oED2NF9lWp6"
   },
   "outputs": [],
   "source": [
    "# Set the base folder path using the Path class for better path handling\n",
    "base_folder = Path(basepath)\n",
    "\n",
    "# Define the data folder path by appending the relative path to the base folder\n",
    "# This is where the data files will be stored\n",
    "data_folder = base_folder / 'dataset/hw7'\n",
    "\n",
    "# Define the model folder path for saving trained models\n",
    "# This path points to a specific folder designated for NLP models related to the IMDb dataset\n",
    "model_folder = base_folder / 'models/hw7'"
   ]
  },
  {
   "cell_type": "code",
   "execution_count": 9,
   "metadata": {
    "executionInfo": {
     "elapsed": 187,
     "status": "ok",
     "timestamp": 1731869849448,
     "user": {
      "displayName": "Praveen Satya R V",
      "userId": "07360123993237987960"
     },
     "user_tz": 360
    },
    "id": "F4muRhBjlp1r"
   },
   "outputs": [],
   "source": [
    "# Create the model folder directory. If it already exists, do nothing.\n",
    "# The 'parents=True' argument ensures that all parent directories are created if they don't exist.\n",
    "model_folder.mkdir(exist_ok=True, parents=True)\n",
    "\n",
    "# Create the data folder directory in a similar manner.\n",
    "data_folder.mkdir(exist_ok=True, parents=True)"
   ]
  },
  {
   "cell_type": "code",
   "execution_count": 10,
   "metadata": {
    "executionInfo": {
     "elapsed": 161,
     "status": "ok",
     "timestamp": 1731869959097,
     "user": {
      "displayName": "Praveen Satya R V",
      "userId": "07360123993237987960"
     },
     "user_tz": 360
    },
    "id": "hwWoS6lOlutc"
   },
   "outputs": [],
   "source": [
    "# Load the dataset\n",
    "train_file_path = X_train_cleaned_file = data_folder / 'train.csv'\n",
    "test_file_path = X_test_cleaned_file = data_folder / 'test.csv'"
   ]
  },
  {
   "cell_type": "code",
   "execution_count": 11,
   "metadata": {
    "executionInfo": {
     "elapsed": 222,
     "status": "ok",
     "timestamp": 1731869959863,
     "user": {
      "displayName": "Praveen Satya R V",
      "userId": "07360123993237987960"
     },
     "user_tz": 360
    },
    "id": "a-1B9lsTnGxg"
   },
   "outputs": [],
   "source": [
    "train_df = pd.read_csv(train_file_path)\n",
    "test_df = pd.read_csv(test_file_path)"
   ]
  },
  {
   "cell_type": "code",
   "execution_count": 12,
   "metadata": {
    "colab": {
     "base_uri": "https://localhost:8080/",
     "height": 424
    },
    "executionInfo": {
     "elapsed": 198,
     "status": "ok",
     "timestamp": 1731869961439,
     "user": {
      "displayName": "Praveen Satya R V",
      "userId": "07360123993237987960"
     },
     "user_tz": 360
    },
    "id": "DvVxKyfunTVf",
    "outputId": "ffc4f80f-079c-488d-dbad-b177ae3b828c"
   },
   "outputs": [
    {
     "data": {
      "application/vnd.google.colaboratory.intrinsic+json": {
       "summary": "{\n  \"name\": \"train_df\",\n  \"rows\": 7724,\n  \"fields\": [\n    {\n      \"column\": \"ID\",\n      \"properties\": {\n        \"dtype\": \"string\",\n        \"num_unique_values\": 7724,\n        \"samples\": [\n          \"2017-30250\",\n          \"2017-30519\",\n          \"2018-01720\"\n        ],\n        \"semantic_type\": \"\",\n        \"description\": \"\"\n      }\n    },\n    {\n      \"column\": \"Tweet\",\n      \"properties\": {\n        \"dtype\": \"string\",\n        \"num_unique_values\": 7724,\n        \"samples\": [\n          \"I'm due for a big change! I've prayed on it, I think I deserve it #positivity \",\n          \"incetown, age 23, joyful, elevated in hope with the\",\n          \"Never heard of #CaraCaraOranges until today. Very #tasty! I highly recommend them! #delicious #GoodForYou #fruits  #oranges\"\n        ],\n        \"semantic_type\": \"\",\n        \"description\": \"\"\n      }\n    },\n    {\n      \"column\": \"anger\",\n      \"properties\": {\n        \"dtype\": \"number\",\n        \"std\": 0,\n        \"min\": 0,\n        \"max\": 1,\n        \"num_unique_values\": 2,\n        \"samples\": [\n          1,\n          0\n        ],\n        \"semantic_type\": \"\",\n        \"description\": \"\"\n      }\n    },\n    {\n      \"column\": \"anticipation\",\n      \"properties\": {\n        \"dtype\": \"number\",\n        \"std\": 0,\n        \"min\": 0,\n        \"max\": 1,\n        \"num_unique_values\": 2,\n        \"samples\": [\n          0,\n          1\n        ],\n        \"semantic_type\": \"\",\n        \"description\": \"\"\n      }\n    },\n    {\n      \"column\": \"disgust\",\n      \"properties\": {\n        \"dtype\": \"number\",\n        \"std\": 0,\n        \"min\": 0,\n        \"max\": 1,\n        \"num_unique_values\": 2,\n        \"samples\": [\n          1,\n          0\n        ],\n        \"semantic_type\": \"\",\n        \"description\": \"\"\n      }\n    },\n    {\n      \"column\": \"fear\",\n      \"properties\": {\n        \"dtype\": \"number\",\n        \"std\": 0,\n        \"min\": 0,\n        \"max\": 1,\n        \"num_unique_values\": 2,\n        \"samples\": [\n          1,\n          0\n        ],\n        \"semantic_type\": \"\",\n        \"description\": \"\"\n      }\n    },\n    {\n      \"column\": \"joy\",\n      \"properties\": {\n        \"dtype\": \"number\",\n        \"std\": 0,\n        \"min\": 0,\n        \"max\": 1,\n        \"num_unique_values\": 2,\n        \"samples\": [\n          1,\n          0\n        ],\n        \"semantic_type\": \"\",\n        \"description\": \"\"\n      }\n    },\n    {\n      \"column\": \"love\",\n      \"properties\": {\n        \"dtype\": \"number\",\n        \"std\": 0,\n        \"min\": 0,\n        \"max\": 1,\n        \"num_unique_values\": 2,\n        \"samples\": [\n          1,\n          0\n        ],\n        \"semantic_type\": \"\",\n        \"description\": \"\"\n      }\n    },\n    {\n      \"column\": \"optimism\",\n      \"properties\": {\n        \"dtype\": \"number\",\n        \"std\": 0,\n        \"min\": 0,\n        \"max\": 1,\n        \"num_unique_values\": 2,\n        \"samples\": [\n          0,\n          1\n        ],\n        \"semantic_type\": \"\",\n        \"description\": \"\"\n      }\n    },\n    {\n      \"column\": \"pessimism\",\n      \"properties\": {\n        \"dtype\": \"number\",\n        \"std\": 0,\n        \"min\": 0,\n        \"max\": 1,\n        \"num_unique_values\": 2,\n        \"samples\": [\n          1,\n          0\n        ],\n        \"semantic_type\": \"\",\n        \"description\": \"\"\n      }\n    },\n    {\n      \"column\": \"sadness\",\n      \"properties\": {\n        \"dtype\": \"number\",\n        \"std\": 0,\n        \"min\": 0,\n        \"max\": 1,\n        \"num_unique_values\": 2,\n        \"samples\": [\n          1,\n          0\n        ],\n        \"semantic_type\": \"\",\n        \"description\": \"\"\n      }\n    },\n    {\n      \"column\": \"surprise\",\n      \"properties\": {\n        \"dtype\": \"number\",\n        \"std\": 0,\n        \"min\": 0,\n        \"max\": 1,\n        \"num_unique_values\": 2,\n        \"samples\": [\n          1,\n          0\n        ],\n        \"semantic_type\": \"\",\n        \"description\": \"\"\n      }\n    },\n    {\n      \"column\": \"trust\",\n      \"properties\": {\n        \"dtype\": \"number\",\n        \"std\": 0,\n        \"min\": 0,\n        \"max\": 1,\n        \"num_unique_values\": 2,\n        \"samples\": [\n          0,\n          1\n        ],\n        \"semantic_type\": \"\",\n        \"description\": \"\"\n      }\n    }\n  ]\n}",
       "type": "dataframe",
       "variable_name": "train_df"
      },
      "text/html": [
       "\n",
       "  <div id=\"df-bf13536c-1a91-4f3c-aa99-2b031d3fb827\" class=\"colab-df-container\">\n",
       "    <div>\n",
       "<style scoped>\n",
       "    .dataframe tbody tr th:only-of-type {\n",
       "        vertical-align: middle;\n",
       "    }\n",
       "\n",
       "    .dataframe tbody tr th {\n",
       "        vertical-align: top;\n",
       "    }\n",
       "\n",
       "    .dataframe thead th {\n",
       "        text-align: right;\n",
       "    }\n",
       "</style>\n",
       "<table border=\"1\" class=\"dataframe\">\n",
       "  <thead>\n",
       "    <tr style=\"text-align: right;\">\n",
       "      <th></th>\n",
       "      <th>ID</th>\n",
       "      <th>Tweet</th>\n",
       "      <th>anger</th>\n",
       "      <th>anticipation</th>\n",
       "      <th>disgust</th>\n",
       "      <th>fear</th>\n",
       "      <th>joy</th>\n",
       "      <th>love</th>\n",
       "      <th>optimism</th>\n",
       "      <th>pessimism</th>\n",
       "      <th>sadness</th>\n",
       "      <th>surprise</th>\n",
       "      <th>trust</th>\n",
       "    </tr>\n",
       "  </thead>\n",
       "  <tbody>\n",
       "    <tr>\n",
       "      <th>0</th>\n",
       "      <td>2017-21441</td>\n",
       "      <td>“Worry is a down payment on a problem you may ...</td>\n",
       "      <td>0</td>\n",
       "      <td>1</td>\n",
       "      <td>0</td>\n",
       "      <td>0</td>\n",
       "      <td>0</td>\n",
       "      <td>0</td>\n",
       "      <td>1</td>\n",
       "      <td>0</td>\n",
       "      <td>0</td>\n",
       "      <td>0</td>\n",
       "      <td>1</td>\n",
       "    </tr>\n",
       "    <tr>\n",
       "      <th>1</th>\n",
       "      <td>2017-31535</td>\n",
       "      <td>Whatever you decide to do make sure it makes y...</td>\n",
       "      <td>0</td>\n",
       "      <td>0</td>\n",
       "      <td>0</td>\n",
       "      <td>0</td>\n",
       "      <td>1</td>\n",
       "      <td>1</td>\n",
       "      <td>1</td>\n",
       "      <td>0</td>\n",
       "      <td>0</td>\n",
       "      <td>0</td>\n",
       "      <td>0</td>\n",
       "    </tr>\n",
       "    <tr>\n",
       "      <th>2</th>\n",
       "      <td>2017-21068</td>\n",
       "      <td>@Max_Kellerman  it also helps that the majorit...</td>\n",
       "      <td>1</td>\n",
       "      <td>0</td>\n",
       "      <td>1</td>\n",
       "      <td>0</td>\n",
       "      <td>1</td>\n",
       "      <td>0</td>\n",
       "      <td>1</td>\n",
       "      <td>0</td>\n",
       "      <td>0</td>\n",
       "      <td>0</td>\n",
       "      <td>0</td>\n",
       "    </tr>\n",
       "    <tr>\n",
       "      <th>3</th>\n",
       "      <td>2017-31436</td>\n",
       "      <td>Accept the challenges so that you can literall...</td>\n",
       "      <td>0</td>\n",
       "      <td>0</td>\n",
       "      <td>0</td>\n",
       "      <td>0</td>\n",
       "      <td>1</td>\n",
       "      <td>0</td>\n",
       "      <td>1</td>\n",
       "      <td>0</td>\n",
       "      <td>0</td>\n",
       "      <td>0</td>\n",
       "      <td>0</td>\n",
       "    </tr>\n",
       "    <tr>\n",
       "      <th>4</th>\n",
       "      <td>2017-22195</td>\n",
       "      <td>My roommate: it's okay that we can't spell bec...</td>\n",
       "      <td>1</td>\n",
       "      <td>0</td>\n",
       "      <td>1</td>\n",
       "      <td>0</td>\n",
       "      <td>0</td>\n",
       "      <td>0</td>\n",
       "      <td>0</td>\n",
       "      <td>0</td>\n",
       "      <td>0</td>\n",
       "      <td>0</td>\n",
       "      <td>0</td>\n",
       "    </tr>\n",
       "    <tr>\n",
       "      <th>...</th>\n",
       "      <td>...</td>\n",
       "      <td>...</td>\n",
       "      <td>...</td>\n",
       "      <td>...</td>\n",
       "      <td>...</td>\n",
       "      <td>...</td>\n",
       "      <td>...</td>\n",
       "      <td>...</td>\n",
       "      <td>...</td>\n",
       "      <td>...</td>\n",
       "      <td>...</td>\n",
       "      <td>...</td>\n",
       "      <td>...</td>\n",
       "    </tr>\n",
       "    <tr>\n",
       "      <th>7719</th>\n",
       "      <td>2018-01993</td>\n",
       "      <td>@BadHombreNPS @SecretaryPerry If this didn't m...</td>\n",
       "      <td>1</td>\n",
       "      <td>0</td>\n",
       "      <td>1</td>\n",
       "      <td>0</td>\n",
       "      <td>0</td>\n",
       "      <td>0</td>\n",
       "      <td>0</td>\n",
       "      <td>0</td>\n",
       "      <td>0</td>\n",
       "      <td>0</td>\n",
       "      <td>0</td>\n",
       "    </tr>\n",
       "    <tr>\n",
       "      <th>7720</th>\n",
       "      <td>2018-01784</td>\n",
       "      <td>Excited to watch #stateoforigin tonight! Come ...</td>\n",
       "      <td>0</td>\n",
       "      <td>0</td>\n",
       "      <td>0</td>\n",
       "      <td>0</td>\n",
       "      <td>1</td>\n",
       "      <td>0</td>\n",
       "      <td>1</td>\n",
       "      <td>0</td>\n",
       "      <td>0</td>\n",
       "      <td>0</td>\n",
       "      <td>0</td>\n",
       "    </tr>\n",
       "    <tr>\n",
       "      <th>7721</th>\n",
       "      <td>2018-04047</td>\n",
       "      <td>Blah blah blah Kyrie, IT, etc. @CJC9BOSS leavi...</td>\n",
       "      <td>1</td>\n",
       "      <td>0</td>\n",
       "      <td>1</td>\n",
       "      <td>0</td>\n",
       "      <td>0</td>\n",
       "      <td>0</td>\n",
       "      <td>0</td>\n",
       "      <td>0</td>\n",
       "      <td>1</td>\n",
       "      <td>0</td>\n",
       "      <td>0</td>\n",
       "    </tr>\n",
       "    <tr>\n",
       "      <th>7722</th>\n",
       "      <td>2018-03041</td>\n",
       "      <td>#ThingsIveLearned The wise #shepherd never tru...</td>\n",
       "      <td>0</td>\n",
       "      <td>0</td>\n",
       "      <td>0</td>\n",
       "      <td>0</td>\n",
       "      <td>0</td>\n",
       "      <td>0</td>\n",
       "      <td>0</td>\n",
       "      <td>0</td>\n",
       "      <td>0</td>\n",
       "      <td>0</td>\n",
       "      <td>0</td>\n",
       "    </tr>\n",
       "    <tr>\n",
       "      <th>7723</th>\n",
       "      <td>2018-03386</td>\n",
       "      <td>I am really flattered and happy to hear those ...</td>\n",
       "      <td>0</td>\n",
       "      <td>0</td>\n",
       "      <td>0</td>\n",
       "      <td>0</td>\n",
       "      <td>1</td>\n",
       "      <td>0</td>\n",
       "      <td>1</td>\n",
       "      <td>0</td>\n",
       "      <td>0</td>\n",
       "      <td>0</td>\n",
       "      <td>0</td>\n",
       "    </tr>\n",
       "  </tbody>\n",
       "</table>\n",
       "<p>7724 rows × 13 columns</p>\n",
       "</div>\n",
       "    <div class=\"colab-df-buttons\">\n",
       "\n",
       "  <div class=\"colab-df-container\">\n",
       "    <button class=\"colab-df-convert\" onclick=\"convertToInteractive('df-bf13536c-1a91-4f3c-aa99-2b031d3fb827')\"\n",
       "            title=\"Convert this dataframe to an interactive table.\"\n",
       "            style=\"display:none;\">\n",
       "\n",
       "  <svg xmlns=\"http://www.w3.org/2000/svg\" height=\"24px\" viewBox=\"0 -960 960 960\">\n",
       "    <path d=\"M120-120v-720h720v720H120Zm60-500h600v-160H180v160Zm220 220h160v-160H400v160Zm0 220h160v-160H400v160ZM180-400h160v-160H180v160Zm440 0h160v-160H620v160ZM180-180h160v-160H180v160Zm440 0h160v-160H620v160Z\"/>\n",
       "  </svg>\n",
       "    </button>\n",
       "\n",
       "  <style>\n",
       "    .colab-df-container {\n",
       "      display:flex;\n",
       "      gap: 12px;\n",
       "    }\n",
       "\n",
       "    .colab-df-convert {\n",
       "      background-color: #E8F0FE;\n",
       "      border: none;\n",
       "      border-radius: 50%;\n",
       "      cursor: pointer;\n",
       "      display: none;\n",
       "      fill: #1967D2;\n",
       "      height: 32px;\n",
       "      padding: 0 0 0 0;\n",
       "      width: 32px;\n",
       "    }\n",
       "\n",
       "    .colab-df-convert:hover {\n",
       "      background-color: #E2EBFA;\n",
       "      box-shadow: 0px 1px 2px rgba(60, 64, 67, 0.3), 0px 1px 3px 1px rgba(60, 64, 67, 0.15);\n",
       "      fill: #174EA6;\n",
       "    }\n",
       "\n",
       "    .colab-df-buttons div {\n",
       "      margin-bottom: 4px;\n",
       "    }\n",
       "\n",
       "    [theme=dark] .colab-df-convert {\n",
       "      background-color: #3B4455;\n",
       "      fill: #D2E3FC;\n",
       "    }\n",
       "\n",
       "    [theme=dark] .colab-df-convert:hover {\n",
       "      background-color: #434B5C;\n",
       "      box-shadow: 0px 1px 3px 1px rgba(0, 0, 0, 0.15);\n",
       "      filter: drop-shadow(0px 1px 2px rgba(0, 0, 0, 0.3));\n",
       "      fill: #FFFFFF;\n",
       "    }\n",
       "  </style>\n",
       "\n",
       "    <script>\n",
       "      const buttonEl =\n",
       "        document.querySelector('#df-bf13536c-1a91-4f3c-aa99-2b031d3fb827 button.colab-df-convert');\n",
       "      buttonEl.style.display =\n",
       "        google.colab.kernel.accessAllowed ? 'block' : 'none';\n",
       "\n",
       "      async function convertToInteractive(key) {\n",
       "        const element = document.querySelector('#df-bf13536c-1a91-4f3c-aa99-2b031d3fb827');\n",
       "        const dataTable =\n",
       "          await google.colab.kernel.invokeFunction('convertToInteractive',\n",
       "                                                    [key], {});\n",
       "        if (!dataTable) return;\n",
       "\n",
       "        const docLinkHtml = 'Like what you see? Visit the ' +\n",
       "          '<a target=\"_blank\" href=https://colab.research.google.com/notebooks/data_table.ipynb>data table notebook</a>'\n",
       "          + ' to learn more about interactive tables.';\n",
       "        element.innerHTML = '';\n",
       "        dataTable['output_type'] = 'display_data';\n",
       "        await google.colab.output.renderOutput(dataTable, element);\n",
       "        const docLink = document.createElement('div');\n",
       "        docLink.innerHTML = docLinkHtml;\n",
       "        element.appendChild(docLink);\n",
       "      }\n",
       "    </script>\n",
       "  </div>\n",
       "\n",
       "\n",
       "<div id=\"df-f2bd7c08-239d-4efa-ac11-df4b4a1c8f9f\">\n",
       "  <button class=\"colab-df-quickchart\" onclick=\"quickchart('df-f2bd7c08-239d-4efa-ac11-df4b4a1c8f9f')\"\n",
       "            title=\"Suggest charts\"\n",
       "            style=\"display:none;\">\n",
       "\n",
       "<svg xmlns=\"http://www.w3.org/2000/svg\" height=\"24px\"viewBox=\"0 0 24 24\"\n",
       "     width=\"24px\">\n",
       "    <g>\n",
       "        <path d=\"M19 3H5c-1.1 0-2 .9-2 2v14c0 1.1.9 2 2 2h14c1.1 0 2-.9 2-2V5c0-1.1-.9-2-2-2zM9 17H7v-7h2v7zm4 0h-2V7h2v10zm4 0h-2v-4h2v4z\"/>\n",
       "    </g>\n",
       "</svg>\n",
       "  </button>\n",
       "\n",
       "<style>\n",
       "  .colab-df-quickchart {\n",
       "      --bg-color: #E8F0FE;\n",
       "      --fill-color: #1967D2;\n",
       "      --hover-bg-color: #E2EBFA;\n",
       "      --hover-fill-color: #174EA6;\n",
       "      --disabled-fill-color: #AAA;\n",
       "      --disabled-bg-color: #DDD;\n",
       "  }\n",
       "\n",
       "  [theme=dark] .colab-df-quickchart {\n",
       "      --bg-color: #3B4455;\n",
       "      --fill-color: #D2E3FC;\n",
       "      --hover-bg-color: #434B5C;\n",
       "      --hover-fill-color: #FFFFFF;\n",
       "      --disabled-bg-color: #3B4455;\n",
       "      --disabled-fill-color: #666;\n",
       "  }\n",
       "\n",
       "  .colab-df-quickchart {\n",
       "    background-color: var(--bg-color);\n",
       "    border: none;\n",
       "    border-radius: 50%;\n",
       "    cursor: pointer;\n",
       "    display: none;\n",
       "    fill: var(--fill-color);\n",
       "    height: 32px;\n",
       "    padding: 0;\n",
       "    width: 32px;\n",
       "  }\n",
       "\n",
       "  .colab-df-quickchart:hover {\n",
       "    background-color: var(--hover-bg-color);\n",
       "    box-shadow: 0 1px 2px rgba(60, 64, 67, 0.3), 0 1px 3px 1px rgba(60, 64, 67, 0.15);\n",
       "    fill: var(--button-hover-fill-color);\n",
       "  }\n",
       "\n",
       "  .colab-df-quickchart-complete:disabled,\n",
       "  .colab-df-quickchart-complete:disabled:hover {\n",
       "    background-color: var(--disabled-bg-color);\n",
       "    fill: var(--disabled-fill-color);\n",
       "    box-shadow: none;\n",
       "  }\n",
       "\n",
       "  .colab-df-spinner {\n",
       "    border: 2px solid var(--fill-color);\n",
       "    border-color: transparent;\n",
       "    border-bottom-color: var(--fill-color);\n",
       "    animation:\n",
       "      spin 1s steps(1) infinite;\n",
       "  }\n",
       "\n",
       "  @keyframes spin {\n",
       "    0% {\n",
       "      border-color: transparent;\n",
       "      border-bottom-color: var(--fill-color);\n",
       "      border-left-color: var(--fill-color);\n",
       "    }\n",
       "    20% {\n",
       "      border-color: transparent;\n",
       "      border-left-color: var(--fill-color);\n",
       "      border-top-color: var(--fill-color);\n",
       "    }\n",
       "    30% {\n",
       "      border-color: transparent;\n",
       "      border-left-color: var(--fill-color);\n",
       "      border-top-color: var(--fill-color);\n",
       "      border-right-color: var(--fill-color);\n",
       "    }\n",
       "    40% {\n",
       "      border-color: transparent;\n",
       "      border-right-color: var(--fill-color);\n",
       "      border-top-color: var(--fill-color);\n",
       "    }\n",
       "    60% {\n",
       "      border-color: transparent;\n",
       "      border-right-color: var(--fill-color);\n",
       "    }\n",
       "    80% {\n",
       "      border-color: transparent;\n",
       "      border-right-color: var(--fill-color);\n",
       "      border-bottom-color: var(--fill-color);\n",
       "    }\n",
       "    90% {\n",
       "      border-color: transparent;\n",
       "      border-bottom-color: var(--fill-color);\n",
       "    }\n",
       "  }\n",
       "</style>\n",
       "\n",
       "  <script>\n",
       "    async function quickchart(key) {\n",
       "      const quickchartButtonEl =\n",
       "        document.querySelector('#' + key + ' button');\n",
       "      quickchartButtonEl.disabled = true;  // To prevent multiple clicks.\n",
       "      quickchartButtonEl.classList.add('colab-df-spinner');\n",
       "      try {\n",
       "        const charts = await google.colab.kernel.invokeFunction(\n",
       "            'suggestCharts', [key], {});\n",
       "      } catch (error) {\n",
       "        console.error('Error during call to suggestCharts:', error);\n",
       "      }\n",
       "      quickchartButtonEl.classList.remove('colab-df-spinner');\n",
       "      quickchartButtonEl.classList.add('colab-df-quickchart-complete');\n",
       "    }\n",
       "    (() => {\n",
       "      let quickchartButtonEl =\n",
       "        document.querySelector('#df-f2bd7c08-239d-4efa-ac11-df4b4a1c8f9f button');\n",
       "      quickchartButtonEl.style.display =\n",
       "        google.colab.kernel.accessAllowed ? 'block' : 'none';\n",
       "    })();\n",
       "  </script>\n",
       "</div>\n",
       "\n",
       "  <div id=\"id_45b4466e-61f0-412e-b0a8-cae71f46f66d\">\n",
       "    <style>\n",
       "      .colab-df-generate {\n",
       "        background-color: #E8F0FE;\n",
       "        border: none;\n",
       "        border-radius: 50%;\n",
       "        cursor: pointer;\n",
       "        display: none;\n",
       "        fill: #1967D2;\n",
       "        height: 32px;\n",
       "        padding: 0 0 0 0;\n",
       "        width: 32px;\n",
       "      }\n",
       "\n",
       "      .colab-df-generate:hover {\n",
       "        background-color: #E2EBFA;\n",
       "        box-shadow: 0px 1px 2px rgba(60, 64, 67, 0.3), 0px 1px 3px 1px rgba(60, 64, 67, 0.15);\n",
       "        fill: #174EA6;\n",
       "      }\n",
       "\n",
       "      [theme=dark] .colab-df-generate {\n",
       "        background-color: #3B4455;\n",
       "        fill: #D2E3FC;\n",
       "      }\n",
       "\n",
       "      [theme=dark] .colab-df-generate:hover {\n",
       "        background-color: #434B5C;\n",
       "        box-shadow: 0px 1px 3px 1px rgba(0, 0, 0, 0.15);\n",
       "        filter: drop-shadow(0px 1px 2px rgba(0, 0, 0, 0.3));\n",
       "        fill: #FFFFFF;\n",
       "      }\n",
       "    </style>\n",
       "    <button class=\"colab-df-generate\" onclick=\"generateWithVariable('train_df')\"\n",
       "            title=\"Generate code using this dataframe.\"\n",
       "            style=\"display:none;\">\n",
       "\n",
       "  <svg xmlns=\"http://www.w3.org/2000/svg\" height=\"24px\"viewBox=\"0 0 24 24\"\n",
       "       width=\"24px\">\n",
       "    <path d=\"M7,19H8.4L18.45,9,17,7.55,7,17.6ZM5,21V16.75L18.45,3.32a2,2,0,0,1,2.83,0l1.4,1.43a1.91,1.91,0,0,1,.58,1.4,1.91,1.91,0,0,1-.58,1.4L9.25,21ZM18.45,9,17,7.55Zm-12,3A5.31,5.31,0,0,0,4.9,8.1,5.31,5.31,0,0,0,1,6.5,5.31,5.31,0,0,0,4.9,4.9,5.31,5.31,0,0,0,6.5,1,5.31,5.31,0,0,0,8.1,4.9,5.31,5.31,0,0,0,12,6.5,5.46,5.46,0,0,0,6.5,12Z\"/>\n",
       "  </svg>\n",
       "    </button>\n",
       "    <script>\n",
       "      (() => {\n",
       "      const buttonEl =\n",
       "        document.querySelector('#id_45b4466e-61f0-412e-b0a8-cae71f46f66d button.colab-df-generate');\n",
       "      buttonEl.style.display =\n",
       "        google.colab.kernel.accessAllowed ? 'block' : 'none';\n",
       "\n",
       "      buttonEl.onclick = () => {\n",
       "        google.colab.notebook.generateWithVariable('train_df');\n",
       "      }\n",
       "      })();\n",
       "    </script>\n",
       "  </div>\n",
       "\n",
       "    </div>\n",
       "  </div>\n"
      ],
      "text/plain": [
       "              ID                                              Tweet  anger  \\\n",
       "0     2017-21441  “Worry is a down payment on a problem you may ...      0   \n",
       "1     2017-31535  Whatever you decide to do make sure it makes y...      0   \n",
       "2     2017-21068  @Max_Kellerman  it also helps that the majorit...      1   \n",
       "3     2017-31436  Accept the challenges so that you can literall...      0   \n",
       "4     2017-22195  My roommate: it's okay that we can't spell bec...      1   \n",
       "...          ...                                                ...    ...   \n",
       "7719  2018-01993  @BadHombreNPS @SecretaryPerry If this didn't m...      1   \n",
       "7720  2018-01784  Excited to watch #stateoforigin tonight! Come ...      0   \n",
       "7721  2018-04047  Blah blah blah Kyrie, IT, etc. @CJC9BOSS leavi...      1   \n",
       "7722  2018-03041  #ThingsIveLearned The wise #shepherd never tru...      0   \n",
       "7723  2018-03386  I am really flattered and happy to hear those ...      0   \n",
       "\n",
       "      anticipation  disgust  fear  joy  love  optimism  pessimism  sadness  \\\n",
       "0                1        0     0    0     0         1          0        0   \n",
       "1                0        0     0    1     1         1          0        0   \n",
       "2                0        1     0    1     0         1          0        0   \n",
       "3                0        0     0    1     0         1          0        0   \n",
       "4                0        1     0    0     0         0          0        0   \n",
       "...            ...      ...   ...  ...   ...       ...        ...      ...   \n",
       "7719             0        1     0    0     0         0          0        0   \n",
       "7720             0        0     0    1     0         1          0        0   \n",
       "7721             0        1     0    0     0         0          0        1   \n",
       "7722             0        0     0    0     0         0          0        0   \n",
       "7723             0        0     0    1     0         1          0        0   \n",
       "\n",
       "      surprise  trust  \n",
       "0            0      1  \n",
       "1            0      0  \n",
       "2            0      0  \n",
       "3            0      0  \n",
       "4            0      0  \n",
       "...        ...    ...  \n",
       "7719         0      0  \n",
       "7720         0      0  \n",
       "7721         0      0  \n",
       "7722         0      0  \n",
       "7723         0      0  \n",
       "\n",
       "[7724 rows x 13 columns]"
      ]
     },
     "execution_count": 12,
     "metadata": {},
     "output_type": "execute_result"
    }
   ],
   "source": [
    "train_df"
   ]
  },
  {
   "cell_type": "code",
   "execution_count": 13,
   "metadata": {
    "colab": {
     "base_uri": "https://localhost:8080/",
     "height": 492
    },
    "executionInfo": {
     "elapsed": 209,
     "status": "ok",
     "timestamp": 1731869963462,
     "user": {
      "displayName": "Praveen Satya R V",
      "userId": "07360123993237987960"
     },
     "user_tz": 360
    },
    "id": "CWDDKYg2nZZ_",
    "outputId": "923f211b-5768-4d35-b3ac-d47b5937d9bf"
   },
   "outputs": [
    {
     "data": {
      "text/html": [
       "<div>\n",
       "<style scoped>\n",
       "    .dataframe tbody tr th:only-of-type {\n",
       "        vertical-align: middle;\n",
       "    }\n",
       "\n",
       "    .dataframe tbody tr th {\n",
       "        vertical-align: top;\n",
       "    }\n",
       "\n",
       "    .dataframe thead th {\n",
       "        text-align: right;\n",
       "    }\n",
       "</style>\n",
       "<table border=\"1\" class=\"dataframe\">\n",
       "  <thead>\n",
       "    <tr style=\"text-align: right;\">\n",
       "      <th></th>\n",
       "      <th>0</th>\n",
       "    </tr>\n",
       "  </thead>\n",
       "  <tbody>\n",
       "    <tr>\n",
       "      <th>ID</th>\n",
       "      <td>2017-214412017-315352017-210682017-314362017-2...</td>\n",
       "    </tr>\n",
       "    <tr>\n",
       "      <th>Tweet</th>\n",
       "      <td>“Worry is a down payment on a problem you may ...</td>\n",
       "    </tr>\n",
       "    <tr>\n",
       "      <th>anger</th>\n",
       "      <td>2859</td>\n",
       "    </tr>\n",
       "    <tr>\n",
       "      <th>anticipation</th>\n",
       "      <td>1102</td>\n",
       "    </tr>\n",
       "    <tr>\n",
       "      <th>disgust</th>\n",
       "      <td>2921</td>\n",
       "    </tr>\n",
       "    <tr>\n",
       "      <th>fear</th>\n",
       "      <td>1363</td>\n",
       "    </tr>\n",
       "    <tr>\n",
       "      <th>joy</th>\n",
       "      <td>2877</td>\n",
       "    </tr>\n",
       "    <tr>\n",
       "      <th>love</th>\n",
       "      <td>832</td>\n",
       "    </tr>\n",
       "    <tr>\n",
       "      <th>optimism</th>\n",
       "      <td>2291</td>\n",
       "    </tr>\n",
       "    <tr>\n",
       "      <th>pessimism</th>\n",
       "      <td>895</td>\n",
       "    </tr>\n",
       "    <tr>\n",
       "      <th>sadness</th>\n",
       "      <td>2273</td>\n",
       "    </tr>\n",
       "    <tr>\n",
       "      <th>surprise</th>\n",
       "      <td>396</td>\n",
       "    </tr>\n",
       "    <tr>\n",
       "      <th>trust</th>\n",
       "      <td>400</td>\n",
       "    </tr>\n",
       "  </tbody>\n",
       "</table>\n",
       "</div><br><label><b>dtype:</b> object</label>"
      ],
      "text/plain": [
       "ID              2017-214412017-315352017-210682017-314362017-2...\n",
       "Tweet           “Worry is a down payment on a problem you may ...\n",
       "anger                                                        2859\n",
       "anticipation                                                 1102\n",
       "disgust                                                      2921\n",
       "fear                                                         1363\n",
       "joy                                                          2877\n",
       "love                                                          832\n",
       "optimism                                                     2291\n",
       "pessimism                                                     895\n",
       "sadness                                                      2273\n",
       "surprise                                                      396\n",
       "trust                                                         400\n",
       "dtype: object"
      ]
     },
     "execution_count": 13,
     "metadata": {},
     "output_type": "execute_result"
    }
   ],
   "source": [
    "# look at the distribution of different classes\n",
    "train_df.sum()"
   ]
  },
  {
   "cell_type": "code",
   "execution_count": 14,
   "metadata": {
    "executionInfo": {
     "elapsed": 4,
     "status": "ok",
     "timestamp": 1731869964124,
     "user": {
      "displayName": "Praveen Satya R V",
      "userId": "07360123993237987960"
     },
     "user_tz": 360
    },
    "id": "HOH97TPNnd8l"
   },
   "outputs": [],
   "source": [
    "# tranforming train data\n",
    "X = train_df.iloc[:,1].to_numpy()\n",
    "y = train_df.iloc[:, 2:].values.tolist()\n",
    "\n",
    "# transforming test data\n",
    "X_test = test_df.iloc[:,1].to_numpy()\n",
    "y_test = test_df.iloc[:, 2:].values.tolist()"
   ]
  },
  {
   "cell_type": "code",
   "execution_count": 15,
   "metadata": {
    "colab": {
     "base_uri": "https://localhost:8080/"
    },
    "executionInfo": {
     "elapsed": 254,
     "status": "ok",
     "timestamp": 1731869965345,
     "user": {
      "displayName": "Praveen Satya R V",
      "userId": "07360123993237987960"
     },
     "user_tz": 360
    },
    "id": "TGX9Fck8nmCI",
    "outputId": "e27541e3-9d68-49ae-8947-b5384a7d3a7f"
   },
   "outputs": [
    {
     "data": {
      "text/plain": [
       "[[0, 1, 0, 0, 0, 0, 1, 0, 0, 0, 1],\n",
       " [0, 0, 0, 0, 1, 1, 1, 0, 0, 0, 0],\n",
       " [1, 0, 1, 0, 1, 0, 1, 0, 0, 0, 0],\n",
       " [0, 0, 0, 0, 1, 0, 1, 0, 0, 0, 0],\n",
       " [1, 0, 1, 0, 0, 0, 0, 0, 0, 0, 0]]"
      ]
     },
     "execution_count": 15,
     "metadata": {},
     "output_type": "execute_result"
    }
   ],
   "source": [
    "y[:5]"
   ]
  },
  {
   "cell_type": "markdown",
   "metadata": {
    "id": "43vu1i4bnvH0"
   },
   "source": [
    "## <Font color = 'indianred'>**3. Training/Validation Split**"
   ]
  },
  {
   "cell_type": "code",
   "execution_count": 16,
   "metadata": {
    "executionInfo": {
     "elapsed": 176,
     "status": "ok",
     "timestamp": 1731869967462,
     "user": {
      "displayName": "Praveen Satya R V",
      "userId": "07360123993237987960"
     },
     "user_tz": 360
    },
    "id": "00SxQYwEnrNn"
   },
   "outputs": [],
   "source": [
    "trainset = Dataset.from_dict({\n",
    "    'text': X,\n",
    "    'label': y\n",
    "})\n",
    "\n",
    "testset = Dataset.from_dict({\n",
    "    'text': X_test,\n",
    "    'label': y_test\n",
    "})"
   ]
  },
  {
   "cell_type": "code",
   "execution_count": 17,
   "metadata": {
    "executionInfo": {
     "elapsed": 141,
     "status": "ok",
     "timestamp": 1731869968870,
     "user": {
      "displayName": "Praveen Satya R V",
      "userId": "07360123993237987960"
     },
     "user_tz": 360
    },
    "id": "E2y3ytLfn2Pa"
   },
   "outputs": [],
   "source": [
    "# Split the test set into test and validation sets\n",
    "train_val_splits = trainset.train_test_split(test_size=0.5, seed=42,)\n",
    "train_split = train_val_splits['train']\n",
    "val_split = train_val_splits['test']"
   ]
  },
  {
   "cell_type": "code",
   "execution_count": 18,
   "metadata": {
    "executionInfo": {
     "elapsed": 183,
     "status": "ok",
     "timestamp": 1731869970766,
     "user": {
      "displayName": "Praveen Satya R V",
      "userId": "07360123993237987960"
     },
     "user_tz": 360
    },
    "id": "WJLVdwHln_Gw"
   },
   "outputs": [],
   "source": [
    "# small subset for initial experimentation\n",
    "train_split = train_split.shuffle(seed = 42).select(range(1500))\n",
    "val_split = val_split.shuffle(seed = 42).select(range(1500))\n",
    "testset = testset.shuffle(seed = 42).select(range(1500))"
   ]
  },
  {
   "cell_type": "code",
   "execution_count": 19,
   "metadata": {
    "executionInfo": {
     "elapsed": 171,
     "status": "ok",
     "timestamp": 1731869972504,
     "user": {
      "displayName": "Praveen Satya R V",
      "userId": "07360123993237987960"
     },
     "user_tz": 360
    },
    "id": "2KsSx0BFoCKE"
   },
   "outputs": [],
   "source": [
    "train_val_subset= DatasetDict(\n",
    "    {\"train\": train_split, \"valid\": val_split})"
   ]
  },
  {
   "cell_type": "code",
   "execution_count": 20,
   "metadata": {
    "colab": {
     "base_uri": "https://localhost:8080/"
    },
    "executionInfo": {
     "elapsed": 180,
     "status": "ok",
     "timestamp": 1731869974028,
     "user": {
      "displayName": "Praveen Satya R V",
      "userId": "07360123993237987960"
     },
     "user_tz": 360
    },
    "id": "OkrX5_exoEwG",
    "outputId": "fa4558a4-c5eb-4c17-9b87-e8230a8643ce"
   },
   "outputs": [
    {
     "data": {
      "text/plain": [
       "DatasetDict({\n",
       "    train: Dataset({\n",
       "        features: ['text', 'label'],\n",
       "        num_rows: 1500\n",
       "    })\n",
       "    valid: Dataset({\n",
       "        features: ['text', 'label'],\n",
       "        num_rows: 1500\n",
       "    })\n",
       "})"
      ]
     },
     "execution_count": 20,
     "metadata": {},
     "output_type": "execute_result"
    }
   ],
   "source": [
    "train_val_subset"
   ]
  },
  {
   "cell_type": "code",
   "execution_count": 21,
   "metadata": {
    "colab": {
     "base_uri": "https://localhost:8080/"
    },
    "executionInfo": {
     "elapsed": 176,
     "status": "ok",
     "timestamp": 1731869976348,
     "user": {
      "displayName": "Praveen Satya R V",
      "userId": "07360123993237987960"
     },
     "user_tz": 360
    },
    "id": "jgD2Xx59oHYe",
    "outputId": "d54d31fe-a020-4333-ce71-0687472fc631"
   },
   "outputs": [
    {
     "data": {
      "text/plain": [
       "[0, 0, 1, 1, 0, 0, 0, 1, 1, 0, 0]"
      ]
     },
     "execution_count": 21,
     "metadata": {},
     "output_type": "execute_result"
    }
   ],
   "source": [
    "train_val_subset['train']['label'][0]"
   ]
  },
  {
   "cell_type": "code",
   "execution_count": 22,
   "metadata": {
    "colab": {
     "base_uri": "https://localhost:8080/",
     "height": 36
    },
    "executionInfo": {
     "elapsed": 191,
     "status": "ok",
     "timestamp": 1731869977693,
     "user": {
      "displayName": "Praveen Satya R V",
      "userId": "07360123993237987960"
     },
     "user_tz": 360
    },
    "id": "6cfVM4LWoKgK",
    "outputId": "827e2425-2c17-4952-c5d4-6f35dcc75476"
   },
   "outputs": [
    {
     "data": {
      "application/vnd.google.colaboratory.intrinsic+json": {
       "type": "string"
      },
      "text/plain": [
       "'Even death is unreliable. Instead of zero it may be some ghastly hallucination, such as the square root of minus one.  Samuel Beckett'"
      ]
     },
     "execution_count": 22,
     "metadata": {},
     "output_type": "execute_result"
    }
   ],
   "source": [
    "train_val_subset['train']['text'][0]"
   ]
  },
  {
   "cell_type": "markdown",
   "metadata": {
    "id": "XvUAvp6GodgP"
   },
   "source": [
    "## <Font color = 'indianred'>**4. Model 1 - Gemma-2-2b** </font>"
   ]
  },
  {
   "cell_type": "code",
   "execution_count": 23,
   "metadata": {
    "executionInfo": {
     "elapsed": 166,
     "status": "ok",
     "timestamp": 1731869997200,
     "user": {
      "displayName": "Praveen Satya R V",
      "userId": "07360123993237987960"
     },
     "user_tz": 360
    },
    "id": "Q-kN7fWFOhLA"
   },
   "outputs": [],
   "source": [
    "def free_gpu_memory():\n",
    "    \"\"\"\n",
    "    Frees up GPU memory after CUDA out-of-memory error in Colab.\n",
    "\n",
    "    This function performs the following steps:\n",
    "    1. Deletes all PyTorch objects to clear references.\n",
    "    2. Calls garbage collection to remove unreferenced objects from memory.\n",
    "    3. Uses torch.cuda.empty_cache() to release cached GPU memory.\n",
    "    4. Waits for a moment to ensure memory is fully released.\n",
    "    \"\"\"\n",
    "    try:\n",
    "        # Delete all torch tensors to free up memory\n",
    "        for obj in list(locals().values()):\n",
    "            if torch.is_tensor(obj):\n",
    "                del obj\n",
    "\n",
    "        # Collect garbage to release any remaining unused memory\n",
    "        gc.collect()\n",
    "\n",
    "        # Empty the CUDA cache to release GPU memory\n",
    "        torch.cuda.empty_cache()\n",
    "\n",
    "        # Adding a small delay to allow memory to be fully released\n",
    "        time.sleep(2)\n",
    "\n",
    "        print(\"GPU memory has been freed.\")\n",
    "    except Exception as e:\n",
    "        print(f\"Error while freeing GPU memory: {e}\")\n"
   ]
  },
  {
   "cell_type": "code",
   "execution_count": 24,
   "metadata": {
    "colab": {
     "base_uri": "https://localhost:8080/"
    },
    "executionInfo": {
     "elapsed": 2538,
     "status": "ok",
     "timestamp": 1731870001821,
     "user": {
      "displayName": "Praveen Satya R V",
      "userId": "07360123993237987960"
     },
     "user_tz": 360
    },
    "id": "nn-BwCwgOi4C",
    "outputId": "e90c7c4e-4776-4f60-d599-79523445e37a"
   },
   "outputs": [
    {
     "name": "stdout",
     "output_type": "stream",
     "text": [
      "GPU memory has been freed.\n"
     ]
    }
   ],
   "source": [
    "free_gpu_memory()"
   ]
  },
  {
   "cell_type": "code",
   "execution_count": 25,
   "metadata": {
    "executionInfo": {
     "elapsed": 1851,
     "status": "ok",
     "timestamp": 1731870003668,
     "user": {
      "displayName": "Praveen Satya R V",
      "userId": "07360123993237987960"
     },
     "user_tz": 360
    },
    "id": "kVTuVto8oYMe"
   },
   "outputs": [],
   "source": [
    "checkpoint = \"google/gemma-2-2b\"\n",
    "tokenizer = AutoTokenizer.from_pretrained(checkpoint)"
   ]
  },
  {
   "cell_type": "markdown",
   "metadata": {
    "id": "sq1TOyYcomRX"
   },
   "source": [
    "<font color = 'indianred'> **4.1 Tokenize Labels** </font>"
   ]
  },
  {
   "cell_type": "code",
   "execution_count": 26,
   "metadata": {
    "executionInfo": {
     "elapsed": 208,
     "status": "ok",
     "timestamp": 1731870006639,
     "user": {
      "displayName": "Praveen Satya R V",
      "userId": "07360123993237987960"
     },
     "user_tz": 360
    },
    "id": "T1LfQTh_oiSx"
   },
   "outputs": [],
   "source": [
    "def tokenize_fn(batch):\n",
    "    return tokenizer(text = batch[\"text\"], truncation=True, max_length=512)"
   ]
  },
  {
   "cell_type": "code",
   "execution_count": 27,
   "metadata": {
    "colab": {
     "base_uri": "https://localhost:8080/",
     "height": 81,
     "referenced_widgets": [
      "52a3b7fff751478e92d0e62286020e0d",
      "c3591798ef2841fcbf91a3ea46b4a42e",
      "4a98561e187e423dbc14854db77d47c4",
      "b8e776bb7b664502bfa0e0bccfd5bb40",
      "5e954f460f334302bba325794e54b9f0",
      "68855ba9da924b499f90428963908172",
      "45a888aafd7d464a99c4fc1ddece6bea",
      "ba353c15234548adb2c2fc0aa05b151b",
      "bf23dec755bb418ab998492ab0078672",
      "345b0f5362914ea7bf136992d2548962",
      "50c456bc100c4310925e34ad5129e15d",
      "744bf10e3a654b57a0abbc3e6b0d7361",
      "df03c9a2d4224139b5b301032efc7dc7",
      "b0b234d969ec4f4db4e468fbeaf781e3",
      "3170eb17ea7b406ab3a5219eedb95adb",
      "4d452b8b5d754dfe9bbac5dcc93e57c5",
      "905d1b39d65d4f3dacd2b38f8f8e4873",
      "158a4e89200f4cb4a71af6feece4d447",
      "dc3bfeb3ad11422f9f30095bff53d81d",
      "6d7b1706846946c286e7abe15ef9d1c8",
      "23f8b454e71c428bbb8b3599b607b396",
      "107fd5e9d93b4a22a653e44ca013333b"
     ]
    },
    "executionInfo": {
     "elapsed": 1525,
     "status": "ok",
     "timestamp": 1731870040229,
     "user": {
      "displayName": "Praveen Satya R V",
      "userId": "07360123993237987960"
     },
     "user_tz": 360
    },
    "id": "QFH2GOoNoptC",
    "outputId": "c6f8acbb-a436-414b-a688-2b563633469e"
   },
   "outputs": [
    {
     "data": {
      "application/vnd.jupyter.widget-view+json": {
       "model_id": "52a3b7fff751478e92d0e62286020e0d",
       "version_major": 2,
       "version_minor": 0
      },
      "text/plain": [
       "Map:   0%|          | 0/1500 [00:00<?, ? examples/s]"
      ]
     },
     "metadata": {},
     "output_type": "display_data"
    },
    {
     "data": {
      "application/vnd.jupyter.widget-view+json": {
       "model_id": "744bf10e3a654b57a0abbc3e6b0d7361",
       "version_major": 2,
       "version_minor": 0
      },
      "text/plain": [
       "Map:   0%|          | 0/1500 [00:00<?, ? examples/s]"
      ]
     },
     "metadata": {},
     "output_type": "display_data"
    }
   ],
   "source": [
    "tokenized_dataset= train_val_subset.map(tokenize_fn, batched=True)\n",
    "tokenized_dataset = tokenized_dataset.remove_columns(\n",
    "    ['text']\n",
    ")\n",
    "tokenized_dataset.set_format(type='torch')"
   ]
  },
  {
   "cell_type": "code",
   "execution_count": 28,
   "metadata": {
    "colab": {
     "base_uri": "https://localhost:8080/"
    },
    "executionInfo": {
     "elapsed": 155,
     "status": "ok",
     "timestamp": 1731870041525,
     "user": {
      "displayName": "Praveen Satya R V",
      "userId": "07360123993237987960"
     },
     "user_tz": 360
    },
    "id": "Knkigq0hor4q",
    "outputId": "d6a6e352-42d1-4ebf-fa43-f11a5e4413a5"
   },
   "outputs": [
    {
     "data": {
      "text/plain": [
       "DatasetDict({\n",
       "    train: Dataset({\n",
       "        features: ['label', 'input_ids', 'attention_mask'],\n",
       "        num_rows: 1500\n",
       "    })\n",
       "    valid: Dataset({\n",
       "        features: ['label', 'input_ids', 'attention_mask'],\n",
       "        num_rows: 1500\n",
       "    })\n",
       "})"
      ]
     },
     "execution_count": 28,
     "metadata": {},
     "output_type": "execute_result"
    }
   ],
   "source": [
    "tokenized_dataset"
   ]
  },
  {
   "cell_type": "code",
   "execution_count": 29,
   "metadata": {
    "colab": {
     "base_uri": "https://localhost:8080/"
    },
    "executionInfo": {
     "elapsed": 214,
     "status": "ok",
     "timestamp": 1731870050660,
     "user": {
      "displayName": "Praveen Satya R V",
      "userId": "07360123993237987960"
     },
     "user_tz": 360
    },
    "id": "HYMMAgQvouJU",
    "outputId": "db3a72a2-e9b5-4231-8028-7a57711d05d3"
   },
   "outputs": [
    {
     "data": {
      "text/plain": [
       "tensor([1, 1, 1, 1, 1, 1, 1, 1, 1, 1, 1, 1, 1, 1, 1, 1, 1, 1, 1, 1, 1, 1, 1, 1,\n",
       "        1, 1, 1, 1, 1])"
      ]
     },
     "execution_count": 29,
     "metadata": {},
     "output_type": "execute_result"
    }
   ],
   "source": [
    "tokenized_dataset['train']['attention_mask'][0]"
   ]
  },
  {
   "cell_type": "code",
   "execution_count": 30,
   "metadata": {
    "colab": {
     "base_uri": "https://localhost:8080/",
     "height": 81,
     "referenced_widgets": [
      "135a1eecbfef43afb9fc016423f79bad",
      "437ad88fa4614487b68b80fe94184493",
      "958bc6ede3b44d9ebac9cbba64a1815c",
      "9c217bc3985941b1ba1ad429afdaf2c8",
      "f200d6d416d04bca86c6a988ff7f54c6",
      "1a55c9253afd4074bc2a00c9dd2692d1",
      "7b18107c6e3347f7978f25ca8553006b",
      "0c01194d59e04fb299f4918d151603c0",
      "d3e65d5e988641ef86af6f16aa98e8aa",
      "f769d307d10a46d5a1fe40ffca9e13da",
      "7a7bb86b184e4a75b64ae1a4ae9feaf7",
      "f040891b678d40f4a7a222b7c020ac8d",
      "435ed4d0b4f6478ebe01b4a1028a4cb5",
      "70ea3a4fd6054870813f118105aa1bd2",
      "ef545751d5d34108823de132d32b22f7",
      "23ba50627a6c40199f585902e627b70d",
      "050a179b03924a19956f41bcfaeb2a25",
      "a7ae6356490d47329c7f475b7260d715",
      "c7bee1bad42b49d49771d0b42e6825c4",
      "908f64f3571745df8e4de3e2a0a96164",
      "efd63749a66f4671adb949b7dbd5cc5c",
      "8dc44b7e465e4342ab6b8c033c4626a4"
     ]
    },
    "executionInfo": {
     "elapsed": 1601,
     "status": "ok",
     "timestamp": 1731870061580,
     "user": {
      "displayName": "Praveen Satya R V",
      "userId": "07360123993237987960"
     },
     "user_tz": 360
    },
    "id": "LKzsWkauowto",
    "outputId": "0e510656-4fda-4eab-e03a-342163775758"
   },
   "outputs": [
    {
     "data": {
      "application/vnd.jupyter.widget-view+json": {
       "model_id": "135a1eecbfef43afb9fc016423f79bad",
       "version_major": 2,
       "version_minor": 0
      },
      "text/plain": [
       "Map:   0%|          | 0/1500 [00:00<?, ? examples/s]"
      ]
     },
     "metadata": {},
     "output_type": "display_data"
    },
    {
     "data": {
      "application/vnd.jupyter.widget-view+json": {
       "model_id": "f040891b678d40f4a7a222b7c020ac8d",
       "version_major": 2,
       "version_minor": 0
      },
      "text/plain": [
       "Map:   0%|          | 0/1500 [00:00<?, ? examples/s]"
      ]
     },
     "metadata": {},
     "output_type": "display_data"
    }
   ],
   "source": [
    "tokenized_dataset = (tokenized_dataset\n",
    "          .map(lambda x : {\"float_label\": x[\"label\"].to(torch.float)}, remove_columns=[\"label\"])\n",
    "          .rename_column(\"float_label\", \"label\"))"
   ]
  },
  {
   "cell_type": "code",
   "execution_count": 31,
   "metadata": {
    "colab": {
     "base_uri": "https://localhost:8080/"
    },
    "executionInfo": {
     "elapsed": 156,
     "status": "ok",
     "timestamp": 1731870062917,
     "user": {
      "displayName": "Praveen Satya R V",
      "userId": "07360123993237987960"
     },
     "user_tz": 360
    },
    "id": "lVITd5zWozrd",
    "outputId": "be357c65-4c81-4ed5-e40f-db9eeb4b6472"
   },
   "outputs": [
    {
     "data": {
      "text/plain": [
       "tensor([[0., 0., 1., 1., 0., 0., 0., 1., 1., 0., 0.],\n",
       "        [0., 1., 0., 0., 0., 0., 1., 0., 0., 0., 1.],\n",
       "        [1., 0., 1., 0., 0., 0., 1., 0., 1., 0., 0.]])"
      ]
     },
     "execution_count": 31,
     "metadata": {},
     "output_type": "execute_result"
    }
   ],
   "source": [
    "tokenized_dataset['train']['label'][0:3]"
   ]
  },
  {
   "cell_type": "markdown",
   "metadata": {
    "id": "kPloedQ-o9ms"
   },
   "source": [
    "<font color = 'indianred'> **4.2 Model Training** </font>"
   ]
  },
  {
   "cell_type": "code",
   "execution_count": 32,
   "metadata": {
    "executionInfo": {
     "elapsed": 214,
     "status": "ok",
     "timestamp": 1731870102235,
     "user": {
      "displayName": "Praveen Satya R V",
      "userId": "07360123993237987960"
     },
     "user_tz": 360
    },
    "id": "H1XptoWlQukm"
   },
   "outputs": [],
   "source": [
    "def get_appropriate_dtype():\n",
    "    if torch.cuda.is_available() and torch.cuda.get_device_capability(0) >= (8, 0):\n",
    "        return torch.bfloat16\n",
    "    return torch.float32"
   ]
  },
  {
   "cell_type": "code",
   "execution_count": 33,
   "metadata": {
    "colab": {
     "base_uri": "https://localhost:8080/"
    },
    "executionInfo": {
     "elapsed": 171,
     "status": "ok",
     "timestamp": 1731870103209,
     "user": {
      "displayName": "Praveen Satya R V",
      "userId": "07360123993237987960"
     },
     "user_tz": 360
    },
    "id": "llQAEYtkQx3v",
    "outputId": "ea84e673-6f20-487d-87e3-3a704a54bf45"
   },
   "outputs": [
    {
     "data": {
      "text/plain": [
       "torch.float32"
      ]
     },
     "execution_count": 33,
     "metadata": {},
     "output_type": "execute_result"
    }
   ],
   "source": [
    "torch_data_type = get_appropriate_dtype()\n",
    "torch_data_type"
   ]
  },
  {
   "cell_type": "code",
   "execution_count": 34,
   "metadata": {
    "executionInfo": {
     "elapsed": 198,
     "status": "ok",
     "timestamp": 1731870105665,
     "user": {
      "displayName": "Praveen Satya R V",
      "userId": "07360123993237987960"
     },
     "user_tz": 360
    },
    "id": "KSoAuJGcQz3i"
   },
   "outputs": [],
   "source": [
    "bnb_config = BitsAndBytesConfig(\n",
    "  load_in_4bit=True,\n",
    "  bnb_4bit_quant_type=\"nf4\",\n",
    "  bnb_4bit_use_double_quant=True,\n",
    "  bnb_4bit_compute_dtype=torch_data_type,\n",
    "  bnb_4bit_quant_storage=torch_data_type,\n",
    ")"
   ]
  },
  {
   "cell_type": "code",
   "execution_count": 35,
   "metadata": {
    "colab": {
     "base_uri": "https://localhost:8080/",
     "height": 101,
     "referenced_widgets": [
      "0b0dbe6fd4bd46398633d3640c2a395c",
      "2553fce930c245ff9b31b177adc5df83",
      "7845f39de4c54941bd4f4edec605deea",
      "529e794b548b4bb5aa2f8665f47bf7a8",
      "eb0910b2a755438cbf7b48a131b4026b",
      "34bd13a0b47f45cfb3246d6dfd3d59b3",
      "7320841e23614fcf82aa2b0a100aa43a",
      "7904cc6005344d41a5229245af3d9f91",
      "f3ccef5206304eb6ad7473b5565f59f5",
      "f59ac46fe8f14ba59ea85d28076b7cdd",
      "3f98ebb439dc425cba072bcb1333b4d5"
     ]
    },
    "executionInfo": {
     "elapsed": 51923,
     "status": "ok",
     "timestamp": 1731870159210,
     "user": {
      "displayName": "Praveen Satya R V",
      "userId": "07360123993237987960"
     },
     "user_tz": 360
    },
    "id": "_M_D_lguR7-c",
    "outputId": "08bc09ff-abc6-421d-d5fe-d38783652491"
   },
   "outputs": [
    {
     "name": "stderr",
     "output_type": "stream",
     "text": [
      "`low_cpu_mem_usage` was None, now default to True since model is quantized.\n"
     ]
    },
    {
     "data": {
      "application/vnd.jupyter.widget-view+json": {
       "model_id": "0b0dbe6fd4bd46398633d3640c2a395c",
       "version_major": 2,
       "version_minor": 0
      },
      "text/plain": [
       "Loading checkpoint shards:   0%|          | 0/3 [00:00<?, ?it/s]"
      ]
     },
     "metadata": {},
     "output_type": "display_data"
    },
    {
     "name": "stderr",
     "output_type": "stream",
     "text": [
      "Some weights of Gemma2ForSequenceClassification were not initialized from the model checkpoint at google/gemma-2-2b and are newly initialized: ['score.weight']\n",
      "You should probably TRAIN this model on a down-stream task to be able to use it for predictions and inference.\n"
     ]
    }
   ],
   "source": [
    "model = AutoModelForSequenceClassification.from_pretrained(checkpoint,\n",
    "                                                           num_labels = 11,\n",
    "                                                           problem_type=\"multi_label_classification\",\n",
    "                                                           quantization_config=bnb_config,\n",
    "                                                           torch_dtype=torch_data_type,\n",
    "                                                           trust_remote_code=True,)\n"
   ]
  },
  {
   "cell_type": "code",
   "execution_count": 36,
   "metadata": {
    "executionInfo": {
     "elapsed": 339,
     "status": "ok",
     "timestamp": 1731870164973,
     "user": {
      "displayName": "Praveen Satya R V",
      "userId": "07360123993237987960"
     },
     "user_tz": 360
    },
    "id": "JajGHYZxpCbZ"
   },
   "outputs": [],
   "source": [
    "class_names = [\"anger\",\"anticipation\",\"disgust\",\"fear\",\"joy\",\"love\",\"optimism\",\"pessimism\",\"sadness\",\"surprise\",\"trust\"]"
   ]
  },
  {
   "cell_type": "code",
   "execution_count": 37,
   "metadata": {
    "executionInfo": {
     "elapsed": 222,
     "status": "ok",
     "timestamp": 1731870166708,
     "user": {
      "displayName": "Praveen Satya R V",
      "userId": "07360123993237987960"
     },
     "user_tz": 360
    },
    "id": "KpxryJ5WpJt5"
   },
   "outputs": [],
   "source": [
    "config = AutoConfig.from_pretrained(checkpoint)\n",
    "id2label= {id_: label_ for id_, label_ in enumerate(class_names)}\n",
    "label2id = {label_: id_ for id_, label_ in enumerate(class_names)}\n",
    "config.id2label = id2label\n",
    "config.label2id = label2id\n",
    "model.config = config"
   ]
  },
  {
   "cell_type": "code",
   "execution_count": 38,
   "metadata": {
    "colab": {
     "base_uri": "https://localhost:8080/"
    },
    "executionInfo": {
     "elapsed": 150,
     "status": "ok",
     "timestamp": 1731870168954,
     "user": {
      "displayName": "Praveen Satya R V",
      "userId": "07360123993237987960"
     },
     "user_tz": 360
    },
    "id": "cSWjcUFMYU_T",
    "outputId": "64bc2434-fca0-4552-cfd8-8c63ecb6eb47"
   },
   "outputs": [
    {
     "data": {
      "text/plain": [
       "Gemma2ForSequenceClassification(\n",
       "  (model): Gemma2Model(\n",
       "    (embed_tokens): Embedding(256000, 2304, padding_idx=0)\n",
       "    (layers): ModuleList(\n",
       "      (0-25): 26 x Gemma2DecoderLayer(\n",
       "        (self_attn): Gemma2Attention(\n",
       "          (q_proj): Linear4bit(in_features=2304, out_features=2048, bias=False)\n",
       "          (k_proj): Linear4bit(in_features=2304, out_features=1024, bias=False)\n",
       "          (v_proj): Linear4bit(in_features=2304, out_features=1024, bias=False)\n",
       "          (o_proj): Linear4bit(in_features=2048, out_features=2304, bias=False)\n",
       "          (rotary_emb): Gemma2RotaryEmbedding()\n",
       "        )\n",
       "        (mlp): Gemma2MLP(\n",
       "          (gate_proj): Linear4bit(in_features=2304, out_features=9216, bias=False)\n",
       "          (up_proj): Linear4bit(in_features=2304, out_features=9216, bias=False)\n",
       "          (down_proj): Linear4bit(in_features=9216, out_features=2304, bias=False)\n",
       "          (act_fn): PytorchGELUTanh()\n",
       "        )\n",
       "        (input_layernorm): Gemma2RMSNorm((2304,), eps=1e-06)\n",
       "        (pre_feedforward_layernorm): Gemma2RMSNorm((2304,), eps=1e-06)\n",
       "        (post_feedforward_layernorm): Gemma2RMSNorm((2304,), eps=1e-06)\n",
       "        (post_attention_layernorm): Gemma2RMSNorm((2304,), eps=1e-06)\n",
       "      )\n",
       "    )\n",
       "    (norm): Gemma2RMSNorm((2304,), eps=1e-06)\n",
       "  )\n",
       "  (score): Linear(in_features=2304, out_features=11, bias=False)\n",
       ")"
      ]
     },
     "execution_count": 38,
     "metadata": {},
     "output_type": "execute_result"
    }
   ],
   "source": [
    "model"
   ]
  },
  {
   "cell_type": "code",
   "execution_count": 39,
   "metadata": {
    "executionInfo": {
     "elapsed": 166,
     "status": "ok",
     "timestamp": 1731870170794,
     "user": {
      "displayName": "Praveen Satya R V",
      "userId": "07360123993237987960"
     },
     "user_tz": 360
    },
    "id": "NcHwUgNLY64V"
   },
   "outputs": [],
   "source": [
    "def find_linear_layers(model):\n",
    "    \"\"\"\n",
    "    Extracts the unique names of Linear layers from a model.\n",
    "\n",
    "    Args:\n",
    "    model (nn.Module): The model from which to extract Linear layer names.\n",
    "\n",
    "    Returns:\n",
    "    list: A list of unique names of Linear layers.\n",
    "    \"\"\"\n",
    "    # Convert the model's modules to string\n",
    "    model_modules = str(model.modules)\n",
    "    # Pattern to extract names of Linear layers\n",
    "    pattern = r'\\((\\w+)\\): Linear'\n",
    "    # Find all occurrences of the pattern\n",
    "    linear_layer_names = re.findall(pattern, model_modules)\n",
    "    print(linear_layer_names)\n",
    "    # Get unique names using a set, then convert back to list\n",
    "    target_modules = list(set(linear_layer_names))\n",
    "    return target_modules"
   ]
  },
  {
   "cell_type": "code",
   "execution_count": 40,
   "metadata": {
    "colab": {
     "base_uri": "https://localhost:8080/"
    },
    "executionInfo": {
     "elapsed": 6,
     "status": "ok",
     "timestamp": 1731870171648,
     "user": {
      "displayName": "Praveen Satya R V",
      "userId": "07360123993237987960"
     },
     "user_tz": 360
    },
    "id": "-oYDF12AY82A",
    "outputId": "4ca24749-1447-4b91-aeca-9a1dd93eb6b4"
   },
   "outputs": [
    {
     "name": "stdout",
     "output_type": "stream",
     "text": [
      "['q_proj', 'k_proj', 'v_proj', 'o_proj', 'gate_proj', 'up_proj', 'down_proj', 'score']\n"
     ]
    },
    {
     "data": {
      "text/plain": [
       "['up_proj',\n",
       " 'o_proj',\n",
       " 'k_proj',\n",
       " 'q_proj',\n",
       " 'score',\n",
       " 'gate_proj',\n",
       " 'v_proj',\n",
       " 'down_proj']"
      ]
     },
     "execution_count": 40,
     "metadata": {},
     "output_type": "execute_result"
    }
   ],
   "source": [
    "find_linear_layers(model)"
   ]
  },
  {
   "cell_type": "code",
   "execution_count": 41,
   "metadata": {
    "colab": {
     "base_uri": "https://localhost:8080/"
    },
    "executionInfo": {
     "elapsed": 2156,
     "status": "ok",
     "timestamp": 1731870174813,
     "user": {
      "displayName": "Praveen Satya R V",
      "userId": "07360123993237987960"
     },
     "user_tz": 360
    },
    "id": "51vvTOBmY_lD",
    "outputId": "45984f0f-c02b-428b-8397-2c4d201df537"
   },
   "outputs": [
    {
     "name": "stdout",
     "output_type": "stream",
     "text": [
      "trainable params: 166,159,104 || all params: 2,780,526,336 || trainable%: 5.9758\n"
     ]
    }
   ],
   "source": [
    "peft_config = LoraConfig(\n",
    "    task_type=TaskType.SEQ_CLS,\n",
    "    r=128,\n",
    "    lora_alpha=256,\n",
    "    lora_dropout=0.01,\n",
    "    bias=\"all\",\n",
    "    target_modules = ['v_proj',  'q_proj',  'up_proj', 'o_proj', 'down_proj', 'gate_proj','k_proj'])\n",
    "\n",
    "lora_model = get_peft_model(model, peft_config )\n",
    "# qlora_model.resize_token_embeddings(len(tokenizer))\n",
    "lora_model.print_trainable_parameters()"
   ]
  },
  {
   "cell_type": "code",
   "execution_count": 42,
   "metadata": {
    "colab": {
     "base_uri": "https://localhost:8080/"
    },
    "executionInfo": {
     "elapsed": 6,
     "status": "ok",
     "timestamp": 1731870174814,
     "user": {
      "displayName": "Praveen Satya R V",
      "userId": "07360123993237987960"
     },
     "user_tz": 360
    },
    "id": "9ymguJZOZKPQ",
    "outputId": "8f18fbaa-8e30-4202-a14d-b24f6fa7ab23"
   },
   "outputs": [
    {
     "data": {
      "text/plain": [
       "PeftModelForSequenceClassification(\n",
       "  (base_model): LoraModel(\n",
       "    (model): Gemma2ForSequenceClassification(\n",
       "      (model): Gemma2Model(\n",
       "        (embed_tokens): Embedding(256000, 2304, padding_idx=0)\n",
       "        (layers): ModuleList(\n",
       "          (0-25): 26 x Gemma2DecoderLayer(\n",
       "            (self_attn): Gemma2Attention(\n",
       "              (q_proj): lora.Linear4bit(\n",
       "                (base_layer): Linear4bit(in_features=2304, out_features=2048, bias=False)\n",
       "                (lora_dropout): ModuleDict(\n",
       "                  (default): Dropout(p=0.01, inplace=False)\n",
       "                )\n",
       "                (lora_A): ModuleDict(\n",
       "                  (default): Linear(in_features=2304, out_features=128, bias=False)\n",
       "                )\n",
       "                (lora_B): ModuleDict(\n",
       "                  (default): Linear(in_features=128, out_features=2048, bias=False)\n",
       "                )\n",
       "                (lora_embedding_A): ParameterDict()\n",
       "                (lora_embedding_B): ParameterDict()\n",
       "                (lora_magnitude_vector): ModuleDict()\n",
       "              )\n",
       "              (k_proj): lora.Linear4bit(\n",
       "                (base_layer): Linear4bit(in_features=2304, out_features=1024, bias=False)\n",
       "                (lora_dropout): ModuleDict(\n",
       "                  (default): Dropout(p=0.01, inplace=False)\n",
       "                )\n",
       "                (lora_A): ModuleDict(\n",
       "                  (default): Linear(in_features=2304, out_features=128, bias=False)\n",
       "                )\n",
       "                (lora_B): ModuleDict(\n",
       "                  (default): Linear(in_features=128, out_features=1024, bias=False)\n",
       "                )\n",
       "                (lora_embedding_A): ParameterDict()\n",
       "                (lora_embedding_B): ParameterDict()\n",
       "                (lora_magnitude_vector): ModuleDict()\n",
       "              )\n",
       "              (v_proj): lora.Linear4bit(\n",
       "                (base_layer): Linear4bit(in_features=2304, out_features=1024, bias=False)\n",
       "                (lora_dropout): ModuleDict(\n",
       "                  (default): Dropout(p=0.01, inplace=False)\n",
       "                )\n",
       "                (lora_A): ModuleDict(\n",
       "                  (default): Linear(in_features=2304, out_features=128, bias=False)\n",
       "                )\n",
       "                (lora_B): ModuleDict(\n",
       "                  (default): Linear(in_features=128, out_features=1024, bias=False)\n",
       "                )\n",
       "                (lora_embedding_A): ParameterDict()\n",
       "                (lora_embedding_B): ParameterDict()\n",
       "                (lora_magnitude_vector): ModuleDict()\n",
       "              )\n",
       "              (o_proj): lora.Linear4bit(\n",
       "                (base_layer): Linear4bit(in_features=2048, out_features=2304, bias=False)\n",
       "                (lora_dropout): ModuleDict(\n",
       "                  (default): Dropout(p=0.01, inplace=False)\n",
       "                )\n",
       "                (lora_A): ModuleDict(\n",
       "                  (default): Linear(in_features=2048, out_features=128, bias=False)\n",
       "                )\n",
       "                (lora_B): ModuleDict(\n",
       "                  (default): Linear(in_features=128, out_features=2304, bias=False)\n",
       "                )\n",
       "                (lora_embedding_A): ParameterDict()\n",
       "                (lora_embedding_B): ParameterDict()\n",
       "                (lora_magnitude_vector): ModuleDict()\n",
       "              )\n",
       "              (rotary_emb): Gemma2RotaryEmbedding()\n",
       "            )\n",
       "            (mlp): Gemma2MLP(\n",
       "              (gate_proj): lora.Linear4bit(\n",
       "                (base_layer): Linear4bit(in_features=2304, out_features=9216, bias=False)\n",
       "                (lora_dropout): ModuleDict(\n",
       "                  (default): Dropout(p=0.01, inplace=False)\n",
       "                )\n",
       "                (lora_A): ModuleDict(\n",
       "                  (default): Linear(in_features=2304, out_features=128, bias=False)\n",
       "                )\n",
       "                (lora_B): ModuleDict(\n",
       "                  (default): Linear(in_features=128, out_features=9216, bias=False)\n",
       "                )\n",
       "                (lora_embedding_A): ParameterDict()\n",
       "                (lora_embedding_B): ParameterDict()\n",
       "                (lora_magnitude_vector): ModuleDict()\n",
       "              )\n",
       "              (up_proj): lora.Linear4bit(\n",
       "                (base_layer): Linear4bit(in_features=2304, out_features=9216, bias=False)\n",
       "                (lora_dropout): ModuleDict(\n",
       "                  (default): Dropout(p=0.01, inplace=False)\n",
       "                )\n",
       "                (lora_A): ModuleDict(\n",
       "                  (default): Linear(in_features=2304, out_features=128, bias=False)\n",
       "                )\n",
       "                (lora_B): ModuleDict(\n",
       "                  (default): Linear(in_features=128, out_features=9216, bias=False)\n",
       "                )\n",
       "                (lora_embedding_A): ParameterDict()\n",
       "                (lora_embedding_B): ParameterDict()\n",
       "                (lora_magnitude_vector): ModuleDict()\n",
       "              )\n",
       "              (down_proj): lora.Linear4bit(\n",
       "                (base_layer): Linear4bit(in_features=9216, out_features=2304, bias=False)\n",
       "                (lora_dropout): ModuleDict(\n",
       "                  (default): Dropout(p=0.01, inplace=False)\n",
       "                )\n",
       "                (lora_A): ModuleDict(\n",
       "                  (default): Linear(in_features=9216, out_features=128, bias=False)\n",
       "                )\n",
       "                (lora_B): ModuleDict(\n",
       "                  (default): Linear(in_features=128, out_features=2304, bias=False)\n",
       "                )\n",
       "                (lora_embedding_A): ParameterDict()\n",
       "                (lora_embedding_B): ParameterDict()\n",
       "                (lora_magnitude_vector): ModuleDict()\n",
       "              )\n",
       "              (act_fn): PytorchGELUTanh()\n",
       "            )\n",
       "            (input_layernorm): Gemma2RMSNorm((2304,), eps=1e-06)\n",
       "            (pre_feedforward_layernorm): Gemma2RMSNorm((2304,), eps=1e-06)\n",
       "            (post_feedforward_layernorm): Gemma2RMSNorm((2304,), eps=1e-06)\n",
       "            (post_attention_layernorm): Gemma2RMSNorm((2304,), eps=1e-06)\n",
       "          )\n",
       "        )\n",
       "        (norm): Gemma2RMSNorm((2304,), eps=1e-06)\n",
       "      )\n",
       "      (score): ModulesToSaveWrapper(\n",
       "        (original_module): Linear(in_features=2304, out_features=11, bias=False)\n",
       "        (modules_to_save): ModuleDict(\n",
       "          (default): Linear(in_features=2304, out_features=11, bias=False)\n",
       "        )\n",
       "      )\n",
       "    )\n",
       "  )\n",
       ")"
      ]
     },
     "execution_count": 42,
     "metadata": {},
     "output_type": "execute_result"
    }
   ],
   "source": [
    "lora_model"
   ]
  },
  {
   "cell_type": "code",
   "execution_count": 43,
   "metadata": {
    "colab": {
     "base_uri": "https://localhost:8080/"
    },
    "executionInfo": {
     "elapsed": 201,
     "status": "ok",
     "timestamp": 1731870177567,
     "user": {
      "displayName": "Praveen Satya R V",
      "userId": "07360123993237987960"
     },
     "user_tz": 360
    },
    "id": "zqw8bfiAZNDg",
    "outputId": "7f9ce0a5-7731-43ad-c805-0ac6d2776eca"
   },
   "outputs": [
    {
     "name": "stdout",
     "output_type": "stream",
     "text": [
      "base_model.model.model.embed_tokens.weight: False\n",
      "base_model.model.model.layers.0.self_attn.q_proj.base_layer.weight: False\n",
      "base_model.model.model.layers.0.self_attn.q_proj.lora_A.default.weight: True\n",
      "base_model.model.model.layers.0.self_attn.q_proj.lora_B.default.weight: True\n",
      "base_model.model.model.layers.0.self_attn.k_proj.base_layer.weight: False\n",
      "base_model.model.model.layers.0.self_attn.k_proj.lora_A.default.weight: True\n",
      "base_model.model.model.layers.0.self_attn.k_proj.lora_B.default.weight: True\n",
      "base_model.model.model.layers.0.self_attn.v_proj.base_layer.weight: False\n",
      "base_model.model.model.layers.0.self_attn.v_proj.lora_A.default.weight: True\n",
      "base_model.model.model.layers.0.self_attn.v_proj.lora_B.default.weight: True\n",
      "base_model.model.model.layers.0.self_attn.o_proj.base_layer.weight: False\n",
      "base_model.model.model.layers.0.self_attn.o_proj.lora_A.default.weight: True\n",
      "base_model.model.model.layers.0.self_attn.o_proj.lora_B.default.weight: True\n",
      "base_model.model.model.layers.0.mlp.gate_proj.base_layer.weight: False\n",
      "base_model.model.model.layers.0.mlp.gate_proj.lora_A.default.weight: True\n",
      "base_model.model.model.layers.0.mlp.gate_proj.lora_B.default.weight: True\n",
      "base_model.model.model.layers.0.mlp.up_proj.base_layer.weight: False\n",
      "base_model.model.model.layers.0.mlp.up_proj.lora_A.default.weight: True\n",
      "base_model.model.model.layers.0.mlp.up_proj.lora_B.default.weight: True\n",
      "base_model.model.model.layers.0.mlp.down_proj.base_layer.weight: False\n",
      "base_model.model.model.layers.0.mlp.down_proj.lora_A.default.weight: True\n",
      "base_model.model.model.layers.0.mlp.down_proj.lora_B.default.weight: True\n",
      "base_model.model.model.layers.0.input_layernorm.weight: False\n",
      "base_model.model.model.layers.0.pre_feedforward_layernorm.weight: False\n",
      "base_model.model.model.layers.0.post_feedforward_layernorm.weight: False\n",
      "base_model.model.model.layers.0.post_attention_layernorm.weight: False\n",
      "base_model.model.model.layers.1.self_attn.q_proj.base_layer.weight: False\n",
      "base_model.model.model.layers.1.self_attn.q_proj.lora_A.default.weight: True\n",
      "base_model.model.model.layers.1.self_attn.q_proj.lora_B.default.weight: True\n",
      "base_model.model.model.layers.1.self_attn.k_proj.base_layer.weight: False\n",
      "base_model.model.model.layers.1.self_attn.k_proj.lora_A.default.weight: True\n",
      "base_model.model.model.layers.1.self_attn.k_proj.lora_B.default.weight: True\n",
      "base_model.model.model.layers.1.self_attn.v_proj.base_layer.weight: False\n",
      "base_model.model.model.layers.1.self_attn.v_proj.lora_A.default.weight: True\n",
      "base_model.model.model.layers.1.self_attn.v_proj.lora_B.default.weight: True\n",
      "base_model.model.model.layers.1.self_attn.o_proj.base_layer.weight: False\n",
      "base_model.model.model.layers.1.self_attn.o_proj.lora_A.default.weight: True\n",
      "base_model.model.model.layers.1.self_attn.o_proj.lora_B.default.weight: True\n",
      "base_model.model.model.layers.1.mlp.gate_proj.base_layer.weight: False\n",
      "base_model.model.model.layers.1.mlp.gate_proj.lora_A.default.weight: True\n",
      "base_model.model.model.layers.1.mlp.gate_proj.lora_B.default.weight: True\n",
      "base_model.model.model.layers.1.mlp.up_proj.base_layer.weight: False\n",
      "base_model.model.model.layers.1.mlp.up_proj.lora_A.default.weight: True\n",
      "base_model.model.model.layers.1.mlp.up_proj.lora_B.default.weight: True\n",
      "base_model.model.model.layers.1.mlp.down_proj.base_layer.weight: False\n",
      "base_model.model.model.layers.1.mlp.down_proj.lora_A.default.weight: True\n",
      "base_model.model.model.layers.1.mlp.down_proj.lora_B.default.weight: True\n",
      "base_model.model.model.layers.1.input_layernorm.weight: False\n",
      "base_model.model.model.layers.1.pre_feedforward_layernorm.weight: False\n",
      "base_model.model.model.layers.1.post_feedforward_layernorm.weight: False\n",
      "base_model.model.model.layers.1.post_attention_layernorm.weight: False\n",
      "base_model.model.model.layers.2.self_attn.q_proj.base_layer.weight: False\n",
      "base_model.model.model.layers.2.self_attn.q_proj.lora_A.default.weight: True\n",
      "base_model.model.model.layers.2.self_attn.q_proj.lora_B.default.weight: True\n",
      "base_model.model.model.layers.2.self_attn.k_proj.base_layer.weight: False\n",
      "base_model.model.model.layers.2.self_attn.k_proj.lora_A.default.weight: True\n",
      "base_model.model.model.layers.2.self_attn.k_proj.lora_B.default.weight: True\n",
      "base_model.model.model.layers.2.self_attn.v_proj.base_layer.weight: False\n",
      "base_model.model.model.layers.2.self_attn.v_proj.lora_A.default.weight: True\n",
      "base_model.model.model.layers.2.self_attn.v_proj.lora_B.default.weight: True\n",
      "base_model.model.model.layers.2.self_attn.o_proj.base_layer.weight: False\n",
      "base_model.model.model.layers.2.self_attn.o_proj.lora_A.default.weight: True\n",
      "base_model.model.model.layers.2.self_attn.o_proj.lora_B.default.weight: True\n",
      "base_model.model.model.layers.2.mlp.gate_proj.base_layer.weight: False\n",
      "base_model.model.model.layers.2.mlp.gate_proj.lora_A.default.weight: True\n",
      "base_model.model.model.layers.2.mlp.gate_proj.lora_B.default.weight: True\n",
      "base_model.model.model.layers.2.mlp.up_proj.base_layer.weight: False\n",
      "base_model.model.model.layers.2.mlp.up_proj.lora_A.default.weight: True\n",
      "base_model.model.model.layers.2.mlp.up_proj.lora_B.default.weight: True\n",
      "base_model.model.model.layers.2.mlp.down_proj.base_layer.weight: False\n",
      "base_model.model.model.layers.2.mlp.down_proj.lora_A.default.weight: True\n",
      "base_model.model.model.layers.2.mlp.down_proj.lora_B.default.weight: True\n",
      "base_model.model.model.layers.2.input_layernorm.weight: False\n",
      "base_model.model.model.layers.2.pre_feedforward_layernorm.weight: False\n",
      "base_model.model.model.layers.2.post_feedforward_layernorm.weight: False\n",
      "base_model.model.model.layers.2.post_attention_layernorm.weight: False\n",
      "base_model.model.model.layers.3.self_attn.q_proj.base_layer.weight: False\n",
      "base_model.model.model.layers.3.self_attn.q_proj.lora_A.default.weight: True\n",
      "base_model.model.model.layers.3.self_attn.q_proj.lora_B.default.weight: True\n",
      "base_model.model.model.layers.3.self_attn.k_proj.base_layer.weight: False\n",
      "base_model.model.model.layers.3.self_attn.k_proj.lora_A.default.weight: True\n",
      "base_model.model.model.layers.3.self_attn.k_proj.lora_B.default.weight: True\n",
      "base_model.model.model.layers.3.self_attn.v_proj.base_layer.weight: False\n",
      "base_model.model.model.layers.3.self_attn.v_proj.lora_A.default.weight: True\n",
      "base_model.model.model.layers.3.self_attn.v_proj.lora_B.default.weight: True\n",
      "base_model.model.model.layers.3.self_attn.o_proj.base_layer.weight: False\n",
      "base_model.model.model.layers.3.self_attn.o_proj.lora_A.default.weight: True\n",
      "base_model.model.model.layers.3.self_attn.o_proj.lora_B.default.weight: True\n",
      "base_model.model.model.layers.3.mlp.gate_proj.base_layer.weight: False\n",
      "base_model.model.model.layers.3.mlp.gate_proj.lora_A.default.weight: True\n",
      "base_model.model.model.layers.3.mlp.gate_proj.lora_B.default.weight: True\n",
      "base_model.model.model.layers.3.mlp.up_proj.base_layer.weight: False\n",
      "base_model.model.model.layers.3.mlp.up_proj.lora_A.default.weight: True\n",
      "base_model.model.model.layers.3.mlp.up_proj.lora_B.default.weight: True\n",
      "base_model.model.model.layers.3.mlp.down_proj.base_layer.weight: False\n",
      "base_model.model.model.layers.3.mlp.down_proj.lora_A.default.weight: True\n",
      "base_model.model.model.layers.3.mlp.down_proj.lora_B.default.weight: True\n",
      "base_model.model.model.layers.3.input_layernorm.weight: False\n",
      "base_model.model.model.layers.3.pre_feedforward_layernorm.weight: False\n",
      "base_model.model.model.layers.3.post_feedforward_layernorm.weight: False\n",
      "base_model.model.model.layers.3.post_attention_layernorm.weight: False\n",
      "base_model.model.model.layers.4.self_attn.q_proj.base_layer.weight: False\n",
      "base_model.model.model.layers.4.self_attn.q_proj.lora_A.default.weight: True\n",
      "base_model.model.model.layers.4.self_attn.q_proj.lora_B.default.weight: True\n",
      "base_model.model.model.layers.4.self_attn.k_proj.base_layer.weight: False\n",
      "base_model.model.model.layers.4.self_attn.k_proj.lora_A.default.weight: True\n",
      "base_model.model.model.layers.4.self_attn.k_proj.lora_B.default.weight: True\n",
      "base_model.model.model.layers.4.self_attn.v_proj.base_layer.weight: False\n",
      "base_model.model.model.layers.4.self_attn.v_proj.lora_A.default.weight: True\n",
      "base_model.model.model.layers.4.self_attn.v_proj.lora_B.default.weight: True\n",
      "base_model.model.model.layers.4.self_attn.o_proj.base_layer.weight: False\n",
      "base_model.model.model.layers.4.self_attn.o_proj.lora_A.default.weight: True\n",
      "base_model.model.model.layers.4.self_attn.o_proj.lora_B.default.weight: True\n",
      "base_model.model.model.layers.4.mlp.gate_proj.base_layer.weight: False\n",
      "base_model.model.model.layers.4.mlp.gate_proj.lora_A.default.weight: True\n",
      "base_model.model.model.layers.4.mlp.gate_proj.lora_B.default.weight: True\n",
      "base_model.model.model.layers.4.mlp.up_proj.base_layer.weight: False\n",
      "base_model.model.model.layers.4.mlp.up_proj.lora_A.default.weight: True\n",
      "base_model.model.model.layers.4.mlp.up_proj.lora_B.default.weight: True\n",
      "base_model.model.model.layers.4.mlp.down_proj.base_layer.weight: False\n",
      "base_model.model.model.layers.4.mlp.down_proj.lora_A.default.weight: True\n",
      "base_model.model.model.layers.4.mlp.down_proj.lora_B.default.weight: True\n",
      "base_model.model.model.layers.4.input_layernorm.weight: False\n",
      "base_model.model.model.layers.4.pre_feedforward_layernorm.weight: False\n",
      "base_model.model.model.layers.4.post_feedforward_layernorm.weight: False\n",
      "base_model.model.model.layers.4.post_attention_layernorm.weight: False\n",
      "base_model.model.model.layers.5.self_attn.q_proj.base_layer.weight: False\n",
      "base_model.model.model.layers.5.self_attn.q_proj.lora_A.default.weight: True\n",
      "base_model.model.model.layers.5.self_attn.q_proj.lora_B.default.weight: True\n",
      "base_model.model.model.layers.5.self_attn.k_proj.base_layer.weight: False\n",
      "base_model.model.model.layers.5.self_attn.k_proj.lora_A.default.weight: True\n",
      "base_model.model.model.layers.5.self_attn.k_proj.lora_B.default.weight: True\n",
      "base_model.model.model.layers.5.self_attn.v_proj.base_layer.weight: False\n",
      "base_model.model.model.layers.5.self_attn.v_proj.lora_A.default.weight: True\n",
      "base_model.model.model.layers.5.self_attn.v_proj.lora_B.default.weight: True\n",
      "base_model.model.model.layers.5.self_attn.o_proj.base_layer.weight: False\n",
      "base_model.model.model.layers.5.self_attn.o_proj.lora_A.default.weight: True\n",
      "base_model.model.model.layers.5.self_attn.o_proj.lora_B.default.weight: True\n",
      "base_model.model.model.layers.5.mlp.gate_proj.base_layer.weight: False\n",
      "base_model.model.model.layers.5.mlp.gate_proj.lora_A.default.weight: True\n",
      "base_model.model.model.layers.5.mlp.gate_proj.lora_B.default.weight: True\n",
      "base_model.model.model.layers.5.mlp.up_proj.base_layer.weight: False\n",
      "base_model.model.model.layers.5.mlp.up_proj.lora_A.default.weight: True\n",
      "base_model.model.model.layers.5.mlp.up_proj.lora_B.default.weight: True\n",
      "base_model.model.model.layers.5.mlp.down_proj.base_layer.weight: False\n",
      "base_model.model.model.layers.5.mlp.down_proj.lora_A.default.weight: True\n",
      "base_model.model.model.layers.5.mlp.down_proj.lora_B.default.weight: True\n",
      "base_model.model.model.layers.5.input_layernorm.weight: False\n",
      "base_model.model.model.layers.5.pre_feedforward_layernorm.weight: False\n",
      "base_model.model.model.layers.5.post_feedforward_layernorm.weight: False\n",
      "base_model.model.model.layers.5.post_attention_layernorm.weight: False\n",
      "base_model.model.model.layers.6.self_attn.q_proj.base_layer.weight: False\n",
      "base_model.model.model.layers.6.self_attn.q_proj.lora_A.default.weight: True\n",
      "base_model.model.model.layers.6.self_attn.q_proj.lora_B.default.weight: True\n",
      "base_model.model.model.layers.6.self_attn.k_proj.base_layer.weight: False\n",
      "base_model.model.model.layers.6.self_attn.k_proj.lora_A.default.weight: True\n",
      "base_model.model.model.layers.6.self_attn.k_proj.lora_B.default.weight: True\n",
      "base_model.model.model.layers.6.self_attn.v_proj.base_layer.weight: False\n",
      "base_model.model.model.layers.6.self_attn.v_proj.lora_A.default.weight: True\n",
      "base_model.model.model.layers.6.self_attn.v_proj.lora_B.default.weight: True\n",
      "base_model.model.model.layers.6.self_attn.o_proj.base_layer.weight: False\n",
      "base_model.model.model.layers.6.self_attn.o_proj.lora_A.default.weight: True\n",
      "base_model.model.model.layers.6.self_attn.o_proj.lora_B.default.weight: True\n",
      "base_model.model.model.layers.6.mlp.gate_proj.base_layer.weight: False\n",
      "base_model.model.model.layers.6.mlp.gate_proj.lora_A.default.weight: True\n",
      "base_model.model.model.layers.6.mlp.gate_proj.lora_B.default.weight: True\n",
      "base_model.model.model.layers.6.mlp.up_proj.base_layer.weight: False\n",
      "base_model.model.model.layers.6.mlp.up_proj.lora_A.default.weight: True\n",
      "base_model.model.model.layers.6.mlp.up_proj.lora_B.default.weight: True\n",
      "base_model.model.model.layers.6.mlp.down_proj.base_layer.weight: False\n",
      "base_model.model.model.layers.6.mlp.down_proj.lora_A.default.weight: True\n",
      "base_model.model.model.layers.6.mlp.down_proj.lora_B.default.weight: True\n",
      "base_model.model.model.layers.6.input_layernorm.weight: False\n",
      "base_model.model.model.layers.6.pre_feedforward_layernorm.weight: False\n",
      "base_model.model.model.layers.6.post_feedforward_layernorm.weight: False\n",
      "base_model.model.model.layers.6.post_attention_layernorm.weight: False\n",
      "base_model.model.model.layers.7.self_attn.q_proj.base_layer.weight: False\n",
      "base_model.model.model.layers.7.self_attn.q_proj.lora_A.default.weight: True\n",
      "base_model.model.model.layers.7.self_attn.q_proj.lora_B.default.weight: True\n",
      "base_model.model.model.layers.7.self_attn.k_proj.base_layer.weight: False\n",
      "base_model.model.model.layers.7.self_attn.k_proj.lora_A.default.weight: True\n",
      "base_model.model.model.layers.7.self_attn.k_proj.lora_B.default.weight: True\n",
      "base_model.model.model.layers.7.self_attn.v_proj.base_layer.weight: False\n",
      "base_model.model.model.layers.7.self_attn.v_proj.lora_A.default.weight: True\n",
      "base_model.model.model.layers.7.self_attn.v_proj.lora_B.default.weight: True\n",
      "base_model.model.model.layers.7.self_attn.o_proj.base_layer.weight: False\n",
      "base_model.model.model.layers.7.self_attn.o_proj.lora_A.default.weight: True\n",
      "base_model.model.model.layers.7.self_attn.o_proj.lora_B.default.weight: True\n",
      "base_model.model.model.layers.7.mlp.gate_proj.base_layer.weight: False\n",
      "base_model.model.model.layers.7.mlp.gate_proj.lora_A.default.weight: True\n",
      "base_model.model.model.layers.7.mlp.gate_proj.lora_B.default.weight: True\n",
      "base_model.model.model.layers.7.mlp.up_proj.base_layer.weight: False\n",
      "base_model.model.model.layers.7.mlp.up_proj.lora_A.default.weight: True\n",
      "base_model.model.model.layers.7.mlp.up_proj.lora_B.default.weight: True\n",
      "base_model.model.model.layers.7.mlp.down_proj.base_layer.weight: False\n",
      "base_model.model.model.layers.7.mlp.down_proj.lora_A.default.weight: True\n",
      "base_model.model.model.layers.7.mlp.down_proj.lora_B.default.weight: True\n",
      "base_model.model.model.layers.7.input_layernorm.weight: False\n",
      "base_model.model.model.layers.7.pre_feedforward_layernorm.weight: False\n",
      "base_model.model.model.layers.7.post_feedforward_layernorm.weight: False\n",
      "base_model.model.model.layers.7.post_attention_layernorm.weight: False\n",
      "base_model.model.model.layers.8.self_attn.q_proj.base_layer.weight: False\n",
      "base_model.model.model.layers.8.self_attn.q_proj.lora_A.default.weight: True\n",
      "base_model.model.model.layers.8.self_attn.q_proj.lora_B.default.weight: True\n",
      "base_model.model.model.layers.8.self_attn.k_proj.base_layer.weight: False\n",
      "base_model.model.model.layers.8.self_attn.k_proj.lora_A.default.weight: True\n",
      "base_model.model.model.layers.8.self_attn.k_proj.lora_B.default.weight: True\n",
      "base_model.model.model.layers.8.self_attn.v_proj.base_layer.weight: False\n",
      "base_model.model.model.layers.8.self_attn.v_proj.lora_A.default.weight: True\n",
      "base_model.model.model.layers.8.self_attn.v_proj.lora_B.default.weight: True\n",
      "base_model.model.model.layers.8.self_attn.o_proj.base_layer.weight: False\n",
      "base_model.model.model.layers.8.self_attn.o_proj.lora_A.default.weight: True\n",
      "base_model.model.model.layers.8.self_attn.o_proj.lora_B.default.weight: True\n",
      "base_model.model.model.layers.8.mlp.gate_proj.base_layer.weight: False\n",
      "base_model.model.model.layers.8.mlp.gate_proj.lora_A.default.weight: True\n",
      "base_model.model.model.layers.8.mlp.gate_proj.lora_B.default.weight: True\n",
      "base_model.model.model.layers.8.mlp.up_proj.base_layer.weight: False\n",
      "base_model.model.model.layers.8.mlp.up_proj.lora_A.default.weight: True\n",
      "base_model.model.model.layers.8.mlp.up_proj.lora_B.default.weight: True\n",
      "base_model.model.model.layers.8.mlp.down_proj.base_layer.weight: False\n",
      "base_model.model.model.layers.8.mlp.down_proj.lora_A.default.weight: True\n",
      "base_model.model.model.layers.8.mlp.down_proj.lora_B.default.weight: True\n",
      "base_model.model.model.layers.8.input_layernorm.weight: False\n",
      "base_model.model.model.layers.8.pre_feedforward_layernorm.weight: False\n",
      "base_model.model.model.layers.8.post_feedforward_layernorm.weight: False\n",
      "base_model.model.model.layers.8.post_attention_layernorm.weight: False\n",
      "base_model.model.model.layers.9.self_attn.q_proj.base_layer.weight: False\n",
      "base_model.model.model.layers.9.self_attn.q_proj.lora_A.default.weight: True\n",
      "base_model.model.model.layers.9.self_attn.q_proj.lora_B.default.weight: True\n",
      "base_model.model.model.layers.9.self_attn.k_proj.base_layer.weight: False\n",
      "base_model.model.model.layers.9.self_attn.k_proj.lora_A.default.weight: True\n",
      "base_model.model.model.layers.9.self_attn.k_proj.lora_B.default.weight: True\n",
      "base_model.model.model.layers.9.self_attn.v_proj.base_layer.weight: False\n",
      "base_model.model.model.layers.9.self_attn.v_proj.lora_A.default.weight: True\n",
      "base_model.model.model.layers.9.self_attn.v_proj.lora_B.default.weight: True\n",
      "base_model.model.model.layers.9.self_attn.o_proj.base_layer.weight: False\n",
      "base_model.model.model.layers.9.self_attn.o_proj.lora_A.default.weight: True\n",
      "base_model.model.model.layers.9.self_attn.o_proj.lora_B.default.weight: True\n",
      "base_model.model.model.layers.9.mlp.gate_proj.base_layer.weight: False\n",
      "base_model.model.model.layers.9.mlp.gate_proj.lora_A.default.weight: True\n",
      "base_model.model.model.layers.9.mlp.gate_proj.lora_B.default.weight: True\n",
      "base_model.model.model.layers.9.mlp.up_proj.base_layer.weight: False\n",
      "base_model.model.model.layers.9.mlp.up_proj.lora_A.default.weight: True\n",
      "base_model.model.model.layers.9.mlp.up_proj.lora_B.default.weight: True\n",
      "base_model.model.model.layers.9.mlp.down_proj.base_layer.weight: False\n",
      "base_model.model.model.layers.9.mlp.down_proj.lora_A.default.weight: True\n",
      "base_model.model.model.layers.9.mlp.down_proj.lora_B.default.weight: True\n",
      "base_model.model.model.layers.9.input_layernorm.weight: False\n",
      "base_model.model.model.layers.9.pre_feedforward_layernorm.weight: False\n",
      "base_model.model.model.layers.9.post_feedforward_layernorm.weight: False\n",
      "base_model.model.model.layers.9.post_attention_layernorm.weight: False\n",
      "base_model.model.model.layers.10.self_attn.q_proj.base_layer.weight: False\n",
      "base_model.model.model.layers.10.self_attn.q_proj.lora_A.default.weight: True\n",
      "base_model.model.model.layers.10.self_attn.q_proj.lora_B.default.weight: True\n",
      "base_model.model.model.layers.10.self_attn.k_proj.base_layer.weight: False\n",
      "base_model.model.model.layers.10.self_attn.k_proj.lora_A.default.weight: True\n",
      "base_model.model.model.layers.10.self_attn.k_proj.lora_B.default.weight: True\n",
      "base_model.model.model.layers.10.self_attn.v_proj.base_layer.weight: False\n",
      "base_model.model.model.layers.10.self_attn.v_proj.lora_A.default.weight: True\n",
      "base_model.model.model.layers.10.self_attn.v_proj.lora_B.default.weight: True\n",
      "base_model.model.model.layers.10.self_attn.o_proj.base_layer.weight: False\n",
      "base_model.model.model.layers.10.self_attn.o_proj.lora_A.default.weight: True\n",
      "base_model.model.model.layers.10.self_attn.o_proj.lora_B.default.weight: True\n",
      "base_model.model.model.layers.10.mlp.gate_proj.base_layer.weight: False\n",
      "base_model.model.model.layers.10.mlp.gate_proj.lora_A.default.weight: True\n",
      "base_model.model.model.layers.10.mlp.gate_proj.lora_B.default.weight: True\n",
      "base_model.model.model.layers.10.mlp.up_proj.base_layer.weight: False\n",
      "base_model.model.model.layers.10.mlp.up_proj.lora_A.default.weight: True\n",
      "base_model.model.model.layers.10.mlp.up_proj.lora_B.default.weight: True\n",
      "base_model.model.model.layers.10.mlp.down_proj.base_layer.weight: False\n",
      "base_model.model.model.layers.10.mlp.down_proj.lora_A.default.weight: True\n",
      "base_model.model.model.layers.10.mlp.down_proj.lora_B.default.weight: True\n",
      "base_model.model.model.layers.10.input_layernorm.weight: False\n",
      "base_model.model.model.layers.10.pre_feedforward_layernorm.weight: False\n",
      "base_model.model.model.layers.10.post_feedforward_layernorm.weight: False\n",
      "base_model.model.model.layers.10.post_attention_layernorm.weight: False\n",
      "base_model.model.model.layers.11.self_attn.q_proj.base_layer.weight: False\n",
      "base_model.model.model.layers.11.self_attn.q_proj.lora_A.default.weight: True\n",
      "base_model.model.model.layers.11.self_attn.q_proj.lora_B.default.weight: True\n",
      "base_model.model.model.layers.11.self_attn.k_proj.base_layer.weight: False\n",
      "base_model.model.model.layers.11.self_attn.k_proj.lora_A.default.weight: True\n",
      "base_model.model.model.layers.11.self_attn.k_proj.lora_B.default.weight: True\n",
      "base_model.model.model.layers.11.self_attn.v_proj.base_layer.weight: False\n",
      "base_model.model.model.layers.11.self_attn.v_proj.lora_A.default.weight: True\n",
      "base_model.model.model.layers.11.self_attn.v_proj.lora_B.default.weight: True\n",
      "base_model.model.model.layers.11.self_attn.o_proj.base_layer.weight: False\n",
      "base_model.model.model.layers.11.self_attn.o_proj.lora_A.default.weight: True\n",
      "base_model.model.model.layers.11.self_attn.o_proj.lora_B.default.weight: True\n",
      "base_model.model.model.layers.11.mlp.gate_proj.base_layer.weight: False\n",
      "base_model.model.model.layers.11.mlp.gate_proj.lora_A.default.weight: True\n",
      "base_model.model.model.layers.11.mlp.gate_proj.lora_B.default.weight: True\n",
      "base_model.model.model.layers.11.mlp.up_proj.base_layer.weight: False\n",
      "base_model.model.model.layers.11.mlp.up_proj.lora_A.default.weight: True\n",
      "base_model.model.model.layers.11.mlp.up_proj.lora_B.default.weight: True\n",
      "base_model.model.model.layers.11.mlp.down_proj.base_layer.weight: False\n",
      "base_model.model.model.layers.11.mlp.down_proj.lora_A.default.weight: True\n",
      "base_model.model.model.layers.11.mlp.down_proj.lora_B.default.weight: True\n",
      "base_model.model.model.layers.11.input_layernorm.weight: False\n",
      "base_model.model.model.layers.11.pre_feedforward_layernorm.weight: False\n",
      "base_model.model.model.layers.11.post_feedforward_layernorm.weight: False\n",
      "base_model.model.model.layers.11.post_attention_layernorm.weight: False\n",
      "base_model.model.model.layers.12.self_attn.q_proj.base_layer.weight: False\n",
      "base_model.model.model.layers.12.self_attn.q_proj.lora_A.default.weight: True\n",
      "base_model.model.model.layers.12.self_attn.q_proj.lora_B.default.weight: True\n",
      "base_model.model.model.layers.12.self_attn.k_proj.base_layer.weight: False\n",
      "base_model.model.model.layers.12.self_attn.k_proj.lora_A.default.weight: True\n",
      "base_model.model.model.layers.12.self_attn.k_proj.lora_B.default.weight: True\n",
      "base_model.model.model.layers.12.self_attn.v_proj.base_layer.weight: False\n",
      "base_model.model.model.layers.12.self_attn.v_proj.lora_A.default.weight: True\n",
      "base_model.model.model.layers.12.self_attn.v_proj.lora_B.default.weight: True\n",
      "base_model.model.model.layers.12.self_attn.o_proj.base_layer.weight: False\n",
      "base_model.model.model.layers.12.self_attn.o_proj.lora_A.default.weight: True\n",
      "base_model.model.model.layers.12.self_attn.o_proj.lora_B.default.weight: True\n",
      "base_model.model.model.layers.12.mlp.gate_proj.base_layer.weight: False\n",
      "base_model.model.model.layers.12.mlp.gate_proj.lora_A.default.weight: True\n",
      "base_model.model.model.layers.12.mlp.gate_proj.lora_B.default.weight: True\n",
      "base_model.model.model.layers.12.mlp.up_proj.base_layer.weight: False\n",
      "base_model.model.model.layers.12.mlp.up_proj.lora_A.default.weight: True\n",
      "base_model.model.model.layers.12.mlp.up_proj.lora_B.default.weight: True\n",
      "base_model.model.model.layers.12.mlp.down_proj.base_layer.weight: False\n",
      "base_model.model.model.layers.12.mlp.down_proj.lora_A.default.weight: True\n",
      "base_model.model.model.layers.12.mlp.down_proj.lora_B.default.weight: True\n",
      "base_model.model.model.layers.12.input_layernorm.weight: False\n",
      "base_model.model.model.layers.12.pre_feedforward_layernorm.weight: False\n",
      "base_model.model.model.layers.12.post_feedforward_layernorm.weight: False\n",
      "base_model.model.model.layers.12.post_attention_layernorm.weight: False\n",
      "base_model.model.model.layers.13.self_attn.q_proj.base_layer.weight: False\n",
      "base_model.model.model.layers.13.self_attn.q_proj.lora_A.default.weight: True\n",
      "base_model.model.model.layers.13.self_attn.q_proj.lora_B.default.weight: True\n",
      "base_model.model.model.layers.13.self_attn.k_proj.base_layer.weight: False\n",
      "base_model.model.model.layers.13.self_attn.k_proj.lora_A.default.weight: True\n",
      "base_model.model.model.layers.13.self_attn.k_proj.lora_B.default.weight: True\n",
      "base_model.model.model.layers.13.self_attn.v_proj.base_layer.weight: False\n",
      "base_model.model.model.layers.13.self_attn.v_proj.lora_A.default.weight: True\n",
      "base_model.model.model.layers.13.self_attn.v_proj.lora_B.default.weight: True\n",
      "base_model.model.model.layers.13.self_attn.o_proj.base_layer.weight: False\n",
      "base_model.model.model.layers.13.self_attn.o_proj.lora_A.default.weight: True\n",
      "base_model.model.model.layers.13.self_attn.o_proj.lora_B.default.weight: True\n",
      "base_model.model.model.layers.13.mlp.gate_proj.base_layer.weight: False\n",
      "base_model.model.model.layers.13.mlp.gate_proj.lora_A.default.weight: True\n",
      "base_model.model.model.layers.13.mlp.gate_proj.lora_B.default.weight: True\n",
      "base_model.model.model.layers.13.mlp.up_proj.base_layer.weight: False\n",
      "base_model.model.model.layers.13.mlp.up_proj.lora_A.default.weight: True\n",
      "base_model.model.model.layers.13.mlp.up_proj.lora_B.default.weight: True\n",
      "base_model.model.model.layers.13.mlp.down_proj.base_layer.weight: False\n",
      "base_model.model.model.layers.13.mlp.down_proj.lora_A.default.weight: True\n",
      "base_model.model.model.layers.13.mlp.down_proj.lora_B.default.weight: True\n",
      "base_model.model.model.layers.13.input_layernorm.weight: False\n",
      "base_model.model.model.layers.13.pre_feedforward_layernorm.weight: False\n",
      "base_model.model.model.layers.13.post_feedforward_layernorm.weight: False\n",
      "base_model.model.model.layers.13.post_attention_layernorm.weight: False\n",
      "base_model.model.model.layers.14.self_attn.q_proj.base_layer.weight: False\n",
      "base_model.model.model.layers.14.self_attn.q_proj.lora_A.default.weight: True\n",
      "base_model.model.model.layers.14.self_attn.q_proj.lora_B.default.weight: True\n",
      "base_model.model.model.layers.14.self_attn.k_proj.base_layer.weight: False\n",
      "base_model.model.model.layers.14.self_attn.k_proj.lora_A.default.weight: True\n",
      "base_model.model.model.layers.14.self_attn.k_proj.lora_B.default.weight: True\n",
      "base_model.model.model.layers.14.self_attn.v_proj.base_layer.weight: False\n",
      "base_model.model.model.layers.14.self_attn.v_proj.lora_A.default.weight: True\n",
      "base_model.model.model.layers.14.self_attn.v_proj.lora_B.default.weight: True\n",
      "base_model.model.model.layers.14.self_attn.o_proj.base_layer.weight: False\n",
      "base_model.model.model.layers.14.self_attn.o_proj.lora_A.default.weight: True\n",
      "base_model.model.model.layers.14.self_attn.o_proj.lora_B.default.weight: True\n",
      "base_model.model.model.layers.14.mlp.gate_proj.base_layer.weight: False\n",
      "base_model.model.model.layers.14.mlp.gate_proj.lora_A.default.weight: True\n",
      "base_model.model.model.layers.14.mlp.gate_proj.lora_B.default.weight: True\n",
      "base_model.model.model.layers.14.mlp.up_proj.base_layer.weight: False\n",
      "base_model.model.model.layers.14.mlp.up_proj.lora_A.default.weight: True\n",
      "base_model.model.model.layers.14.mlp.up_proj.lora_B.default.weight: True\n",
      "base_model.model.model.layers.14.mlp.down_proj.base_layer.weight: False\n",
      "base_model.model.model.layers.14.mlp.down_proj.lora_A.default.weight: True\n",
      "base_model.model.model.layers.14.mlp.down_proj.lora_B.default.weight: True\n",
      "base_model.model.model.layers.14.input_layernorm.weight: False\n",
      "base_model.model.model.layers.14.pre_feedforward_layernorm.weight: False\n",
      "base_model.model.model.layers.14.post_feedforward_layernorm.weight: False\n",
      "base_model.model.model.layers.14.post_attention_layernorm.weight: False\n",
      "base_model.model.model.layers.15.self_attn.q_proj.base_layer.weight: False\n",
      "base_model.model.model.layers.15.self_attn.q_proj.lora_A.default.weight: True\n",
      "base_model.model.model.layers.15.self_attn.q_proj.lora_B.default.weight: True\n",
      "base_model.model.model.layers.15.self_attn.k_proj.base_layer.weight: False\n",
      "base_model.model.model.layers.15.self_attn.k_proj.lora_A.default.weight: True\n",
      "base_model.model.model.layers.15.self_attn.k_proj.lora_B.default.weight: True\n",
      "base_model.model.model.layers.15.self_attn.v_proj.base_layer.weight: False\n",
      "base_model.model.model.layers.15.self_attn.v_proj.lora_A.default.weight: True\n",
      "base_model.model.model.layers.15.self_attn.v_proj.lora_B.default.weight: True\n",
      "base_model.model.model.layers.15.self_attn.o_proj.base_layer.weight: False\n",
      "base_model.model.model.layers.15.self_attn.o_proj.lora_A.default.weight: True\n",
      "base_model.model.model.layers.15.self_attn.o_proj.lora_B.default.weight: True\n",
      "base_model.model.model.layers.15.mlp.gate_proj.base_layer.weight: False\n",
      "base_model.model.model.layers.15.mlp.gate_proj.lora_A.default.weight: True\n",
      "base_model.model.model.layers.15.mlp.gate_proj.lora_B.default.weight: True\n",
      "base_model.model.model.layers.15.mlp.up_proj.base_layer.weight: False\n",
      "base_model.model.model.layers.15.mlp.up_proj.lora_A.default.weight: True\n",
      "base_model.model.model.layers.15.mlp.up_proj.lora_B.default.weight: True\n",
      "base_model.model.model.layers.15.mlp.down_proj.base_layer.weight: False\n",
      "base_model.model.model.layers.15.mlp.down_proj.lora_A.default.weight: True\n",
      "base_model.model.model.layers.15.mlp.down_proj.lora_B.default.weight: True\n",
      "base_model.model.model.layers.15.input_layernorm.weight: False\n",
      "base_model.model.model.layers.15.pre_feedforward_layernorm.weight: False\n",
      "base_model.model.model.layers.15.post_feedforward_layernorm.weight: False\n",
      "base_model.model.model.layers.15.post_attention_layernorm.weight: False\n",
      "base_model.model.model.layers.16.self_attn.q_proj.base_layer.weight: False\n",
      "base_model.model.model.layers.16.self_attn.q_proj.lora_A.default.weight: True\n",
      "base_model.model.model.layers.16.self_attn.q_proj.lora_B.default.weight: True\n",
      "base_model.model.model.layers.16.self_attn.k_proj.base_layer.weight: False\n",
      "base_model.model.model.layers.16.self_attn.k_proj.lora_A.default.weight: True\n",
      "base_model.model.model.layers.16.self_attn.k_proj.lora_B.default.weight: True\n",
      "base_model.model.model.layers.16.self_attn.v_proj.base_layer.weight: False\n",
      "base_model.model.model.layers.16.self_attn.v_proj.lora_A.default.weight: True\n",
      "base_model.model.model.layers.16.self_attn.v_proj.lora_B.default.weight: True\n",
      "base_model.model.model.layers.16.self_attn.o_proj.base_layer.weight: False\n",
      "base_model.model.model.layers.16.self_attn.o_proj.lora_A.default.weight: True\n",
      "base_model.model.model.layers.16.self_attn.o_proj.lora_B.default.weight: True\n",
      "base_model.model.model.layers.16.mlp.gate_proj.base_layer.weight: False\n",
      "base_model.model.model.layers.16.mlp.gate_proj.lora_A.default.weight: True\n",
      "base_model.model.model.layers.16.mlp.gate_proj.lora_B.default.weight: True\n",
      "base_model.model.model.layers.16.mlp.up_proj.base_layer.weight: False\n",
      "base_model.model.model.layers.16.mlp.up_proj.lora_A.default.weight: True\n",
      "base_model.model.model.layers.16.mlp.up_proj.lora_B.default.weight: True\n",
      "base_model.model.model.layers.16.mlp.down_proj.base_layer.weight: False\n",
      "base_model.model.model.layers.16.mlp.down_proj.lora_A.default.weight: True\n",
      "base_model.model.model.layers.16.mlp.down_proj.lora_B.default.weight: True\n",
      "base_model.model.model.layers.16.input_layernorm.weight: False\n",
      "base_model.model.model.layers.16.pre_feedforward_layernorm.weight: False\n",
      "base_model.model.model.layers.16.post_feedforward_layernorm.weight: False\n",
      "base_model.model.model.layers.16.post_attention_layernorm.weight: False\n",
      "base_model.model.model.layers.17.self_attn.q_proj.base_layer.weight: False\n",
      "base_model.model.model.layers.17.self_attn.q_proj.lora_A.default.weight: True\n",
      "base_model.model.model.layers.17.self_attn.q_proj.lora_B.default.weight: True\n",
      "base_model.model.model.layers.17.self_attn.k_proj.base_layer.weight: False\n",
      "base_model.model.model.layers.17.self_attn.k_proj.lora_A.default.weight: True\n",
      "base_model.model.model.layers.17.self_attn.k_proj.lora_B.default.weight: True\n",
      "base_model.model.model.layers.17.self_attn.v_proj.base_layer.weight: False\n",
      "base_model.model.model.layers.17.self_attn.v_proj.lora_A.default.weight: True\n",
      "base_model.model.model.layers.17.self_attn.v_proj.lora_B.default.weight: True\n",
      "base_model.model.model.layers.17.self_attn.o_proj.base_layer.weight: False\n",
      "base_model.model.model.layers.17.self_attn.o_proj.lora_A.default.weight: True\n",
      "base_model.model.model.layers.17.self_attn.o_proj.lora_B.default.weight: True\n",
      "base_model.model.model.layers.17.mlp.gate_proj.base_layer.weight: False\n",
      "base_model.model.model.layers.17.mlp.gate_proj.lora_A.default.weight: True\n",
      "base_model.model.model.layers.17.mlp.gate_proj.lora_B.default.weight: True\n",
      "base_model.model.model.layers.17.mlp.up_proj.base_layer.weight: False\n",
      "base_model.model.model.layers.17.mlp.up_proj.lora_A.default.weight: True\n",
      "base_model.model.model.layers.17.mlp.up_proj.lora_B.default.weight: True\n",
      "base_model.model.model.layers.17.mlp.down_proj.base_layer.weight: False\n",
      "base_model.model.model.layers.17.mlp.down_proj.lora_A.default.weight: True\n",
      "base_model.model.model.layers.17.mlp.down_proj.lora_B.default.weight: True\n",
      "base_model.model.model.layers.17.input_layernorm.weight: False\n",
      "base_model.model.model.layers.17.pre_feedforward_layernorm.weight: False\n",
      "base_model.model.model.layers.17.post_feedforward_layernorm.weight: False\n",
      "base_model.model.model.layers.17.post_attention_layernorm.weight: False\n",
      "base_model.model.model.layers.18.self_attn.q_proj.base_layer.weight: False\n",
      "base_model.model.model.layers.18.self_attn.q_proj.lora_A.default.weight: True\n",
      "base_model.model.model.layers.18.self_attn.q_proj.lora_B.default.weight: True\n",
      "base_model.model.model.layers.18.self_attn.k_proj.base_layer.weight: False\n",
      "base_model.model.model.layers.18.self_attn.k_proj.lora_A.default.weight: True\n",
      "base_model.model.model.layers.18.self_attn.k_proj.lora_B.default.weight: True\n",
      "base_model.model.model.layers.18.self_attn.v_proj.base_layer.weight: False\n",
      "base_model.model.model.layers.18.self_attn.v_proj.lora_A.default.weight: True\n",
      "base_model.model.model.layers.18.self_attn.v_proj.lora_B.default.weight: True\n",
      "base_model.model.model.layers.18.self_attn.o_proj.base_layer.weight: False\n",
      "base_model.model.model.layers.18.self_attn.o_proj.lora_A.default.weight: True\n",
      "base_model.model.model.layers.18.self_attn.o_proj.lora_B.default.weight: True\n",
      "base_model.model.model.layers.18.mlp.gate_proj.base_layer.weight: False\n",
      "base_model.model.model.layers.18.mlp.gate_proj.lora_A.default.weight: True\n",
      "base_model.model.model.layers.18.mlp.gate_proj.lora_B.default.weight: True\n",
      "base_model.model.model.layers.18.mlp.up_proj.base_layer.weight: False\n",
      "base_model.model.model.layers.18.mlp.up_proj.lora_A.default.weight: True\n",
      "base_model.model.model.layers.18.mlp.up_proj.lora_B.default.weight: True\n",
      "base_model.model.model.layers.18.mlp.down_proj.base_layer.weight: False\n",
      "base_model.model.model.layers.18.mlp.down_proj.lora_A.default.weight: True\n",
      "base_model.model.model.layers.18.mlp.down_proj.lora_B.default.weight: True\n",
      "base_model.model.model.layers.18.input_layernorm.weight: False\n",
      "base_model.model.model.layers.18.pre_feedforward_layernorm.weight: False\n",
      "base_model.model.model.layers.18.post_feedforward_layernorm.weight: False\n",
      "base_model.model.model.layers.18.post_attention_layernorm.weight: False\n",
      "base_model.model.model.layers.19.self_attn.q_proj.base_layer.weight: False\n",
      "base_model.model.model.layers.19.self_attn.q_proj.lora_A.default.weight: True\n",
      "base_model.model.model.layers.19.self_attn.q_proj.lora_B.default.weight: True\n",
      "base_model.model.model.layers.19.self_attn.k_proj.base_layer.weight: False\n",
      "base_model.model.model.layers.19.self_attn.k_proj.lora_A.default.weight: True\n",
      "base_model.model.model.layers.19.self_attn.k_proj.lora_B.default.weight: True\n",
      "base_model.model.model.layers.19.self_attn.v_proj.base_layer.weight: False\n",
      "base_model.model.model.layers.19.self_attn.v_proj.lora_A.default.weight: True\n",
      "base_model.model.model.layers.19.self_attn.v_proj.lora_B.default.weight: True\n",
      "base_model.model.model.layers.19.self_attn.o_proj.base_layer.weight: False\n",
      "base_model.model.model.layers.19.self_attn.o_proj.lora_A.default.weight: True\n",
      "base_model.model.model.layers.19.self_attn.o_proj.lora_B.default.weight: True\n",
      "base_model.model.model.layers.19.mlp.gate_proj.base_layer.weight: False\n",
      "base_model.model.model.layers.19.mlp.gate_proj.lora_A.default.weight: True\n",
      "base_model.model.model.layers.19.mlp.gate_proj.lora_B.default.weight: True\n",
      "base_model.model.model.layers.19.mlp.up_proj.base_layer.weight: False\n",
      "base_model.model.model.layers.19.mlp.up_proj.lora_A.default.weight: True\n",
      "base_model.model.model.layers.19.mlp.up_proj.lora_B.default.weight: True\n",
      "base_model.model.model.layers.19.mlp.down_proj.base_layer.weight: False\n",
      "base_model.model.model.layers.19.mlp.down_proj.lora_A.default.weight: True\n",
      "base_model.model.model.layers.19.mlp.down_proj.lora_B.default.weight: True\n",
      "base_model.model.model.layers.19.input_layernorm.weight: False\n",
      "base_model.model.model.layers.19.pre_feedforward_layernorm.weight: False\n",
      "base_model.model.model.layers.19.post_feedforward_layernorm.weight: False\n",
      "base_model.model.model.layers.19.post_attention_layernorm.weight: False\n",
      "base_model.model.model.layers.20.self_attn.q_proj.base_layer.weight: False\n",
      "base_model.model.model.layers.20.self_attn.q_proj.lora_A.default.weight: True\n",
      "base_model.model.model.layers.20.self_attn.q_proj.lora_B.default.weight: True\n",
      "base_model.model.model.layers.20.self_attn.k_proj.base_layer.weight: False\n",
      "base_model.model.model.layers.20.self_attn.k_proj.lora_A.default.weight: True\n",
      "base_model.model.model.layers.20.self_attn.k_proj.lora_B.default.weight: True\n",
      "base_model.model.model.layers.20.self_attn.v_proj.base_layer.weight: False\n",
      "base_model.model.model.layers.20.self_attn.v_proj.lora_A.default.weight: True\n",
      "base_model.model.model.layers.20.self_attn.v_proj.lora_B.default.weight: True\n",
      "base_model.model.model.layers.20.self_attn.o_proj.base_layer.weight: False\n",
      "base_model.model.model.layers.20.self_attn.o_proj.lora_A.default.weight: True\n",
      "base_model.model.model.layers.20.self_attn.o_proj.lora_B.default.weight: True\n",
      "base_model.model.model.layers.20.mlp.gate_proj.base_layer.weight: False\n",
      "base_model.model.model.layers.20.mlp.gate_proj.lora_A.default.weight: True\n",
      "base_model.model.model.layers.20.mlp.gate_proj.lora_B.default.weight: True\n",
      "base_model.model.model.layers.20.mlp.up_proj.base_layer.weight: False\n",
      "base_model.model.model.layers.20.mlp.up_proj.lora_A.default.weight: True\n",
      "base_model.model.model.layers.20.mlp.up_proj.lora_B.default.weight: True\n",
      "base_model.model.model.layers.20.mlp.down_proj.base_layer.weight: False\n",
      "base_model.model.model.layers.20.mlp.down_proj.lora_A.default.weight: True\n",
      "base_model.model.model.layers.20.mlp.down_proj.lora_B.default.weight: True\n",
      "base_model.model.model.layers.20.input_layernorm.weight: False\n",
      "base_model.model.model.layers.20.pre_feedforward_layernorm.weight: False\n",
      "base_model.model.model.layers.20.post_feedforward_layernorm.weight: False\n",
      "base_model.model.model.layers.20.post_attention_layernorm.weight: False\n",
      "base_model.model.model.layers.21.self_attn.q_proj.base_layer.weight: False\n",
      "base_model.model.model.layers.21.self_attn.q_proj.lora_A.default.weight: True\n",
      "base_model.model.model.layers.21.self_attn.q_proj.lora_B.default.weight: True\n",
      "base_model.model.model.layers.21.self_attn.k_proj.base_layer.weight: False\n",
      "base_model.model.model.layers.21.self_attn.k_proj.lora_A.default.weight: True\n",
      "base_model.model.model.layers.21.self_attn.k_proj.lora_B.default.weight: True\n",
      "base_model.model.model.layers.21.self_attn.v_proj.base_layer.weight: False\n",
      "base_model.model.model.layers.21.self_attn.v_proj.lora_A.default.weight: True\n",
      "base_model.model.model.layers.21.self_attn.v_proj.lora_B.default.weight: True\n",
      "base_model.model.model.layers.21.self_attn.o_proj.base_layer.weight: False\n",
      "base_model.model.model.layers.21.self_attn.o_proj.lora_A.default.weight: True\n",
      "base_model.model.model.layers.21.self_attn.o_proj.lora_B.default.weight: True\n",
      "base_model.model.model.layers.21.mlp.gate_proj.base_layer.weight: False\n",
      "base_model.model.model.layers.21.mlp.gate_proj.lora_A.default.weight: True\n",
      "base_model.model.model.layers.21.mlp.gate_proj.lora_B.default.weight: True\n",
      "base_model.model.model.layers.21.mlp.up_proj.base_layer.weight: False\n",
      "base_model.model.model.layers.21.mlp.up_proj.lora_A.default.weight: True\n",
      "base_model.model.model.layers.21.mlp.up_proj.lora_B.default.weight: True\n",
      "base_model.model.model.layers.21.mlp.down_proj.base_layer.weight: False\n",
      "base_model.model.model.layers.21.mlp.down_proj.lora_A.default.weight: True\n",
      "base_model.model.model.layers.21.mlp.down_proj.lora_B.default.weight: True\n",
      "base_model.model.model.layers.21.input_layernorm.weight: False\n",
      "base_model.model.model.layers.21.pre_feedforward_layernorm.weight: False\n",
      "base_model.model.model.layers.21.post_feedforward_layernorm.weight: False\n",
      "base_model.model.model.layers.21.post_attention_layernorm.weight: False\n",
      "base_model.model.model.layers.22.self_attn.q_proj.base_layer.weight: False\n",
      "base_model.model.model.layers.22.self_attn.q_proj.lora_A.default.weight: True\n",
      "base_model.model.model.layers.22.self_attn.q_proj.lora_B.default.weight: True\n",
      "base_model.model.model.layers.22.self_attn.k_proj.base_layer.weight: False\n",
      "base_model.model.model.layers.22.self_attn.k_proj.lora_A.default.weight: True\n",
      "base_model.model.model.layers.22.self_attn.k_proj.lora_B.default.weight: True\n",
      "base_model.model.model.layers.22.self_attn.v_proj.base_layer.weight: False\n",
      "base_model.model.model.layers.22.self_attn.v_proj.lora_A.default.weight: True\n",
      "base_model.model.model.layers.22.self_attn.v_proj.lora_B.default.weight: True\n",
      "base_model.model.model.layers.22.self_attn.o_proj.base_layer.weight: False\n",
      "base_model.model.model.layers.22.self_attn.o_proj.lora_A.default.weight: True\n",
      "base_model.model.model.layers.22.self_attn.o_proj.lora_B.default.weight: True\n",
      "base_model.model.model.layers.22.mlp.gate_proj.base_layer.weight: False\n",
      "base_model.model.model.layers.22.mlp.gate_proj.lora_A.default.weight: True\n",
      "base_model.model.model.layers.22.mlp.gate_proj.lora_B.default.weight: True\n",
      "base_model.model.model.layers.22.mlp.up_proj.base_layer.weight: False\n",
      "base_model.model.model.layers.22.mlp.up_proj.lora_A.default.weight: True\n",
      "base_model.model.model.layers.22.mlp.up_proj.lora_B.default.weight: True\n",
      "base_model.model.model.layers.22.mlp.down_proj.base_layer.weight: False\n",
      "base_model.model.model.layers.22.mlp.down_proj.lora_A.default.weight: True\n",
      "base_model.model.model.layers.22.mlp.down_proj.lora_B.default.weight: True\n",
      "base_model.model.model.layers.22.input_layernorm.weight: False\n",
      "base_model.model.model.layers.22.pre_feedforward_layernorm.weight: False\n",
      "base_model.model.model.layers.22.post_feedforward_layernorm.weight: False\n",
      "base_model.model.model.layers.22.post_attention_layernorm.weight: False\n",
      "base_model.model.model.layers.23.self_attn.q_proj.base_layer.weight: False\n",
      "base_model.model.model.layers.23.self_attn.q_proj.lora_A.default.weight: True\n",
      "base_model.model.model.layers.23.self_attn.q_proj.lora_B.default.weight: True\n",
      "base_model.model.model.layers.23.self_attn.k_proj.base_layer.weight: False\n",
      "base_model.model.model.layers.23.self_attn.k_proj.lora_A.default.weight: True\n",
      "base_model.model.model.layers.23.self_attn.k_proj.lora_B.default.weight: True\n",
      "base_model.model.model.layers.23.self_attn.v_proj.base_layer.weight: False\n",
      "base_model.model.model.layers.23.self_attn.v_proj.lora_A.default.weight: True\n",
      "base_model.model.model.layers.23.self_attn.v_proj.lora_B.default.weight: True\n",
      "base_model.model.model.layers.23.self_attn.o_proj.base_layer.weight: False\n",
      "base_model.model.model.layers.23.self_attn.o_proj.lora_A.default.weight: True\n",
      "base_model.model.model.layers.23.self_attn.o_proj.lora_B.default.weight: True\n",
      "base_model.model.model.layers.23.mlp.gate_proj.base_layer.weight: False\n",
      "base_model.model.model.layers.23.mlp.gate_proj.lora_A.default.weight: True\n",
      "base_model.model.model.layers.23.mlp.gate_proj.lora_B.default.weight: True\n",
      "base_model.model.model.layers.23.mlp.up_proj.base_layer.weight: False\n",
      "base_model.model.model.layers.23.mlp.up_proj.lora_A.default.weight: True\n",
      "base_model.model.model.layers.23.mlp.up_proj.lora_B.default.weight: True\n",
      "base_model.model.model.layers.23.mlp.down_proj.base_layer.weight: False\n",
      "base_model.model.model.layers.23.mlp.down_proj.lora_A.default.weight: True\n",
      "base_model.model.model.layers.23.mlp.down_proj.lora_B.default.weight: True\n",
      "base_model.model.model.layers.23.input_layernorm.weight: False\n",
      "base_model.model.model.layers.23.pre_feedforward_layernorm.weight: False\n",
      "base_model.model.model.layers.23.post_feedforward_layernorm.weight: False\n",
      "base_model.model.model.layers.23.post_attention_layernorm.weight: False\n",
      "base_model.model.model.layers.24.self_attn.q_proj.base_layer.weight: False\n",
      "base_model.model.model.layers.24.self_attn.q_proj.lora_A.default.weight: True\n",
      "base_model.model.model.layers.24.self_attn.q_proj.lora_B.default.weight: True\n",
      "base_model.model.model.layers.24.self_attn.k_proj.base_layer.weight: False\n",
      "base_model.model.model.layers.24.self_attn.k_proj.lora_A.default.weight: True\n",
      "base_model.model.model.layers.24.self_attn.k_proj.lora_B.default.weight: True\n",
      "base_model.model.model.layers.24.self_attn.v_proj.base_layer.weight: False\n",
      "base_model.model.model.layers.24.self_attn.v_proj.lora_A.default.weight: True\n",
      "base_model.model.model.layers.24.self_attn.v_proj.lora_B.default.weight: True\n",
      "base_model.model.model.layers.24.self_attn.o_proj.base_layer.weight: False\n",
      "base_model.model.model.layers.24.self_attn.o_proj.lora_A.default.weight: True\n",
      "base_model.model.model.layers.24.self_attn.o_proj.lora_B.default.weight: True\n",
      "base_model.model.model.layers.24.mlp.gate_proj.base_layer.weight: False\n",
      "base_model.model.model.layers.24.mlp.gate_proj.lora_A.default.weight: True\n",
      "base_model.model.model.layers.24.mlp.gate_proj.lora_B.default.weight: True\n",
      "base_model.model.model.layers.24.mlp.up_proj.base_layer.weight: False\n",
      "base_model.model.model.layers.24.mlp.up_proj.lora_A.default.weight: True\n",
      "base_model.model.model.layers.24.mlp.up_proj.lora_B.default.weight: True\n",
      "base_model.model.model.layers.24.mlp.down_proj.base_layer.weight: False\n",
      "base_model.model.model.layers.24.mlp.down_proj.lora_A.default.weight: True\n",
      "base_model.model.model.layers.24.mlp.down_proj.lora_B.default.weight: True\n",
      "base_model.model.model.layers.24.input_layernorm.weight: False\n",
      "base_model.model.model.layers.24.pre_feedforward_layernorm.weight: False\n",
      "base_model.model.model.layers.24.post_feedforward_layernorm.weight: False\n",
      "base_model.model.model.layers.24.post_attention_layernorm.weight: False\n",
      "base_model.model.model.layers.25.self_attn.q_proj.base_layer.weight: False\n",
      "base_model.model.model.layers.25.self_attn.q_proj.lora_A.default.weight: True\n",
      "base_model.model.model.layers.25.self_attn.q_proj.lora_B.default.weight: True\n",
      "base_model.model.model.layers.25.self_attn.k_proj.base_layer.weight: False\n",
      "base_model.model.model.layers.25.self_attn.k_proj.lora_A.default.weight: True\n",
      "base_model.model.model.layers.25.self_attn.k_proj.lora_B.default.weight: True\n",
      "base_model.model.model.layers.25.self_attn.v_proj.base_layer.weight: False\n",
      "base_model.model.model.layers.25.self_attn.v_proj.lora_A.default.weight: True\n",
      "base_model.model.model.layers.25.self_attn.v_proj.lora_B.default.weight: True\n",
      "base_model.model.model.layers.25.self_attn.o_proj.base_layer.weight: False\n",
      "base_model.model.model.layers.25.self_attn.o_proj.lora_A.default.weight: True\n",
      "base_model.model.model.layers.25.self_attn.o_proj.lora_B.default.weight: True\n",
      "base_model.model.model.layers.25.mlp.gate_proj.base_layer.weight: False\n",
      "base_model.model.model.layers.25.mlp.gate_proj.lora_A.default.weight: True\n",
      "base_model.model.model.layers.25.mlp.gate_proj.lora_B.default.weight: True\n",
      "base_model.model.model.layers.25.mlp.up_proj.base_layer.weight: False\n",
      "base_model.model.model.layers.25.mlp.up_proj.lora_A.default.weight: True\n",
      "base_model.model.model.layers.25.mlp.up_proj.lora_B.default.weight: True\n",
      "base_model.model.model.layers.25.mlp.down_proj.base_layer.weight: False\n",
      "base_model.model.model.layers.25.mlp.down_proj.lora_A.default.weight: True\n",
      "base_model.model.model.layers.25.mlp.down_proj.lora_B.default.weight: True\n",
      "base_model.model.model.layers.25.input_layernorm.weight: False\n",
      "base_model.model.model.layers.25.pre_feedforward_layernorm.weight: False\n",
      "base_model.model.model.layers.25.post_feedforward_layernorm.weight: False\n",
      "base_model.model.model.layers.25.post_attention_layernorm.weight: False\n",
      "base_model.model.model.norm.weight: False\n",
      "base_model.model.score.original_module.weight: False\n",
      "base_model.model.score.modules_to_save.default.weight: True\n"
     ]
    }
   ],
   "source": [
    "for name, param in lora_model.named_parameters():\n",
    "    print(f\"{name}: {param.requires_grad}\")\n"
   ]
  },
  {
   "cell_type": "code",
   "execution_count": 44,
   "metadata": {
    "executionInfo": {
     "elapsed": 1519,
     "status": "ok",
     "timestamp": 1731870180447,
     "user": {
      "displayName": "Praveen Satya R V",
      "userId": "07360123993237987960"
     },
     "user_tz": 360
    },
    "id": "q6wzgcIRpMTA"
   },
   "outputs": [],
   "source": [
    "# load training metrices\n",
    "accuracy = evaluate.load('accuracy', 'multilabel')\n",
    "f1 = evaluate.load('f1','multilabel')\n",
    "accuracy_flatten = evaluate.load('accuracy')\n",
    "\n",
    "def compute_metrics(eval_pred):\n",
    "    # accuracy_metric = evaluate.load('accuracy', 'multilabel')\n",
    "\n",
    "    logits, labels = eval_pred\n",
    "    preds = (logits > 0).astype(int)\n",
    "    accuracy_label = accuracy_flatten.compute(predictions=preds.flatten(), references=labels.flatten())\n",
    "    accuracy_all = accuracy.compute(predictions=preds, references=labels)\n",
    "    f1_micro = f1.compute(predictions=preds, references=labels, average='micro')\n",
    "    f1_macro = f1.compute(predictions=preds, references=labels, average='macro')\n",
    "    return {'f1_micro':f1_micro['f1'],\n",
    "            'f1_macro':f1_macro['f1'],\n",
    "            'accuracy_label':accuracy_label['accuracy'],\n",
    "             'accuracy_all':accuracy_all['accuracy']}"
   ]
  },
  {
   "cell_type": "code",
   "execution_count": 45,
   "metadata": {
    "executionInfo": {
     "elapsed": 169,
     "status": "ok",
     "timestamp": 1731870181587,
     "user": {
      "displayName": "Praveen Satya R V",
      "userId": "07360123993237987960"
     },
     "user_tz": 360
    },
    "id": "QE57XvsRpPI_"
   },
   "outputs": [],
   "source": [
    "# Define the directory where model checkpoints will be saved\n",
    "model_folder = Path(\"/content/gemma_lora_imb\")\n",
    "# Create the directory if it doesn't exist\n",
    "model_folder.mkdir(exist_ok=True, parents=True)\n",
    "run_name= 'stack_exp_imb_exp1'\n",
    "\n",
    "use_fp16 = torch_data_type == torch.float16\n",
    "use_bf16 = torch_data_type == torch.bfloat16\n",
    "\n",
    "# Configure training parameters\n",
    "training_args = TrainingArguments(\n",
    "    seed = 42,\n",
    "    # Training-specific configurations\n",
    "    num_train_epochs=2,  # Total number of training epochs\n",
    "    # Number of samples per training batch for each device\n",
    "    per_device_train_batch_size=16,\n",
    "    # Number of samples per evaluation batch for each device\n",
    "    per_device_eval_batch_size=16,\n",
    "    gradient_accumulation_steps=2,\n",
    "    gradient_checkpointing=True,\n",
    "    gradient_checkpointing_kwargs={\"use_reentrant\":False},\n",
    "    # torch_empty_cache_steps=5,\n",
    "    weight_decay=0.0,  # Apply L2 regularization to prevent overfitting\n",
    "    learning_rate=1e-5,  # Step size for the optimizer during training\n",
    "    optim='adamw_torch',  # Optimizer,\n",
    "\n",
    "    # Checkpoint saving and model evaluation settings\n",
    "    output_dir=str(model_folder),  # Directory to save model checkpoints\n",
    "    eval_strategy='steps',  # Evaluate model at specified step intervals\n",
    "    eval_steps=20,  # Perform evaluation every 10 training steps\n",
    "    save_strategy=\"steps\",  # Save model checkpoint at specified step intervals\n",
    "    save_steps=20,  # Save a model checkpoint every 10 training steps\n",
    "    load_best_model_at_end=True,  # Reload the best model at the end of training\n",
    "    save_total_limit=2,  # Retain only the best and the most recent model checkpoints\n",
    "    # Use 'accuracy' as the metric to determine the best model\n",
    "    metric_for_best_model=\"eval_f1_macro\",\n",
    "    greater_is_better=True,  # A model is 'better' if its accuracy is higher\n",
    "\n",
    "\n",
    "    # Experiment logging configurations (commented out in this example)\n",
    "    logging_strategy='steps',\n",
    "    logging_steps=20,\n",
    "    report_to='wandb',  # Log metrics and results to Weights & Biases platform\n",
    "    run_name= run_name,  # Experiment name for Weights & Biases\n",
    "\n",
    "    # Precision settings determined based on GPU capability\n",
    "    fp16=use_fp16 ,  # Set True if torch_data_type is torch.float16\n",
    "    bf16=use_bf16,  # Set True if torch_data_type is torch.bfloat16\n",
    "    tf32=False,  # Disable tf32 unless you want to use Ampere specific optimization\n",
    ")\n"
   ]
  },
  {
   "cell_type": "code",
   "execution_count": 46,
   "metadata": {
    "colab": {
     "base_uri": "https://localhost:8080/"
    },
    "executionInfo": {
     "elapsed": 400,
     "status": "ok",
     "timestamp": 1731870183881,
     "user": {
      "displayName": "Praveen Satya R V",
      "userId": "07360123993237987960"
     },
     "user_tz": 360
    },
    "id": "GO27Xj8EZwc7",
    "outputId": "aa422b1b-5697-40a7-e673-dc5e05218ef8"
   },
   "outputs": [
    {
     "data": {
      "text/plain": [
       "Gemma2Config {\n",
       "  \"_name_or_path\": \"google/gemma-2-2b\",\n",
       "  \"architectures\": [\n",
       "    \"Gemma2ForCausalLM\"\n",
       "  ],\n",
       "  \"attention_bias\": false,\n",
       "  \"attention_dropout\": 0.0,\n",
       "  \"attn_logit_softcapping\": 50.0,\n",
       "  \"bos_token_id\": 2,\n",
       "  \"cache_implementation\": \"hybrid\",\n",
       "  \"eos_token_id\": 1,\n",
       "  \"final_logit_softcapping\": 30.0,\n",
       "  \"head_dim\": 256,\n",
       "  \"hidden_act\": \"gelu_pytorch_tanh\",\n",
       "  \"hidden_activation\": \"gelu_pytorch_tanh\",\n",
       "  \"hidden_size\": 2304,\n",
       "  \"id2label\": {\n",
       "    \"0\": \"anger\",\n",
       "    \"1\": \"anticipation\",\n",
       "    \"2\": \"disgust\",\n",
       "    \"3\": \"fear\",\n",
       "    \"4\": \"joy\",\n",
       "    \"5\": \"love\",\n",
       "    \"6\": \"optimism\",\n",
       "    \"7\": \"pessimism\",\n",
       "    \"8\": \"sadness\",\n",
       "    \"9\": \"surprise\",\n",
       "    \"10\": \"trust\"\n",
       "  },\n",
       "  \"initializer_range\": 0.02,\n",
       "  \"intermediate_size\": 9216,\n",
       "  \"label2id\": {\n",
       "    \"anger\": 0,\n",
       "    \"anticipation\": 1,\n",
       "    \"disgust\": 2,\n",
       "    \"fear\": 3,\n",
       "    \"joy\": 4,\n",
       "    \"love\": 5,\n",
       "    \"optimism\": 6,\n",
       "    \"pessimism\": 7,\n",
       "    \"sadness\": 8,\n",
       "    \"surprise\": 9,\n",
       "    \"trust\": 10\n",
       "  },\n",
       "  \"max_position_embeddings\": 8192,\n",
       "  \"model_type\": \"gemma2\",\n",
       "  \"num_attention_heads\": 8,\n",
       "  \"num_hidden_layers\": 26,\n",
       "  \"num_key_value_heads\": 4,\n",
       "  \"pad_token_id\": 0,\n",
       "  \"query_pre_attn_scalar\": 256,\n",
       "  \"rms_norm_eps\": 1e-06,\n",
       "  \"rope_theta\": 10000.0,\n",
       "  \"sliding_window\": 4096,\n",
       "  \"torch_dtype\": \"float32\",\n",
       "  \"transformers_version\": \"4.46.2\",\n",
       "  \"use_cache\": false,\n",
       "  \"vocab_size\": 256000\n",
       "}"
      ]
     },
     "execution_count": 46,
     "metadata": {},
     "output_type": "execute_result"
    }
   ],
   "source": [
    "# If gradient checkpointing is enabled, configure relevant settings\n",
    "if training_args.gradient_checkpointing:\n",
    "    lora_model.config.use_cache = False  # Disable caching for compatibility\n",
    "\n",
    "lora_model.config"
   ]
  },
  {
   "cell_type": "code",
   "execution_count": 47,
   "metadata": {
    "executionInfo": {
     "elapsed": 5,
     "status": "ok",
     "timestamp": 1731870185291,
     "user": {
      "displayName": "Praveen Satya R V",
      "userId": "07360123993237987960"
     },
     "user_tz": 360
    },
    "id": "j2TaHdmyZ0Qe"
   },
   "outputs": [],
   "source": [
    "def calculate_pos_weights(dataset):\n",
    "    # Initialize counters for all labels\n",
    "    num_labels = len(dataset['train']['label'][0])\n",
    "    total_positives = [0] * num_labels\n",
    "    total_negatives = [0] * num_labels\n",
    "\n",
    "    # Count positives and negatives for each label\n",
    "    for label_array in dataset['train']['label']:\n",
    "        for i, label in enumerate(label_array):\n",
    "            if label == 1:\n",
    "                total_positives[i] += 1\n",
    "            else:\n",
    "                total_negatives[i] += 1\n",
    "\n",
    "    # Calculate pos_weight for each label\n",
    "    pos_weight = [total_negatives[i] / max(total_positives[i], 1) for i in range(num_labels)]\n",
    "    return torch.tensor(pos_weight)"
   ]
  },
  {
   "cell_type": "code",
   "execution_count": 48,
   "metadata": {
    "executionInfo": {
     "elapsed": 184,
     "status": "ok",
     "timestamp": 1731870187085,
     "user": {
      "displayName": "Praveen Satya R V",
      "userId": "07360123993237987960"
     },
     "user_tz": 360
    },
    "id": "MjgsJC-lZ6YR"
   },
   "outputs": [],
   "source": [
    "pos_weights = calculate_pos_weights(tokenized_dataset)"
   ]
  },
  {
   "cell_type": "code",
   "execution_count": 49,
   "metadata": {
    "colab": {
     "base_uri": "https://localhost:8080/"
    },
    "executionInfo": {
     "elapsed": 176,
     "status": "ok",
     "timestamp": 1731870188203,
     "user": {
      "displayName": "Praveen Satya R V",
      "userId": "07360123993237987960"
     },
     "user_tz": 360
    },
    "id": "5rMYo6xiZ8US",
    "outputId": "5003ac82-d4a2-4c73-bb86-006e9041b619"
   },
   "outputs": [
    {
     "data": {
      "text/plain": [
       "tensor([ 1.6224,  6.4257,  1.6834,  4.9055,  1.6596,  8.8039,  2.3632,  7.5227,\n",
       "         2.5545, 16.8571, 17.9873])"
      ]
     },
     "execution_count": 49,
     "metadata": {},
     "output_type": "execute_result"
    }
   ],
   "source": [
    "pos_weights"
   ]
  },
  {
   "cell_type": "code",
   "execution_count": 50,
   "metadata": {
    "executionInfo": {
     "elapsed": 175,
     "status": "ok",
     "timestamp": 1731870189911,
     "user": {
      "displayName": "Praveen Satya R V",
      "userId": "07360123993237987960"
     },
     "user_tz": 360
    },
    "id": "lTD-8tcJplPU"
   },
   "outputs": [],
   "source": [
    "# initialize trainer\n",
    "class CustomTrainer(Trainer):\n",
    "    def compute_loss(self, model, inputs, return_outputs=False, num_items_in_batch=None):\n",
    "        labels = inputs.pop(\"labels\").float()  # Ensure labels are float for BCE loss\n",
    "        outputs = model(**inputs)\n",
    "        logits = outputs.get(\"logits\")\n",
    "\n",
    "        device = next(model.parameters()).device\n",
    "\n",
    "        loss_fct = nn.BCEWithLogitsLoss(pos_weight=pos_weights.to(device))\n",
    "        loss = loss_fct(logits, labels)\n",
    "\n",
    "        return (loss, outputs) if return_outputs else loss\n"
   ]
  },
  {
   "cell_type": "code",
   "execution_count": 51,
   "metadata": {
    "colab": {
     "base_uri": "https://localhost:8080/"
    },
    "executionInfo": {
     "elapsed": 247,
     "status": "ok",
     "timestamp": 1731870191235,
     "user": {
      "displayName": "Praveen Satya R V",
      "userId": "07360123993237987960"
     },
     "user_tz": 360
    },
    "id": "kor5BQH8pn1n",
    "outputId": "4cbef64b-2626-431c-fe89-8d8d58123b2f"
   },
   "outputs": [
    {
     "name": "stderr",
     "output_type": "stream",
     "text": [
      "<ipython-input-51-fcc51a4c04a4>:2: FutureWarning: `tokenizer` is deprecated and will be removed in version 5.0.0 for `CustomTrainer.__init__`. Use `processing_class` instead.\n",
      "  trainer = CustomTrainer(\n"
     ]
    }
   ],
   "source": [
    "# lora_model.config.use_cache = False\n",
    "trainer = CustomTrainer(\n",
    "    model=lora_model,\n",
    "    args=training_args,\n",
    "    train_dataset=tokenized_dataset[\"train\"],\n",
    "    eval_dataset=tokenized_dataset[\"valid\"],\n",
    "    compute_metrics=compute_metrics,\n",
    "    tokenizer=tokenizer,\n",
    ")"
   ]
  },
  {
   "cell_type": "code",
   "execution_count": 52,
   "metadata": {
    "colab": {
     "base_uri": "https://localhost:8080/"
    },
    "executionInfo": {
     "elapsed": 192,
     "status": "ok",
     "timestamp": 1731870192864,
     "user": {
      "displayName": "Praveen Satya R V",
      "userId": "07360123993237987960"
     },
     "user_tz": 360
    },
    "id": "HwE0MvVKpqMi",
    "outputId": "4c3a616b-fb13-4800-b7af-87ecefdd2430"
   },
   "outputs": [
    {
     "name": "stdout",
     "output_type": "stream",
     "text": [
      "env: WANDB_PROJECT=multilabel_emotion_gemma_2_2b\n"
     ]
    }
   ],
   "source": [
    "%env WANDB_PROJECT = multilabel_emotion_gemma_2_2b"
   ]
  },
  {
   "cell_type": "code",
   "execution_count": 53,
   "metadata": {
    "colab": {
     "base_uri": "https://localhost:8080/",
     "height": 323
    },
    "executionInfo": {
     "elapsed": 1045728,
     "status": "ok",
     "timestamp": 1731871239897,
     "user": {
      "displayName": "Praveen Satya R V",
      "userId": "07360123993237987960"
     },
     "user_tz": 360
    },
    "id": "mtI8CGrVqfCK",
    "outputId": "98b85d8d-1353-4cd8-b7c8-44d8f35bf01d"
   },
   "outputs": [
    {
     "data": {
      "text/html": [
       "Changes to your `wandb` environment variables will be ignored because your `wandb` session has already started. For more information on how to modify your settings with `wandb.init()` arguments, please refer to <a href='https://wandb.me/wandb-init' target=\"_blank\">the W&B docs</a>."
      ],
      "text/plain": [
       "<IPython.core.display.HTML object>"
      ]
     },
     "metadata": {},
     "output_type": "display_data"
    },
    {
     "data": {
      "text/html": [
       "Tracking run with wandb version 0.18.7"
      ],
      "text/plain": [
       "<IPython.core.display.HTML object>"
      ]
     },
     "metadata": {},
     "output_type": "display_data"
    },
    {
     "data": {
      "text/html": [
       "Run data is saved locally in <code>/content/wandb/run-20241117_190315-68rio9a4</code>"
      ],
      "text/plain": [
       "<IPython.core.display.HTML object>"
      ]
     },
     "metadata": {},
     "output_type": "display_data"
    },
    {
     "data": {
      "text/html": [
       "Syncing run <strong><a href='https://wandb.ai/psatyarv-the-university-of-texas-at-dallas/multilabel_emotion_gemma_2_2b/runs/68rio9a4' target=\"_blank\">stack_exp_imb_exp1</a></strong> to <a href='https://wandb.ai/psatyarv-the-university-of-texas-at-dallas/multilabel_emotion_gemma_2_2b' target=\"_blank\">Weights & Biases</a> (<a href='https://wandb.me/developer-guide' target=\"_blank\">docs</a>)<br/>"
      ],
      "text/plain": [
       "<IPython.core.display.HTML object>"
      ]
     },
     "metadata": {},
     "output_type": "display_data"
    },
    {
     "data": {
      "text/html": [
       " View project at <a href='https://wandb.ai/psatyarv-the-university-of-texas-at-dallas/multilabel_emotion_gemma_2_2b' target=\"_blank\">https://wandb.ai/psatyarv-the-university-of-texas-at-dallas/multilabel_emotion_gemma_2_2b</a>"
      ],
      "text/plain": [
       "<IPython.core.display.HTML object>"
      ]
     },
     "metadata": {},
     "output_type": "display_data"
    },
    {
     "data": {
      "text/html": [
       " View run at <a href='https://wandb.ai/psatyarv-the-university-of-texas-at-dallas/multilabel_emotion_gemma_2_2b/runs/68rio9a4' target=\"_blank\">https://wandb.ai/psatyarv-the-university-of-texas-at-dallas/multilabel_emotion_gemma_2_2b/runs/68rio9a4</a>"
      ],
      "text/plain": [
       "<IPython.core.display.HTML object>"
      ]
     },
     "metadata": {},
     "output_type": "display_data"
    },
    {
     "name": "stderr",
     "output_type": "stream",
     "text": [
      "`use_cache=True` is incompatible with gradient checkpointing. Setting `use_cache=False`.\n"
     ]
    },
    {
     "data": {
      "text/html": [
       "\n",
       "    <div>\n",
       "      \n",
       "      <progress value='94' max='94' style='width:300px; height:20px; vertical-align: middle;'></progress>\n",
       "      [94/94 17:17, Epoch 2/2]\n",
       "    </div>\n",
       "    <table border=\"1\" class=\"dataframe\">\n",
       "  <thead>\n",
       " <tr style=\"text-align: left;\">\n",
       "      <th>Step</th>\n",
       "      <th>Training Loss</th>\n",
       "      <th>Validation Loss</th>\n",
       "      <th>F1 Micro</th>\n",
       "      <th>F1 Macro</th>\n",
       "      <th>Accuracy Label</th>\n",
       "      <th>Accuracy All</th>\n",
       "    </tr>\n",
       "  </thead>\n",
       "  <tbody>\n",
       "    <tr>\n",
       "      <td>20</td>\n",
       "      <td>1.956900</td>\n",
       "      <td>1.760471</td>\n",
       "      <td>0.332967</td>\n",
       "      <td>0.321966</td>\n",
       "      <td>0.521879</td>\n",
       "      <td>0.000000</td>\n",
       "    </tr>\n",
       "    <tr>\n",
       "      <td>40</td>\n",
       "      <td>1.519000</td>\n",
       "      <td>1.318959</td>\n",
       "      <td>0.372420</td>\n",
       "      <td>0.353513</td>\n",
       "      <td>0.589030</td>\n",
       "      <td>0.002000</td>\n",
       "    </tr>\n",
       "    <tr>\n",
       "      <td>60</td>\n",
       "      <td>0.999800</td>\n",
       "      <td>1.247136</td>\n",
       "      <td>0.456597</td>\n",
       "      <td>0.391888</td>\n",
       "      <td>0.696485</td>\n",
       "      <td>0.030667</td>\n",
       "    </tr>\n",
       "    <tr>\n",
       "      <td>80</td>\n",
       "      <td>0.880900</td>\n",
       "      <td>1.185012</td>\n",
       "      <td>0.465464</td>\n",
       "      <td>0.406264</td>\n",
       "      <td>0.687636</td>\n",
       "      <td>0.021333</td>\n",
       "    </tr>\n",
       "  </tbody>\n",
       "</table><p>"
      ],
      "text/plain": [
       "<IPython.core.display.HTML object>"
      ]
     },
     "metadata": {},
     "output_type": "display_data"
    }
   ],
   "source": [
    "try:\n",
    "    # Your code that may cause a CUDA out-of-memory error\n",
    "    # Example: trainer.train() or other GPU intensive operations\n",
    "    # lora_model.config.use_cache = False\n",
    "    trainer.train()\n",
    "except RuntimeError as e:\n",
    "    if 'CUDA out of memory' in str(e):\n",
    "        print(\"CUDA out of memory error detected. Freeing GPU memory.\")\n",
    "        free_gpu_memory()\n",
    "        # Optionally, you can retry the operation here after freeing up memory\n",
    "        # Example retry:\n",
    "        # trainer.train()\n",
    "    else:\n",
    "        raise e\n"
   ]
  },
  {
   "cell_type": "markdown",
   "metadata": {
    "id": "X2yfgXD_1-HG"
   },
   "source": [
    "<font color = 'indianred'> **4.3 Evaluate model on Validation Set** </font>"
   ]
  },
  {
   "cell_type": "code",
   "execution_count": 54,
   "metadata": {
    "colab": {
     "base_uri": "https://localhost:8080/",
     "height": 37
    },
    "executionInfo": {
     "elapsed": 98051,
     "status": "ok",
     "timestamp": 1731871870055,
     "user": {
      "displayName": "Praveen Satya R V",
      "userId": "07360123993237987960"
     },
     "user_tz": 360
    },
    "id": "5mzrfU86tq65",
    "outputId": "8fcf234c-2694-45ad-acda-30e90b5d3a16"
   },
   "outputs": [
    {
     "data": {
      "text/html": [
       "\n",
       "    <div>\n",
       "      \n",
       "      <progress value='94' max='94' style='width:300px; height:20px; vertical-align: middle;'></progress>\n",
       "      [94/94 01:35]\n",
       "    </div>\n",
       "    "
      ],
      "text/plain": [
       "<IPython.core.display.HTML object>"
      ]
     },
     "metadata": {},
     "output_type": "display_data"
    }
   ],
   "source": [
    "eval_results = trainer.evaluate(tokenized_dataset[\"valid\"])"
   ]
  },
  {
   "cell_type": "code",
   "execution_count": 55,
   "metadata": {
    "colab": {
     "base_uri": "https://localhost:8080/"
    },
    "executionInfo": {
     "elapsed": 18,
     "status": "ok",
     "timestamp": 1731871870057,
     "user": {
      "displayName": "Praveen Satya R V",
      "userId": "07360123993237987960"
     },
     "user_tz": 360
    },
    "id": "go3nnZFGq07D",
    "outputId": "d6e91d51-6c93-4983-abd0-d8031c078a86"
   },
   "outputs": [
    {
     "data": {
      "text/plain": [
       "{'eval_loss': 1.1850117444992065,\n",
       " 'eval_f1_micro': 0.46546359676415683,\n",
       " 'eval_f1_macro': 0.40626448840333285,\n",
       " 'eval_accuracy_label': 0.6876363636363636,\n",
       " 'eval_accuracy_all': 0.021333333333333333,\n",
       " 'eval_runtime': 97.9291,\n",
       " 'eval_samples_per_second': 15.317,\n",
       " 'eval_steps_per_second': 0.96,\n",
       " 'epoch': 2.0}"
      ]
     },
     "execution_count": 55,
     "metadata": {},
     "output_type": "execute_result"
    }
   ],
   "source": [
    "eval_results"
   ]
  },
  {
   "cell_type": "code",
   "execution_count": 56,
   "metadata": {
    "executionInfo": {
     "elapsed": 7,
     "status": "ok",
     "timestamp": 1731871870057,
     "user": {
      "displayName": "Praveen Satya R V",
      "userId": "07360123993237987960"
     },
     "user_tz": 360
    },
    "id": "tQSyMZYy1nF0"
   },
   "outputs": [],
   "source": [
    "wandb.log({\"eval_f1_macro\": eval_results[\"eval_f1_macro\"], \"eval_loss\": eval_results[\"eval_loss\"], \"eval_accuracy\": eval_results[\"eval_accuracy_all\"]})"
   ]
  },
  {
   "cell_type": "markdown",
   "metadata": {
    "id": "6gkHoDGwmt4C"
   },
   "source": [
    "<font color = 'indianred'> **4.4 Finetune Threshold** </font>"
   ]
  },
  {
   "cell_type": "code",
   "execution_count": 58,
   "metadata": {
    "colab": {
     "base_uri": "https://localhost:8080/",
     "height": 17
    },
    "executionInfo": {
     "elapsed": 98580,
     "status": "ok",
     "timestamp": 1731871981109,
     "user": {
      "displayName": "Praveen Satya R V",
      "userId": "07360123993237987960"
     },
     "user_tz": 360
    },
    "id": "WmDznr57m0XX",
    "outputId": "8684d797-17bf-4640-f4af-62ab6e6c0353"
   },
   "outputs": [
    {
     "data": {
      "text/html": [],
      "text/plain": [
       "<IPython.core.display.HTML object>"
      ]
     },
     "metadata": {},
     "output_type": "display_data"
    }
   ],
   "source": [
    "from scipy.special import expit as sigmoid\n",
    "valid_output = trainer.predict(tokenized_dataset[\"valid\"])\n",
    "\n",
    "# Get probabilities from logits\n",
    "valid_logits = valid_output.predictions\n",
    "valid_probs = sigmoid(valid_logits)\n",
    "valid_labels = np.array(valid_output.label_ids.astype(int))"
   ]
  },
  {
   "cell_type": "code",
   "execution_count": 59,
   "metadata": {
    "colab": {
     "base_uri": "https://localhost:8080/"
    },
    "executionInfo": {
     "elapsed": 22,
     "status": "ok",
     "timestamp": 1731871981109,
     "user": {
      "displayName": "Praveen Satya R V",
      "userId": "07360123993237987960"
     },
     "user_tz": 360
    },
    "id": "V54NrQHRm5Au",
    "outputId": "0db3c291-de69-4229-c231-f5312417c1a6"
   },
   "outputs": [
    {
     "data": {
      "text/plain": [
       "(1500, 11)"
      ]
     },
     "execution_count": 59,
     "metadata": {},
     "output_type": "execute_result"
    }
   ],
   "source": [
    "valid_logits.shape"
   ]
  },
  {
   "cell_type": "code",
   "execution_count": 60,
   "metadata": {
    "colab": {
     "base_uri": "https://localhost:8080/"
    },
    "executionInfo": {
     "elapsed": 17,
     "status": "ok",
     "timestamp": 1731871981109,
     "user": {
      "displayName": "Praveen Satya R V",
      "userId": "07360123993237987960"
     },
     "user_tz": 360
    },
    "id": "Klvmy7NMnAzV",
    "outputId": "b656433d-1adb-4e19-e4e8-dc3c63b927b5"
   },
   "outputs": [
    {
     "data": {
      "text/plain": [
       "(1500, 11)"
      ]
     },
     "execution_count": 60,
     "metadata": {},
     "output_type": "execute_result"
    }
   ],
   "source": [
    "valid_probs.shape"
   ]
  },
  {
   "cell_type": "code",
   "execution_count": 61,
   "metadata": {
    "colab": {
     "base_uri": "https://localhost:8080/"
    },
    "executionInfo": {
     "elapsed": 12,
     "status": "ok",
     "timestamp": 1731871981109,
     "user": {
      "displayName": "Praveen Satya R V",
      "userId": "07360123993237987960"
     },
     "user_tz": 360
    },
    "id": "hOownDMfnCHp",
    "outputId": "d822cb10-d799-489d-b163-8aa2c26deb5d"
   },
   "outputs": [
    {
     "data": {
      "text/plain": [
       "(1500, 11)"
      ]
     },
     "execution_count": 61,
     "metadata": {},
     "output_type": "execute_result"
    }
   ],
   "source": [
    "valid_labels.shape"
   ]
  },
  {
   "cell_type": "code",
   "execution_count": 62,
   "metadata": {
    "executionInfo": {
     "elapsed": 6,
     "status": "ok",
     "timestamp": 1731871981109,
     "user": {
      "displayName": "Praveen Satya R V",
      "userId": "07360123993237987960"
     },
     "user_tz": 360
    },
    "id": "xIt2sSzMnEPN"
   },
   "outputs": [],
   "source": [
    "def find_best_thresholds_multilabel(probabilities, labels):\n",
    "    \"\"\"\n",
    "    Find best threshold for each label that maximizes F1 score\n",
    "\n",
    "    Args:\n",
    "        probabilities: Array of shape (n_samples, n_labels) with predicted probabilities\n",
    "        labels: Array of shape (n_samples, n_labels) with true binary labels\n",
    "\n",
    "    Returns:\n",
    "        thresholds: List of best thresholds for each label\n",
    "        metrics: Dictionary containing best F1, precision, and recall for each label\n",
    "    \"\"\"\n",
    "    n_labels = labels.shape[1]\n",
    "    best_thresholds = []\n",
    "    metrics = {}\n",
    "\n",
    "    for label_idx in range(n_labels):\n",
    "        # Get scores and labels for this label\n",
    "        label_scores = probabilities[:, label_idx]\n",
    "        label_true = labels[:, label_idx]\n",
    "\n",
    "        # Sort by scores\n",
    "        rows = list(zip(label_scores, label_true))\n",
    "        rows = sorted(rows, key=lambda x: x[0], reverse=True)\n",
    "\n",
    "        # Initialize metrics\n",
    "        best_f1 = best_precision = best_recall = 0\n",
    "        threshold = 0\n",
    "\n",
    "        # Count total positives for this label\n",
    "        total_positives = sum(label_true)\n",
    "\n",
    "        # Initialize counters\n",
    "        total_predicted_positives = 0\n",
    "        true_positives = 0\n",
    "\n",
    "        # print(f\"\\nAnalyzing label {label_idx}\")\n",
    "\n",
    "        # Try different thresholds\n",
    "        for i in range(len(rows) - 1):\n",
    "            score, label = rows[i]\n",
    "            total_predicted_positives += 1\n",
    "            if label == 1:\n",
    "                true_positives += 1\n",
    "\n",
    "            if true_positives > 0:\n",
    "                precision = true_positives / total_predicted_positives\n",
    "                recall = true_positives / total_positives\n",
    "                f1 = 2 * precision * recall / (precision + recall)\n",
    "\n",
    "                # Update best metrics if current F1 is better\n",
    "                if f1 > best_f1:\n",
    "                    best_f1 = f1\n",
    "                    best_precision = precision\n",
    "                    best_recall = recall\n",
    "                    threshold = (rows[i][0] + rows[i + 1][0]) / 2\n",
    "\n",
    "                    # print(f\"New best threshold found: {threshold:.3f}\")\n",
    "                    # print(f\"F1: {best_f1:.3f}, Precision: {best_precision:.3f}, Recall: {best_recall:.3f}\")\n",
    "\n",
    "        best_thresholds.append(threshold)\n",
    "        metrics[label_idx] = {\n",
    "            'f1': best_f1,\n",
    "            'precision': best_precision,\n",
    "            'recall': best_recall,\n",
    "            'threshold': threshold\n",
    "        }\n",
    "\n",
    "\n",
    "    return best_thresholds, metrics\n",
    "\n"
   ]
  },
  {
   "cell_type": "code",
   "execution_count": 63,
   "metadata": {
    "executionInfo": {
     "elapsed": 193,
     "status": "ok",
     "timestamp": 1731871981297,
     "user": {
      "displayName": "Praveen Satya R V",
      "userId": "07360123993237987960"
     },
     "user_tz": 360
    },
    "id": "_luAoM8pnGp-"
   },
   "outputs": [],
   "source": [
    "optimal_thresholds, metrics = find_best_thresholds_multilabel(valid_probs, valid_labels)\n"
   ]
  },
  {
   "cell_type": "code",
   "execution_count": 64,
   "metadata": {
    "colab": {
     "base_uri": "https://localhost:8080/"
    },
    "executionInfo": {
     "elapsed": 13,
     "status": "ok",
     "timestamp": 1731871981298,
     "user": {
      "displayName": "Praveen Satya R V",
      "userId": "07360123993237987960"
     },
     "user_tz": 360
    },
    "id": "u_kFv7x3nIL2",
    "outputId": "0b2c0eed-8c40-40aa-b057-480ae6788180"
   },
   "outputs": [
    {
     "data": {
      "text/plain": [
       "[0.33373385667800903,\n",
       " 0.44743430614471436,\n",
       " 0.3620736598968506,\n",
       " 0.6907285451889038,\n",
       " 0.5497658252716064,\n",
       " 0.49103477597236633,\n",
       " 0.5830907225608826,\n",
       " 0.3334164619445801,\n",
       " 0.42939698696136475,\n",
       " 0.536858081817627,\n",
       " 0.6910290122032166]"
      ]
     },
     "execution_count": 64,
     "metadata": {},
     "output_type": "execute_result"
    }
   ],
   "source": [
    "optimal_thresholds"
   ]
  },
  {
   "cell_type": "code",
   "execution_count": 65,
   "metadata": {
    "executionInfo": {
     "elapsed": 1520,
     "status": "ok",
     "timestamp": 1731871982810,
     "user": {
      "displayName": "Praveen Satya R V",
      "userId": "07360123993237987960"
     },
     "user_tz": 360
    },
    "id": "L19l_G-knN8T"
   },
   "outputs": [],
   "source": [
    "accuracy = evaluate.load('accuracy', 'multilabel')\n",
    "f1 = evaluate.load('f1','multilabel')\n",
    "accuracy_flatten = evaluate.load('accuracy')\n",
    "def compute_metrics(eval_pred, thresholds):\n",
    "    # accuracy_metric = evaluate.load('accuracy', 'multilabel')\n",
    "\n",
    "    logits, labels = eval_pred\n",
    "    probs = sigmoid(logits)\n",
    "    preds = (probs > thresholds).astype(int)\n",
    "    accuracy_label = accuracy_flatten.compute(predictions=preds.flatten(), references=labels.flatten())\n",
    "    accuracy_all = accuracy.compute(predictions=preds, references=labels)\n",
    "    f1_micro = f1.compute(predictions=preds, references=labels, average='micro')\n",
    "    f1_macro = f1.compute(predictions=preds, references=labels, average='macro')\n",
    "    return {'f1_micro':f1_micro['f1'],\n",
    "            'f1_macro':f1_macro['f1'],\n",
    "            'accuracy_label':accuracy_label['accuracy'],\n",
    "             'accuracy_all':accuracy_all['accuracy']}"
   ]
  },
  {
   "cell_type": "code",
   "execution_count": 66,
   "metadata": {
    "colab": {
     "base_uri": "https://localhost:8080/"
    },
    "executionInfo": {
     "elapsed": 916,
     "status": "ok",
     "timestamp": 1731872016250,
     "user": {
      "displayName": "Praveen Satya R V",
      "userId": "07360123993237987960"
     },
     "user_tz": 360
    },
    "id": "HZUbyIN6nQ60",
    "outputId": "36e120a5-b28e-4cef-80a8-968f412c5e93"
   },
   "outputs": [
    {
     "data": {
      "text/plain": [
       "{'f1_micro': 0.4887623309264721,\n",
       " 'f1_macro': 0.4244276507995716,\n",
       " 'accuracy_label': 0.6953333333333334,\n",
       " 'accuracy_all': 0.017333333333333333}"
      ]
     },
     "execution_count": 66,
     "metadata": {},
     "output_type": "execute_result"
    }
   ],
   "source": [
    "compute_metrics((valid_logits, valid_labels), optimal_thresholds)"
   ]
  },
  {
   "cell_type": "markdown",
   "metadata": {
    "id": "4ZIUEyH42U5f"
   },
   "source": [
    "<font color = 'indianred'> **4.5 Confusion Matrix** </font>"
   ]
  },
  {
   "cell_type": "code",
   "execution_count": 68,
   "metadata": {
    "colab": {
     "base_uri": "https://localhost:8080/"
    },
    "executionInfo": {
     "elapsed": 196,
     "status": "ok",
     "timestamp": 1731872120989,
     "user": {
      "displayName": "Praveen Satya R V",
      "userId": "07360123993237987960"
     },
     "user_tz": 360
    },
    "id": "nWxKiRAun1RW",
    "outputId": "49b429fb-ebfc-4475-bec4-b9f2b53f2604"
   },
   "outputs": [
    {
     "name": "stdout",
     "output_type": "stream",
     "text": [
      "[[[ 509  443]\n",
      "  [  73  475]]\n",
      "\n",
      " [[ 765  525]\n",
      "  [  76  134]]\n",
      "\n",
      " [[ 566  364]\n",
      "  [ 133  437]]\n",
      "\n",
      " [[1012  212]\n",
      "  [ 159  117]]\n",
      "\n",
      " [[ 649  294]\n",
      "  [ 149  408]]\n",
      "\n",
      " [[1079  250]\n",
      "  [  57  114]]\n",
      "\n",
      " [[ 823  215]\n",
      "  [ 179  283]]\n",
      "\n",
      " [[ 769  565]\n",
      "  [  66  100]]\n",
      "\n",
      " [[ 512  589]\n",
      "  [ 121  278]]\n",
      "\n",
      " [[1157  261]\n",
      "  [  54   28]]\n",
      "\n",
      " [[1229  176]\n",
      "  [  66   29]]]\n"
     ]
    }
   ],
   "source": [
    "valid_preds = (valid_probs > optimal_thresholds).astype(int)\n",
    "mcm = multilabel_confusion_matrix(valid_labels, valid_preds)\n",
    "print(mcm)"
   ]
  },
  {
   "cell_type": "code",
   "execution_count": 70,
   "metadata": {
    "executionInfo": {
     "elapsed": 217,
     "status": "ok",
     "timestamp": 1731872359535,
     "user": {
      "displayName": "Praveen Satya R V",
      "userId": "07360123993237987960"
     },
     "user_tz": 360
    },
    "id": "pgCaDbyCosR5"
   },
   "outputs": [],
   "source": [
    "def multilabel_evaluation(y_true, y_pred, class_names=None, figsize=(12, 8)):\n",
    "    \"\"\"\n",
    "    Generate comprehensive evaluation visualizations for multilabel classification results.\n",
    "\n",
    "    Parameters:\n",
    "    -----------\n",
    "    y_true : array-like\n",
    "        True labels (n_samples, n_classes)\n",
    "    y_pred : array-like\n",
    "        Predicted labels (n_samples, n_classes)\n",
    "    class_names : list, optional\n",
    "        List of class names for better visualization\n",
    "    figsize : tuple, optional\n",
    "        Base figure size for plots (width, height)\n",
    "\n",
    "    Returns:\n",
    "    --------\n",
    "    dict\n",
    "        Dictionary containing the computed metrics for each class\n",
    "    \"\"\"\n",
    "    # Validate inputs\n",
    "    y_true = np.array(y_true)\n",
    "    y_pred = np.array(y_pred)\n",
    "\n",
    "    if y_true.shape != y_pred.shape:\n",
    "        raise ValueError(\"y_true and y_pred must have the same shape\")\n",
    "\n",
    "    # Generate class names if not provided\n",
    "    if class_names is None:\n",
    "        class_names = [f'Class {i}' for i in range(y_true.shape[1])]\n",
    "\n",
    "    # Calculate confusion matrices\n",
    "    mcm = multilabel_confusion_matrix(y_true, y_pred)\n",
    "\n",
    "    # 1. Individual Confusion Matrix Heatmaps\n",
    "    n_classes = len(class_names)\n",
    "    n_cols = min(3, n_classes)\n",
    "    n_rows = (n_classes + n_cols - 1) // n_cols\n",
    "\n",
    "    plt.figure(figsize=(figsize[0], figsize[1] * n_rows/2))\n",
    "    for idx, matrix in enumerate(mcm):\n",
    "        plt.subplot(n_rows, n_cols, idx + 1)\n",
    "        sns.heatmap(matrix, annot=True, fmt='g', cmap='Blues',\n",
    "                    xticklabels=['Pred Neg', 'Pred Pos'],\n",
    "                    yticklabels=['True Neg', 'True Pos'])\n",
    "        plt.title(f'{class_names[idx]}')\n",
    "    plt.tight_layout()\n",
    "    plt.show()\n",
    "\n",
    "    # 2. Calculate and plot aggregate metrics\n",
    "    metrics = {\n",
    "        'Precision': precision_score(y_true, y_pred, average=None),\n",
    "        'Recall': recall_score(y_true, y_pred, average=None),\n",
    "        'F1-Score': f1_score(y_true, y_pred, average=None)\n",
    "    }\n",
    "\n",
    "    metrics_df = pd.DataFrame(metrics, index=class_names)\n",
    "\n",
    "    # Metrics Heatmap\n",
    "    plt.figure(figsize=(figsize[0]/1.5, figsize[1]/1.5))\n",
    "    sns.heatmap(metrics_df, annot=True, fmt='.3f', cmap='Blues')\n",
    "    plt.title('Performance Metrics by Class')\n",
    "    plt.tight_layout()\n",
    "    plt.show()\n",
    "\n",
    "    # 3. Metrics Histogram\n",
    "    plt.figure(figsize=(figsize[0], figsize[1]/1.5))\n",
    "    metrics_df.plot(kind='bar', width=0.8)\n",
    "    plt.xlabel('Classes')\n",
    "    plt.ylabel('Score')\n",
    "    plt.title('Precision, Recall, and F1-Score by Class')\n",
    "    plt.legend(bbox_to_anchor=(1.05, 1), loc='upper left')\n",
    "    plt.tight_layout()\n",
    "    plt.show()\n",
    "\n",
    "    # 4. Calculate and return summary statistics\n",
    "    summary_stats = {\n",
    "        'macro_avg': {\n",
    "            'precision': np.mean(metrics['Precision']),\n",
    "            'recall': np.mean(metrics['Recall']),\n",
    "            'f1': np.mean(metrics['F1-Score'])\n",
    "        },\n",
    "        'per_class': metrics_df.to_dict()\n",
    "    }\n",
    "\n",
    "    return summary_stats\n"
   ]
  },
  {
   "cell_type": "code",
   "execution_count": 71,
   "metadata": {
    "colab": {
     "base_uri": "https://localhost:8080/",
     "height": 1000
    },
    "executionInfo": {
     "elapsed": 6767,
     "status": "ok",
     "timestamp": 1731872380551,
     "user": {
      "displayName": "Praveen Satya R V",
      "userId": "07360123993237987960"
     },
     "user_tz": 360
    },
    "id": "JfM04wB-owJM",
    "outputId": "435f7619-644e-4ab2-98d9-3036487a9f5f"
   },
   "outputs": [
    {
     "data": {
      "image/png": "[encoded data removed]",
      "text/plain": [
       "<Figure size 1200x1600 with 22 Axes>"
      ]
     },
     "metadata": {},
     "output_type": "display_data"
    },
    {
     "data": {
      "image/png": "[encoded data removed]",
      "text/plain": [
       "<Figure size 800x533.333 with 2 Axes>"
      ]
     },
     "metadata": {},
     "output_type": "display_data"
    },
    {
     "data": {
      "text/plain": [
       "<Figure size 1200x533.333 with 0 Axes>"
      ]
     },
     "metadata": {},
     "output_type": "display_data"
    },
    {
     "data": {
      "image/png": "[encoded data removed]",
      "text/plain": [
       "<Figure size 640x480 with 1 Axes>"
      ]
     },
     "metadata": {},
     "output_type": "display_data"
    },
    {
     "data": {
      "text/plain": [
       "{'macro_avg': {'precision': 0.34490784413295417,\n",
       "  'recall': 0.6048234205471071,\n",
       "  'f1': 0.4244276507995716},\n",
       " 'per_class': {'Precision': {'anger': 0.5174291938997821,\n",
       "   'anticipation': 0.20333839150227617,\n",
       "   'disgust': 0.5455680399500624,\n",
       "   'fear': 0.3556231003039514,\n",
       "   'joy': 0.5811965811965812,\n",
       "   'love': 0.3131868131868132,\n",
       "   'optimism': 0.5682730923694779,\n",
       "   'pessimism': 0.15037593984962405,\n",
       "   'sadness': 0.3206459054209919,\n",
       "   'surprise': 0.09688581314878893,\n",
       "   'trust': 0.14146341463414633},\n",
       "  'Recall': {'anger': 0.8667883211678832,\n",
       "   'anticipation': 0.638095238095238,\n",
       "   'disgust': 0.7666666666666667,\n",
       "   'fear': 0.42391304347826086,\n",
       "   'joy': 0.7324955116696589,\n",
       "   'love': 0.6666666666666666,\n",
       "   'optimism': 0.6125541125541125,\n",
       "   'pessimism': 0.6024096385542169,\n",
       "   'sadness': 0.6967418546365914,\n",
       "   'surprise': 0.34146341463414637,\n",
       "   'trust': 0.30526315789473685},\n",
       "  'F1-Score': {'anger': 0.6480218281036835,\n",
       "   'anticipation': 0.3084004602991945,\n",
       "   'disgust': 0.637490882567469,\n",
       "   'fear': 0.3867768595041322,\n",
       "   'joy': 0.6481334392374901,\n",
       "   'love': 0.4261682242990654,\n",
       "   'optimism': 0.5895833333333333,\n",
       "   'pessimism': 0.24067388688327315,\n",
       "   'sadness': 0.4391785150078989,\n",
       "   'surprise': 0.1509433962264151,\n",
       "   'trust': 0.19333333333333333}}}"
      ]
     },
     "execution_count": 71,
     "metadata": {},
     "output_type": "execute_result"
    }
   ],
   "source": [
    "multilabel_evaluation(y_true=valid_labels, y_pred=valid_preds, class_names=class_names, figsize=(12, 8))"
   ]
  },
  {
   "cell_type": "markdown",
   "metadata": {
    "id": "qOxNGCyF2reb"
   },
   "source": [
    "<font color = 'indianred'> **4.6 Get best checkpoint**</font>\n"
   ]
  },
  {
   "cell_type": "code",
   "execution_count": 72,
   "metadata": {
    "colab": {
     "base_uri": "https://localhost:8080/"
    },
    "executionInfo": {
     "elapsed": 248,
     "status": "ok",
     "timestamp": 1731872530597,
     "user": {
      "displayName": "Praveen Satya R V",
      "userId": "07360123993237987960"
     },
     "user_tz": 360
    },
    "id": "RGDLIIWz11DJ",
    "outputId": "eb1b05c5-4983-4f84-ca89-74913dcd677b"
   },
   "outputs": [
    {
     "name": "stdout",
     "output_type": "stream",
     "text": [
      "The best model was saved at step 80.\n"
     ]
    }
   ],
   "source": [
    "# After training, let us check the best checkpoint\n",
    "# We need this for Inference\n",
    "best_model_checkpoint_step = trainer.state.best_model_checkpoint.split('-')[-1]\n",
    "print(f\"The best model was saved at step {best_model_checkpoint_step}.\")"
   ]
  },
  {
   "cell_type": "code",
   "execution_count": 73,
   "metadata": {
    "colab": {
     "base_uri": "https://localhost:8080/",
     "height": 781
    },
    "executionInfo": {
     "elapsed": 2007,
     "status": "ok",
     "timestamp": 1731872533868,
     "user": {
      "displayName": "Praveen Satya R V",
      "userId": "07360123993237987960"
     },
     "user_tz": 360
    },
    "id": "J0hXJ3yh5HAQ",
    "outputId": "f0ce2bcf-c87c-42b3-9100-198917f929f9"
   },
   "outputs": [
    {
     "data": {
      "text/html": [
       "\n",
       "    <style>\n",
       "        .wandb-row {\n",
       "            display: flex;\n",
       "            flex-direction: row;\n",
       "            flex-wrap: wrap;\n",
       "            justify-content: flex-start;\n",
       "            width: 100%;\n",
       "        }\n",
       "        .wandb-col {\n",
       "            display: flex;\n",
       "            flex-direction: column;\n",
       "            flex-basis: 100%;\n",
       "            flex: 1;\n",
       "            padding: 10px;\n",
       "        }\n",
       "    </style>\n",
       "<div class=\"wandb-row\"><div class=\"wandb-col\"><h3>Run history:</h3><br/><table class=\"wandb\"><tr><td>eval/accuracy_all</td><td>▁▁█▆▆</td></tr><tr><td>eval/accuracy_label</td><td>▁▄███</td></tr><tr><td>eval/f1_macro</td><td>▁▄▇██</td></tr><tr><td>eval/f1_micro</td><td>▁▃███</td></tr><tr><td>eval/loss</td><td>█▃▂▁▁</td></tr><tr><td>eval/runtime</td><td>▁▁▁▂█</td></tr><tr><td>eval/samples_per_second</td><td>███▇▁</td></tr><tr><td>eval/steps_per_second</td><td>███▇▁</td></tr><tr><td>eval_accuracy</td><td>▁</td></tr><tr><td>eval_f1_macro</td><td>▁</td></tr><tr><td>eval_loss</td><td>▁</td></tr><tr><td>test/accuracy_all</td><td>▁</td></tr><tr><td>test/accuracy_label</td><td>▁</td></tr><tr><td>test/f1_macro</td><td>▁</td></tr><tr><td>test/f1_micro</td><td>▁</td></tr><tr><td>test/loss</td><td>▁</td></tr><tr><td>test/runtime</td><td>▁</td></tr><tr><td>test/samples_per_second</td><td>▁</td></tr><tr><td>test/steps_per_second</td><td>▁</td></tr><tr><td>train/epoch</td><td>▁▁▃▃▅▅▇▇██</td></tr><tr><td>train/global_step</td><td>▁▁▃▃▅▅▇▇████</td></tr><tr><td>train/grad_norm</td><td>▇█▆▁</td></tr><tr><td>train/learning_rate</td><td>█▆▃▁</td></tr><tr><td>train/loss</td><td>█▅▂▁</td></tr></table><br/></div><div class=\"wandb-col\"><h3>Run summary:</h3><br/><table class=\"wandb\"><tr><td>eval/accuracy_all</td><td>0.02133</td></tr><tr><td>eval/accuracy_label</td><td>0.68764</td></tr><tr><td>eval/f1_macro</td><td>0.40626</td></tr><tr><td>eval/f1_micro</td><td>0.46546</td></tr><tr><td>eval/loss</td><td>1.18501</td></tr><tr><td>eval/runtime</td><td>97.9291</td></tr><tr><td>eval/samples_per_second</td><td>15.317</td></tr><tr><td>eval/steps_per_second</td><td>0.96</td></tr><tr><td>eval_accuracy</td><td>0.02133</td></tr><tr><td>eval_f1_macro</td><td>0.40626</td></tr><tr><td>eval_loss</td><td>1.18501</td></tr><tr><td>test/accuracy_all</td><td>0.02133</td></tr><tr><td>test/accuracy_label</td><td>0.68764</td></tr><tr><td>test/f1_macro</td><td>0.40626</td></tr><tr><td>test/f1_micro</td><td>0.46546</td></tr><tr><td>test/loss</td><td>1.18501</td></tr><tr><td>test/runtime</td><td>98.3747</td></tr><tr><td>test/samples_per_second</td><td>15.248</td></tr><tr><td>test/steps_per_second</td><td>0.956</td></tr><tr><td>total_flos</td><td>1635665992151040.0</td></tr><tr><td>train/epoch</td><td>2</td></tr><tr><td>train/global_step</td><td>94</td></tr><tr><td>train/grad_norm</td><td>27.14749</td></tr><tr><td>train/learning_rate</td><td>0.0</td></tr><tr><td>train/loss</td><td>0.8809</td></tr><tr><td>train_loss</td><td>1.27506</td></tr><tr><td>train_runtime</td><td>1045.5239</td></tr><tr><td>train_samples_per_second</td><td>2.869</td></tr><tr><td>train_steps_per_second</td><td>0.09</td></tr></table><br/></div></div>"
      ],
      "text/plain": [
       "<IPython.core.display.HTML object>"
      ]
     },
     "metadata": {},
     "output_type": "display_data"
    },
    {
     "data": {
      "text/html": [
       " View run <strong style=\"color:#cdcd00\">stack_exp_imb_exp1</strong> at: <a href='https://wandb.ai/psatyarv-the-university-of-texas-at-dallas/multilabel_emotion_gemma_2_2b/runs/68rio9a4' target=\"_blank\">https://wandb.ai/psatyarv-the-university-of-texas-at-dallas/multilabel_emotion_gemma_2_2b/runs/68rio9a4</a><br/> View project at: <a href='https://wandb.ai/psatyarv-the-university-of-texas-at-dallas/multilabel_emotion_gemma_2_2b' target=\"_blank\">https://wandb.ai/psatyarv-the-university-of-texas-at-dallas/multilabel_emotion_gemma_2_2b</a><br/>Synced 5 W&B file(s), 0 media file(s), 0 artifact file(s) and 0 other file(s)"
      ],
      "text/plain": [
       "<IPython.core.display.HTML object>"
      ]
     },
     "metadata": {},
     "output_type": "display_data"
    },
    {
     "data": {
      "text/html": [
       "Find logs at: <code>./wandb/run-20241117_190315-68rio9a4/logs</code>"
      ],
      "text/plain": [
       "<IPython.core.display.HTML object>"
      ]
     },
     "metadata": {},
     "output_type": "display_data"
    }
   ],
   "source": [
    "wandb.finish()"
   ]
  }
 ],
 "metadata": {
  "accelerator": "GPU",
  "colab": {
   "authorship_tag": "ABX9TyOC3cRsIGh+0BOYG5qxTSux",
   "gpuType": "T4",
   "provenance": []
  },
  "kernelspec": {
   "display_name": "Python 3",
   "name": "python3"
  },
  "language_info": {
   "name": "python"
  },
  "widgets": {
   "application/vnd.jupyter.widget-state+json": {
    "050a179b03924a19956f41bcfaeb2a25": {
     "model_module": "@jupyter-widgets/base",
     "model_module_version": "1.2.0",
     "model_name": "LayoutModel",
     "state": {
      "_model_module": "@jupyter-widgets/base",
      "_model_module_version": "1.2.0",
      "_model_name": "LayoutModel",
      "_view_count": null,
      "_view_module": "@jupyter-widgets/base",
      "_view_module_version": "1.2.0",
      "_view_name": "LayoutView",
      "align_content": null,
      "align_items": null,
      "align_self": null,
      "border": null,
      "bottom": null,
      "display": null,
      "flex": null,
      "flex_flow": null,
      "grid_area": null,
      "grid_auto_columns": null,
      "grid_auto_flow": null,
      "grid_auto_rows": null,
      "grid_column": null,
      "grid_gap": null,
      "grid_row": null,
      "grid_template_areas": null,
      "grid_template_columns": null,
      "grid_template_rows": null,
      "height": null,
      "justify_content": null,
      "justify_items": null,
      "left": null,
      "margin": null,
      "max_height": null,
      "max_width": null,
      "min_height": null,
      "min_width": null,
      "object_fit": null,
      "object_position": null,
      "order": null,
      "overflow": null,
      "overflow_x": null,
      "overflow_y": null,
      "padding": null,
      "right": null,
      "top": null,
      "visibility": null,
      "width": null
     }
    },
    "0b0dbe6fd4bd46398633d3640c2a395c": {
     "model_module": "@jupyter-widgets/controls",
     "model_module_version": "1.5.0",
     "model_name": "HBoxModel",
     "state": {
      "_dom_classes": [],
      "_model_module": "@jupyter-widgets/controls",
      "_model_module_version": "1.5.0",
      "_model_name": "HBoxModel",
      "_view_count": null,
      "_view_module": "@jupyter-widgets/controls",
      "_view_module_version": "1.5.0",
      "_view_name": "HBoxView",
      "box_style": "",
      "children": [
       "IPY_MODEL_2553fce930c245ff9b31b177adc5df83",
       "IPY_MODEL_7845f39de4c54941bd4f4edec605deea",
       "IPY_MODEL_529e794b548b4bb5aa2f8665f47bf7a8"
      ],
      "layout": "IPY_MODEL_eb0910b2a755438cbf7b48a131b4026b"
     }
    },
    "0c01194d59e04fb299f4918d151603c0": {
     "model_module": "@jupyter-widgets/base",
     "model_module_version": "1.2.0",
     "model_name": "LayoutModel",
     "state": {
      "_model_module": "@jupyter-widgets/base",
      "_model_module_version": "1.2.0",
      "_model_name": "LayoutModel",
      "_view_count": null,
      "_view_module": "@jupyter-widgets/base",
      "_view_module_version": "1.2.0",
      "_view_name": "LayoutView",
      "align_content": null,
      "align_items": null,
      "align_self": null,
      "border": null,
      "bottom": null,
      "display": null,
      "flex": null,
      "flex_flow": null,
      "grid_area": null,
      "grid_auto_columns": null,
      "grid_auto_flow": null,
      "grid_auto_rows": null,
      "grid_column": null,
      "grid_gap": null,
      "grid_row": null,
      "grid_template_areas": null,
      "grid_template_columns": null,
      "grid_template_rows": null,
      "height": null,
      "justify_content": null,
      "justify_items": null,
      "left": null,
      "margin": null,
      "max_height": null,
      "max_width": null,
      "min_height": null,
      "min_width": null,
      "object_fit": null,
      "object_position": null,
      "order": null,
      "overflow": null,
      "overflow_x": null,
      "overflow_y": null,
      "padding": null,
      "right": null,
      "top": null,
      "visibility": null,
      "width": null
     }
    },
    "107fd5e9d93b4a22a653e44ca013333b": {
     "model_module": "@jupyter-widgets/controls",
     "model_module_version": "1.5.0",
     "model_name": "DescriptionStyleModel",
     "state": {
      "_model_module": "@jupyter-widgets/controls",
      "_model_module_version": "1.5.0",
      "_model_name": "DescriptionStyleModel",
      "_view_count": null,
      "_view_module": "@jupyter-widgets/base",
      "_view_module_version": "1.2.0",
      "_view_name": "StyleView",
      "description_width": ""
     }
    },
    "135a1eecbfef43afb9fc016423f79bad": {
     "model_module": "@jupyter-widgets/controls",
     "model_module_version": "1.5.0",
     "model_name": "HBoxModel",
     "state": {
      "_dom_classes": [],
      "_model_module": "@jupyter-widgets/controls",
      "_model_module_version": "1.5.0",
      "_model_name": "HBoxModel",
      "_view_count": null,
      "_view_module": "@jupyter-widgets/controls",
      "_view_module_version": "1.5.0",
      "_view_name": "HBoxView",
      "box_style": "",
      "children": [
       "IPY_MODEL_437ad88fa4614487b68b80fe94184493",
       "IPY_MODEL_958bc6ede3b44d9ebac9cbba64a1815c",
       "IPY_MODEL_9c217bc3985941b1ba1ad429afdaf2c8"
      ],
      "layout": "IPY_MODEL_f200d6d416d04bca86c6a988ff7f54c6"
     }
    },
    "158a4e89200f4cb4a71af6feece4d447": {
     "model_module": "@jupyter-widgets/controls",
     "model_module_version": "1.5.0",
     "model_name": "DescriptionStyleModel",
     "state": {
      "_model_module": "@jupyter-widgets/controls",
      "_model_module_version": "1.5.0",
      "_model_name": "DescriptionStyleModel",
      "_view_count": null,
      "_view_module": "@jupyter-widgets/base",
      "_view_module_version": "1.2.0",
      "_view_name": "StyleView",
      "description_width": ""
     }
    },
    "1a55c9253afd4074bc2a00c9dd2692d1": {
     "model_module": "@jupyter-widgets/base",
     "model_module_version": "1.2.0",
     "model_name": "LayoutModel",
     "state": {
      "_model_module": "@jupyter-widgets/base",
      "_model_module_version": "1.2.0",
      "_model_name": "LayoutModel",
      "_view_count": null,
      "_view_module": "@jupyter-widgets/base",
      "_view_module_version": "1.2.0",
      "_view_name": "LayoutView",
      "align_content": null,
      "align_items": null,
      "align_self": null,
      "border": null,
      "bottom": null,
      "display": null,
      "flex": null,
      "flex_flow": null,
      "grid_area": null,
      "grid_auto_columns": null,
      "grid_auto_flow": null,
      "grid_auto_rows": null,
      "grid_column": null,
      "grid_gap": null,
      "grid_row": null,
      "grid_template_areas": null,
      "grid_template_columns": null,
      "grid_template_rows": null,
      "height": null,
      "justify_content": null,
      "justify_items": null,
      "left": null,
      "margin": null,
      "max_height": null,
      "max_width": null,
      "min_height": null,
      "min_width": null,
      "object_fit": null,
      "object_position": null,
      "order": null,
      "overflow": null,
      "overflow_x": null,
      "overflow_y": null,
      "padding": null,
      "right": null,
      "top": null,
      "visibility": null,
      "width": null
     }
    },
    "23ba50627a6c40199f585902e627b70d": {
     "model_module": "@jupyter-widgets/base",
     "model_module_version": "1.2.0",
     "model_name": "LayoutModel",
     "state": {
      "_model_module": "@jupyter-widgets/base",
      "_model_module_version": "1.2.0",
      "_model_name": "LayoutModel",
      "_view_count": null,
      "_view_module": "@jupyter-widgets/base",
      "_view_module_version": "1.2.0",
      "_view_name": "LayoutView",
      "align_content": null,
      "align_items": null,
      "align_self": null,
      "border": null,
      "bottom": null,
      "display": null,
      "flex": null,
      "flex_flow": null,
      "grid_area": null,
      "grid_auto_columns": null,
      "grid_auto_flow": null,
      "grid_auto_rows": null,
      "grid_column": null,
      "grid_gap": null,
      "grid_row": null,
      "grid_template_areas": null,
      "grid_template_columns": null,
      "grid_template_rows": null,
      "height": null,
      "justify_content": null,
      "justify_items": null,
      "left": null,
      "margin": null,
      "max_height": null,
      "max_width": null,
      "min_height": null,
      "min_width": null,
      "object_fit": null,
      "object_position": null,
      "order": null,
      "overflow": null,
      "overflow_x": null,
      "overflow_y": null,
      "padding": null,
      "right": null,
      "top": null,
      "visibility": null,
      "width": null
     }
    },
    "23f8b454e71c428bbb8b3599b607b396": {
     "model_module": "@jupyter-widgets/base",
     "model_module_version": "1.2.0",
     "model_name": "LayoutModel",
     "state": {
      "_model_module": "@jupyter-widgets/base",
      "_model_module_version": "1.2.0",
      "_model_name": "LayoutModel",
      "_view_count": null,
      "_view_module": "@jupyter-widgets/base",
      "_view_module_version": "1.2.0",
      "_view_name": "LayoutView",
      "align_content": null,
      "align_items": null,
      "align_self": null,
      "border": null,
      "bottom": null,
      "display": null,
      "flex": null,
      "flex_flow": null,
      "grid_area": null,
      "grid_auto_columns": null,
      "grid_auto_flow": null,
      "grid_auto_rows": null,
      "grid_column": null,
      "grid_gap": null,
      "grid_row": null,
      "grid_template_areas": null,
      "grid_template_columns": null,
      "grid_template_rows": null,
      "height": null,
      "justify_content": null,
      "justify_items": null,
      "left": null,
      "margin": null,
      "max_height": null,
      "max_width": null,
      "min_height": null,
      "min_width": null,
      "object_fit": null,
      "object_position": null,
      "order": null,
      "overflow": null,
      "overflow_x": null,
      "overflow_y": null,
      "padding": null,
      "right": null,
      "top": null,
      "visibility": null,
      "width": null
     }
    },
    "2553fce930c245ff9b31b177adc5df83": {
     "model_module": "@jupyter-widgets/controls",
     "model_module_version": "1.5.0",
     "model_name": "HTMLModel",
     "state": {
      "_dom_classes": [],
      "_model_module": "@jupyter-widgets/controls",
      "_model_module_version": "1.5.0",
      "_model_name": "HTMLModel",
      "_view_count": null,
      "_view_module": "@jupyter-widgets/controls",
      "_view_module_version": "1.5.0",
      "_view_name": "HTMLView",
      "description": "",
      "description_tooltip": null,
      "layout": "IPY_MODEL_34bd13a0b47f45cfb3246d6dfd3d59b3",
      "placeholder": "​",
      "style": "IPY_MODEL_7320841e23614fcf82aa2b0a100aa43a",
      "value": "Loading checkpoint shards: 100%"
     }
    },
    "3170eb17ea7b406ab3a5219eedb95adb": {
     "model_module": "@jupyter-widgets/controls",
     "model_module_version": "1.5.0",
     "model_name": "HTMLModel",
     "state": {
      "_dom_classes": [],
      "_model_module": "@jupyter-widgets/controls",
      "_model_module_version": "1.5.0",
      "_model_name": "HTMLModel",
      "_view_count": null,
      "_view_module": "@jupyter-widgets/controls",
      "_view_module_version": "1.5.0",
      "_view_name": "HTMLView",
      "description": "",
      "description_tooltip": null,
      "layout": "IPY_MODEL_23f8b454e71c428bbb8b3599b607b396",
      "placeholder": "​",
      "style": "IPY_MODEL_107fd5e9d93b4a22a653e44ca013333b",
      "value": " 1500/1500 [00:00&lt;00:00, 8215.12 examples/s]"
     }
    },
    "345b0f5362914ea7bf136992d2548962": {
     "model_module": "@jupyter-widgets/base",
     "model_module_version": "1.2.0",
     "model_name": "LayoutModel",
     "state": {
      "_model_module": "@jupyter-widgets/base",
      "_model_module_version": "1.2.0",
      "_model_name": "LayoutModel",
      "_view_count": null,
      "_view_module": "@jupyter-widgets/base",
      "_view_module_version": "1.2.0",
      "_view_name": "LayoutView",
      "align_content": null,
      "align_items": null,
      "align_self": null,
      "border": null,
      "bottom": null,
      "display": null,
      "flex": null,
      "flex_flow": null,
      "grid_area": null,
      "grid_auto_columns": null,
      "grid_auto_flow": null,
      "grid_auto_rows": null,
      "grid_column": null,
      "grid_gap": null,
      "grid_row": null,
      "grid_template_areas": null,
      "grid_template_columns": null,
      "grid_template_rows": null,
      "height": null,
      "justify_content": null,
      "justify_items": null,
      "left": null,
      "margin": null,
      "max_height": null,
      "max_width": null,
      "min_height": null,
      "min_width": null,
      "object_fit": null,
      "object_position": null,
      "order": null,
      "overflow": null,
      "overflow_x": null,
      "overflow_y": null,
      "padding": null,
      "right": null,
      "top": null,
      "visibility": null,
      "width": null
     }
    },
    "34bd13a0b47f45cfb3246d6dfd3d59b3": {
     "model_module": "@jupyter-widgets/base",
     "model_module_version": "1.2.0",
     "model_name": "LayoutModel",
     "state": {
      "_model_module": "@jupyter-widgets/base",
      "_model_module_version": "1.2.0",
      "_model_name": "LayoutModel",
      "_view_count": null,
      "_view_module": "@jupyter-widgets/base",
      "_view_module_version": "1.2.0",
      "_view_name": "LayoutView",
      "align_content": null,
      "align_items": null,
      "align_self": null,
      "border": null,
      "bottom": null,
      "display": null,
      "flex": null,
      "flex_flow": null,
      "grid_area": null,
      "grid_auto_columns": null,
      "grid_auto_flow": null,
      "grid_auto_rows": null,
      "grid_column": null,
      "grid_gap": null,
      "grid_row": null,
      "grid_template_areas": null,
      "grid_template_columns": null,
      "grid_template_rows": null,
      "height": null,
      "justify_content": null,
      "justify_items": null,
      "left": null,
      "margin": null,
      "max_height": null,
      "max_width": null,
      "min_height": null,
      "min_width": null,
      "object_fit": null,
      "object_position": null,
      "order": null,
      "overflow": null,
      "overflow_x": null,
      "overflow_y": null,
      "padding": null,
      "right": null,
      "top": null,
      "visibility": null,
      "width": null
     }
    },
    "3f98ebb439dc425cba072bcb1333b4d5": {
     "model_module": "@jupyter-widgets/controls",
     "model_module_version": "1.5.0",
     "model_name": "DescriptionStyleModel",
     "state": {
      "_model_module": "@jupyter-widgets/controls",
      "_model_module_version": "1.5.0",
      "_model_name": "DescriptionStyleModel",
      "_view_count": null,
      "_view_module": "@jupyter-widgets/base",
      "_view_module_version": "1.2.0",
      "_view_name": "StyleView",
      "description_width": ""
     }
    },
    "435ed4d0b4f6478ebe01b4a1028a4cb5": {
     "model_module": "@jupyter-widgets/controls",
     "model_module_version": "1.5.0",
     "model_name": "HTMLModel",
     "state": {
      "_dom_classes": [],
      "_model_module": "@jupyter-widgets/controls",
      "_model_module_version": "1.5.0",
      "_model_name": "HTMLModel",
      "_view_count": null,
      "_view_module": "@jupyter-widgets/controls",
      "_view_module_version": "1.5.0",
      "_view_name": "HTMLView",
      "description": "",
      "description_tooltip": null,
      "layout": "IPY_MODEL_050a179b03924a19956f41bcfaeb2a25",
      "placeholder": "​",
      "style": "IPY_MODEL_a7ae6356490d47329c7f475b7260d715",
      "value": "Map: 100%"
     }
    },
    "437ad88fa4614487b68b80fe94184493": {
     "model_module": "@jupyter-widgets/controls",
     "model_module_version": "1.5.0",
     "model_name": "HTMLModel",
     "state": {
      "_dom_classes": [],
      "_model_module": "@jupyter-widgets/controls",
      "_model_module_version": "1.5.0",
      "_model_name": "HTMLModel",
      "_view_count": null,
      "_view_module": "@jupyter-widgets/controls",
      "_view_module_version": "1.5.0",
      "_view_name": "HTMLView",
      "description": "",
      "description_tooltip": null,
      "layout": "IPY_MODEL_1a55c9253afd4074bc2a00c9dd2692d1",
      "placeholder": "​",
      "style": "IPY_MODEL_7b18107c6e3347f7978f25ca8553006b",
      "value": "Map: 100%"
     }
    },
    "45a888aafd7d464a99c4fc1ddece6bea": {
     "model_module": "@jupyter-widgets/controls",
     "model_module_version": "1.5.0",
     "model_name": "DescriptionStyleModel",
     "state": {
      "_model_module": "@jupyter-widgets/controls",
      "_model_module_version": "1.5.0",
      "_model_name": "DescriptionStyleModel",
      "_view_count": null,
      "_view_module": "@jupyter-widgets/base",
      "_view_module_version": "1.2.0",
      "_view_name": "StyleView",
      "description_width": ""
     }
    },
    "4a98561e187e423dbc14854db77d47c4": {
     "model_module": "@jupyter-widgets/controls",
     "model_module_version": "1.5.0",
     "model_name": "FloatProgressModel",
     "state": {
      "_dom_classes": [],
      "_model_module": "@jupyter-widgets/controls",
      "_model_module_version": "1.5.0",
      "_model_name": "FloatProgressModel",
      "_view_count": null,
      "_view_module": "@jupyter-widgets/controls",
      "_view_module_version": "1.5.0",
      "_view_name": "ProgressView",
      "bar_style": "success",
      "description": "",
      "description_tooltip": null,
      "layout": "IPY_MODEL_ba353c15234548adb2c2fc0aa05b151b",
      "max": 1500,
      "min": 0,
      "orientation": "horizontal",
      "style": "IPY_MODEL_bf23dec755bb418ab998492ab0078672",
      "value": 1500
     }
    },
    "4d452b8b5d754dfe9bbac5dcc93e57c5": {
     "model_module": "@jupyter-widgets/base",
     "model_module_version": "1.2.0",
     "model_name": "LayoutModel",
     "state": {
      "_model_module": "@jupyter-widgets/base",
      "_model_module_version": "1.2.0",
      "_model_name": "LayoutModel",
      "_view_count": null,
      "_view_module": "@jupyter-widgets/base",
      "_view_module_version": "1.2.0",
      "_view_name": "LayoutView",
      "align_content": null,
      "align_items": null,
      "align_self": null,
      "border": null,
      "bottom": null,
      "display": null,
      "flex": null,
      "flex_flow": null,
      "grid_area": null,
      "grid_auto_columns": null,
      "grid_auto_flow": null,
      "grid_auto_rows": null,
      "grid_column": null,
      "grid_gap": null,
      "grid_row": null,
      "grid_template_areas": null,
      "grid_template_columns": null,
      "grid_template_rows": null,
      "height": null,
      "justify_content": null,
      "justify_items": null,
      "left": null,
      "margin": null,
      "max_height": null,
      "max_width": null,
      "min_height": null,
      "min_width": null,
      "object_fit": null,
      "object_position": null,
      "order": null,
      "overflow": null,
      "overflow_x": null,
      "overflow_y": null,
      "padding": null,
      "right": null,
      "top": null,
      "visibility": null,
      "width": null
     }
    },
    "50c456bc100c4310925e34ad5129e15d": {
     "model_module": "@jupyter-widgets/controls",
     "model_module_version": "1.5.0",
     "model_name": "DescriptionStyleModel",
     "state": {
      "_model_module": "@jupyter-widgets/controls",
      "_model_module_version": "1.5.0",
      "_model_name": "DescriptionStyleModel",
      "_view_count": null,
      "_view_module": "@jupyter-widgets/base",
      "_view_module_version": "1.2.0",
      "_view_name": "StyleView",
      "description_width": ""
     }
    },
    "529e794b548b4bb5aa2f8665f47bf7a8": {
     "model_module": "@jupyter-widgets/controls",
     "model_module_version": "1.5.0",
     "model_name": "HTMLModel",
     "state": {
      "_dom_classes": [],
      "_model_module": "@jupyter-widgets/controls",
      "_model_module_version": "1.5.0",
      "_model_name": "HTMLModel",
      "_view_count": null,
      "_view_module": "@jupyter-widgets/controls",
      "_view_module_version": "1.5.0",
      "_view_name": "HTMLView",
      "description": "",
      "description_tooltip": null,
      "layout": "IPY_MODEL_f59ac46fe8f14ba59ea85d28076b7cdd",
      "placeholder": "​",
      "style": "IPY_MODEL_3f98ebb439dc425cba072bcb1333b4d5",
      "value": " 3/3 [00:51&lt;00:00, 14.22s/it]"
     }
    },
    "52a3b7fff751478e92d0e62286020e0d": {
     "model_module": "@jupyter-widgets/controls",
     "model_module_version": "1.5.0",
     "model_name": "HBoxModel",
     "state": {
      "_dom_classes": [],
      "_model_module": "@jupyter-widgets/controls",
      "_model_module_version": "1.5.0",
      "_model_name": "HBoxModel",
      "_view_count": null,
      "_view_module": "@jupyter-widgets/controls",
      "_view_module_version": "1.5.0",
      "_view_name": "HBoxView",
      "box_style": "",
      "children": [
       "IPY_MODEL_c3591798ef2841fcbf91a3ea46b4a42e",
       "IPY_MODEL_4a98561e187e423dbc14854db77d47c4",
       "IPY_MODEL_b8e776bb7b664502bfa0e0bccfd5bb40"
      ],
      "layout": "IPY_MODEL_5e954f460f334302bba325794e54b9f0"
     }
    },
    "5e954f460f334302bba325794e54b9f0": {
     "model_module": "@jupyter-widgets/base",
     "model_module_version": "1.2.0",
     "model_name": "LayoutModel",
     "state": {
      "_model_module": "@jupyter-widgets/base",
      "_model_module_version": "1.2.0",
      "_model_name": "LayoutModel",
      "_view_count": null,
      "_view_module": "@jupyter-widgets/base",
      "_view_module_version": "1.2.0",
      "_view_name": "LayoutView",
      "align_content": null,
      "align_items": null,
      "align_self": null,
      "border": null,
      "bottom": null,
      "display": null,
      "flex": null,
      "flex_flow": null,
      "grid_area": null,
      "grid_auto_columns": null,
      "grid_auto_flow": null,
      "grid_auto_rows": null,
      "grid_column": null,
      "grid_gap": null,
      "grid_row": null,
      "grid_template_areas": null,
      "grid_template_columns": null,
      "grid_template_rows": null,
      "height": null,
      "justify_content": null,
      "justify_items": null,
      "left": null,
      "margin": null,
      "max_height": null,
      "max_width": null,
      "min_height": null,
      "min_width": null,
      "object_fit": null,
      "object_position": null,
      "order": null,
      "overflow": null,
      "overflow_x": null,
      "overflow_y": null,
      "padding": null,
      "right": null,
      "top": null,
      "visibility": null,
      "width": null
     }
    },
    "68855ba9da924b499f90428963908172": {
     "model_module": "@jupyter-widgets/base",
     "model_module_version": "1.2.0",
     "model_name": "LayoutModel",
     "state": {
      "_model_module": "@jupyter-widgets/base",
      "_model_module_version": "1.2.0",
      "_model_name": "LayoutModel",
      "_view_count": null,
      "_view_module": "@jupyter-widgets/base",
      "_view_module_version": "1.2.0",
      "_view_name": "LayoutView",
      "align_content": null,
      "align_items": null,
      "align_self": null,
      "border": null,
      "bottom": null,
      "display": null,
      "flex": null,
      "flex_flow": null,
      "grid_area": null,
      "grid_auto_columns": null,
      "grid_auto_flow": null,
      "grid_auto_rows": null,
      "grid_column": null,
      "grid_gap": null,
      "grid_row": null,
      "grid_template_areas": null,
      "grid_template_columns": null,
      "grid_template_rows": null,
      "height": null,
      "justify_content": null,
      "justify_items": null,
      "left": null,
      "margin": null,
      "max_height": null,
      "max_width": null,
      "min_height": null,
      "min_width": null,
      "object_fit": null,
      "object_position": null,
      "order": null,
      "overflow": null,
      "overflow_x": null,
      "overflow_y": null,
      "padding": null,
      "right": null,
      "top": null,
      "visibility": null,
      "width": null
     }
    },
    "6d7b1706846946c286e7abe15ef9d1c8": {
     "model_module": "@jupyter-widgets/controls",
     "model_module_version": "1.5.0",
     "model_name": "ProgressStyleModel",
     "state": {
      "_model_module": "@jupyter-widgets/controls",
      "_model_module_version": "1.5.0",
      "_model_name": "ProgressStyleModel",
      "_view_count": null,
      "_view_module": "@jupyter-widgets/base",
      "_view_module_version": "1.2.0",
      "_view_name": "StyleView",
      "bar_color": null,
      "description_width": ""
     }
    },
    "70ea3a4fd6054870813f118105aa1bd2": {
     "model_module": "@jupyter-widgets/controls",
     "model_module_version": "1.5.0",
     "model_name": "FloatProgressModel",
     "state": {
      "_dom_classes": [],
      "_model_module": "@jupyter-widgets/controls",
      "_model_module_version": "1.5.0",
      "_model_name": "FloatProgressModel",
      "_view_count": null,
      "_view_module": "@jupyter-widgets/controls",
      "_view_module_version": "1.5.0",
      "_view_name": "ProgressView",
      "bar_style": "success",
      "description": "",
      "description_tooltip": null,
      "layout": "IPY_MODEL_c7bee1bad42b49d49771d0b42e6825c4",
      "max": 1500,
      "min": 0,
      "orientation": "horizontal",
      "style": "IPY_MODEL_908f64f3571745df8e4de3e2a0a96164",
      "value": 1500
     }
    },
    "7320841e23614fcf82aa2b0a100aa43a": {
     "model_module": "@jupyter-widgets/controls",
     "model_module_version": "1.5.0",
     "model_name": "DescriptionStyleModel",
     "state": {
      "_model_module": "@jupyter-widgets/controls",
      "_model_module_version": "1.5.0",
      "_model_name": "DescriptionStyleModel",
      "_view_count": null,
      "_view_module": "@jupyter-widgets/base",
      "_view_module_version": "1.2.0",
      "_view_name": "StyleView",
      "description_width": ""
     }
    },
    "744bf10e3a654b57a0abbc3e6b0d7361": {
     "model_module": "@jupyter-widgets/controls",
     "model_module_version": "1.5.0",
     "model_name": "HBoxModel",
     "state": {
      "_dom_classes": [],
      "_model_module": "@jupyter-widgets/controls",
      "_model_module_version": "1.5.0",
      "_model_name": "HBoxModel",
      "_view_count": null,
      "_view_module": "@jupyter-widgets/controls",
      "_view_module_version": "1.5.0",
      "_view_name": "HBoxView",
      "box_style": "",
      "children": [
       "IPY_MODEL_df03c9a2d4224139b5b301032efc7dc7",
       "IPY_MODEL_b0b234d969ec4f4db4e468fbeaf781e3",
       "IPY_MODEL_3170eb17ea7b406ab3a5219eedb95adb"
      ],
      "layout": "IPY_MODEL_4d452b8b5d754dfe9bbac5dcc93e57c5"
     }
    },
    "7845f39de4c54941bd4f4edec605deea": {
     "model_module": "@jupyter-widgets/controls",
     "model_module_version": "1.5.0",
     "model_name": "FloatProgressModel",
     "state": {
      "_dom_classes": [],
      "_model_module": "@jupyter-widgets/controls",
      "_model_module_version": "1.5.0",
      "_model_name": "FloatProgressModel",
      "_view_count": null,
      "_view_module": "@jupyter-widgets/controls",
      "_view_module_version": "1.5.0",
      "_view_name": "ProgressView",
      "bar_style": "success",
      "description": "",
      "description_tooltip": null,
      "layout": "IPY_MODEL_7904cc6005344d41a5229245af3d9f91",
      "max": 3,
      "min": 0,
      "orientation": "horizontal",
      "style": "IPY_MODEL_f3ccef5206304eb6ad7473b5565f59f5",
      "value": 3
     }
    },
    "7904cc6005344d41a5229245af3d9f91": {
     "model_module": "@jupyter-widgets/base",
     "model_module_version": "1.2.0",
     "model_name": "LayoutModel",
     "state": {
      "_model_module": "@jupyter-widgets/base",
      "_model_module_version": "1.2.0",
      "_model_name": "LayoutModel",
      "_view_count": null,
      "_view_module": "@jupyter-widgets/base",
      "_view_module_version": "1.2.0",
      "_view_name": "LayoutView",
      "align_content": null,
      "align_items": null,
      "align_self": null,
      "border": null,
      "bottom": null,
      "display": null,
      "flex": null,
      "flex_flow": null,
      "grid_area": null,
      "grid_auto_columns": null,
      "grid_auto_flow": null,
      "grid_auto_rows": null,
      "grid_column": null,
      "grid_gap": null,
      "grid_row": null,
      "grid_template_areas": null,
      "grid_template_columns": null,
      "grid_template_rows": null,
      "height": null,
      "justify_content": null,
      "justify_items": null,
      "left": null,
      "margin": null,
      "max_height": null,
      "max_width": null,
      "min_height": null,
      "min_width": null,
      "object_fit": null,
      "object_position": null,
      "order": null,
      "overflow": null,
      "overflow_x": null,
      "overflow_y": null,
      "padding": null,
      "right": null,
      "top": null,
      "visibility": null,
      "width": null
     }
    },
    "7a7bb86b184e4a75b64ae1a4ae9feaf7": {
     "model_module": "@jupyter-widgets/controls",
     "model_module_version": "1.5.0",
     "model_name": "DescriptionStyleModel",
     "state": {
      "_model_module": "@jupyter-widgets/controls",
      "_model_module_version": "1.5.0",
      "_model_name": "DescriptionStyleModel",
      "_view_count": null,
      "_view_module": "@jupyter-widgets/base",
      "_view_module_version": "1.2.0",
      "_view_name": "StyleView",
      "description_width": ""
     }
    },
    "7b18107c6e3347f7978f25ca8553006b": {
     "model_module": "@jupyter-widgets/controls",
     "model_module_version": "1.5.0",
     "model_name": "DescriptionStyleModel",
     "state": {
      "_model_module": "@jupyter-widgets/controls",
      "_model_module_version": "1.5.0",
      "_model_name": "DescriptionStyleModel",
      "_view_count": null,
      "_view_module": "@jupyter-widgets/base",
      "_view_module_version": "1.2.0",
      "_view_name": "StyleView",
      "description_width": ""
     }
    },
    "8dc44b7e465e4342ab6b8c033c4626a4": {
     "model_module": "@jupyter-widgets/controls",
     "model_module_version": "1.5.0",
     "model_name": "DescriptionStyleModel",
     "state": {
      "_model_module": "@jupyter-widgets/controls",
      "_model_module_version": "1.5.0",
      "_model_name": "DescriptionStyleModel",
      "_view_count": null,
      "_view_module": "@jupyter-widgets/base",
      "_view_module_version": "1.2.0",
      "_view_name": "StyleView",
      "description_width": ""
     }
    },
    "905d1b39d65d4f3dacd2b38f8f8e4873": {
     "model_module": "@jupyter-widgets/base",
     "model_module_version": "1.2.0",
     "model_name": "LayoutModel",
     "state": {
      "_model_module": "@jupyter-widgets/base",
      "_model_module_version": "1.2.0",
      "_model_name": "LayoutModel",
      "_view_count": null,
      "_view_module": "@jupyter-widgets/base",
      "_view_module_version": "1.2.0",
      "_view_name": "LayoutView",
      "align_content": null,
      "align_items": null,
      "align_self": null,
      "border": null,
      "bottom": null,
      "display": null,
      "flex": null,
      "flex_flow": null,
      "grid_area": null,
      "grid_auto_columns": null,
      "grid_auto_flow": null,
      "grid_auto_rows": null,
      "grid_column": null,
      "grid_gap": null,
      "grid_row": null,
      "grid_template_areas": null,
      "grid_template_columns": null,
      "grid_template_rows": null,
      "height": null,
      "justify_content": null,
      "justify_items": null,
      "left": null,
      "margin": null,
      "max_height": null,
      "max_width": null,
      "min_height": null,
      "min_width": null,
      "object_fit": null,
      "object_position": null,
      "order": null,
      "overflow": null,
      "overflow_x": null,
      "overflow_y": null,
      "padding": null,
      "right": null,
      "top": null,
      "visibility": null,
      "width": null
     }
    },
    "908f64f3571745df8e4de3e2a0a96164": {
     "model_module": "@jupyter-widgets/controls",
     "model_module_version": "1.5.0",
     "model_name": "ProgressStyleModel",
     "state": {
      "_model_module": "@jupyter-widgets/controls",
      "_model_module_version": "1.5.0",
      "_model_name": "ProgressStyleModel",
      "_view_count": null,
      "_view_module": "@jupyter-widgets/base",
      "_view_module_version": "1.2.0",
      "_view_name": "StyleView",
      "bar_color": null,
      "description_width": ""
     }
    },
    "958bc6ede3b44d9ebac9cbba64a1815c": {
     "model_module": "@jupyter-widgets/controls",
     "model_module_version": "1.5.0",
     "model_name": "FloatProgressModel",
     "state": {
      "_dom_classes": [],
      "_model_module": "@jupyter-widgets/controls",
      "_model_module_version": "1.5.0",
      "_model_name": "FloatProgressModel",
      "_view_count": null,
      "_view_module": "@jupyter-widgets/controls",
      "_view_module_version": "1.5.0",
      "_view_name": "ProgressView",
      "bar_style": "success",
      "description": "",
      "description_tooltip": null,
      "layout": "IPY_MODEL_0c01194d59e04fb299f4918d151603c0",
      "max": 1500,
      "min": 0,
      "orientation": "horizontal",
      "style": "IPY_MODEL_d3e65d5e988641ef86af6f16aa98e8aa",
      "value": 1500
     }
    },
    "9c217bc3985941b1ba1ad429afdaf2c8": {
     "model_module": "@jupyter-widgets/controls",
     "model_module_version": "1.5.0",
     "model_name": "HTMLModel",
     "state": {
      "_dom_classes": [],
      "_model_module": "@jupyter-widgets/controls",
      "_model_module_version": "1.5.0",
      "_model_name": "HTMLModel",
      "_view_count": null,
      "_view_module": "@jupyter-widgets/controls",
      "_view_module_version": "1.5.0",
      "_view_name": "HTMLView",
      "description": "",
      "description_tooltip": null,
      "layout": "IPY_MODEL_f769d307d10a46d5a1fe40ffca9e13da",
      "placeholder": "​",
      "style": "IPY_MODEL_7a7bb86b184e4a75b64ae1a4ae9feaf7",
      "value": " 1500/1500 [00:00&lt;00:00, 1988.25 examples/s]"
     }
    },
    "a7ae6356490d47329c7f475b7260d715": {
     "model_module": "@jupyter-widgets/controls",
     "model_module_version": "1.5.0",
     "model_name": "DescriptionStyleModel",
     "state": {
      "_model_module": "@jupyter-widgets/controls",
      "_model_module_version": "1.5.0",
      "_model_name": "DescriptionStyleModel",
      "_view_count": null,
      "_view_module": "@jupyter-widgets/base",
      "_view_module_version": "1.2.0",
      "_view_name": "StyleView",
      "description_width": ""
     }
    },
    "b0b234d969ec4f4db4e468fbeaf781e3": {
     "model_module": "@jupyter-widgets/controls",
     "model_module_version": "1.5.0",
     "model_name": "FloatProgressModel",
     "state": {
      "_dom_classes": [],
      "_model_module": "@jupyter-widgets/controls",
      "_model_module_version": "1.5.0",
      "_model_name": "FloatProgressModel",
      "_view_count": null,
      "_view_module": "@jupyter-widgets/controls",
      "_view_module_version": "1.5.0",
      "_view_name": "ProgressView",
      "bar_style": "success",
      "description": "",
      "description_tooltip": null,
      "layout": "IPY_MODEL_dc3bfeb3ad11422f9f30095bff53d81d",
      "max": 1500,
      "min": 0,
      "orientation": "horizontal",
      "style": "IPY_MODEL_6d7b1706846946c286e7abe15ef9d1c8",
      "value": 1500
     }
    },
    "b8e776bb7b664502bfa0e0bccfd5bb40": {
     "model_module": "@jupyter-widgets/controls",
     "model_module_version": "1.5.0",
     "model_name": "HTMLModel",
     "state": {
      "_dom_classes": [],
      "_model_module": "@jupyter-widgets/controls",
      "_model_module_version": "1.5.0",
      "_model_name": "HTMLModel",
      "_view_count": null,
      "_view_module": "@jupyter-widgets/controls",
      "_view_module_version": "1.5.0",
      "_view_name": "HTMLView",
      "description": "",
      "description_tooltip": null,
      "layout": "IPY_MODEL_345b0f5362914ea7bf136992d2548962",
      "placeholder": "​",
      "style": "IPY_MODEL_50c456bc100c4310925e34ad5129e15d",
      "value": " 1500/1500 [00:00&lt;00:00, 8672.67 examples/s]"
     }
    },
    "ba353c15234548adb2c2fc0aa05b151b": {
     "model_module": "@jupyter-widgets/base",
     "model_module_version": "1.2.0",
     "model_name": "LayoutModel",
     "state": {
      "_model_module": "@jupyter-widgets/base",
      "_model_module_version": "1.2.0",
      "_model_name": "LayoutModel",
      "_view_count": null,
      "_view_module": "@jupyter-widgets/base",
      "_view_module_version": "1.2.0",
      "_view_name": "LayoutView",
      "align_content": null,
      "align_items": null,
      "align_self": null,
      "border": null,
      "bottom": null,
      "display": null,
      "flex": null,
      "flex_flow": null,
      "grid_area": null,
      "grid_auto_columns": null,
      "grid_auto_flow": null,
      "grid_auto_rows": null,
      "grid_column": null,
      "grid_gap": null,
      "grid_row": null,
      "grid_template_areas": null,
      "grid_template_columns": null,
      "grid_template_rows": null,
      "height": null,
      "justify_content": null,
      "justify_items": null,
      "left": null,
      "margin": null,
      "max_height": null,
      "max_width": null,
      "min_height": null,
      "min_width": null,
      "object_fit": null,
      "object_position": null,
      "order": null,
      "overflow": null,
      "overflow_x": null,
      "overflow_y": null,
      "padding": null,
      "right": null,
      "top": null,
      "visibility": null,
      "width": null
     }
    },
    "bf23dec755bb418ab998492ab0078672": {
     "model_module": "@jupyter-widgets/controls",
     "model_module_version": "1.5.0",
     "model_name": "ProgressStyleModel",
     "state": {
      "_model_module": "@jupyter-widgets/controls",
      "_model_module_version": "1.5.0",
      "_model_name": "ProgressStyleModel",
      "_view_count": null,
      "_view_module": "@jupyter-widgets/base",
      "_view_module_version": "1.2.0",
      "_view_name": "StyleView",
      "bar_color": null,
      "description_width": ""
     }
    },
    "c3591798ef2841fcbf91a3ea46b4a42e": {
     "model_module": "@jupyter-widgets/controls",
     "model_module_version": "1.5.0",
     "model_name": "HTMLModel",
     "state": {
      "_dom_classes": [],
      "_model_module": "@jupyter-widgets/controls",
      "_model_module_version": "1.5.0",
      "_model_name": "HTMLModel",
      "_view_count": null,
      "_view_module": "@jupyter-widgets/controls",
      "_view_module_version": "1.5.0",
      "_view_name": "HTMLView",
      "description": "",
      "description_tooltip": null,
      "layout": "IPY_MODEL_68855ba9da924b499f90428963908172",
      "placeholder": "​",
      "style": "IPY_MODEL_45a888aafd7d464a99c4fc1ddece6bea",
      "value": "Map: 100%"
     }
    },
    "c7bee1bad42b49d49771d0b42e6825c4": {
     "model_module": "@jupyter-widgets/base",
     "model_module_version": "1.2.0",
     "model_name": "LayoutModel",
     "state": {
      "_model_module": "@jupyter-widgets/base",
      "_model_module_version": "1.2.0",
      "_model_name": "LayoutModel",
      "_view_count": null,
      "_view_module": "@jupyter-widgets/base",
      "_view_module_version": "1.2.0",
      "_view_name": "LayoutView",
      "align_content": null,
      "align_items": null,
      "align_self": null,
      "border": null,
      "bottom": null,
      "display": null,
      "flex": null,
      "flex_flow": null,
      "grid_area": null,
      "grid_auto_columns": null,
      "grid_auto_flow": null,
      "grid_auto_rows": null,
      "grid_column": null,
      "grid_gap": null,
      "grid_row": null,
      "grid_template_areas": null,
      "grid_template_columns": null,
      "grid_template_rows": null,
      "height": null,
      "justify_content": null,
      "justify_items": null,
      "left": null,
      "margin": null,
      "max_height": null,
      "max_width": null,
      "min_height": null,
      "min_width": null,
      "object_fit": null,
      "object_position": null,
      "order": null,
      "overflow": null,
      "overflow_x": null,
      "overflow_y": null,
      "padding": null,
      "right": null,
      "top": null,
      "visibility": null,
      "width": null
     }
    },
    "d3e65d5e988641ef86af6f16aa98e8aa": {
     "model_module": "@jupyter-widgets/controls",
     "model_module_version": "1.5.0",
     "model_name": "ProgressStyleModel",
     "state": {
      "_model_module": "@jupyter-widgets/controls",
      "_model_module_version": "1.5.0",
      "_model_name": "ProgressStyleModel",
      "_view_count": null,
      "_view_module": "@jupyter-widgets/base",
      "_view_module_version": "1.2.0",
      "_view_name": "StyleView",
      "bar_color": null,
      "description_width": ""
     }
    },
    "dc3bfeb3ad11422f9f30095bff53d81d": {
     "model_module": "@jupyter-widgets/base",
     "model_module_version": "1.2.0",
     "model_name": "LayoutModel",
     "state": {
      "_model_module": "@jupyter-widgets/base",
      "_model_module_version": "1.2.0",
      "_model_name": "LayoutModel",
      "_view_count": null,
      "_view_module": "@jupyter-widgets/base",
      "_view_module_version": "1.2.0",
      "_view_name": "LayoutView",
      "align_content": null,
      "align_items": null,
      "align_self": null,
      "border": null,
      "bottom": null,
      "display": null,
      "flex": null,
      "flex_flow": null,
      "grid_area": null,
      "grid_auto_columns": null,
      "grid_auto_flow": null,
      "grid_auto_rows": null,
      "grid_column": null,
      "grid_gap": null,
      "grid_row": null,
      "grid_template_areas": null,
      "grid_template_columns": null,
      "grid_template_rows": null,
      "height": null,
      "justify_content": null,
      "justify_items": null,
      "left": null,
      "margin": null,
      "max_height": null,
      "max_width": null,
      "min_height": null,
      "min_width": null,
      "object_fit": null,
      "object_position": null,
      "order": null,
      "overflow": null,
      "overflow_x": null,
      "overflow_y": null,
      "padding": null,
      "right": null,
      "top": null,
      "visibility": null,
      "width": null
     }
    },
    "df03c9a2d4224139b5b301032efc7dc7": {
     "model_module": "@jupyter-widgets/controls",
     "model_module_version": "1.5.0",
     "model_name": "HTMLModel",
     "state": {
      "_dom_classes": [],
      "_model_module": "@jupyter-widgets/controls",
      "_model_module_version": "1.5.0",
      "_model_name": "HTMLModel",
      "_view_count": null,
      "_view_module": "@jupyter-widgets/controls",
      "_view_module_version": "1.5.0",
      "_view_name": "HTMLView",
      "description": "",
      "description_tooltip": null,
      "layout": "IPY_MODEL_905d1b39d65d4f3dacd2b38f8f8e4873",
      "placeholder": "​",
      "style": "IPY_MODEL_158a4e89200f4cb4a71af6feece4d447",
      "value": "Map: 100%"
     }
    },
    "eb0910b2a755438cbf7b48a131b4026b": {
     "model_module": "@jupyter-widgets/base",
     "model_module_version": "1.2.0",
     "model_name": "LayoutModel",
     "state": {
      "_model_module": "@jupyter-widgets/base",
      "_model_module_version": "1.2.0",
      "_model_name": "LayoutModel",
      "_view_count": null,
      "_view_module": "@jupyter-widgets/base",
      "_view_module_version": "1.2.0",
      "_view_name": "LayoutView",
      "align_content": null,
      "align_items": null,
      "align_self": null,
      "border": null,
      "bottom": null,
      "display": null,
      "flex": null,
      "flex_flow": null,
      "grid_area": null,
      "grid_auto_columns": null,
      "grid_auto_flow": null,
      "grid_auto_rows": null,
      "grid_column": null,
      "grid_gap": null,
      "grid_row": null,
      "grid_template_areas": null,
      "grid_template_columns": null,
      "grid_template_rows": null,
      "height": null,
      "justify_content": null,
      "justify_items": null,
      "left": null,
      "margin": null,
      "max_height": null,
      "max_width": null,
      "min_height": null,
      "min_width": null,
      "object_fit": null,
      "object_position": null,
      "order": null,
      "overflow": null,
      "overflow_x": null,
      "overflow_y": null,
      "padding": null,
      "right": null,
      "top": null,
      "visibility": null,
      "width": null
     }
    },
    "ef545751d5d34108823de132d32b22f7": {
     "model_module": "@jupyter-widgets/controls",
     "model_module_version": "1.5.0",
     "model_name": "HTMLModel",
     "state": {
      "_dom_classes": [],
      "_model_module": "@jupyter-widgets/controls",
      "_model_module_version": "1.5.0",
      "_model_name": "HTMLModel",
      "_view_count": null,
      "_view_module": "@jupyter-widgets/controls",
      "_view_module_version": "1.5.0",
      "_view_name": "HTMLView",
      "description": "",
      "description_tooltip": null,
      "layout": "IPY_MODEL_efd63749a66f4671adb949b7dbd5cc5c",
      "placeholder": "​",
      "style": "IPY_MODEL_8dc44b7e465e4342ab6b8c033c4626a4",
      "value": " 1500/1500 [00:00&lt;00:00, 2292.76 examples/s]"
     }
    },
    "efd63749a66f4671adb949b7dbd5cc5c": {
     "model_module": "@jupyter-widgets/base",
     "model_module_version": "1.2.0",
     "model_name": "LayoutModel",
     "state": {
      "_model_module": "@jupyter-widgets/base",
      "_model_module_version": "1.2.0",
      "_model_name": "LayoutModel",
      "_view_count": null,
      "_view_module": "@jupyter-widgets/base",
      "_view_module_version": "1.2.0",
      "_view_name": "LayoutView",
      "align_content": null,
      "align_items": null,
      "align_self": null,
      "border": null,
      "bottom": null,
      "display": null,
      "flex": null,
      "flex_flow": null,
      "grid_area": null,
      "grid_auto_columns": null,
      "grid_auto_flow": null,
      "grid_auto_rows": null,
      "grid_column": null,
      "grid_gap": null,
      "grid_row": null,
      "grid_template_areas": null,
      "grid_template_columns": null,
      "grid_template_rows": null,
      "height": null,
      "justify_content": null,
      "justify_items": null,
      "left": null,
      "margin": null,
      "max_height": null,
      "max_width": null,
      "min_height": null,
      "min_width": null,
      "object_fit": null,
      "object_position": null,
      "order": null,
      "overflow": null,
      "overflow_x": null,
      "overflow_y": null,
      "padding": null,
      "right": null,
      "top": null,
      "visibility": null,
      "width": null
     }
    },
    "f040891b678d40f4a7a222b7c020ac8d": {
     "model_module": "@jupyter-widgets/controls",
     "model_module_version": "1.5.0",
     "model_name": "HBoxModel",
     "state": {
      "_dom_classes": [],
      "_model_module": "@jupyter-widgets/controls",
      "_model_module_version": "1.5.0",
      "_model_name": "HBoxModel",
      "_view_count": null,
      "_view_module": "@jupyter-widgets/controls",
      "_view_module_version": "1.5.0",
      "_view_name": "HBoxView",
      "box_style": "",
      "children": [
       "IPY_MODEL_435ed4d0b4f6478ebe01b4a1028a4cb5",
       "IPY_MODEL_70ea3a4fd6054870813f118105aa1bd2",
       "IPY_MODEL_ef545751d5d34108823de132d32b22f7"
      ],
      "layout": "IPY_MODEL_23ba50627a6c40199f585902e627b70d"
     }
    },
    "f200d6d416d04bca86c6a988ff7f54c6": {
     "model_module": "@jupyter-widgets/base",
     "model_module_version": "1.2.0",
     "model_name": "LayoutModel",
     "state": {
      "_model_module": "@jupyter-widgets/base",
      "_model_module_version": "1.2.0",
      "_model_name": "LayoutModel",
      "_view_count": null,
      "_view_module": "@jupyter-widgets/base",
      "_view_module_version": "1.2.0",
      "_view_name": "LayoutView",
      "align_content": null,
      "align_items": null,
      "align_self": null,
      "border": null,
      "bottom": null,
      "display": null,
      "flex": null,
      "flex_flow": null,
      "grid_area": null,
      "grid_auto_columns": null,
      "grid_auto_flow": null,
      "grid_auto_rows": null,
      "grid_column": null,
      "grid_gap": null,
      "grid_row": null,
      "grid_template_areas": null,
      "grid_template_columns": null,
      "grid_template_rows": null,
      "height": null,
      "justify_content": null,
      "justify_items": null,
      "left": null,
      "margin": null,
      "max_height": null,
      "max_width": null,
      "min_height": null,
      "min_width": null,
      "object_fit": null,
      "object_position": null,
      "order": null,
      "overflow": null,
      "overflow_x": null,
      "overflow_y": null,
      "padding": null,
      "right": null,
      "top": null,
      "visibility": null,
      "width": null
     }
    },
    "f3ccef5206304eb6ad7473b5565f59f5": {
     "model_module": "@jupyter-widgets/controls",
     "model_module_version": "1.5.0",
     "model_name": "ProgressStyleModel",
     "state": {
      "_model_module": "@jupyter-widgets/controls",
      "_model_module_version": "1.5.0",
      "_model_name": "ProgressStyleModel",
      "_view_count": null,
      "_view_module": "@jupyter-widgets/base",
      "_view_module_version": "1.2.0",
      "_view_name": "StyleView",
      "bar_color": null,
      "description_width": ""
     }
    },
    "f59ac46fe8f14ba59ea85d28076b7cdd": {
     "model_module": "@jupyter-widgets/base",
     "model_module_version": "1.2.0",
     "model_name": "LayoutModel",
     "state": {
      "_model_module": "@jupyter-widgets/base",
      "_model_module_version": "1.2.0",
      "_model_name": "LayoutModel",
      "_view_count": null,
      "_view_module": "@jupyter-widgets/base",
      "_view_module_version": "1.2.0",
      "_view_name": "LayoutView",
      "align_content": null,
      "align_items": null,
      "align_self": null,
      "border": null,
      "bottom": null,
      "display": null,
      "flex": null,
      "flex_flow": null,
      "grid_area": null,
      "grid_auto_columns": null,
      "grid_auto_flow": null,
      "grid_auto_rows": null,
      "grid_column": null,
      "grid_gap": null,
      "grid_row": null,
      "grid_template_areas": null,
      "grid_template_columns": null,
      "grid_template_rows": null,
      "height": null,
      "justify_content": null,
      "justify_items": null,
      "left": null,
      "margin": null,
      "max_height": null,
      "max_width": null,
      "min_height": null,
      "min_width": null,
      "object_fit": null,
      "object_position": null,
      "order": null,
      "overflow": null,
      "overflow_x": null,
      "overflow_y": null,
      "padding": null,
      "right": null,
      "top": null,
      "visibility": null,
      "width": null
     }
    },
    "f769d307d10a46d5a1fe40ffca9e13da": {
     "model_module": "@jupyter-widgets/base",
     "model_module_version": "1.2.0",
     "model_name": "LayoutModel",
     "state": {
      "_model_module": "@jupyter-widgets/base",
      "_model_module_version": "1.2.0",
      "_model_name": "LayoutModel",
      "_view_count": null,
      "_view_module": "@jupyter-widgets/base",
      "_view_module_version": "1.2.0",
      "_view_name": "LayoutView",
      "align_content": null,
      "align_items": null,
      "align_self": null,
      "border": null,
      "bottom": null,
      "display": null,
      "flex": null,
      "flex_flow": null,
      "grid_area": null,
      "grid_auto_columns": null,
      "grid_auto_flow": null,
      "grid_auto_rows": null,
      "grid_column": null,
      "grid_gap": null,
      "grid_row": null,
      "grid_template_areas": null,
      "grid_template_columns": null,
      "grid_template_rows": null,
      "height": null,
      "justify_content": null,
      "justify_items": null,
      "left": null,
      "margin": null,
      "max_height": null,
      "max_width": null,
      "min_height": null,
      "min_width": null,
      "object_fit": null,
      "object_position": null,
      "order": null,
      "overflow": null,
      "overflow_x": null,
      "overflow_y": null,
      "padding": null,
      "right": null,
      "top": null,
      "visibility": null,
      "width": null
     }
    }
   }
  }
 },
 "nbformat": 4,
 "nbformat_minor": 0
}
